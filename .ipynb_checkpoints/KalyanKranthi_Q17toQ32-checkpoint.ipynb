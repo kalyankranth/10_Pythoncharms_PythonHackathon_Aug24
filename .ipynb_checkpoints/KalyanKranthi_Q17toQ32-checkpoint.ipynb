{
 "cells": [
  {
   "cell_type": "code",
   "execution_count": null,
   "id": "f0cc2938",
   "metadata": {},
   "outputs": [],
   "source": [
    "import pandas as pd\n",
    "import numpy as np\n",
    "import seaborn as sns\n",
    "import matplotlib.pyplot as plt\n",
    "import math"
   ]
  },
  {
   "cell_type": "markdown",
   "id": "9deadd84",
   "metadata": {},
   "source": [
    "Q1:Join all sport-related tables to produce one dataframe that has all athletes values. The final table should only have the same 5 columns: ID, time,power,RR, vo2, power. Write this dataframe to an excel file.\n"
   ]
  },
  {
   "cell_type": "code",
   "execution_count": null,
   "id": "7c964328",
   "metadata": {},
   "outputs": [],
   "source": []
  },
  {
   "cell_type": "markdown",
   "id": "83c8d29c",
   "metadata": {},
   "source": [
    "Q2:Divide the rows into 3 parts: Warm up, GET(graded exercise test) and cool down using the data def. Label each row accordingly\n"
   ]
  },
  {
   "cell_type": "code",
   "execution_count": null,
   "id": "03edb95f",
   "metadata": {},
   "outputs": [],
   "source": []
  },
  {
   "attachments": {},
   "cell_type": "markdown",
   "id": "2b05f4ee",
   "metadata": {},
   "source": [
    "Q17:What is the maximum ventilatory threshold for triathletes.\n"
   ]
  },
  {
   "cell_type": "code",
   "execution_count": null,
   "id": "19098c60",
   "metadata": {},
   "outputs": [],
   "source": []
  },
  {
   "cell_type": "markdown",
   "id": "a7e28246",
   "metadata": {},
   "source": [
    "Q18:Display the number of athletes in every sport against the name of the sport."
   ]
  },
  {
   "cell_type": "code",
   "execution_count": null,
   "id": "7335a90f",
   "metadata": {},
   "outputs": [],
   "source": []
  },
  {
   "cell_type": "markdown",
   "id": "5bd9abdf",
   "metadata": {},
   "source": [
    "Q19:Display a bar chart showing the average V02 Max by sport."
   ]
  },
  {
   "cell_type": "code",
   "execution_count": null,
   "id": "c2a393cd",
   "metadata": {},
   "outputs": [],
   "source": []
  },
  {
   "cell_type": "markdown",
   "id": "112a31a7",
   "metadata": {},
   "source": [
    "Q20:Analyze the trend of HR at the start of the test vs the middle and the end.What is the overall trend? "
   ]
  },
  {
   "cell_type": "code",
   "execution_count": null,
   "id": "bfaef11f",
   "metadata": {},
   "outputs": [],
   "source": []
  },
  {
   "cell_type": "markdown",
   "id": "aca22766",
   "metadata": {},
   "source": [
    "Q21:Display a pie chart of number of athletes by sport."
   ]
  },
  {
   "cell_type": "code",
   "execution_count": null,
   "id": "90f8b525",
   "metadata": {},
   "outputs": [],
   "source": []
  },
  {
   "cell_type": "markdown",
   "id": "0419ce32",
   "metadata": {},
   "source": [
    "Q22:Using any 10 HR values print even if the value is an even number and odd if its an odd number"
   ]
  },
  {
   "cell_type": "code",
   "execution_count": null,
   "id": "823c4053",
   "metadata": {},
   "outputs": [],
   "source": []
  },
  {
   "cell_type": "markdown",
   "id": "0fed9ed6",
   "metadata": {},
   "source": [
    "Q23:Which heart rate zone did most participants spend the longest duration of time in?"
   ]
  },
  {
   "cell_type": "code",
   "execution_count": null,
   "id": "c5c6e8cf",
   "metadata": {},
   "outputs": [],
   "source": []
  },
  {
   "cell_type": "markdown",
   "id": "85cfc0fe",
   "metadata": {},
   "source": [
    "Q24:Store athlete name and sport in a dictionary as a pair of values."
   ]
  },
  {
   "cell_type": "code",
   "execution_count": null,
   "id": "cf4c5c53",
   "metadata": {},
   "outputs": [],
   "source": []
  },
  {
   "cell_type": "markdown",
   "id": "0cbc6cbd",
   "metadata": {},
   "source": [
    "Q25:Using arrays and loops, find the count of athletes based on gender."
   ]
  },
  {
   "cell_type": "code",
   "execution_count": null,
   "id": "6838c225",
   "metadata": {},
   "outputs": [],
   "source": []
  },
  {
   "cell_type": "markdown",
   "id": "0edec6dd",
   "metadata": {},
   "source": [
    "Q26:Create a sankey diagram to show the groups of race within each sport"
   ]
  },
  {
   "cell_type": "code",
   "execution_count": null,
   "id": "bd231056",
   "metadata": {},
   "outputs": [],
   "source": []
  },
  {
   "cell_type": "markdown",
   "id": "fc2983c3",
   "metadata": {},
   "source": [
    "Q27:Calculate the average heart rate for every minute for every athlete and add it as a column in the same dataframe."
   ]
  },
  {
   "cell_type": "code",
   "execution_count": null,
   "id": "393fbd61",
   "metadata": {},
   "outputs": [],
   "source": []
  },
  {
   "cell_type": "markdown",
   "id": "9d080b83",
   "metadata": {},
   "source": [
    "Q28:Print athlete 15s Age and Pvt1 using the format() function"
   ]
  },
  {
   "cell_type": "code",
   "execution_count": null,
   "id": "0dc10ea5",
   "metadata": {},
   "outputs": [],
   "source": []
  },
  {
   "cell_type": "markdown",
   "id": "257be641",
   "metadata": {},
   "source": [
    "Q29:On average how long was each participants’ warm up?"
   ]
  },
  {
   "cell_type": "code",
   "execution_count": null,
   "id": "25ae7d1b",
   "metadata": {},
   "outputs": [],
   "source": []
  },
  {
   "cell_type": "markdown",
   "id": "99e42b14",
   "metadata": {},
   "source": [
    "Q30:Display the HRV of each athlete?"
   ]
  },
  {
   "cell_type": "code",
   "execution_count": null,
   "id": "aafd5b3a",
   "metadata": {},
   "outputs": [],
   "source": []
  },
  {
   "cell_type": "markdown",
   "id": "ba00c25c",
   "metadata": {},
   "source": [
    "Q31:Return the count of athletes for any sport that the user inputs."
   ]
  },
  {
   "cell_type": "code",
   "execution_count": null,
   "id": "39472146",
   "metadata": {},
   "outputs": [],
   "source": []
  },
  {
   "cell_type": "markdown",
   "id": "8b852035",
   "metadata": {},
   "source": [
    "Q32:Insert the name of every athlete into an array and display the length of that array."
   ]
  },
  {
   "cell_type": "code",
   "execution_count": null,
   "id": "7b93ac1d",
   "metadata": {},
   "outputs": [],
   "source": []
  }
 ],
 "metadata": {
  "kernelspec": {
   "display_name": "Python 3 (ipykernel)",
   "language": "python",
   "name": "python3"
  },
  "language_info": {
   "codemirror_mode": {
    "name": "ipython",
    "version": 3
   },
   "file_extension": ".py",
   "mimetype": "text/x-python",
   "name": "python",
   "nbconvert_exporter": "python",
   "pygments_lexer": "ipython3",
   "version": "3.11.7"
  }
 },
 "nbformat": 4,
 "nbformat_minor": 5
}
