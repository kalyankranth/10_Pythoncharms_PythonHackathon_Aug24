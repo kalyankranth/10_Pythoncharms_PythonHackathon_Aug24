{
 "cells": [
  {
   "cell_type": "code",
   "execution_count": null,
   "id": "14b3722b",
   "metadata": {},
   "outputs": [],
   "source": [
    "1.Join all sport-related tables to produce one dataframe that has all athletes values.\n",
    "The final table should only have the same 5 columns: ID, time,power,RR, vo2, power. Write this dataframe to an excel file.?\n"
   ]
  },
  {
   "cell_type": "code",
   "execution_count": 1,
   "id": "b65a087a-0b72-431a-a8a3-74eb5bd4648f",
   "metadata": {},
   "outputs": [],
   "source": [
    "import numpy as np\n",
    "import pandas as pd\n",
    "import seaborn as sns\n",
    "import matplotlib.pyplot as plt\n",
    "import warnings\n",
    "warnings.simplefilter(action='ignore', category=FutureWarning)"
   ]
  },
  {
   "cell_type": "code",
   "execution_count": 21,
   "id": "8b5e6684-ef08-4bcb-b188-ee27b36b7fcb",
   "metadata": {},
   "outputs": [
    {
     "name": "stderr",
     "output_type": "stream",
     "text": [
      "C:\\Users\\varap\\anaconda3\\Lib\\site-packages\\openpyxl\\worksheet\\_read_only.py:81: UserWarning: Unknown extension is not supported and will be removed\n",
      "  for idx, row in parser.parse():\n",
      "C:\\Users\\varap\\anaconda3\\Lib\\site-packages\\openpyxl\\worksheet\\_read_only.py:81: UserWarning: Unknown extension is not supported and will be removed\n",
      "  for idx, row in parser.parse():\n"
     ]
    }
   ],
   "source": [
    "import pandas as pd\n",
    "Kayaking= pd.read_excel(\"V02Max_Combined.xlsx\",sheet_name= \"Kayaking\")\n",
    "Triathlon= pd.read_excel(\"V02Max_Combined.xlsx\",sheet_name= \"Triathlon\")\n",
    "Fencing= pd.read_excel(\"V02Max_Combined.xlsx\",sheet_name= \"Fencing\")\n",
    "AllAthletesData=pd.merge(Kayaking,Triathlon,how='outer').merge(Fencing,how='outer')\n",
    "AllAthletesData.head()\n",
    "AllAthletesData.to_excel('AllAthletesData.xlsx',sheet_name='AllAthletesData',index=False)\n"
   ]
  },
  {
   "cell_type": "code",
   "execution_count": null,
   "id": "e9ebddc8-8e5f-4a26-9ddb-ae7abfa6d31a",
   "metadata": {},
   "outputs": [],
   "source": []
  },
  {
   "cell_type": "code",
   "execution_count": null,
   "id": "1e13929b-d668-4057-8e54-e0f3bd12d861",
   "metadata": {},
   "outputs": [],
   "source": [
    "2.Divide the rows into 3 parts: Warm up, GET(graded exercise test) and cool down using the data def. Label each row accordingly"
   ]
  },
  {
   "cell_type": "code",
   "execution_count": null,
   "id": "56a4e698-4f27-4361-bf19-231a5dadd1c8",
   "metadata": {},
   "outputs": [],
   "source": [
    "3.What was the average time each tested lasted excluding warm up for all athletes?\n"
   ]
  },
  {
   "cell_type": "code",
   "execution_count": null,
   "id": "54e48a70-1b5a-4e60-b629-cec549626cc4",
   "metadata": {},
   "outputs": [],
   "source": [
    "4.Athletes from which sport had the highest average cardiorespiratory fitness in terms of HRV?"
   ]
  },
  {
   "cell_type": "code",
   "execution_count": null,
   "id": "55207232-1d91-4ace-b10d-b3c520630287",
   "metadata": {},
   "outputs": [],
   "source": [
    "5.What was the average time each test lasted (including warm up) for all athletes?"
   ]
  },
  {
   "cell_type": "code",
   "execution_count": null,
   "id": "6345726e-c5e6-47ba-98fe-f8a064c6cb30",
   "metadata": {},
   "outputs": [],
   "source": [
    "6.What was the most common  wattage (above 0) achieved by participants and for how many seconds (average time)?\n",
    "You may choose to show averages based on any one/all sports. \n"
   ]
  },
  {
   "cell_type": "code",
   "execution_count": null,
   "id": "2381e46b-1aeb-4515-aa4a-49429071020f",
   "metadata": {},
   "outputs": [],
   "source": [
    "7.Create a correlation matrix to show the relationship between HR, BMI and sport."
   ]
  },
  {
   "cell_type": "code",
   "execution_count": null,
   "id": "49f696a7-ec9a-4744-a94f-578ab9f8497a",
   "metadata": {},
   "outputs": [],
   "source": [
    "8.What are the names of the kayaking athletes?"
   ]
  },
  {
   "cell_type": "code",
   "execution_count": null,
   "id": "c13a2db1-b252-4d90-9cd7-4ef4d4d23e28",
   "metadata": {},
   "outputs": [],
   "source": [
    "9.What was the average HRV of the triathletes?"
   ]
  },
  {
   "cell_type": "code",
   "execution_count": null,
   "id": "04b0e5b4-dff5-4206-84f9-10187accf242",
   "metadata": {},
   "outputs": [],
   "source": [
    "10.How long was athlete 12 in HR Zone 5?"
   ]
  },
  {
   "cell_type": "code",
   "execution_count": null,
   "id": "24bda361-94cd-4518-acc3-b5a786287434",
   "metadata": {},
   "outputs": [],
   "source": [
    "11.Create any 3d plot using any data. Values do not have to be from the dataset given. "
   ]
  },
  {
   "cell_type": "code",
   "execution_count": null,
   "id": "87ffb0c5-5468-4ade-8341-fcbac2555dee",
   "metadata": {},
   "outputs": [],
   "source": [
    "12.What were the Highest 3 V02 Maxes recorded. Display all 3 names, sport and personal V02 Maxes."
   ]
  },
  {
   "cell_type": "code",
   "execution_count": null,
   "id": "2a6d5873-e87d-40fe-b8cc-f58cea641074",
   "metadata": {},
   "outputs": [],
   "source": [
    "13.Calculate the year of birth of each athlete and store it as a column in the tables."
   ]
  },
  {
   "cell_type": "markdown",
   "id": "ffb23d54-bcf8-4871-ae57-5223f7165b8e",
   "metadata": {},
   "source": [
    "14.What were the lowest 3 V02 Maxes recorded. Display all 3 names, sport and personal V02 Maxes."
   ]
  },
  {
   "cell_type": "code",
   "execution_count": null,
   "id": "84b49313-91ca-4b99-95c4-8f6d03179601",
   "metadata": {},
   "outputs": [],
   "source": [
    "15.Assign 1 of the following 5 heart rate zones for every record for all sports and athletes and add \n",
    "    this as a column to every table:\n",
    "Zone 1 (recovery/easy)       <100 HR max\n",
    "Zone 2 (aerobic/base)        100-120 HR max\n",
    "Zone 3 (tempo)        120-135 HR max\n",
    "Zone 4 (lactate threshold)        135-155 HR max\n",
    "Zone 5 (anaerobic)        155+ HR max and above\n",
    "    "
   ]
  },
  {
   "cell_type": "code",
   "execution_count": null,
   "id": "419e7aa8-0fe3-4a87-bcdd-6e172979e347",
   "metadata": {},
   "outputs": [],
   "source": [
    "16.Calculate the BMI of every athlete and display it as a list."
   ]
  }
 ],
 "metadata": {
  "kernelspec": {
   "display_name": "Python 3 (ipykernel)",
   "language": "python",
   "name": "python3"
  },
  "language_info": {
   "codemirror_mode": {
    "name": "ipython",
    "version": 3
   },
   "file_extension": ".py",
   "mimetype": "text/x-python",
   "name": "python",
   "nbconvert_exporter": "python",
   "pygments_lexer": "ipython3",
   "version": "3.11.7"
  }
 },
 "nbformat": 4,
 "nbformat_minor": 5
}
