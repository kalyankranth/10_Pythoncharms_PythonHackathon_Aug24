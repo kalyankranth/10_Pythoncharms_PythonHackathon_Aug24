{
 "cells": [
  {
   "cell_type": "code",
   "execution_count": null,
   "id": "f7fa145d-2c9f-41f9-8d96-503b6409e64b",
   "metadata": {},
   "outputs": [],
   "source": [
    "import numpy as np\n",
    "import pandas as pd\n",
    "import seaborn as sns\n",
    "import matplotlib.pyplot as plt\n",
    "import warnings\n",
    "warnings.simplefilter(action='ignore', category=FutureWarning)"
   ]
  },
  {
   "cell_type": "code",
   "execution_count": null,
   "id": "8a4171b7-5720-4374-b5b3-8617e25dfb27",
   "metadata": {},
   "outputs": [],
   "source": [
    "Kayaking= pd.read_excel(\"V02Max_Combined.xlsx\",sheet_name= \"Kayaking\")\n",
    "Triathlon= pd.read_excel(\"V02Max_Combined.xlsx\",sheet_name= \"Triathlon\")\n",
    "Fencing= pd.read_excel(\"V02Max_Combined.xlsx\",sheet_name= \"Fencing\")\n",
    "Athletes=pd.read_excel(\"V02Max_Combined.xlsx\",sheet_name=\"Athletes\")"
   ]
  },
  {
   "cell_type": "markdown",
   "id": "816121b2-8c88-4079-8864-361958be5116",
   "metadata": {},
   "source": [
    "Q33: Create a list and a tuple. Print the types and lengths of  both."
   ]
  },
  {
   "cell_type": "code",
   "execution_count": null,
   "id": "d4f19c62-d9e1-440d-8da4-d0786b42f277",
   "metadata": {},
   "outputs": [],
   "source": []
  },
  {
   "cell_type": "markdown",
   "id": "ff801dbe-42c4-4363-b1cb-6bcd36f44ff8",
   "metadata": {},
   "source": [
    "Q34: Display a word cloud using any values in the dataset"
   ]
  },
  {
   "cell_type": "code",
   "execution_count": null,
   "id": "088edaba-a4ce-47a3-a051-85977b4675cc",
   "metadata": {},
   "outputs": [],
   "source": []
  },
  {
   "cell_type": "markdown",
   "id": "8ce30d49-0f16-47cf-8964-347e05d1b8d5",
   "metadata": {},
   "source": [
    "Q35: Create a Regression Plot on Max V02 and mean BMI for any sport of your choice"
   ]
  },
  {
   "cell_type": "code",
   "execution_count": null,
   "id": "8d833cd1-3890-4835-9fce-f3329171454b",
   "metadata": {},
   "outputs": [],
   "source": []
  },
  {
   "cell_type": "markdown",
   "id": "53f8f472-e413-495a-8230-a4d354cc4609",
   "metadata": {},
   "source": [
    "Q36: Plot the time series of HR( every 5 mins) of athlete 1"
   ]
  },
  {
   "cell_type": "code",
   "execution_count": null,
   "id": "bad155db-d664-4549-adec-13f7fc03f163",
   "metadata": {},
   "outputs": [],
   "source": []
  },
  {
   "cell_type": "markdown",
   "id": "9846145c-bd46-4b5f-8f73-67885e5cfd2b",
   "metadata": {},
   "source": [
    "Q37: What was the maximum power achieved in terms of watts, which participant achieved it? Display name, sport and watts."
   ]
  },
  {
   "cell_type": "code",
   "execution_count": null,
   "id": "0ba21a9f-673d-489c-937f-a53a74012a89",
   "metadata": {},
   "outputs": [],
   "source": []
  },
  {
   "cell_type": "markdown",
   "id": "b1b32479-dbc6-4a64-bb9d-27f3ff8d4cdc",
   "metadata": {},
   "source": [
    "Q38: What is the average  difference in IBI during the warm up Vs the actual test?"
   ]
  },
  {
   "cell_type": "code",
   "execution_count": null,
   "id": "cb7a1c31-9ed6-438d-8df9-20bc33c0ea27",
   "metadata": {},
   "outputs": [],
   "source": []
  },
  {
   "cell_type": "markdown",
   "id": "72754289-c65f-4c06-9af7-c4a84894336f",
   "metadata": {},
   "source": [
    "Q39: Print out what's in indexes 7, 10, and 3 for the array in Q33."
   ]
  },
  {
   "cell_type": "code",
   "execution_count": null,
   "id": "4a01a190-ec4a-44fc-a0f4-af6c56c61ff8",
   "metadata": {},
   "outputs": [],
   "source": []
  },
  {
   "cell_type": "markdown",
   "id": "e6731c03-0159-4076-b6c3-0d1edf52eb68",
   "metadata": {},
   "source": [
    "Q40:   [ 1,  2,  3,  4,  5],\r\n",
    "       [ 6,  7,  8,  9, 10],\r\n",
    "       [11, 12, 13, 14, 15],\r\n",
    "       [16, 17, 18, 19, 20],\r\n",
    "       [21, 22, 23, 24, 25],\r\n",
    "       [26, 27, 28, 29, 30]  Use array slicing to display elements 1,3,5. If the value is less than 4 display it as 99"
   ]
  },
  {
   "cell_type": "code",
   "execution_count": null,
   "id": "1e8297c8-387b-4a24-a18b-f6e9e00ab67d",
   "metadata": {},
   "outputs": [],
   "source": []
  },
  {
   "cell_type": "markdown",
   "id": "1d677d42-66af-4c82-ba83-da047e463876",
   "metadata": {},
   "source": [
    "Q41: What was lowest wattage achieved at the end of a test and by which participant? Display name, sport and watts."
   ]
  },
  {
   "cell_type": "code",
   "execution_count": null,
   "id": "c4c32722-551a-4a3f-9ac5-da0ded2a6144",
   "metadata": {},
   "outputs": [],
   "source": []
  },
  {
   "cell_type": "markdown",
   "id": "fbbbb8db-f698-42f8-a502-8092105ff267",
   "metadata": {},
   "source": [
    "Q42: What was the difference in heart rate between warm up and GET for athlete 1"
   ]
  },
  {
   "cell_type": "code",
   "execution_count": null,
   "id": "0a2190da-67fc-4230-a834-220eac762e0e",
   "metadata": {},
   "outputs": [],
   "source": []
  },
  {
   "cell_type": "markdown",
   "id": "9d59c426-aab1-4392-a2b2-5cc326d5f020",
   "metadata": {},
   "source": [
    "Q43: Create a pivot table that shows count of patients within each age group and sport"
   ]
  },
  {
   "cell_type": "code",
   "execution_count": null,
   "id": "2e3f2bfe-8115-42e4-aaff-e5fe6f0b56ab",
   "metadata": {},
   "outputs": [],
   "source": []
  },
  {
   "cell_type": "markdown",
   "id": "0536a834-89ef-4c80-b566-09faa1440efb",
   "metadata": {},
   "source": [
    "Q44: Display a  distrubution chart of MAX V02 for all athletes"
   ]
  },
  {
   "cell_type": "code",
   "execution_count": null,
   "id": "186a3c4a-4010-4a3e-a4ed-af997e7cd4b4",
   "metadata": {},
   "outputs": [],
   "source": []
  },
  {
   "cell_type": "markdown",
   "id": "11aed218-0a3e-4675-a3f0-875d042836ed",
   "metadata": {},
   "source": [
    "Q45: Create a dummy array with no data with a size of 15."
   ]
  },
  {
   "cell_type": "code",
   "execution_count": null,
   "id": "293e1d93-f028-4400-ba29-b4b51d4dbf7e",
   "metadata": {},
   "outputs": [],
   "source": []
  },
  {
   "cell_type": "markdown",
   "id": "50ef97fa-96bd-4acf-a275-f00eed1220c2",
   "metadata": {},
   "source": [
    "Q46: How many minutes did participant 15s exercise last and what was the total V02 max consumed during the test?"
   ]
  },
  {
   "cell_type": "code",
   "execution_count": null,
   "id": "ad7f945a-fb0e-4cf9-a130-9264c57e9ddd",
   "metadata": {},
   "outputs": [],
   "source": []
  },
  {
   "cell_type": "markdown",
   "id": "965142eb-a7dd-4731-9f82-9d03a50ef265",
   "metadata": {},
   "source": [
    "Q47: Convert ' sport' into a numeric field through Label encoding"
   ]
  },
  {
   "cell_type": "code",
   "execution_count": null,
   "id": "9e2c921f-f875-4a6a-abaf-f50790df4c0f",
   "metadata": {},
   "outputs": [],
   "source": []
  },
  {
   "cell_type": "markdown",
   "id": "c08e6a88-cf6c-4e63-89e2-538371559fe1",
   "metadata": {},
   "source": [
    "Q48: What was the average age of the athletes?\n"
   ]
  },
  {
   "cell_type": "code",
   "execution_count": null,
   "id": "d395ac99-56f9-4a61-88b5-bbda2231a026",
   "metadata": {},
   "outputs": [],
   "source": []
  }
 ],
 "metadata": {
  "kernelspec": {
   "display_name": "Python 3 (ipykernel)",
   "language": "python",
   "name": "python3"
  },
  "language_info": {
   "codemirror_mode": {
    "name": "ipython",
    "version": 3
   },
   "file_extension": ".py",
   "mimetype": "text/x-python",
   "name": "python",
   "nbconvert_exporter": "python",
   "pygments_lexer": "ipython3",
   "version": "3.12.4"
  }
 },
 "nbformat": 4,
 "nbformat_minor": 5
}
