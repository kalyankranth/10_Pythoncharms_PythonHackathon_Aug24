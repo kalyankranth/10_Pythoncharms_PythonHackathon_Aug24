{
 "cells": [
  {
   "cell_type": "code",
   "execution_count": null,
   "id": "c3ae1300-5735-4949-b53a-f5085003e4d9",
   "metadata": {},
   "outputs": [],
   "source": [
    "import numpy as np\n",
    "import pandas as pd\n",
    "import seaborn as sns\n",
    "import matplotlib.pyplot as plt\n",
    "import warnings\n",
    "warnings.simplefilter(action='ignore', category=FutureWarning)"
   ]
  },
  {
   "cell_type": "code",
   "execution_count": 51,
   "id": "b70eeb4b-78f3-4785-8e44-d0116e3aa278",
   "metadata": {},
   "outputs": [
    {
     "name": "stderr",
     "output_type": "stream",
     "text": [
      "C:\\Users\\sonam\\anaconda3\\Lib\\site-packages\\openpyxl\\worksheet\\_read_only.py:81: UserWarning: Unknown extension is not supported and will be removed\n",
      "  for idx, row in parser.parse():\n",
      "C:\\Users\\sonam\\anaconda3\\Lib\\site-packages\\openpyxl\\worksheet\\_read_only.py:81: UserWarning: Unknown extension is not supported and will be removed\n",
      "  for idx, row in parser.parse():\n",
      "C:\\Users\\sonam\\anaconda3\\Lib\\site-packages\\openpyxl\\worksheet\\_read_only.py:81: UserWarning: Unknown extension is not supported and will be removed\n",
      "  for idx, row in parser.parse():\n"
     ]
    },
    {
     "data": {
      "text/html": [
       "<div>\n",
       "<style scoped>\n",
       "    .dataframe tbody tr th:only-of-type {\n",
       "        vertical-align: middle;\n",
       "    }\n",
       "\n",
       "    .dataframe tbody tr th {\n",
       "        vertical-align: top;\n",
       "    }\n",
       "\n",
       "    .dataframe thead th {\n",
       "        text-align: right;\n",
       "    }\n",
       "</style>\n",
       "<table border=\"1\" class=\"dataframe\">\n",
       "  <thead>\n",
       "    <tr style=\"text-align: right;\">\n",
       "      <th></th>\n",
       "      <th>ID</th>\n",
       "      <th>time</th>\n",
       "      <th>RR</th>\n",
       "      <th>VO2</th>\n",
       "      <th>power</th>\n",
       "    </tr>\n",
       "  </thead>\n",
       "  <tbody>\n",
       "    <tr>\n",
       "      <th>0</th>\n",
       "      <td>1</td>\n",
       "      <td>-130.840</td>\n",
       "      <td>672</td>\n",
       "      <td>0.302008</td>\n",
       "      <td>0</td>\n",
       "    </tr>\n",
       "    <tr>\n",
       "      <th>1</th>\n",
       "      <td>1</td>\n",
       "      <td>-130.168</td>\n",
       "      <td>672</td>\n",
       "      <td>0.302008</td>\n",
       "      <td>0</td>\n",
       "    </tr>\n",
       "    <tr>\n",
       "      <th>2</th>\n",
       "      <td>1</td>\n",
       "      <td>-129.536</td>\n",
       "      <td>632</td>\n",
       "      <td>0.301336</td>\n",
       "      <td>0</td>\n",
       "    </tr>\n",
       "    <tr>\n",
       "      <th>3</th>\n",
       "      <td>1</td>\n",
       "      <td>-128.824</td>\n",
       "      <td>712</td>\n",
       "      <td>0.301336</td>\n",
       "      <td>0</td>\n",
       "    </tr>\n",
       "    <tr>\n",
       "      <th>4</th>\n",
       "      <td>1</td>\n",
       "      <td>-127.948</td>\n",
       "      <td>876</td>\n",
       "      <td>0.301336</td>\n",
       "      <td>0</td>\n",
       "    </tr>\n",
       "  </tbody>\n",
       "</table>\n",
       "</div>"
      ],
      "text/plain": [
       "   ID     time   RR       VO2  power\n",
       "0   1 -130.840  672  0.302008      0\n",
       "1   1 -130.168  672  0.302008      0\n",
       "2   1 -129.536  632  0.301336      0\n",
       "3   1 -128.824  712  0.301336      0\n",
       "4   1 -127.948  876  0.301336      0"
      ]
     },
     "execution_count": 51,
     "metadata": {},
     "output_type": "execute_result"
    }
   ],
   "source": [
    "import pandas as pd\n",
    "Kayaking= pd.read_excel(\"V02Max_Combined.xlsx\",sheet_name= \"Kayaking\")\n",
    "Triathlon= pd.read_excel(\"V02Max_Combined.xlsx\",sheet_name= \"Triathlon\")\n",
    "Fencing= pd.read_excel(\"V02Max_Combined.xlsx\",sheet_name= \"Fencing\")\n",
    "Athletes= pd.read_excel(\"V02Max_Combined.xlsx\",sheet_name= \"Athletes\")\n",
    "\n",
    "Fencing.head()"
   ]
  },
  {
   "cell_type": "markdown",
   "id": "8b6bee0c-bb89-4553-93f0-68f3e74f207d",
   "metadata": {},
   "source": [
    "Q1: Join all sport-related tables to produce one dataframe that has all athletes values. The final table should only have the same 5 columns: ID, time,power,RR, vo2, power. Write this dataframe to an excel file."
   ]
  },
  {
   "cell_type": "code",
   "execution_count": 52,
   "id": "273ec6c7-5a25-4033-9afc-cd0cbb4133a9",
   "metadata": {},
   "outputs": [
    {
     "data": {
      "text/html": [
       "<div>\n",
       "<style scoped>\n",
       "    .dataframe tbody tr th:only-of-type {\n",
       "        vertical-align: middle;\n",
       "    }\n",
       "\n",
       "    .dataframe tbody tr th {\n",
       "        vertical-align: top;\n",
       "    }\n",
       "\n",
       "    .dataframe thead th {\n",
       "        text-align: right;\n",
       "    }\n",
       "</style>\n",
       "<table border=\"1\" class=\"dataframe\">\n",
       "  <thead>\n",
       "    <tr style=\"text-align: right;\">\n",
       "      <th></th>\n",
       "      <th>ID</th>\n",
       "      <th>time</th>\n",
       "      <th>RR</th>\n",
       "      <th>VO2</th>\n",
       "      <th>power</th>\n",
       "    </tr>\n",
       "  </thead>\n",
       "  <tbody>\n",
       "    <tr>\n",
       "      <th>0</th>\n",
       "      <td>11</td>\n",
       "      <td>-168.600</td>\n",
       "      <td>727.0</td>\n",
       "      <td>0.287147</td>\n",
       "      <td>0</td>\n",
       "    </tr>\n",
       "    <tr>\n",
       "      <th>1</th>\n",
       "      <td>11</td>\n",
       "      <td>-167.872</td>\n",
       "      <td>728.0</td>\n",
       "      <td>0.287147</td>\n",
       "      <td>0</td>\n",
       "    </tr>\n",
       "    <tr>\n",
       "      <th>2</th>\n",
       "      <td>11</td>\n",
       "      <td>-167.148</td>\n",
       "      <td>724.0</td>\n",
       "      <td>0.287147</td>\n",
       "      <td>0</td>\n",
       "    </tr>\n",
       "    <tr>\n",
       "      <th>3</th>\n",
       "      <td>11</td>\n",
       "      <td>-166.484</td>\n",
       "      <td>664.0</td>\n",
       "      <td>0.320580</td>\n",
       "      <td>0</td>\n",
       "    </tr>\n",
       "    <tr>\n",
       "      <th>4</th>\n",
       "      <td>11</td>\n",
       "      <td>-165.836</td>\n",
       "      <td>648.0</td>\n",
       "      <td>0.320580</td>\n",
       "      <td>0</td>\n",
       "    </tr>\n",
       "    <tr>\n",
       "      <th>...</th>\n",
       "      <td>...</td>\n",
       "      <td>...</td>\n",
       "      <td>...</td>\n",
       "      <td>...</td>\n",
       "      <td>...</td>\n",
       "    </tr>\n",
       "    <tr>\n",
       "      <th>27598</th>\n",
       "      <td>10</td>\n",
       "      <td>942.700</td>\n",
       "      <td>428.0</td>\n",
       "      <td>0.786363</td>\n",
       "      <td>0</td>\n",
       "    </tr>\n",
       "    <tr>\n",
       "      <th>27599</th>\n",
       "      <td>10</td>\n",
       "      <td>943.124</td>\n",
       "      <td>424.0</td>\n",
       "      <td>0.786363</td>\n",
       "      <td>0</td>\n",
       "    </tr>\n",
       "    <tr>\n",
       "      <th>27600</th>\n",
       "      <td>10</td>\n",
       "      <td>943.552</td>\n",
       "      <td>428.0</td>\n",
       "      <td>0.786363</td>\n",
       "      <td>0</td>\n",
       "    </tr>\n",
       "    <tr>\n",
       "      <th>27601</th>\n",
       "      <td>10</td>\n",
       "      <td>943.976</td>\n",
       "      <td>424.0</td>\n",
       "      <td>0.786363</td>\n",
       "      <td>0</td>\n",
       "    </tr>\n",
       "    <tr>\n",
       "      <th>27602</th>\n",
       "      <td>10</td>\n",
       "      <td>944.404</td>\n",
       "      <td>428.0</td>\n",
       "      <td>0.786363</td>\n",
       "      <td>0</td>\n",
       "    </tr>\n",
       "  </tbody>\n",
       "</table>\n",
       "<p>52062 rows × 5 columns</p>\n",
       "</div>"
      ],
      "text/plain": [
       "       ID     time     RR       VO2  power\n",
       "0      11 -168.600  727.0  0.287147      0\n",
       "1      11 -167.872  728.0  0.287147      0\n",
       "2      11 -167.148  724.0  0.287147      0\n",
       "3      11 -166.484  664.0  0.320580      0\n",
       "4      11 -165.836  648.0  0.320580      0\n",
       "...    ..      ...    ...       ...    ...\n",
       "27598  10  942.700  428.0  0.786363      0\n",
       "27599  10  943.124  424.0  0.786363      0\n",
       "27600  10  943.552  428.0  0.786363      0\n",
       "27601  10  943.976  424.0  0.786363      0\n",
       "27602  10  944.404  428.0  0.786363      0\n",
       "\n",
       "[52062 rows x 5 columns]"
      ]
     },
     "execution_count": 52,
     "metadata": {},
     "output_type": "execute_result"
    }
   ],
   "source": [
    "df=pd.concat([Kayaking,Triathlon,Fencing])\n",
    "df\n"
   ]
  },
  {
   "cell_type": "code",
   "execution_count": 55,
   "id": "b465bb5d-8ec3-44f0-8ea0-f7ee0c94770f",
   "metadata": {},
   "outputs": [
    {
     "data": {
      "text/html": [
       "<div>\n",
       "<style scoped>\n",
       "    .dataframe tbody tr th:only-of-type {\n",
       "        vertical-align: middle;\n",
       "    }\n",
       "\n",
       "    .dataframe tbody tr th {\n",
       "        vertical-align: top;\n",
       "    }\n",
       "\n",
       "    .dataframe thead th {\n",
       "        text-align: right;\n",
       "    }\n",
       "</style>\n",
       "<table border=\"1\" class=\"dataframe\">\n",
       "  <thead>\n",
       "    <tr style=\"text-align: right;\">\n",
       "      <th></th>\n",
       "      <th>ID</th>\n",
       "      <th>age</th>\n",
       "      <th>Weight</th>\n",
       "      <th>Height</th>\n",
       "      <th>P_vt1</th>\n",
       "      <th>P_vt2</th>\n",
       "      <th>sport</th>\n",
       "      <th>Gender</th>\n",
       "      <th>Ethnicity</th>\n",
       "      <th>First Name</th>\n",
       "      <th>Last Name</th>\n",
       "    </tr>\n",
       "  </thead>\n",
       "  <tbody>\n",
       "    <tr>\n",
       "      <th>0</th>\n",
       "      <td>1</td>\n",
       "      <td>15</td>\n",
       "      <td>53.7</td>\n",
       "      <td>161</td>\n",
       "      <td>50</td>\n",
       "      <td>140</td>\n",
       "      <td>fencing</td>\n",
       "      <td>Female</td>\n",
       "      <td>African</td>\n",
       "      <td>Olivia</td>\n",
       "      <td>Martinez</td>\n",
       "    </tr>\n",
       "    <tr>\n",
       "      <th>1</th>\n",
       "      <td>2</td>\n",
       "      <td>15</td>\n",
       "      <td>56.2</td>\n",
       "      <td>162</td>\n",
       "      <td>80</td>\n",
       "      <td>127</td>\n",
       "      <td>fencing</td>\n",
       "      <td>Male</td>\n",
       "      <td>African</td>\n",
       "      <td>Ethan</td>\n",
       "      <td>Reynolds</td>\n",
       "    </tr>\n",
       "    <tr>\n",
       "      <th>2</th>\n",
       "      <td>3</td>\n",
       "      <td>16</td>\n",
       "      <td>89.9</td>\n",
       "      <td>191</td>\n",
       "      <td>155</td>\n",
       "      <td>300</td>\n",
       "      <td>fencing</td>\n",
       "      <td>Male</td>\n",
       "      <td>White</td>\n",
       "      <td>Jackson</td>\n",
       "      <td>Harper</td>\n",
       "    </tr>\n",
       "    <tr>\n",
       "      <th>3</th>\n",
       "      <td>4</td>\n",
       "      <td>16</td>\n",
       "      <td>76.5</td>\n",
       "      <td>180</td>\n",
       "      <td>215</td>\n",
       "      <td>275</td>\n",
       "      <td>fencing</td>\n",
       "      <td>Male</td>\n",
       "      <td>White</td>\n",
       "      <td>Liam</td>\n",
       "      <td>Sanchez</td>\n",
       "    </tr>\n",
       "    <tr>\n",
       "      <th>4</th>\n",
       "      <td>5</td>\n",
       "      <td>17</td>\n",
       "      <td>76.4</td>\n",
       "      <td>186</td>\n",
       "      <td>110</td>\n",
       "      <td>172</td>\n",
       "      <td>fencing</td>\n",
       "      <td>Female</td>\n",
       "      <td>White</td>\n",
       "      <td>Ava</td>\n",
       "      <td>Thompson</td>\n",
       "    </tr>\n",
       "  </tbody>\n",
       "</table>\n",
       "</div>"
      ],
      "text/plain": [
       "   ID  age  Weight  Height  P_vt1  P_vt2    sport  Gender Ethnicity  \\\n",
       "0   1   15    53.7     161     50    140  fencing  Female   African   \n",
       "1   2   15    56.2     162     80    127  fencing    Male   African   \n",
       "2   3   16    89.9     191    155    300  fencing    Male     White   \n",
       "3   4   16    76.5     180    215    275  fencing    Male     White   \n",
       "4   5   17    76.4     186    110    172  fencing  Female     White   \n",
       "\n",
       "  First Name Last Name  \n",
       "0     Olivia  Martinez  \n",
       "1      Ethan  Reynolds  \n",
       "2    Jackson    Harper  \n",
       "3       Liam   Sanchez  \n",
       "4        Ava  Thompson  "
      ]
     },
     "execution_count": 55,
     "metadata": {},
     "output_type": "execute_result"
    }
   ],
   "source": [
    "df1=pd.DataFrame(Athletes)\n",
    "df1.head()"
   ]
  },
  {
   "cell_type": "code",
   "execution_count": 57,
   "id": "c81a0ab4-006c-448d-aa1e-a449d542fbfb",
   "metadata": {},
   "outputs": [
    {
     "data": {
      "text/html": [
       "<div>\n",
       "<style scoped>\n",
       "    .dataframe tbody tr th:only-of-type {\n",
       "        vertical-align: middle;\n",
       "    }\n",
       "\n",
       "    .dataframe tbody tr th {\n",
       "        vertical-align: top;\n",
       "    }\n",
       "\n",
       "    .dataframe thead th {\n",
       "        text-align: right;\n",
       "    }\n",
       "</style>\n",
       "<table border=\"1\" class=\"dataframe\">\n",
       "  <thead>\n",
       "    <tr style=\"text-align: right;\">\n",
       "      <th></th>\n",
       "      <th>ID</th>\n",
       "      <th>time</th>\n",
       "      <th>RR</th>\n",
       "      <th>VO2</th>\n",
       "      <th>power</th>\n",
       "      <th>age</th>\n",
       "      <th>Weight</th>\n",
       "      <th>Height</th>\n",
       "      <th>P_vt1</th>\n",
       "      <th>P_vt2</th>\n",
       "      <th>sport</th>\n",
       "      <th>Gender</th>\n",
       "      <th>Ethnicity</th>\n",
       "      <th>First Name</th>\n",
       "      <th>Last Name</th>\n",
       "    </tr>\n",
       "  </thead>\n",
       "  <tbody>\n",
       "    <tr>\n",
       "      <th>0</th>\n",
       "      <td>11</td>\n",
       "      <td>-168.600</td>\n",
       "      <td>727.0</td>\n",
       "      <td>0.287147</td>\n",
       "      <td>0</td>\n",
       "      <td>18</td>\n",
       "      <td>84.8</td>\n",
       "      <td>182</td>\n",
       "      <td>174</td>\n",
       "      <td>268</td>\n",
       "      <td>kayak</td>\n",
       "      <td>Female</td>\n",
       "      <td>African</td>\n",
       "      <td>Isabella</td>\n",
       "      <td>Griffin</td>\n",
       "    </tr>\n",
       "    <tr>\n",
       "      <th>1</th>\n",
       "      <td>11</td>\n",
       "      <td>-167.872</td>\n",
       "      <td>728.0</td>\n",
       "      <td>0.287147</td>\n",
       "      <td>0</td>\n",
       "      <td>18</td>\n",
       "      <td>84.8</td>\n",
       "      <td>182</td>\n",
       "      <td>174</td>\n",
       "      <td>268</td>\n",
       "      <td>kayak</td>\n",
       "      <td>Female</td>\n",
       "      <td>African</td>\n",
       "      <td>Isabella</td>\n",
       "      <td>Griffin</td>\n",
       "    </tr>\n",
       "    <tr>\n",
       "      <th>2</th>\n",
       "      <td>11</td>\n",
       "      <td>-167.148</td>\n",
       "      <td>724.0</td>\n",
       "      <td>0.287147</td>\n",
       "      <td>0</td>\n",
       "      <td>18</td>\n",
       "      <td>84.8</td>\n",
       "      <td>182</td>\n",
       "      <td>174</td>\n",
       "      <td>268</td>\n",
       "      <td>kayak</td>\n",
       "      <td>Female</td>\n",
       "      <td>African</td>\n",
       "      <td>Isabella</td>\n",
       "      <td>Griffin</td>\n",
       "    </tr>\n",
       "    <tr>\n",
       "      <th>3</th>\n",
       "      <td>11</td>\n",
       "      <td>-166.484</td>\n",
       "      <td>664.0</td>\n",
       "      <td>0.320580</td>\n",
       "      <td>0</td>\n",
       "      <td>18</td>\n",
       "      <td>84.8</td>\n",
       "      <td>182</td>\n",
       "      <td>174</td>\n",
       "      <td>268</td>\n",
       "      <td>kayak</td>\n",
       "      <td>Female</td>\n",
       "      <td>African</td>\n",
       "      <td>Isabella</td>\n",
       "      <td>Griffin</td>\n",
       "    </tr>\n",
       "    <tr>\n",
       "      <th>4</th>\n",
       "      <td>11</td>\n",
       "      <td>-165.836</td>\n",
       "      <td>648.0</td>\n",
       "      <td>0.320580</td>\n",
       "      <td>0</td>\n",
       "      <td>18</td>\n",
       "      <td>84.8</td>\n",
       "      <td>182</td>\n",
       "      <td>174</td>\n",
       "      <td>268</td>\n",
       "      <td>kayak</td>\n",
       "      <td>Female</td>\n",
       "      <td>African</td>\n",
       "      <td>Isabella</td>\n",
       "      <td>Griffin</td>\n",
       "    </tr>\n",
       "  </tbody>\n",
       "</table>\n",
       "</div>"
      ],
      "text/plain": [
       "   ID     time     RR       VO2  power  age  Weight  Height  P_vt1  P_vt2  \\\n",
       "0  11 -168.600  727.0  0.287147      0   18    84.8     182    174    268   \n",
       "1  11 -167.872  728.0  0.287147      0   18    84.8     182    174    268   \n",
       "2  11 -167.148  724.0  0.287147      0   18    84.8     182    174    268   \n",
       "3  11 -166.484  664.0  0.320580      0   18    84.8     182    174    268   \n",
       "4  11 -165.836  648.0  0.320580      0   18    84.8     182    174    268   \n",
       "\n",
       "   sport  Gender Ethnicity First Name Last Name  \n",
       "0  kayak  Female   African   Isabella   Griffin  \n",
       "1  kayak  Female   African   Isabella   Griffin  \n",
       "2  kayak  Female   African   Isabella   Griffin  \n",
       "3  kayak  Female   African   Isabella   Griffin  \n",
       "4  kayak  Female   African   Isabella   Griffin  "
      ]
     },
     "execution_count": 57,
     "metadata": {},
     "output_type": "execute_result"
    }
   ],
   "source": [
    "df2 = pd.merge(df, df1, on='ID')\n",
    "df2.head()"
   ]
  },
  {
   "cell_type": "markdown",
   "id": "90560960-ab25-4d89-8438-64af5582fdcc",
   "metadata": {},
   "source": [
    "2.Divide the rows into 3 parts: Warm up, GET(graded exercise test) and cool down using the data def. Label each row accordingly"
   ]
  },
  {
   "cell_type": "code",
   "execution_count": 59,
   "id": "0907db69-69ba-45e5-838f-b12867e372f6",
   "metadata": {},
   "outputs": [
    {
     "data": {
      "text/html": [
       "<div>\n",
       "<style scoped>\n",
       "    .dataframe tbody tr th:only-of-type {\n",
       "        vertical-align: middle;\n",
       "    }\n",
       "\n",
       "    .dataframe tbody tr th {\n",
       "        vertical-align: top;\n",
       "    }\n",
       "\n",
       "    .dataframe thead th {\n",
       "        text-align: right;\n",
       "    }\n",
       "</style>\n",
       "<table border=\"1\" class=\"dataframe\">\n",
       "  <thead>\n",
       "    <tr style=\"text-align: right;\">\n",
       "      <th></th>\n",
       "      <th>ID</th>\n",
       "      <th>time</th>\n",
       "      <th>RR</th>\n",
       "      <th>VO2</th>\n",
       "      <th>power</th>\n",
       "      <th>ExType</th>\n",
       "    </tr>\n",
       "  </thead>\n",
       "  <tbody>\n",
       "    <tr>\n",
       "      <th>0</th>\n",
       "      <td>11</td>\n",
       "      <td>-168.600</td>\n",
       "      <td>727.0</td>\n",
       "      <td>0.287147</td>\n",
       "      <td>0</td>\n",
       "      <td>Warm Up</td>\n",
       "    </tr>\n",
       "    <tr>\n",
       "      <th>1</th>\n",
       "      <td>11</td>\n",
       "      <td>-167.872</td>\n",
       "      <td>728.0</td>\n",
       "      <td>0.287147</td>\n",
       "      <td>0</td>\n",
       "      <td>Warm Up</td>\n",
       "    </tr>\n",
       "    <tr>\n",
       "      <th>2</th>\n",
       "      <td>11</td>\n",
       "      <td>-167.148</td>\n",
       "      <td>724.0</td>\n",
       "      <td>0.287147</td>\n",
       "      <td>0</td>\n",
       "      <td>Warm Up</td>\n",
       "    </tr>\n",
       "    <tr>\n",
       "      <th>3</th>\n",
       "      <td>11</td>\n",
       "      <td>-166.484</td>\n",
       "      <td>664.0</td>\n",
       "      <td>0.320580</td>\n",
       "      <td>0</td>\n",
       "      <td>Warm Up</td>\n",
       "    </tr>\n",
       "    <tr>\n",
       "      <th>4</th>\n",
       "      <td>11</td>\n",
       "      <td>-165.836</td>\n",
       "      <td>648.0</td>\n",
       "      <td>0.320580</td>\n",
       "      <td>0</td>\n",
       "      <td>Warm Up</td>\n",
       "    </tr>\n",
       "    <tr>\n",
       "      <th>...</th>\n",
       "      <td>...</td>\n",
       "      <td>...</td>\n",
       "      <td>...</td>\n",
       "      <td>...</td>\n",
       "      <td>...</td>\n",
       "      <td>...</td>\n",
       "    </tr>\n",
       "    <tr>\n",
       "      <th>27598</th>\n",
       "      <td>10</td>\n",
       "      <td>942.700</td>\n",
       "      <td>428.0</td>\n",
       "      <td>0.786363</td>\n",
       "      <td>0</td>\n",
       "      <td>Cool Down</td>\n",
       "    </tr>\n",
       "    <tr>\n",
       "      <th>27599</th>\n",
       "      <td>10</td>\n",
       "      <td>943.124</td>\n",
       "      <td>424.0</td>\n",
       "      <td>0.786363</td>\n",
       "      <td>0</td>\n",
       "      <td>Cool Down</td>\n",
       "    </tr>\n",
       "    <tr>\n",
       "      <th>27600</th>\n",
       "      <td>10</td>\n",
       "      <td>943.552</td>\n",
       "      <td>428.0</td>\n",
       "      <td>0.786363</td>\n",
       "      <td>0</td>\n",
       "      <td>Cool Down</td>\n",
       "    </tr>\n",
       "    <tr>\n",
       "      <th>27601</th>\n",
       "      <td>10</td>\n",
       "      <td>943.976</td>\n",
       "      <td>424.0</td>\n",
       "      <td>0.786363</td>\n",
       "      <td>0</td>\n",
       "      <td>Cool Down</td>\n",
       "    </tr>\n",
       "    <tr>\n",
       "      <th>27602</th>\n",
       "      <td>10</td>\n",
       "      <td>944.404</td>\n",
       "      <td>428.0</td>\n",
       "      <td>0.786363</td>\n",
       "      <td>0</td>\n",
       "      <td>Cool Down</td>\n",
       "    </tr>\n",
       "  </tbody>\n",
       "</table>\n",
       "<p>52062 rows × 6 columns</p>\n",
       "</div>"
      ],
      "text/plain": [
       "       ID     time     RR       VO2  power     ExType\n",
       "0      11 -168.600  727.0  0.287147      0    Warm Up\n",
       "1      11 -167.872  728.0  0.287147      0    Warm Up\n",
       "2      11 -167.148  724.0  0.287147      0    Warm Up\n",
       "3      11 -166.484  664.0  0.320580      0    Warm Up\n",
       "4      11 -165.836  648.0  0.320580      0    Warm Up\n",
       "...    ..      ...    ...       ...    ...        ...\n",
       "27598  10  942.700  428.0  0.786363      0  Cool Down\n",
       "27599  10  943.124  424.0  0.786363      0  Cool Down\n",
       "27600  10  943.552  428.0  0.786363      0  Cool Down\n",
       "27601  10  943.976  424.0  0.786363      0  Cool Down\n",
       "27602  10  944.404  428.0  0.786363      0  Cool Down\n",
       "\n",
       "[52062 rows x 6 columns]"
      ]
     },
     "execution_count": 59,
     "metadata": {},
     "output_type": "execute_result"
    }
   ],
   "source": [
    "df.loc[df['time'] < 0,'ExType']='Warm Up' \n",
    "df.loc[(df['time'] >= 0) & (df['power'] > 0), 'ExType'] = 'GET'\n",
    "df.loc[(df['time'] >= 0) & (df['power'] == 0), 'ExType'] = 'Cool Down'\n",
    "df"
   ]
  },
  {
   "cell_type": "code",
   "execution_count": null,
   "id": "f5fb1926-7d12-49b0-b595-fb7f82364a36",
   "metadata": {},
   "outputs": [],
   "source": [
    "15.Assign 1 of the following 5 heart rate zones for every record for all sports and athletes and add this as a column to every table:\n",
    "   Zone 1 (recovery/easy) <100 HR max\n",
    "   Zone 2 (aerobic/base) 100-120 HR max \n",
    "   Zone 3 (tempo) 120-135 HR max \n",
    "   Zone 4 (lactate threshold) 135-155 HR max \n",
    "   Zone 5 (anaerobic) 155+ HR max and above"
   ]
  },
  {
   "cell_type": "code",
   "execution_count": 121,
   "id": "4faf26d0-1cce-4edb-9ed1-404f477ae029",
   "metadata": {},
   "outputs": [
    {
     "data": {
      "text/html": [
       "<div>\n",
       "<style scoped>\n",
       "    .dataframe tbody tr th:only-of-type {\n",
       "        vertical-align: middle;\n",
       "    }\n",
       "\n",
       "    .dataframe tbody tr th {\n",
       "        vertical-align: top;\n",
       "    }\n",
       "\n",
       "    .dataframe thead th {\n",
       "        text-align: right;\n",
       "    }\n",
       "</style>\n",
       "<table border=\"1\" class=\"dataframe\">\n",
       "  <thead>\n",
       "    <tr style=\"text-align: right;\">\n",
       "      <th></th>\n",
       "      <th>ID</th>\n",
       "      <th>time</th>\n",
       "      <th>RR</th>\n",
       "      <th>VO2</th>\n",
       "      <th>power</th>\n",
       "      <th>ExType</th>\n",
       "      <th>HR</th>\n",
       "      <th>Zone Type</th>\n",
       "      <th>ZoneType</th>\n",
       "    </tr>\n",
       "  </thead>\n",
       "  <tbody>\n",
       "    <tr>\n",
       "      <th>0</th>\n",
       "      <td>11</td>\n",
       "      <td>-168.600</td>\n",
       "      <td>727.0</td>\n",
       "      <td>0.287147</td>\n",
       "      <td>0</td>\n",
       "      <td>Warm Up</td>\n",
       "      <td>82.530949</td>\n",
       "      <td>Zone 1</td>\n",
       "      <td>Zone 1</td>\n",
       "    </tr>\n",
       "    <tr>\n",
       "      <th>1</th>\n",
       "      <td>11</td>\n",
       "      <td>-167.872</td>\n",
       "      <td>728.0</td>\n",
       "      <td>0.287147</td>\n",
       "      <td>0</td>\n",
       "      <td>Warm Up</td>\n",
       "      <td>82.417582</td>\n",
       "      <td>Zone 1</td>\n",
       "      <td>Zone 1</td>\n",
       "    </tr>\n",
       "    <tr>\n",
       "      <th>2</th>\n",
       "      <td>11</td>\n",
       "      <td>-167.148</td>\n",
       "      <td>724.0</td>\n",
       "      <td>0.287147</td>\n",
       "      <td>0</td>\n",
       "      <td>Warm Up</td>\n",
       "      <td>82.872928</td>\n",
       "      <td>Zone 1</td>\n",
       "      <td>Zone 1</td>\n",
       "    </tr>\n",
       "    <tr>\n",
       "      <th>3</th>\n",
       "      <td>11</td>\n",
       "      <td>-166.484</td>\n",
       "      <td>664.0</td>\n",
       "      <td>0.320580</td>\n",
       "      <td>0</td>\n",
       "      <td>Warm Up</td>\n",
       "      <td>90.361446</td>\n",
       "      <td>Zone 1</td>\n",
       "      <td>Zone 1</td>\n",
       "    </tr>\n",
       "    <tr>\n",
       "      <th>4</th>\n",
       "      <td>11</td>\n",
       "      <td>-165.836</td>\n",
       "      <td>648.0</td>\n",
       "      <td>0.320580</td>\n",
       "      <td>0</td>\n",
       "      <td>Warm Up</td>\n",
       "      <td>92.592593</td>\n",
       "      <td>Zone 1</td>\n",
       "      <td>Zone 1</td>\n",
       "    </tr>\n",
       "  </tbody>\n",
       "</table>\n",
       "</div>"
      ],
      "text/plain": [
       "   ID     time     RR       VO2  power   ExType         HR Zone Type ZoneType\n",
       "0  11 -168.600  727.0  0.287147      0  Warm Up  82.530949    Zone 1   Zone 1\n",
       "1  11 -167.872  728.0  0.287147      0  Warm Up  82.417582    Zone 1   Zone 1\n",
       "2  11 -167.148  724.0  0.287147      0  Warm Up  82.872928    Zone 1   Zone 1\n",
       "3  11 -166.484  664.0  0.320580      0  Warm Up  90.361446    Zone 1   Zone 1\n",
       "4  11 -165.836  648.0  0.320580      0  Warm Up  92.592593    Zone 1   Zone 1"
      ]
     },
     "execution_count": 121,
     "metadata": {},
     "output_type": "execute_result"
    }
   ],
   "source": [
    "df['HR']=60/(df['RR']/1000)\n",
    "df\n",
    "df.loc[df['HR'] < 100,'ZoneType']='Zone 1'\n",
    "df.loc[(df['HR'].between(100,120)), 'ZoneType'] = 'Zone 2'\n",
    "df.loc[(df['HR'].between(121,135)), 'ZoneType'] = 'Zone 3'\n",
    "df.loc[(df['HR'].between(136,155)), 'ZoneType'] = 'Zone 4'\n",
    "df.loc[df['HR'] > 155, 'ZoneType'] = 'Zone 5'\n",
    "df.head()"
   ]
  },
  {
   "cell_type": "code",
   "execution_count": 99,
   "id": "875a0800-217d-4eee-8839-ef13459270c9",
   "metadata": {},
   "outputs": [
    {
     "data": {
      "text/html": [
       "<div>\n",
       "<style scoped>\n",
       "    .dataframe tbody tr th:only-of-type {\n",
       "        vertical-align: middle;\n",
       "    }\n",
       "\n",
       "    .dataframe tbody tr th {\n",
       "        vertical-align: top;\n",
       "    }\n",
       "\n",
       "    .dataframe thead th {\n",
       "        text-align: right;\n",
       "    }\n",
       "</style>\n",
       "<table border=\"1\" class=\"dataframe\">\n",
       "  <thead>\n",
       "    <tr style=\"text-align: right;\">\n",
       "      <th></th>\n",
       "      <th>ID</th>\n",
       "      <th>time</th>\n",
       "      <th>RR</th>\n",
       "      <th>VO2</th>\n",
       "      <th>power</th>\n",
       "      <th>ExType</th>\n",
       "      <th>HR</th>\n",
       "      <th>Zone Type</th>\n",
       "      <th>age</th>\n",
       "      <th>Weight</th>\n",
       "      <th>Height</th>\n",
       "      <th>P_vt1</th>\n",
       "      <th>P_vt2</th>\n",
       "      <th>sport</th>\n",
       "      <th>Gender</th>\n",
       "      <th>Ethnicity</th>\n",
       "      <th>First Name</th>\n",
       "      <th>Last Name</th>\n",
       "    </tr>\n",
       "  </thead>\n",
       "  <tbody>\n",
       "    <tr>\n",
       "      <th>0</th>\n",
       "      <td>11</td>\n",
       "      <td>-168.600</td>\n",
       "      <td>727.0</td>\n",
       "      <td>0.287147</td>\n",
       "      <td>0</td>\n",
       "      <td>Warm Up</td>\n",
       "      <td>82.530949</td>\n",
       "      <td>Zone 1</td>\n",
       "      <td>18</td>\n",
       "      <td>84.8</td>\n",
       "      <td>182</td>\n",
       "      <td>174</td>\n",
       "      <td>268</td>\n",
       "      <td>kayak</td>\n",
       "      <td>Female</td>\n",
       "      <td>African</td>\n",
       "      <td>Isabella</td>\n",
       "      <td>Griffin</td>\n",
       "    </tr>\n",
       "    <tr>\n",
       "      <th>1</th>\n",
       "      <td>11</td>\n",
       "      <td>-167.872</td>\n",
       "      <td>728.0</td>\n",
       "      <td>0.287147</td>\n",
       "      <td>0</td>\n",
       "      <td>Warm Up</td>\n",
       "      <td>82.417582</td>\n",
       "      <td>Zone 1</td>\n",
       "      <td>18</td>\n",
       "      <td>84.8</td>\n",
       "      <td>182</td>\n",
       "      <td>174</td>\n",
       "      <td>268</td>\n",
       "      <td>kayak</td>\n",
       "      <td>Female</td>\n",
       "      <td>African</td>\n",
       "      <td>Isabella</td>\n",
       "      <td>Griffin</td>\n",
       "    </tr>\n",
       "    <tr>\n",
       "      <th>2</th>\n",
       "      <td>11</td>\n",
       "      <td>-167.148</td>\n",
       "      <td>724.0</td>\n",
       "      <td>0.287147</td>\n",
       "      <td>0</td>\n",
       "      <td>Warm Up</td>\n",
       "      <td>82.872928</td>\n",
       "      <td>Zone 1</td>\n",
       "      <td>18</td>\n",
       "      <td>84.8</td>\n",
       "      <td>182</td>\n",
       "      <td>174</td>\n",
       "      <td>268</td>\n",
       "      <td>kayak</td>\n",
       "      <td>Female</td>\n",
       "      <td>African</td>\n",
       "      <td>Isabella</td>\n",
       "      <td>Griffin</td>\n",
       "    </tr>\n",
       "    <tr>\n",
       "      <th>3</th>\n",
       "      <td>11</td>\n",
       "      <td>-166.484</td>\n",
       "      <td>664.0</td>\n",
       "      <td>0.320580</td>\n",
       "      <td>0</td>\n",
       "      <td>Warm Up</td>\n",
       "      <td>90.361446</td>\n",
       "      <td>Zone 1</td>\n",
       "      <td>18</td>\n",
       "      <td>84.8</td>\n",
       "      <td>182</td>\n",
       "      <td>174</td>\n",
       "      <td>268</td>\n",
       "      <td>kayak</td>\n",
       "      <td>Female</td>\n",
       "      <td>African</td>\n",
       "      <td>Isabella</td>\n",
       "      <td>Griffin</td>\n",
       "    </tr>\n",
       "    <tr>\n",
       "      <th>4</th>\n",
       "      <td>11</td>\n",
       "      <td>-165.836</td>\n",
       "      <td>648.0</td>\n",
       "      <td>0.320580</td>\n",
       "      <td>0</td>\n",
       "      <td>Warm Up</td>\n",
       "      <td>92.592593</td>\n",
       "      <td>Zone 1</td>\n",
       "      <td>18</td>\n",
       "      <td>84.8</td>\n",
       "      <td>182</td>\n",
       "      <td>174</td>\n",
       "      <td>268</td>\n",
       "      <td>kayak</td>\n",
       "      <td>Female</td>\n",
       "      <td>African</td>\n",
       "      <td>Isabella</td>\n",
       "      <td>Griffin</td>\n",
       "    </tr>\n",
       "  </tbody>\n",
       "</table>\n",
       "</div>"
      ],
      "text/plain": [
       "   ID     time     RR       VO2  power   ExType         HR Zone Type  age  \\\n",
       "0  11 -168.600  727.0  0.287147      0  Warm Up  82.530949    Zone 1   18   \n",
       "1  11 -167.872  728.0  0.287147      0  Warm Up  82.417582    Zone 1   18   \n",
       "2  11 -167.148  724.0  0.287147      0  Warm Up  82.872928    Zone 1   18   \n",
       "3  11 -166.484  664.0  0.320580      0  Warm Up  90.361446    Zone 1   18   \n",
       "4  11 -165.836  648.0  0.320580      0  Warm Up  92.592593    Zone 1   18   \n",
       "\n",
       "   Weight  Height  P_vt1  P_vt2  sport  Gender Ethnicity First Name Last Name  \n",
       "0    84.8     182    174    268  kayak  Female   African   Isabella   Griffin  \n",
       "1    84.8     182    174    268  kayak  Female   African   Isabella   Griffin  \n",
       "2    84.8     182    174    268  kayak  Female   African   Isabella   Griffin  \n",
       "3    84.8     182    174    268  kayak  Female   African   Isabella   Griffin  \n",
       "4    84.8     182    174    268  kayak  Female   African   Isabella   Griffin  "
      ]
     },
     "execution_count": 99,
     "metadata": {},
     "output_type": "execute_result"
    }
   ],
   "source": [
    "df2 = pd.merge(df, df1, on='ID')\n",
    "df2.head()"
   ]
  },
  {
   "cell_type": "markdown",
   "id": "a0796b59-bb4b-4cb0-979b-bf6e42d16ff4",
   "metadata": {},
   "source": [
    "Q65:  C([ 1,  2,  3,  4,  5],\r\n",
    "       [ 6,  7,  8,  9, 10],\r\n",
    "       [11, 12, 13, 14, 15],\r\n",
    "       [16, 17, 18, 19, 20],\r\n",
    "       [21, 22, 23, 24, 25],\r\n",
    "       [26, 27, 28, 29) 30]  Use array slicing to display elements 4,7,10,17."
   ]
  },
  {
   "cell_type": "code",
   "execution_count": 45,
   "id": "b56d7663-0003-4faa-817d-c05b3800c011",
   "metadata": {},
   "outputs": [
    {
     "name": "stdout",
     "output_type": "stream",
     "text": [
      "4\n",
      "7\n",
      "10\n",
      "17\n"
     ]
    }
   ],
   "source": [
    "a=np.arange(1,31).reshape(6,5)\n",
    "#display(a)\n",
    "#in below ways it can be represented.\n",
    "print(a[0,3])\n",
    "print(a[1,1])\n",
    "print(a[1,4])\n",
    "print(a[3,1])\n"
   ]
  },
  {
   "attachments": {},
   "cell_type": "markdown",
   "id": "b23d4b4f-e9b2-4702-9118-88d5c3386238",
   "metadata": {},
   "source": [
    "Q66: On average, how long did each participant spend at 200 watts?"
   ]
  },
  {
   "cell_type": "code",
   "execution_count": 63,
   "id": "cb37dd47-5aa6-4899-a274-957c8b70716d",
   "metadata": {},
   "outputs": [
    {
     "data": {
      "text/plain": [
       "ID\n",
       "3     750.4\n",
       "4     747.4\n",
       "5     752.2\n",
       "6     747.6\n",
       "9     689.2\n",
       "10    736.2\n",
       "11    755.5\n",
       "12    748.7\n",
       "13    747.9\n",
       "14    760.2\n",
       "15    749.1\n",
       "16    758.2\n",
       "18    734.5\n",
       "Name: time, dtype: float64"
      ]
     },
     "execution_count": 63,
     "metadata": {},
     "output_type": "execute_result"
    }
   ],
   "source": [
    "filtered_df = df[df['power'] == 200]\n",
    "avg_time =filtered_df.groupby(\"ID\")[\"time\"].mean().round(1)\n",
    "avg_time"
   ]
  },
  {
   "cell_type": "markdown",
   "id": "ea44d97f-fa94-45a6-ae4c-8edd8576f293",
   "metadata": {},
   "source": [
    "Q67: Athletes from which sport had the highest average cardiorespiratory fitness in terms of v02 max?"
   ]
  },
  {
   "cell_type": "code",
   "execution_count": 65,
   "id": "5f40f9ec-dba0-47d2-b3de-e25bee9974c4",
   "metadata": {},
   "outputs": [
    {
     "name": "stdout",
     "output_type": "stream",
     "text": [
      "[1.8338044528651811, 1.2383460431459545, 1.385422203718255]\n",
      "Kayaking had the highest average cardiorespiratory fitness in terms of v02 max: 0    1.8\n",
      "dtype: float64\n"
     ]
    }
   ],
   "source": [
    "kv=Kayaking[\"VO2\"].mean()\n",
    "tv=Triathlon[\"VO2\"].mean()\n",
    "fv=Fencing[\"VO2\"].mean()\n",
    "a= [kv,tv,fv]\n",
    "print(a)\n",
    "b=pd.DataFrame(a).max().round(1)\n",
    "print(\"Kayaking had the highest average cardiorespiratory fitness in terms of v02 max:\",b)"
   ]
  },
  {
   "cell_type": "markdown",
   "id": "800e13ce-be8a-4504-9526-bc1fe8040c4b",
   "metadata": {},
   "source": [
    "Q68: What % of athletes exceeded 90% of max HR? (Max HR is calculated as 220-Age)"
   ]
  },
  {
   "cell_type": "code",
   "execution_count": 177,
   "id": "f27ad815-34e6-499e-ba72-66a6feae03c5",
   "metadata": {},
   "outputs": [
    {
     "name": "stdout",
     "output_type": "stream",
     "text": [
      "6.91  % of athletes exceeded 90% of max HR\n"
     ]
    }
   ],
   "source": [
    "#During a workout session 220 - age is used as a benchmark for heart rate zones\n",
    "df2 = pd.merge(df, df1, on='ID')\n",
    "df2['max_RR']=220-df2['age']\n",
    "df3= df2[(df2['HR'])> (df2['max_RR']*.9)]\n",
    "df4=df3['ID'].count()\n",
    "df5= df['ID'].count()\n",
    "df6= ((df4/df5)*100).round(2)\n",
    "print(df6, \" % of athletes exceeded 90% of max HR\")\n"
   ]
  },
  {
   "cell_type": "markdown",
   "id": "7298b88e-46e7-441e-b450-a0434a649bfe",
   "metadata": {},
   "source": [
    "Q69: What was the lowest heart rate recorded at a power wattage of 200"
   ]
  },
  {
   "cell_type": "code",
   "execution_count": 100,
   "id": "dc1cc83f-75c4-4007-97e1-67c3be112368",
   "metadata": {},
   "outputs": [
    {
     "name": "stdout",
     "output_type": "stream",
     "text": [
      "the lowest heart rate recorded at a power wattage of 200:  71.77033492822967\n"
     ]
    }
   ],
   "source": [
    "HR = (60/(filtered_df['RR']/1000)).min()\n",
    "print(\"the lowest heart rate recorded at a power wattage of 200: \",HR)"
   ]
  },
  {
   "cell_type": "markdown",
   "id": "86fc855a-befc-4476-93bd-ef6c4447627f",
   "metadata": {},
   "source": [
    "Q70: On Average how long did most athletes spend at 75% of MaxHR (Max HR is calculated as 220-Age)"
   ]
  },
  {
   "cell_type": "code",
   "execution_count": 192,
   "id": "c3868398-d9c6-4321-93b5-3fad9cc6cfa3",
   "metadata": {},
   "outputs": [
    {
     "name": "stdout",
     "output_type": "stream",
     "text": [
      "On Average, most athletes spend 12.45  min at 75% of MaxHR\n"
     ]
    }
   ],
   "source": [
    "df7=df2[(df2['HR'])> (df2['max_RR']*.75)]\n",
    "df8= df7['time'].mean()\n",
    "print(\"On Average, most athletes spend\",(df8/60).round(2),\" min at 75% of MaxHR\")"
   ]
  },
  {
   "cell_type": "markdown",
   "id": "f2f253e3-02ed-4532-bbd6-c47d7625bb92",
   "metadata": {},
   "source": [
    "Q71: Create a crosstab to show each sport as a column and each heart rate zone as rows with counts of rows that satisfy each condition as values"
   ]
  },
  {
   "cell_type": "code",
   "execution_count": 125,
   "id": "b6f780df-d7a1-4541-9d7e-3ef7167fd5bb",
   "metadata": {},
   "outputs": [
    {
     "data": {
      "text/html": [
       "<div>\n",
       "<style scoped>\n",
       "    .dataframe tbody tr th:only-of-type {\n",
       "        vertical-align: middle;\n",
       "    }\n",
       "\n",
       "    .dataframe tbody tr th {\n",
       "        vertical-align: top;\n",
       "    }\n",
       "\n",
       "    .dataframe thead th {\n",
       "        text-align: right;\n",
       "    }\n",
       "</style>\n",
       "<table border=\"1\" class=\"dataframe\">\n",
       "  <thead>\n",
       "    <tr style=\"text-align: right;\">\n",
       "      <th>ZoneType</th>\n",
       "      <th>Zone 1</th>\n",
       "      <th>Zone 2</th>\n",
       "      <th>Zone 3</th>\n",
       "      <th>Zone 4</th>\n",
       "      <th>Zone 5</th>\n",
       "    </tr>\n",
       "    <tr>\n",
       "      <th>sport</th>\n",
       "      <th></th>\n",
       "      <th></th>\n",
       "      <th></th>\n",
       "      <th></th>\n",
       "      <th></th>\n",
       "    </tr>\n",
       "  </thead>\n",
       "  <tbody>\n",
       "    <tr>\n",
       "      <th>fencing</th>\n",
       "      <td>2258</td>\n",
       "      <td>3700</td>\n",
       "      <td>3723</td>\n",
       "      <td>5979</td>\n",
       "      <td>11321</td>\n",
       "    </tr>\n",
       "    <tr>\n",
       "      <th>kayak</th>\n",
       "      <td>1456</td>\n",
       "      <td>2850</td>\n",
       "      <td>3000</td>\n",
       "      <td>4194</td>\n",
       "      <td>6791</td>\n",
       "    </tr>\n",
       "    <tr>\n",
       "      <th>triathlon</th>\n",
       "      <td>464</td>\n",
       "      <td>340</td>\n",
       "      <td>1043</td>\n",
       "      <td>812</td>\n",
       "      <td>1781</td>\n",
       "    </tr>\n",
       "  </tbody>\n",
       "</table>\n",
       "</div>"
      ],
      "text/plain": [
       "ZoneType   Zone 1  Zone 2  Zone 3  Zone 4  Zone 5\n",
       "sport                                            \n",
       "fencing      2258    3700    3723    5979   11321\n",
       "kayak        1456    2850    3000    4194    6791\n",
       "triathlon     464     340    1043     812    1781"
      ]
     },
     "execution_count": 125,
     "metadata": {},
     "output_type": "execute_result"
    }
   ],
   "source": [
    "df2 = pd.merge(df, df1, on='ID')\n",
    "pd.crosstab(index=df2.sport, columns= df2.ZoneType)"
   ]
  },
  {
   "cell_type": "markdown",
   "id": "6ab6b2b8-19fc-4dd2-863a-1b25f02138df",
   "metadata": {},
   "source": [
    "Q72: Provide an example of a lambda function that multiplies any 2 input values."
   ]
  },
  {
   "cell_type": "code",
   "execution_count": 110,
   "id": "28bc161d-84f2-45bc-b018-fd990734f3ef",
   "metadata": {},
   "outputs": [
    {
     "name": "stdin",
     "output_type": "stream",
     "text": [
      "Please enter your first number:  6\n",
      "Please enter your second number:  7\n"
     ]
    },
    {
     "name": "stdout",
     "output_type": "stream",
     "text": [
      "The result of multiplying 6 and 7 is: 42\n"
     ]
    }
   ],
   "source": [
    "v1 =int(input(\"Please enter your first number: \"))\n",
    "v2=int(input(\"Please enter your second number: \"))\n",
    "multiply = lambda a, b: a * b\n",
    "result = multiply(v1, v2)\n",
    "print(f\"The result of multiplying {v1} and {v2} is: {result}\")\n"
   ]
  },
  {
   "cell_type": "markdown",
   "id": "e186ae26-0a76-4cb6-9be5-87b77ccd67d8",
   "metadata": {},
   "source": [
    "Q73: How long was athlete 17s warm up"
   ]
  },
  {
   "cell_type": "code",
   "execution_count": 95,
   "id": "b29a17f2-3741-4e7e-8046-4bdfc33ddd7a",
   "metadata": {},
   "outputs": [
    {
     "name": "stdout",
     "output_type": "stream",
     "text": [
      "ID\n",
      "17   -21964.0\n",
      "Name: time, dtype: float64 sec\n"
     ]
    }
   ],
   "source": [
    "a=df.loc[(df['ID'] == 17) & (df['ExType'] == 'Warm Up')]\n",
    "b = a.groupby('ID')['time'].sum().round()\n",
    "print(b,'sec')\n"
   ]
  },
  {
   "cell_type": "markdown",
   "id": "f2e12eda-dcd3-44a5-9d48-170dab9ed909",
   "metadata": {},
   "source": [
    "Q74: Take a students full name and reverse it using a for loop"
   ]
  },
  {
   "cell_type": "code",
   "execution_count": 3,
   "id": "e01350be-4471-4a06-8b97-acd632cb15fd",
   "metadata": {},
   "outputs": [
    {
     "name": "stdin",
     "output_type": "stream",
     "text": [
      "What is your Full Name:  SONAM PRIYA\n"
     ]
    },
    {
     "name": "stdout",
     "output_type": "stream",
     "text": [
      "The original string  is :  SONAM PRIYA\n",
      "The reversed string(using reversed) is :  AYIRP MANOS\n"
     ]
    }
   ],
   "source": [
    "def reverse(string):\n",
    "    string = [string[i] for i in range(len(string)-1, -1, -1)]\n",
    "    return \"\".join(string)\n",
    "\n",
    "Name = str(input(\"What is your Full Name: \"))\n",
    "\n",
    "print(\"The original string  is : \", Name)\n",
    "\n",
    "print(\"The reversed string(using reversed) is : \", reverse(Name))\n"
   ]
  },
  {
   "cell_type": "markdown",
   "id": "39d8b46a-9931-4e6e-abfb-13f868aa6ef2",
   "metadata": {},
   "source": [
    "Q75: What was the maximum heart rate recorded during the test. Which athlete did it belong to? Display name, sport and HR"
   ]
  },
  {
   "cell_type": "code",
   "execution_count": 175,
   "id": "3931c908-77a2-4bf6-b0c8-9bdc60229dcf",
   "metadata": {},
   "outputs": [
    {
     "name": "stdout",
     "output_type": "stream",
     "text": [
      "      First Name Last Name    sport          HR\n",
      "44041      Grace   Simmons  fencing  238.095238\n"
     ]
    }
   ],
   "source": [
    "df2 = pd.merge(df, df1, on='ID')\n",
    "filter_df = df2[df2['HR'] == (df2['HR'].aggregate('max'))]\n",
    "print(filter_df[['First Name','Last Name', 'sport','HR']])"
   ]
  },
  {
   "cell_type": "markdown",
   "id": "b39b1fd5-ba2d-49ad-92a8-dc7fb953a2f5",
   "metadata": {},
   "source": [
    "\n",
    "Q76: np.arange(1,31).reshape(6,5),find array slicing to get the elements 2,5,13,25,30."
   ]
  },
  {
   "cell_type": "code",
   "execution_count": 33,
   "id": "e7a22ee1-f213-4fae-8be8-c1ee5aa69ecd",
   "metadata": {},
   "outputs": [
    {
     "name": "stdout",
     "output_type": "stream",
     "text": [
      "2\n",
      "5\n",
      "13\n",
      "25\n",
      "30\n"
     ]
    }
   ],
   "source": [
    "a=np.arange(1,31).reshape(6,5)\n",
    "#display(a)\n",
    "#in below ways it can be represented.\n",
    "print(a[0,1])\n",
    "print(a[0,4])\n",
    "print(a[2,2])\n",
    "print(a[4,4])\n",
    "print(a[5,4])\n",
    "\n"
   ]
  },
  {
   "cell_type": "markdown",
   "id": "19c3f187-f787-4dbc-a05a-b19deabdc06f",
   "metadata": {},
   "source": [
    "Q77: Display a violin chart to show distribution of VO2Max against age."
   ]
  },
  {
   "cell_type": "code",
   "execution_count": null,
   "id": "03da1470-8f02-4d4c-8a25-ea721d68176b",
   "metadata": {},
   "outputs": [],
   "source": [
    "df2 = pd.merge(df, df1, on='ID')\n",
    "df2\n",
    "#sns.violinplot(x='Gender',y='age',data= df2,inner='quartile',bw=0.5,hue='Gender',palette='RdPu')"
   ]
  },
  {
   "cell_type": "markdown",
   "id": "99b37c7a-5612-4af4-b9d6-8ea0b5390a45",
   "metadata": {},
   "source": [
    "Q78: Create a heatmap that show heart rate zones by minutes and the number of athletes in each HR and each minute."
   ]
  },
  {
   "cell_type": "code",
   "execution_count": null,
   "id": "8451315e-3d39-49d0-975d-1d19f8f5ccb8",
   "metadata": {},
   "outputs": [],
   "source": [
    "\n"
   ]
  },
  {
   "cell_type": "markdown",
   "id": "27a2017c-bad7-4de6-8188-35e931eb623f",
   "metadata": {},
   "source": [
    "Q79: Plot the Donut chart athlete distrubution by Gender"
   ]
  },
  {
   "cell_type": "code",
   "execution_count": 146,
   "id": "96e8c24c-4e82-4663-9872-f2ae12f0876e",
   "metadata": {},
   "outputs": [
    {
     "ename": "NameError",
     "evalue": "name 'plt' is not defined",
     "output_type": "error",
     "traceback": [
      "\u001b[1;31m---------------------------------------------------------------------------\u001b[0m",
      "\u001b[1;31mNameError\u001b[0m                                 Traceback (most recent call last)",
      "Cell \u001b[1;32mIn[146], line 13\u001b[0m\n\u001b[0;32m      7\u001b[0m colors \u001b[38;5;241m=\u001b[39m [\u001b[38;5;124m'\u001b[39m\u001b[38;5;124m#FF0000\u001b[39m\u001b[38;5;124m'\u001b[39m, \u001b[38;5;124m'\u001b[39m\u001b[38;5;124m#0000FF\u001b[39m\u001b[38;5;124m'\u001b[39m, \u001b[38;5;124m'\u001b[39m\u001b[38;5;124m#FFFF00\u001b[39m\u001b[38;5;124m'\u001b[39m, \n\u001b[0;32m      8\u001b[0m           \u001b[38;5;124m'\u001b[39m\u001b[38;5;124m#ADFF2F\u001b[39m\u001b[38;5;124m'\u001b[39m, \u001b[38;5;124m'\u001b[39m\u001b[38;5;124m#FFA500\u001b[39m\u001b[38;5;124m'\u001b[39m]\n\u001b[0;32m      9\u001b[0m \u001b[38;5;66;03m# explosion\u001b[39;00m\n\u001b[0;32m     10\u001b[0m \u001b[38;5;66;03m#explode = (0.05, 0.05, 0.05, 0.05, 0.05)\u001b[39;00m\n\u001b[0;32m     11\u001b[0m  \n\u001b[0;32m     12\u001b[0m \u001b[38;5;66;03m# Pie Chart\u001b[39;00m\n\u001b[1;32m---> 13\u001b[0m plt\u001b[38;5;241m.\u001b[39mpie(values, colors\u001b[38;5;241m=\u001b[39mcolors, labels\u001b[38;5;241m=\u001b[39mlabel,\n\u001b[0;32m     14\u001b[0m         autopct\u001b[38;5;241m=\u001b[39m\u001b[38;5;124m'\u001b[39m\u001b[38;5;132;01m%1.1f\u001b[39;00m\u001b[38;5;132;01m%%\u001b[39;00m\u001b[38;5;124m'\u001b[39m, pctdistance\u001b[38;5;241m=\u001b[39m\u001b[38;5;241m0.85\u001b[39m,\n\u001b[0;32m     15\u001b[0m         )\n\u001b[0;32m     17\u001b[0m \u001b[38;5;66;03m# draw circle\u001b[39;00m\n\u001b[0;32m     18\u001b[0m centre_circle \u001b[38;5;241m=\u001b[39m plt\u001b[38;5;241m.\u001b[39mCircle((\u001b[38;5;241m0\u001b[39m, \u001b[38;5;241m0\u001b[39m), \u001b[38;5;241m0.70\u001b[39m, fc\u001b[38;5;241m=\u001b[39m\u001b[38;5;124m'\u001b[39m\u001b[38;5;124mwhite\u001b[39m\u001b[38;5;124m'\u001b[39m)\n",
      "\u001b[1;31mNameError\u001b[0m: name 'plt' is not defined"
     ]
    }
   ],
   "source": [
    "a=pd.DataFrame(Athletes)\n",
    "#compute data for plotting\n",
    "label = a['Gender']\n",
    "values = df['ID'].count()\n",
    "\n",
    "# colors\n",
    "colors = ['#FF0000', '#0000FF', '#FFFF00', \n",
    "          '#ADFF2F', '#FFA500']\n",
    "# explosion\n",
    "#explode = (0.05, 0.05, 0.05, 0.05, 0.05)\n",
    " \n",
    "# Pie Chart\n",
    "plt.pie(values, colors=colors, labels=label,\n",
    "        autopct='%1.1f%%', pctdistance=0.85,\n",
    "        )\n",
    " \n",
    "# draw circle\n",
    "centre_circle = plt.Circle((0, 0), 0.70, fc='white')\n",
    "fig = plt.gcf()\n",
    " \n",
    "# Adding Circle in Pie chart\n",
    "fig.gca().add_artist(centre_circle)\n",
    " \n",
    "# Adding Title of chart\n",
    "plt.title('Athlete distribution by Gender')\n",
    " \n",
    "# Displaying Chart\n",
    "plt.show()\n"
   ]
  },
  {
   "cell_type": "markdown",
   "id": "acc60013-d190-41ea-9918-ee63dba56089",
   "metadata": {},
   "source": [
    "Q80: Find the size of Tuple for any given input"
   ]
  },
  {
   "cell_type": "code",
   "execution_count": 124,
   "id": "96c53575-e91d-4176-94da-691b501e15f8",
   "metadata": {},
   "outputs": [
    {
     "name": "stdin",
     "output_type": "stream",
     "text": [
      "Please insert new item:  5,7,3\n"
     ]
    },
    {
     "name": "stdout",
     "output_type": "stream",
     "text": [
      "('5', '7', '3')\n",
      "size of tuple is  3\n"
     ]
    }
   ],
   "source": [
    "values =input(\"Please insert new item: \")\n",
    "new_values =values.split(\",\")\n",
    "a_tuple= tuple(new_values)\n",
    "print(a_tuple)\n",
    "print(\"size of tuple is \", len(a_tuple))"
   ]
  },
  {
   "cell_type": "code",
   "execution_count": null,
   "id": "76401239-e02c-4c28-869b-2b509ed788d6",
   "metadata": {},
   "outputs": [],
   "source": []
  }
 ],
 "metadata": {
  "kernelspec": {
   "display_name": "Python 3 (ipykernel)",
   "language": "python",
   "name": "python3"
  },
  "language_info": {
   "codemirror_mode": {
    "name": "ipython",
    "version": 3
   },
   "file_extension": ".py",
   "mimetype": "text/x-python",
   "name": "python",
   "nbconvert_exporter": "python",
   "pygments_lexer": "ipython3",
   "version": "3.12.4"
  }
 },
 "nbformat": 4,
 "nbformat_minor": 5
}
