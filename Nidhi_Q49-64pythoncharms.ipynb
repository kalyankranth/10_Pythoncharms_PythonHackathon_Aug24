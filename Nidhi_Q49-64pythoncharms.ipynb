{
 "cells": [
  {
   "cell_type": "code",
   "execution_count": 32,
   "id": "e9275c84-ba82-4e04-a7f7-9d6bc41d86d6",
   "metadata": {},
   "outputs": [],
   "source": [
    "import numpy as np\n",
    "import pandas as pd\n",
    "import seaborn as sns\n",
    "import matplotlib.pyplot as plt\n",
    "import re\n",
    "import warnings\n",
    "warnings.simplefilter(action='ignore', category=FutureWarning)"
   ]
  },
  {
   "cell_type": "code",
   "execution_count": 34,
   "id": "cc06efaa-d713-48c7-bac3-603463a76bf7",
   "metadata": {},
   "outputs": [
    {
     "name": "stderr",
     "output_type": "stream",
     "text": [
      "C:\\Users\\Nidhi\\anaconda3\\Lib\\site-packages\\openpyxl\\worksheet\\_read_only.py:81: UserWarning: Unknown extension is not supported and will be removed\n",
      "  for idx, row in parser.parse():\n",
      "C:\\Users\\Nidhi\\anaconda3\\Lib\\site-packages\\openpyxl\\worksheet\\_read_only.py:81: UserWarning: Unknown extension is not supported and will be removed\n",
      "  for idx, row in parser.parse():\n",
      "C:\\Users\\Nidhi\\anaconda3\\Lib\\site-packages\\openpyxl\\worksheet\\_read_only.py:81: UserWarning: Unknown extension is not supported and will be removed\n",
      "  for idx, row in parser.parse():\n"
     ]
    },
    {
     "data": {
      "text/html": [
       "<div>\n",
       "<style scoped>\n",
       "    .dataframe tbody tr th:only-of-type {\n",
       "        vertical-align: middle;\n",
       "    }\n",
       "\n",
       "    .dataframe tbody tr th {\n",
       "        vertical-align: top;\n",
       "    }\n",
       "\n",
       "    .dataframe thead th {\n",
       "        text-align: right;\n",
       "    }\n",
       "</style>\n",
       "<table border=\"1\" class=\"dataframe\">\n",
       "  <thead>\n",
       "    <tr style=\"text-align: right;\">\n",
       "      <th></th>\n",
       "      <th>ID</th>\n",
       "      <th>age</th>\n",
       "      <th>Weight</th>\n",
       "      <th>Height</th>\n",
       "      <th>P_vt1</th>\n",
       "      <th>P_vt2</th>\n",
       "      <th>sport</th>\n",
       "      <th>Gender</th>\n",
       "      <th>Ethnicity</th>\n",
       "      <th>First Name</th>\n",
       "      <th>Last Name</th>\n",
       "    </tr>\n",
       "  </thead>\n",
       "  <tbody>\n",
       "    <tr>\n",
       "      <th>0</th>\n",
       "      <td>1</td>\n",
       "      <td>15</td>\n",
       "      <td>53.7</td>\n",
       "      <td>161</td>\n",
       "      <td>50</td>\n",
       "      <td>140</td>\n",
       "      <td>fencing</td>\n",
       "      <td>Female</td>\n",
       "      <td>African</td>\n",
       "      <td>Olivia</td>\n",
       "      <td>Martinez</td>\n",
       "    </tr>\n",
       "    <tr>\n",
       "      <th>1</th>\n",
       "      <td>2</td>\n",
       "      <td>15</td>\n",
       "      <td>56.2</td>\n",
       "      <td>162</td>\n",
       "      <td>80</td>\n",
       "      <td>127</td>\n",
       "      <td>fencing</td>\n",
       "      <td>Male</td>\n",
       "      <td>African</td>\n",
       "      <td>Ethan</td>\n",
       "      <td>Reynolds</td>\n",
       "    </tr>\n",
       "    <tr>\n",
       "      <th>2</th>\n",
       "      <td>3</td>\n",
       "      <td>16</td>\n",
       "      <td>89.9</td>\n",
       "      <td>191</td>\n",
       "      <td>155</td>\n",
       "      <td>300</td>\n",
       "      <td>fencing</td>\n",
       "      <td>Male</td>\n",
       "      <td>White</td>\n",
       "      <td>Jackson</td>\n",
       "      <td>Harper</td>\n",
       "    </tr>\n",
       "    <tr>\n",
       "      <th>3</th>\n",
       "      <td>4</td>\n",
       "      <td>16</td>\n",
       "      <td>76.5</td>\n",
       "      <td>180</td>\n",
       "      <td>215</td>\n",
       "      <td>275</td>\n",
       "      <td>fencing</td>\n",
       "      <td>Male</td>\n",
       "      <td>White</td>\n",
       "      <td>Liam</td>\n",
       "      <td>Sanchez</td>\n",
       "    </tr>\n",
       "    <tr>\n",
       "      <th>4</th>\n",
       "      <td>5</td>\n",
       "      <td>17</td>\n",
       "      <td>76.4</td>\n",
       "      <td>186</td>\n",
       "      <td>110</td>\n",
       "      <td>172</td>\n",
       "      <td>fencing</td>\n",
       "      <td>Female</td>\n",
       "      <td>White</td>\n",
       "      <td>Ava</td>\n",
       "      <td>Thompson</td>\n",
       "    </tr>\n",
       "  </tbody>\n",
       "</table>\n",
       "</div>"
      ],
      "text/plain": [
       "   ID  age  Weight  Height  P_vt1  P_vt2    sport  Gender Ethnicity  \\\n",
       "0   1   15    53.7     161     50    140  fencing  Female   African   \n",
       "1   2   15    56.2     162     80    127  fencing    Male   African   \n",
       "2   3   16    89.9     191    155    300  fencing    Male     White   \n",
       "3   4   16    76.5     180    215    275  fencing    Male     White   \n",
       "4   5   17    76.4     186    110    172  fencing  Female     White   \n",
       "\n",
       "  First Name Last Name  \n",
       "0     Olivia  Martinez  \n",
       "1      Ethan  Reynolds  \n",
       "2    Jackson    Harper  \n",
       "3       Liam   Sanchez  \n",
       "4        Ava  Thompson  "
      ]
     },
     "execution_count": 34,
     "metadata": {},
     "output_type": "execute_result"
    }
   ],
   "source": [
    "import pandas as pd\n",
    "Kayaking= pd.read_excel(\"V02Max_Combined.xlsx\",sheet_name= \"Kayaking\")\n",
    "Triathlon= pd.read_excel(\"V02Max_Combined.xlsx\",sheet_name= \"Triathlon\")\n",
    "Fencing= pd.read_excel(\"V02Max_Combined.xlsx\",sheet_name= \"Fencing\")\n",
    "Athletes=pd.read_excel(\"V02Max_Combined.xlsx\",sheet_name= \"Athletes\")\n",
    "AllAthletes=pd.read_excel(\"AllAthletesData.xlsx\")\n",
    "Athletes.head()"
   ]
  },
  {
   "attachments": {},
   "cell_type": "markdown",
   "id": "6778b088-ad87-4382-956b-88ec4e8e4d5a",
   "metadata": {},
   "source": []
  },
  {
   "cell_type": "code",
   "execution_count": 35,
   "id": "a5e150f2-8b7b-408e-bc84-ecb710abf9e0",
   "metadata": {},
   "outputs": [
    {
     "ename": "NameError",
     "evalue": "name 'df_excersizetype' is not defined",
     "output_type": "error",
     "traceback": [
      "\u001b[1;31m---------------------------------------------------------------------------\u001b[0m",
      "\u001b[1;31mNameError\u001b[0m                                 Traceback (most recent call last)",
      "Cell \u001b[1;32mIn[35], line 1\u001b[0m\n\u001b[1;32m----> 1\u001b[0m df_excersizetype[\u001b[38;5;124m'\u001b[39m\u001b[38;5;124mHR\u001b[39m\u001b[38;5;124m'\u001b[39m]\u001b[38;5;241m=\u001b[39m\u001b[38;5;241m60\u001b[39m\u001b[38;5;241m/\u001b[39m(df_excersizetype[\u001b[38;5;124m'\u001b[39m\u001b[38;5;124mRR\u001b[39m\u001b[38;5;124m'\u001b[39m]\u001b[38;5;241m/\u001b[39m\u001b[38;5;241m1000\u001b[39m)\n\u001b[0;32m      2\u001b[0m df_excersizetype\n\u001b[0;32m      3\u001b[0m df_excersizetype\u001b[38;5;241m.\u001b[39mloc[df_excersizetype[\u001b[38;5;124m'\u001b[39m\u001b[38;5;124mHR\u001b[39m\u001b[38;5;124m'\u001b[39m] \u001b[38;5;241m<\u001b[39m \u001b[38;5;241m100\u001b[39m,\u001b[38;5;124m'\u001b[39m\u001b[38;5;124mZone Type\u001b[39m\u001b[38;5;124m'\u001b[39m]\u001b[38;5;241m=\u001b[39m\u001b[38;5;124m'\u001b[39m\u001b[38;5;124mZone 1\u001b[39m\u001b[38;5;124m'\u001b[39m\n",
      "\u001b[1;31mNameError\u001b[0m: name 'df_excersizetype' is not defined"
     ]
    }
   ],
   "source": [
    "df_excersizetype['HR']=60/(df_excersizetype['RR']/1000)\n",
    "df_excersizetype\n",
    "df_excersizetype.loc[df_excersizetype['HR'] < 100,'Zone Type']='Zone 1'\n",
    "df_excersizetype.loc[(df_excersizetype['HR'].between(100,120)), 'Zone Type'] = 'Zone 2'\n",
    "df_excersizetype.loc[(df_excersizetype['HR'].between(121,135)), 'Zone Type'] = 'Zone 3'\n",
    "df_excersizetype.loc[(df_excersizetype['HR'].between(136,155)), 'Zone Type'] = 'Zone 4'\n",
    "df_excersizetype.loc[df_excersizetype['HR'] > 155, 'Zone Type'] = 'Zone 5'\n",
    "df_excersizetype"
   ]
  },
  {
   "cell_type": "markdown",
   "id": "e8ca57a4-223a-4851-9640-6a8a9dd95538",
   "metadata": {},
   "source": [
    "Q1 Join all sport-related tables to produce one dataframe that has all athletes values. \n",
    "The final table should only have the same 5 columns: ID, time,power,RR, vo2, power.\n",
    "Write this dataframe to an excel file.\n"
   ]
  },
  {
   "cell_type": "code",
   "execution_count": null,
   "id": "4c640c86-a727-42ca-862d-2cdc44c0e64c",
   "metadata": {},
   "outputs": [],
   "source": [
    "dataframe=pd.concat([Kayaking,Triathlon,Fencing])\n",
    "dataframe                    "
   ]
  },
  {
   "cell_type": "code",
   "execution_count": null,
   "id": "8cd8116e-e7f9-49fb-9ddb-4ae0eefbf7ee",
   "metadata": {},
   "outputs": [],
   "source": [
    "df_excersizetype=pd.read_excel('AllAthletesData.xlsx',sheet_name='AllAthletesData')\n",
    "df_excersizetype.loc[df_excersizetype['time'] < 0,'ExType']='Warm Up' \n",
    "df_excersizetype.loc[(df_excersizetype['time'] >= 0) & (df_excersizetype['power'] > 0), 'ExType'] = 'GET'\n",
    "df_excersizetype.loc[(df_excersizetype['time'] >= 0) & (df_excersizetype['power'] == 0), 'ExType'] = 'Cool Down'\n",
    "df_excersizetype"
   ]
  },
  {
   "cell_type": "code",
   "execution_count": null,
   "id": "58a31bdf-9122-4784-a8fc-2a99da0b9952",
   "metadata": {},
   "outputs": [],
   "source": []
  },
  {
   "cell_type": "markdown",
   "id": "03026f93-0dde-4878-adfb-63ac7615dbef",
   "metadata": {},
   "source": [
    "Q49 Retrieve the row with minimum IBI for fencing athletes using sorting technique."
   ]
  },
  {
   "cell_type": "code",
   "execution_count": null,
   "id": "fd934adc-7e5a-4693-8b9a-e29c5e6d1bcf",
   "metadata": {},
   "outputs": [],
   "source": [
    "Fencing= pd.read_excel(\"V02Max_Combined.xlsx\",sheet_name= \"Fencing\")\n",
    "Fencing_df=Fencing.sort_values('RR')\n",
    "min_ibirow=round(Fencing_df.iloc[0],2)\n",
    "print(min_ibirow)"
   ]
  },
  {
   "cell_type": "markdown",
   "id": "23b3ecd8-0da0-45cb-aac9-c00605044b3f",
   "metadata": {},
   "source": [
    "Q50 Create a violin chart using any 2 columns in the dataset"
   ]
  },
  {
   "cell_type": "code",
   "execution_count": null,
   "id": "577d8e9d-de01-4e90-886b-bd4a1c5fdaa7",
   "metadata": {},
   "outputs": [],
   "source": [
    "Athletes= pd.read_excel(\"V02Max_Combined.xlsx\",sheet_name= \"Athletes\")\n",
    "sns.violinplot(x='Gender',y='age',data= Athletes,inner='quartile',bw=0.5,hue='Gender',palette='RdPu')\n"
   ]
  },
  {
   "cell_type": "markdown",
   "id": "c73bbf30-553f-4de5-8476-624cd3d5c005",
   "metadata": {},
   "source": [
    "Q51 List every athlete’s V02 ml/kg"
   ]
  },
  {
   "cell_type": "code",
   "execution_count": null,
   "id": "eab39855-9156-4fe7-84e8-75408275f136",
   "metadata": {},
   "outputs": [],
   "source": [
    "df_VO2=AllAthletes[['ID','VO2']].groupby(by='ID').sum().reset_index()\n",
    "df_VO2=df_VO2.merge(Athletes[['ID','First Name','Last Name','Weight','Height']],on='ID')\n",
    "df_VO2['VO2'] /= df_VO2['Weight']\n",
    "for index, data in df_VO2.iterrows():\n",
    "    print(f\"{data['Last Name']},{data['First Name']} has {round(data['VO2'],2)} VO2 ml/kg\")"
   ]
  },
  {
   "cell_type": "markdown",
   "id": "07981ecd-80ae-4d59-9a59-7e625ca2f624",
   "metadata": {},
   "source": [
    "Q52 Using all markers of fitness available to you, who is fittest athlete. Write 1-2 lines about the analysis that led to your insight."
   ]
  },
  {
   "cell_type": "code",
   "execution_count": null,
   "id": "50c2c1c5-4cc4-45ff-83aa-36dc5764136e",
   "metadata": {},
   "outputs": [],
   "source": [
    "#Higher VO2 max\n",
    "df_VO2['BMI'] = df_VO2['Weight']/((df_VO2['Height']/100)**2)\n",
    "df_fit = df_VO2[(df_VO2['BMI']<25) & (df_VO2['BMI']>19)]\n",
    "id = df_fit['VO2'].idxmax()\n",
    "print(f\"The fittest athlete is {df_fit['Last Name'][id]}, {df_fit['First Name'][id]} as her BMI is in the fit Range and her VO2 ml/kg is the highest\")\n"
   ]
  },
  {
   "cell_type": "markdown",
   "id": "4f6b2146-c57f-4cbe-91dc-f43ccad8abd1",
   "metadata": {},
   "source": [
    "Q53 phonebook={\"john\":938477566,\"Jack\":938377264,\"Jill\":947662781}  ,find the phone number of Jill"
   ]
  },
  {
   "cell_type": "code",
   "execution_count": null,
   "id": "44a8d68e-01bc-433f-84be-7f6a1900efc6",
   "metadata": {},
   "outputs": [],
   "source": [
    "phonebook={\"john\":938477566,\"Jack\":938377264,\"Jill\":947662781}\n",
    "Jill_phno=phonebook[\"Jill\"]\n",
    "print(\"Jill's phone number is\",Jill_phno)\n"
   ]
  },
  {
   "cell_type": "markdown",
   "id": "c78826fd-1c56-4a1d-82e2-c3401e5b99ae",
   "metadata": {},
   "source": [
    "Q54 Create a Pie chart for  Athletes and explode the widge with Highest V02 kg/ml in and Label by Athlete ID"
   ]
  },
  {
   "cell_type": "code",
   "execution_count": null,
   "id": "85db74d8-079c-462d-a655-d4910e862803",
   "metadata": {},
   "outputs": [],
   "source": [
    "plt.figure(figsize=(8,8))\n",
    "fig, ax = plt.subplots()\n",
    "explode = df_VO2['VO2'].apply(lambda x: 0.4 if x==max(df_VO2['VO2']) else 0)\n",
    "ax.pie(df_VO2['VO2'], labels=df_VO2.ID, explode=explode)\n",
    "plt.show()\n"
   ]
  },
  {
   "cell_type": "markdown",
   "id": "477261ad-0be3-4e1f-a9d0-421eab209905",
   "metadata": {},
   "source": [
    "Q55 Using a for loop iterate through HR for all trathletes and display all details of the athlete with the highest heart rate"
   ]
  },
  {
   "cell_type": "code",
   "execution_count": null,
   "id": "8bf4240f-97b0-4ba2-b372-b507b20a1710",
   "metadata": {},
   "outputs": [],
   "source": [
    "Triathlon['HR'] = 60/(Triathlon['RR']/100)\n",
    "id = Triathlon['ID'][Triathlon['HR'].idxmax()]\n",
    "Athletes[Athletes['ID']==id]\n"
   ]
  },
  {
   "cell_type": "markdown",
   "id": "a006d17f-cba1-45fa-89f8-48bc2930b862",
   "metadata": {},
   "source": [
    "Q56 Display a histogram to show distribution of athletes by sport."
   ]
  },
  {
   "cell_type": "code",
   "execution_count": null,
   "id": "5ae1150e-f1e5-4063-ae75-20991cf5922a",
   "metadata": {},
   "outputs": [],
   "source": [
    "plt.figure(figsize=(5,4))\n",
    "Athletes= pd.read_excel(\"V02Max_Combined.xlsx\",sheet_name= \"Athletes\")\n",
    "Athletes['sport'].hist(color='purple',grid= False)\n",
    "\n",
    "#add labels and title\n",
    "plt.title('Athletes distribution by sport',fontsize=12,color='green')\n",
    "plt.xlabel('sport',fontsize=10,color='green')\n",
    "plt.ylabel('Frequency',fontsize=10,color='green')\n",
    "\n",
    "\n"
   ]
  },
  {
   "cell_type": "markdown",
   "id": "c4a959e6-5813-41a6-87b1-c8dd4aa7577b",
   "metadata": {},
   "source": [
    "Q57 get the first letter of last name of students using for loops and RegEX"
   ]
  },
  {
   "cell_type": "code",
   "execution_count": null,
   "id": "02645ccb-427d-4dd5-8ab4-0930c015dce5",
   "metadata": {},
   "outputs": [],
   "source": [
    "for i in Athletes['Last Name']:\n",
    "    print(re.search('^.',i).group())\n",
    "    "
   ]
  },
  {
   "cell_type": "markdown",
   "id": "3899d4c6-50df-4448-a1eb-496627820c55",
   "metadata": {},
   "source": [
    "Q58 What is the average % difference in heart rate between warm up and GET for all athletes?"
   ]
  },
  {
   "cell_type": "code",
   "execution_count": null,
   "id": "c3e8fcac-d16e-45d8-a01b-c0022eaf2398",
   "metadata": {},
   "outputs": [],
   "source": [
    "dataframe['HR']=60/(dataframe['RR']/100)\n",
    "df_warmup = dataframe[dataframe['time']<0]\n",
    "df_get = dataframe[dataframe['time']>0]\n",
    "df_get = df_get[df_get['power']!=0]\n",
    "hr_warmup = df_warmup['HR'].mean()\n",
    "hr_get = df_get['HR'].mean()\n",
    "avg_pct_dif = 200*(hr_get-hr_warmup)/(hr_warmup+hr_get)\n",
    "print('The average % difference in heart rate between warm up and GET for all athletes is:',round(avg_pct_dif,2))"
   ]
  },
  {
   "cell_type": "markdown",
   "id": "dfa95086-c7ce-4491-8904-7482f15d0c0b",
   "metadata": {},
   "source": [
    "Q59 Who is the tallest athlete in the dataset. What is his sport and his Vo2 ml/kg?"
   ]
  },
  {
   "cell_type": "code",
   "execution_count": null,
   "id": "0ee59f37-766e-47e1-9d85-6ad5382e9c8c",
   "metadata": {},
   "outputs": [],
   "source": [
    "tallest_athlete= Athletes.iloc[Athletes['Height'].idxmax()]\n",
    "print(f\"\"\"{tallest_athlete['Last Name']},{tallest_athlete['First Name']} is the tallest Athlete.\n",
    "His sport is {tallest_athlete['sport']} and his VO2 ml/kg is {round(df_VO2[df_VO2['ID']==tallest_athlete['ID']]['VO2'].values[0])}\"\"\")"
   ]
  },
  {
   "cell_type": "markdown",
   "id": "4567e42f-ddf5-4de0-bc58-d89a5d42af15",
   "metadata": {},
   "source": [
    "Q60 get the last letter      of athletes last names using RegEX"
   ]
  },
  {
   "cell_type": "code",
   "execution_count": 20,
   "id": "3be4d43e-3420-4f59-8141-2f7fabcb30a2",
   "metadata": {},
   "outputs": [
    {
     "name": "stdout",
     "output_type": "stream",
     "text": [
      "    0\n",
      "0   z\n",
      "1   s\n",
      "2   r\n",
      "3   z\n",
      "4   n\n",
      "5   z\n",
      "6   s\n",
      "7   t\n",
      "8   e\n",
      "9   n\n",
      "10  n\n",
      "11  n\n",
      "12  r\n",
      "13  l\n",
      "14  e\n",
      "15  n\n",
      "16  r\n",
      "17  s\n"
     ]
    },
    {
     "name": "stderr",
     "output_type": "stream",
     "text": [
      "C:\\Users\\Nidhi\\anaconda3\\Lib\\site-packages\\openpyxl\\worksheet\\_read_only.py:81: UserWarning: Unknown extension is not supported and will be removed\n",
      "  for idx, row in parser.parse():\n"
     ]
    }
   ],
   "source": [
    "Athletes= pd.read_excel(\"V02Max_Combined.xlsx\",sheet_name= \"Athletes\")\n",
    "text_column=Athletes['Last Name']\n",
    "last_letter= text_column.str.extract(r'(\\w)$')\n",
    "print(last_letter)"
   ]
  },
  {
   "cell_type": "markdown",
   "id": "be62b1bd-2704-4b40-89d0-1f6a2f725959",
   "metadata": {},
   "source": [
    "Q61 Reverse an arrays order in Python. You can use any array with any values you like."
   ]
  },
  {
   "cell_type": "code",
   "execution_count": 23,
   "id": "fc1fb5d9-0eb4-4b4d-99c7-8427f05cebcb",
   "metadata": {},
   "outputs": [
    {
     "name": "stdout",
     "output_type": "stream",
     "text": [
      "[18, 17, 16, 15, 14, 13, 12, 11]\n"
     ]
    }
   ],
   "source": [
    "#Define a simple array\n",
    "arr=[11,12,13,14,15,16,17,18]\n",
    "#Reverse the array\n",
    "Rev_arr=arr[::-1]\n",
    "print(Rev_arr)"
   ]
  },
  {
   "cell_type": "markdown",
   "id": "906c12bf-7c88-44e7-874d-12f8981852b1",
   "metadata": {},
   "source": [
    "Q62 What is the root mean of successive differences for 30 consecutive minutes for each athlete."
   ]
  },
  {
   "cell_type": "code",
   "execution_count": 43,
   "id": "2c9a199d-aa53-48eb-8448-3e93ec121c58",
   "metadata": {},
   "outputs": [
    {
     "name": "stderr",
     "output_type": "stream",
     "text": [
      "C:\\Users\\Nidhi\\anaconda3\\Lib\\site-packages\\openpyxl\\worksheet\\_read_only.py:81: UserWarning: Unknown extension is not supported and will be removed\n",
      "  for idx, row in parser.parse():\n"
     ]
    },
    {
     "name": "stdout",
     "output_type": "stream",
     "text": [
      "NaN Values in RR before RMSD calculation:\n",
      " 1148\n",
      "Processing 1 with 2403 entries.\n",
      "Processing 2 with 2000 entries.\n",
      "Processing 3 with 3443 entries.\n",
      "Processing 4 with 3694 entries.\n",
      "Processing 5 with 3594 entries.\n",
      "Processing 6 with 2683 entries.\n",
      "Processing 7 with 2207 entries.\n",
      "Processing 8 with 2121 entries.\n",
      "Processing 9 with 2823 entries.\n",
      "Processing 10 with 2635 entries.\n",
      "Processing 11 with 3854 entries.\n",
      "Processing 12 with 3648 entries.\n",
      "Processing 13 with 3637 entries.\n",
      "Processing 14 with 2808 entries.\n",
      "Processing 15 with 2691 entries.\n",
      "Processing 16 with 2840 entries.\n",
      "Processing 17 with 2410 entries.\n",
      "Processing 18 with 2571 entries.\n",
      "\n",
      "RMSD Results for all athletes:\n",
      "    ID      Sport        RMSD\n",
      "0    1    Fencing   25.839445\n",
      "1    2    Fencing   40.715167\n",
      "2    3    Fencing   20.395964\n",
      "3    4    Fencing   33.330127\n",
      "4    5    Fencing  115.303320\n",
      "5    6    Fencing  447.288252\n",
      "6    7    Fencing   23.691275\n",
      "7    8    Fencing  504.363391\n",
      "8    9    Fencing   22.536654\n",
      "9   10    Fencing   26.860081\n",
      "10  11   Kayaking   13.420977\n",
      "11  12   Kayaking   12.281867\n",
      "12  13   Kayaking   12.437036\n",
      "13  14   Kayaking  162.042133\n",
      "14  15   Kayaking   28.796633\n",
      "15  16   Kayaking  794.687713\n",
      "16  17  Triathlon   28.074806\n",
      "17  18  Triathlon   30.500265\n"
     ]
    },
    {
     "name": "stderr",
     "output_type": "stream",
     "text": [
      "C:\\Users\\Nidhi\\anaconda3\\Lib\\site-packages\\openpyxl\\worksheet\\_read_only.py:81: UserWarning: Unknown extension is not supported and will be removed\n",
      "  for idx, row in parser.parse():\n",
      "C:\\Users\\Nidhi\\anaconda3\\Lib\\site-packages\\openpyxl\\worksheet\\_read_only.py:81: UserWarning: Unknown extension is not supported and will be removed\n",
      "  for idx, row in parser.parse():\n",
      "C:\\Users\\Nidhi\\AppData\\Local\\Temp\\ipykernel_4228\\2308011099.py:24: DeprecationWarning: DataFrameGroupBy.apply operated on the grouping columns. This behavior is deprecated, and in a future version of pandas the grouping columns will be excluded from the operation. Either pass `include_groups=False` to exclude the groupings or explicitly select the grouping columns after groupby to silence this warning.\n",
      "  results = combined_df.groupby(['ID', 'Sport']).apply(process_id).reset_index()\n"
     ]
    }
   ],
   "source": [
    "import pandas as pd\n",
    "import numpy as np\n",
    "kayaking_df = pd.read_excel(\"V02Max_Combined.xlsx\", sheet_name=\"Kayaking\")\n",
    "triathlon_df = pd.read_excel(\"V02Max_Combined.xlsx\", sheet_name=\"Triathlon\")\n",
    "fencing_df = pd.read_excel(\"V02Max_Combined.xlsx\", sheet_name=\"Fencing\")\n",
    "athletes_df = pd.read_excel(\"V02Max_Combined.xlsx\", sheet_name=\"Athletes\")\n",
    "kayaking_df['Sport'] = 'Kayaking'\n",
    "triathlon_df['Sport'] = 'Triathlon'\n",
    "fencing_df['Sport'] = 'Fencing'\n",
    "combined_df = pd.concat([kayaking_df, triathlon_df, fencing_df], ignore_index=True)\n",
    "combined_df['time'] = pd.to_datetime(combined_df['time'], errors='coerce')\n",
    "combined_df = combined_df.sort_values(['ID', 'time'])\n",
    "combined_df['RR'] = pd.to_numeric(combined_df['RR'], errors='coerce')\n",
    "print(\"NaN Values in RR before RMSD calculation:\\n\", combined_df['RR'].isna().sum())\n",
    "def calculate_rmsd(series):\n",
    "    diffs = series.diff().dropna()\n",
    "    return np.sqrt(np.mean(diffs**2))\n",
    "def process_id(group):\n",
    "    group['duration'] = (group['time'] - group['time'].min()).dt.total_seconds()\n",
    "    print(f\"Processing {group['ID'].iloc[0]} with {len(group)} entries.\")\n",
    "    if len(group) < 2:\n",
    "        return pd.Series({'RMSD': np.nan})\n",
    "    return pd.Series({'RMSD': calculate_rmsd(group['RR'])})\n",
    "results = combined_df.groupby(['ID', 'Sport']).apply(process_id).reset_index()\n",
    "print(\"\\nRMSD Results for all athletes:\")\n",
    "print(results)"
   ]
  },
  {
   "cell_type": "markdown",
   "id": "5a4c5934-062a-4b09-b0db-e47355f360d4",
   "metadata": {},
   "source": [
    "Q63 On average how many minutes did each athlete in the sport of fencing spend in Zone 5?"
   ]
  },
  {
   "cell_type": "code",
   "execution_count": 143,
   "id": "1a0f3c47-8c61-47f8-9dc1-78cf20312dad",
   "metadata": {},
   "outputs": [
    {
     "name": "stdout",
     "output_type": "stream",
     "text": [
      "The Average Time spent by athletes in Fencing is: 20.30368 minutes\n"
     ]
    }
   ],
   "source": [
    "total_time = 0\n",
    "for i in Fencing['ID'].unique():\n",
    "    df_temp = Fencing[Fencing['ID']==i]\n",
    "    total_time += (df_temp['time'].iloc[-1]-df_temp['time'].iloc[0])/60 #in minutes\n",
    "print('The Average Time spent by athletes in Fencing is:',total_time/len(Fencing['ID'].unique()),'minutes')"
   ]
  },
  {
   "cell_type": "markdown",
   "id": "473a3544-7d2b-480c-a69b-ab6bf8fc317b",
   "metadata": {},
   "source": [
    "Q64 Count athletes based on Gender using count plot"
   ]
  },
  {
   "cell_type": "code",
   "execution_count": 153,
   "id": "d4edd1d0-7999-41b3-80c1-bd6fa81ea9f5",
   "metadata": {},
   "outputs": [
    {
     "data": {
      "text/plain": [
       "Text(0.5, 0, 'Count')"
      ]
     },
     "execution_count": 153,
     "metadata": {},
     "output_type": "execute_result"
    },
    {
     "data": {
      "image/png": "[encoded data removed]",
      "text/plain": [
       "<Figure size 640x480 with 1 Axes>"
      ]
     },
     "metadata": {},
     "output_type": "display_data"
    }
   ],
   "source": [
    "ax=sns.countplot(Athletes['Gender'])\n",
    "ax.bar_label(ax.containers[0])\n",
    "plt.title('Athletes Count by Gender',fontsize=12,color='green')\n",
    "plt.ylabel('Gender',fontsize=10,color='green')\n",
    "plt.xlabel('Count',fontsize=10,color='green')"
   ]
  },
  {
   "cell_type": "code",
   "execution_count": 201,
   "id": "bf5f924f-3656-4660-91ea-a14e4172357a",
   "metadata": {},
   "outputs": [
    {
     "name": "stdout",
     "output_type": "stream",
     "text": [
      "      ID     time     RR       VO2  power         HR\n",
      "0     17 -182.408  736.0  0.363762      0   8.152174\n",
      "1     17 -181.672  736.0  0.363762      0   8.152174\n",
      "2     17 -180.968  704.0  0.363762      0   8.522727\n",
      "3     17 -180.268  700.0  0.363762      0   8.571429\n",
      "4     17 -179.616  652.0  0.363762      0   9.202454\n",
      "...   ..      ...    ...       ...    ...        ...\n",
      "4976  18  947.288  536.0  0.507071      0  11.194030\n",
      "4977  18  947.816  528.0  0.507071      0  11.363636\n",
      "4978  18  948.344  528.0  0.507071      0  11.363636\n",
      "4979  18  948.884  540.0  0.507071      0  11.111111\n",
      "4980  18  949.424  540.0  0.507071      0  11.111111\n",
      "\n",
      "[4981 rows x 6 columns]\n"
     ]
    },
    {
     "ename": "KeyError",
     "evalue": "'HRV'",
     "output_type": "error",
     "traceback": [
      "\u001b[1;31m---------------------------------------------------------------------------\u001b[0m",
      "\u001b[1;31mKeyError\u001b[0m                                  Traceback (most recent call last)",
      "File \u001b[1;32m~\\anaconda3\\Lib\\site-packages\\pandas\\core\\indexes\\base.py:3805\u001b[0m, in \u001b[0;36mIndex.get_loc\u001b[1;34m(self, key)\u001b[0m\n\u001b[0;32m   3804\u001b[0m \u001b[38;5;28;01mtry\u001b[39;00m:\n\u001b[1;32m-> 3805\u001b[0m     \u001b[38;5;28;01mreturn\u001b[39;00m \u001b[38;5;28mself\u001b[39m\u001b[38;5;241m.\u001b[39m_engine\u001b[38;5;241m.\u001b[39mget_loc(casted_key)\n\u001b[0;32m   3806\u001b[0m \u001b[38;5;28;01mexcept\u001b[39;00m \u001b[38;5;167;01mKeyError\u001b[39;00m \u001b[38;5;28;01mas\u001b[39;00m err:\n",
      "File \u001b[1;32mindex.pyx:167\u001b[0m, in \u001b[0;36mpandas._libs.index.IndexEngine.get_loc\u001b[1;34m()\u001b[0m\n",
      "File \u001b[1;32mindex.pyx:196\u001b[0m, in \u001b[0;36mpandas._libs.index.IndexEngine.get_loc\u001b[1;34m()\u001b[0m\n",
      "File \u001b[1;32mpandas\\\\_libs\\\\hashtable_class_helper.pxi:7081\u001b[0m, in \u001b[0;36mpandas._libs.hashtable.PyObjectHashTable.get_item\u001b[1;34m()\u001b[0m\n",
      "File \u001b[1;32mpandas\\\\_libs\\\\hashtable_class_helper.pxi:7089\u001b[0m, in \u001b[0;36mpandas._libs.hashtable.PyObjectHashTable.get_item\u001b[1;34m()\u001b[0m\n",
      "\u001b[1;31mKeyError\u001b[0m: 'HRV'",
      "\nThe above exception was the direct cause of the following exception:\n",
      "\u001b[1;31mKeyError\u001b[0m                                  Traceback (most recent call last)",
      "Cell \u001b[1;32mIn[201], line 3\u001b[0m\n\u001b[0;32m      1\u001b[0m \u001b[38;5;66;03m#Triathlon dataframe\u001b[39;00m\n\u001b[0;32m      2\u001b[0m \u001b[38;5;28mprint\u001b[39m(Triathlon)\n\u001b[1;32m----> 3\u001b[0m avgTriathlon\u001b[38;5;241m=\u001b[39mTriathlon[\u001b[38;5;124m'\u001b[39m\u001b[38;5;124mHRV\u001b[39m\u001b[38;5;124m'\u001b[39m]\u001b[38;5;241m.\u001b[39mmean()\n\u001b[0;32m      4\u001b[0m \u001b[38;5;28mprint\u001b[39m(\u001b[38;5;124m'\u001b[39m\u001b[38;5;124mThe average HRV of the triathletes is: \u001b[39m\u001b[38;5;124m'\u001b[39m,\u001b[38;5;28mround\u001b[39m(avgTriathlon,\u001b[38;5;241m2\u001b[39m))\n",
      "File \u001b[1;32m~\\anaconda3\\Lib\\site-packages\\pandas\\core\\frame.py:4102\u001b[0m, in \u001b[0;36mDataFrame.__getitem__\u001b[1;34m(self, key)\u001b[0m\n\u001b[0;32m   4100\u001b[0m \u001b[38;5;28;01mif\u001b[39;00m \u001b[38;5;28mself\u001b[39m\u001b[38;5;241m.\u001b[39mcolumns\u001b[38;5;241m.\u001b[39mnlevels \u001b[38;5;241m>\u001b[39m \u001b[38;5;241m1\u001b[39m:\n\u001b[0;32m   4101\u001b[0m     \u001b[38;5;28;01mreturn\u001b[39;00m \u001b[38;5;28mself\u001b[39m\u001b[38;5;241m.\u001b[39m_getitem_multilevel(key)\n\u001b[1;32m-> 4102\u001b[0m indexer \u001b[38;5;241m=\u001b[39m \u001b[38;5;28mself\u001b[39m\u001b[38;5;241m.\u001b[39mcolumns\u001b[38;5;241m.\u001b[39mget_loc(key)\n\u001b[0;32m   4103\u001b[0m \u001b[38;5;28;01mif\u001b[39;00m is_integer(indexer):\n\u001b[0;32m   4104\u001b[0m     indexer \u001b[38;5;241m=\u001b[39m [indexer]\n",
      "File \u001b[1;32m~\\anaconda3\\Lib\\site-packages\\pandas\\core\\indexes\\base.py:3812\u001b[0m, in \u001b[0;36mIndex.get_loc\u001b[1;34m(self, key)\u001b[0m\n\u001b[0;32m   3807\u001b[0m     \u001b[38;5;28;01mif\u001b[39;00m \u001b[38;5;28misinstance\u001b[39m(casted_key, \u001b[38;5;28mslice\u001b[39m) \u001b[38;5;129;01mor\u001b[39;00m (\n\u001b[0;32m   3808\u001b[0m         \u001b[38;5;28misinstance\u001b[39m(casted_key, abc\u001b[38;5;241m.\u001b[39mIterable)\n\u001b[0;32m   3809\u001b[0m         \u001b[38;5;129;01mand\u001b[39;00m \u001b[38;5;28many\u001b[39m(\u001b[38;5;28misinstance\u001b[39m(x, \u001b[38;5;28mslice\u001b[39m) \u001b[38;5;28;01mfor\u001b[39;00m x \u001b[38;5;129;01min\u001b[39;00m casted_key)\n\u001b[0;32m   3810\u001b[0m     ):\n\u001b[0;32m   3811\u001b[0m         \u001b[38;5;28;01mraise\u001b[39;00m InvalidIndexError(key)\n\u001b[1;32m-> 3812\u001b[0m     \u001b[38;5;28;01mraise\u001b[39;00m \u001b[38;5;167;01mKeyError\u001b[39;00m(key) \u001b[38;5;28;01mfrom\u001b[39;00m \u001b[38;5;21;01merr\u001b[39;00m\n\u001b[0;32m   3813\u001b[0m \u001b[38;5;28;01mexcept\u001b[39;00m \u001b[38;5;167;01mTypeError\u001b[39;00m:\n\u001b[0;32m   3814\u001b[0m     \u001b[38;5;66;03m# If we have a listlike key, _check_indexing_error will raise\u001b[39;00m\n\u001b[0;32m   3815\u001b[0m     \u001b[38;5;66;03m#  InvalidIndexError. Otherwise we fall through and re-raise\u001b[39;00m\n\u001b[0;32m   3816\u001b[0m     \u001b[38;5;66;03m#  the TypeError.\u001b[39;00m\n\u001b[0;32m   3817\u001b[0m     \u001b[38;5;28mself\u001b[39m\u001b[38;5;241m.\u001b[39m_check_indexing_error(key)\n",
      "\u001b[1;31mKeyError\u001b[0m: 'HRV'"
     ]
    }
   ],
   "source": [
    "#Triathlon dataframe\n",
    "print(Triathlon)\n",
    "avgTriathlon=Triathlon['HRV'].mean()\n",
    "print('The average HRV of the triathletes is: ',round(avgTriathlon,2))"
   ]
  },
  {
   "cell_type": "code",
   "execution_count": 217,
   "id": "3145d875-8388-4422-a4fb-929699155b0b",
   "metadata": {},
   "outputs": [
    {
     "name": "stdout",
     "output_type": "stream",
     "text": [
      "       ID     time     RR       VO2  power     ExType          HR Zone Type\n",
      "0       1 -130.840  672.0  0.302008      0    Warm Up   89.285714    Zone 1\n",
      "1       1 -130.168  672.0  0.302008      0    Warm Up   89.285714    Zone 1\n",
      "2       1 -129.536  632.0  0.301336      0    Warm Up   94.936709    Zone 1\n",
      "3       1 -128.824  712.0  0.301336      0    Warm Up   84.269663    Zone 1\n",
      "4       1 -127.948  876.0  0.301336      0    Warm Up   68.493151    Zone 1\n",
      "...    ..      ...    ...       ...    ...        ...         ...       ...\n",
      "52057  18  947.288  536.0  0.507071      0  Cool Down  111.940299    Zone 2\n",
      "52058  18  947.816  528.0  0.507071      0  Cool Down  113.636364    Zone 2\n",
      "52059  18  948.344  528.0  0.507071      0  Cool Down  113.636364    Zone 2\n",
      "52060  18  948.884  540.0  0.507071      0  Cool Down  111.111111    Zone 2\n",
      "52061  18  949.424  540.0  0.507071      0  Cool Down  111.111111    Zone 2\n",
      "\n",
      "[52062 rows x 8 columns]\n"
     ]
    },
    {
     "ename": "NameError",
     "evalue": "name 'avg' is not defined",
     "output_type": "error",
     "traceback": [
      "\u001b[1;31m---------------------------------------------------------------------------\u001b[0m",
      "\u001b[1;31mNameError\u001b[0m                                 Traceback (most recent call last)",
      "Cell \u001b[1;32mIn[217], line 2\u001b[0m\n\u001b[0;32m      1\u001b[0m \u001b[38;5;28mprint\u001b[39m(df_excersizetype)\n\u001b[1;32m----> 2\u001b[0m avg(df_excersizetype)\u001b[38;5;241m==\u001b[39m(df_excersizetype[\u001b[38;5;124m'\u001b[39m\u001b[38;5;124mHR\u001b[39m\u001b[38;5;124m'\u001b[39m]\u001b[38;5;241m.\u001b[39mavg())\n\u001b[0;32m      3\u001b[0m \u001b[38;5;28mprint\u001b[39m(\u001b[38;5;124m'\u001b[39m\u001b[38;5;124mThe average HR of the AllAthletes is: \u001b[39m\u001b[38;5;124m'\u001b[39m,\u001b[38;5;28mround\u001b[39m(avg(df_excersizetype),\u001b[38;5;241m2\u001b[39m))\n",
      "\u001b[1;31mNameError\u001b[0m: name 'avg' is not defined"
     ]
    }
   ],
   "source": [
    "print(df_excersizetype)\n",
    "avg(df_excersizetype)==(df_excersizetype['HR'].avg())\n",
    "print('The average HR of the AllAthletes is: ',round(avg(df_excersizetype),2))"
   ]
  },
  {
   "cell_type": "code",
   "execution_count": null,
   "id": "9a07ad19-f0b0-4ed0-8277-3738e2be40fc",
   "metadata": {},
   "outputs": [],
   "source": []
  }
 ],
 "metadata": {
  "kernelspec": {
   "display_name": "Python 3 (ipykernel)",
   "language": "python",
   "name": "python3"
  },
  "language_info": {
   "codemirror_mode": {
    "name": "ipython",
    "version": 3
   },
   "file_extension": ".py",
   "mimetype": "text/x-python",
   "name": "python",
   "nbconvert_exporter": "python",
   "pygments_lexer": "ipython3",
   "version": "3.12.4"
  }
 },
 "nbformat": 4,
 "nbformat_minor": 5
}
