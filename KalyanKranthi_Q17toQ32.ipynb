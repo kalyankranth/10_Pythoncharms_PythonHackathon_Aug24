{
 "cells": [
  {
   "cell_type": "code",
   "execution_count": 1,
   "id": "f0cc2938",
   "metadata": {},
   "outputs": [],
   "source": [
    "import pandas as pd\n",
    "import numpy as np\n",
    "import seaborn as sns\n",
    "import matplotlib.pyplot as plt\n",
    "import math\n",
    "import warnings\n",
    "warnings.simplefilter(action='ignore', category=FutureWarning)"
   ]
  },
  {
   "cell_type": "code",
   "execution_count": 140,
   "id": "5d661b78",
   "metadata": {},
   "outputs": [
    {
     "name": "stderr",
     "output_type": "stream",
     "text": [
      "C:\\ProgramData\\anaconda3\\Lib\\site-packages\\openpyxl\\worksheet\\_read_only.py:79: UserWarning: Unknown extension is not supported and will be removed\n",
      "  for idx, row in parser.parse():\n",
      "C:\\ProgramData\\anaconda3\\Lib\\site-packages\\openpyxl\\worksheet\\_read_only.py:79: UserWarning: Unknown extension is not supported and will be removed\n",
      "  for idx, row in parser.parse():\n",
      "C:\\ProgramData\\anaconda3\\Lib\\site-packages\\openpyxl\\worksheet\\_read_only.py:79: UserWarning: Unknown extension is not supported and will be removed\n",
      "  for idx, row in parser.parse():\n"
     ]
    }
   ],
   "source": [
    "import pandas as pd\n",
    "Kayaking= pd.read_excel(\"V02Max_Combined.xlsx\",sheet_name= \"Kayaking\")\n",
    "Triathlon= pd.read_excel(\"V02Max_Combined.xlsx\",sheet_name= \"Triathlon\")\n",
    "Fencing= pd.read_excel(\"V02Max_Combined.xlsx\",sheet_name= \"Fencing\")\n",
    "Athletes=pd.read_excel(\"V02Max_Combined.xlsx\",sheet_name= \"Athletes\")\n",
    "#Kayaking.head()"
   ]
  },
  {
   "cell_type": "markdown",
   "id": "9deadd84",
   "metadata": {},
   "source": [
    "Q1:Join all sport-related tables to produce one dataframe that has all athletes values. The final table should only have the same 5 columns: ID, time,power,RR, vo2, power. Write this dataframe to an excel file.\n"
   ]
  },
  {
   "cell_type": "code",
   "execution_count": 191,
   "id": "7c964328",
   "metadata": {},
   "outputs": [],
   "source": [
    "\n",
    "AllAthletesData=pd.merge(Kayaking,Triathlon,how='outer').merge(Fencing,how='outer')\n",
    "AllAthletesData.head()\n",
    "AllAthletesData.to_excel('AllAthletesData.xlsx',sheet_name='AllAthletesData',index=False)"
   ]
  },
  {
   "cell_type": "markdown",
   "id": "83c8d29c",
   "metadata": {},
   "source": [
    "Q2:Divide the rows into 3 parts: Warm up, GET(graded exercise test) and cool down using the data def. Label each row accordingly\n"
   ]
  },
  {
   "cell_type": "code",
   "execution_count": 192,
   "id": "03edb95f",
   "metadata": {},
   "outputs": [
    {
     "data": {
      "text/html": [
       "<div>\n",
       "<style scoped>\n",
       "    .dataframe tbody tr th:only-of-type {\n",
       "        vertical-align: middle;\n",
       "    }\n",
       "\n",
       "    .dataframe tbody tr th {\n",
       "        vertical-align: top;\n",
       "    }\n",
       "\n",
       "    .dataframe thead th {\n",
       "        text-align: right;\n",
       "    }\n",
       "</style>\n",
       "<table border=\"1\" class=\"dataframe\">\n",
       "  <thead>\n",
       "    <tr style=\"text-align: right;\">\n",
       "      <th></th>\n",
       "      <th>ID</th>\n",
       "      <th>time</th>\n",
       "      <th>RR</th>\n",
       "      <th>VO2</th>\n",
       "      <th>power</th>\n",
       "      <th>HR</th>\n",
       "      <th>ExType</th>\n",
       "    </tr>\n",
       "  </thead>\n",
       "  <tbody>\n",
       "    <tr>\n",
       "      <th>0</th>\n",
       "      <td>11</td>\n",
       "      <td>-168.600</td>\n",
       "      <td>727.0</td>\n",
       "      <td>0.287147</td>\n",
       "      <td>0</td>\n",
       "      <td>83.0</td>\n",
       "      <td>Warm Up</td>\n",
       "    </tr>\n",
       "    <tr>\n",
       "      <th>1</th>\n",
       "      <td>11</td>\n",
       "      <td>-167.872</td>\n",
       "      <td>728.0</td>\n",
       "      <td>0.287147</td>\n",
       "      <td>0</td>\n",
       "      <td>82.0</td>\n",
       "      <td>Warm Up</td>\n",
       "    </tr>\n",
       "    <tr>\n",
       "      <th>2</th>\n",
       "      <td>11</td>\n",
       "      <td>-167.148</td>\n",
       "      <td>724.0</td>\n",
       "      <td>0.287147</td>\n",
       "      <td>0</td>\n",
       "      <td>83.0</td>\n",
       "      <td>Warm Up</td>\n",
       "    </tr>\n",
       "    <tr>\n",
       "      <th>3</th>\n",
       "      <td>11</td>\n",
       "      <td>-166.484</td>\n",
       "      <td>664.0</td>\n",
       "      <td>0.320580</td>\n",
       "      <td>0</td>\n",
       "      <td>90.0</td>\n",
       "      <td>Warm Up</td>\n",
       "    </tr>\n",
       "    <tr>\n",
       "      <th>4</th>\n",
       "      <td>11</td>\n",
       "      <td>-165.836</td>\n",
       "      <td>648.0</td>\n",
       "      <td>0.320580</td>\n",
       "      <td>0</td>\n",
       "      <td>93.0</td>\n",
       "      <td>Warm Up</td>\n",
       "    </tr>\n",
       "    <tr>\n",
       "      <th>...</th>\n",
       "      <td>...</td>\n",
       "      <td>...</td>\n",
       "      <td>...</td>\n",
       "      <td>...</td>\n",
       "      <td>...</td>\n",
       "      <td>...</td>\n",
       "      <td>...</td>\n",
       "    </tr>\n",
       "    <tr>\n",
       "      <th>52057</th>\n",
       "      <td>10</td>\n",
       "      <td>942.700</td>\n",
       "      <td>428.0</td>\n",
       "      <td>0.786363</td>\n",
       "      <td>0</td>\n",
       "      <td>NaN</td>\n",
       "      <td>Cool Down</td>\n",
       "    </tr>\n",
       "    <tr>\n",
       "      <th>52058</th>\n",
       "      <td>10</td>\n",
       "      <td>943.124</td>\n",
       "      <td>424.0</td>\n",
       "      <td>0.786363</td>\n",
       "      <td>0</td>\n",
       "      <td>NaN</td>\n",
       "      <td>Cool Down</td>\n",
       "    </tr>\n",
       "    <tr>\n",
       "      <th>52059</th>\n",
       "      <td>10</td>\n",
       "      <td>943.552</td>\n",
       "      <td>428.0</td>\n",
       "      <td>0.786363</td>\n",
       "      <td>0</td>\n",
       "      <td>NaN</td>\n",
       "      <td>Cool Down</td>\n",
       "    </tr>\n",
       "    <tr>\n",
       "      <th>52060</th>\n",
       "      <td>10</td>\n",
       "      <td>943.976</td>\n",
       "      <td>424.0</td>\n",
       "      <td>0.786363</td>\n",
       "      <td>0</td>\n",
       "      <td>NaN</td>\n",
       "      <td>Cool Down</td>\n",
       "    </tr>\n",
       "    <tr>\n",
       "      <th>52061</th>\n",
       "      <td>10</td>\n",
       "      <td>944.404</td>\n",
       "      <td>428.0</td>\n",
       "      <td>0.786363</td>\n",
       "      <td>0</td>\n",
       "      <td>NaN</td>\n",
       "      <td>Cool Down</td>\n",
       "    </tr>\n",
       "  </tbody>\n",
       "</table>\n",
       "<p>52062 rows × 7 columns</p>\n",
       "</div>"
      ],
      "text/plain": [
       "       ID     time     RR       VO2  power    HR     ExType\n",
       "0      11 -168.600  727.0  0.287147      0  83.0    Warm Up\n",
       "1      11 -167.872  728.0  0.287147      0  82.0    Warm Up\n",
       "2      11 -167.148  724.0  0.287147      0  83.0    Warm Up\n",
       "3      11 -166.484  664.0  0.320580      0  90.0    Warm Up\n",
       "4      11 -165.836  648.0  0.320580      0  93.0    Warm Up\n",
       "...    ..      ...    ...       ...    ...   ...        ...\n",
       "52057  10  942.700  428.0  0.786363      0   NaN  Cool Down\n",
       "52058  10  943.124  424.0  0.786363      0   NaN  Cool Down\n",
       "52059  10  943.552  428.0  0.786363      0   NaN  Cool Down\n",
       "52060  10  943.976  424.0  0.786363      0   NaN  Cool Down\n",
       "52061  10  944.404  428.0  0.786363      0   NaN  Cool Down\n",
       "\n",
       "[52062 rows x 7 columns]"
      ]
     },
     "execution_count": 192,
     "metadata": {},
     "output_type": "execute_result"
    }
   ],
   "source": [
    "df_excersizetype=pd.read_excel('AllAthletesData.xlsx',sheet_name='AllAthletesData')\n",
    "df_excersizetype.loc[df_excersizetype['time'] < 0,'ExType']='Warm Up' \n",
    "df_excersizetype.loc[(df_excersizetype['time'] >= 0) & (df_excersizetype['power'] > 0), 'ExType'] = 'GET'\n",
    "df_excersizetype.loc[(df_excersizetype['time'] >= 0) & (df_excersizetype['power'] == 0), 'ExType'] = 'Cool Down'\n",
    "df_excersizetype"
   ]
  },
  {
   "cell_type": "markdown",
   "id": "9cfcc62d",
   "metadata": {},
   "source": [
    "Q15:Assign 1 of the following 5 heart rate zones for every record for all sports and athletes and add this as a column to every table:\n",
    "Zone 1 (recovery/easy)       <100 HR max\n",
    "Zone 2 (aerobic/base)        100-120 HR max\n",
    "Zone 3 (tempo)        120-135 HR max\n",
    "Zone 4 (lactate threshold)        135-155 HR max\n",
    "Zone 5 (anaerobic)        155+ HR max and above"
   ]
  },
  {
   "cell_type": "code",
   "execution_count": 193,
   "id": "7d9b89d5",
   "metadata": {},
   "outputs": [
    {
     "data": {
      "text/html": [
       "<div>\n",
       "<style scoped>\n",
       "    .dataframe tbody tr th:only-of-type {\n",
       "        vertical-align: middle;\n",
       "    }\n",
       "\n",
       "    .dataframe tbody tr th {\n",
       "        vertical-align: top;\n",
       "    }\n",
       "\n",
       "    .dataframe thead th {\n",
       "        text-align: right;\n",
       "    }\n",
       "</style>\n",
       "<table border=\"1\" class=\"dataframe\">\n",
       "  <thead>\n",
       "    <tr style=\"text-align: right;\">\n",
       "      <th></th>\n",
       "      <th>ID</th>\n",
       "      <th>time</th>\n",
       "      <th>RR</th>\n",
       "      <th>VO2</th>\n",
       "      <th>power</th>\n",
       "      <th>HR</th>\n",
       "      <th>ExType</th>\n",
       "      <th>Zone Type</th>\n",
       "    </tr>\n",
       "  </thead>\n",
       "  <tbody>\n",
       "    <tr>\n",
       "      <th>0</th>\n",
       "      <td>11</td>\n",
       "      <td>-168.600</td>\n",
       "      <td>727.0</td>\n",
       "      <td>0.287147</td>\n",
       "      <td>0</td>\n",
       "      <td>82.530949</td>\n",
       "      <td>Warm Up</td>\n",
       "      <td>Zone 1</td>\n",
       "    </tr>\n",
       "    <tr>\n",
       "      <th>1</th>\n",
       "      <td>11</td>\n",
       "      <td>-167.872</td>\n",
       "      <td>728.0</td>\n",
       "      <td>0.287147</td>\n",
       "      <td>0</td>\n",
       "      <td>82.417582</td>\n",
       "      <td>Warm Up</td>\n",
       "      <td>Zone 1</td>\n",
       "    </tr>\n",
       "    <tr>\n",
       "      <th>2</th>\n",
       "      <td>11</td>\n",
       "      <td>-167.148</td>\n",
       "      <td>724.0</td>\n",
       "      <td>0.287147</td>\n",
       "      <td>0</td>\n",
       "      <td>82.872928</td>\n",
       "      <td>Warm Up</td>\n",
       "      <td>Zone 1</td>\n",
       "    </tr>\n",
       "    <tr>\n",
       "      <th>3</th>\n",
       "      <td>11</td>\n",
       "      <td>-166.484</td>\n",
       "      <td>664.0</td>\n",
       "      <td>0.320580</td>\n",
       "      <td>0</td>\n",
       "      <td>90.361446</td>\n",
       "      <td>Warm Up</td>\n",
       "      <td>Zone 1</td>\n",
       "    </tr>\n",
       "    <tr>\n",
       "      <th>4</th>\n",
       "      <td>11</td>\n",
       "      <td>-165.836</td>\n",
       "      <td>648.0</td>\n",
       "      <td>0.320580</td>\n",
       "      <td>0</td>\n",
       "      <td>92.592593</td>\n",
       "      <td>Warm Up</td>\n",
       "      <td>Zone 1</td>\n",
       "    </tr>\n",
       "    <tr>\n",
       "      <th>...</th>\n",
       "      <td>...</td>\n",
       "      <td>...</td>\n",
       "      <td>...</td>\n",
       "      <td>...</td>\n",
       "      <td>...</td>\n",
       "      <td>...</td>\n",
       "      <td>...</td>\n",
       "      <td>...</td>\n",
       "    </tr>\n",
       "    <tr>\n",
       "      <th>52057</th>\n",
       "      <td>10</td>\n",
       "      <td>942.700</td>\n",
       "      <td>428.0</td>\n",
       "      <td>0.786363</td>\n",
       "      <td>0</td>\n",
       "      <td>140.186916</td>\n",
       "      <td>Cool Down</td>\n",
       "      <td>Zone 4</td>\n",
       "    </tr>\n",
       "    <tr>\n",
       "      <th>52058</th>\n",
       "      <td>10</td>\n",
       "      <td>943.124</td>\n",
       "      <td>424.0</td>\n",
       "      <td>0.786363</td>\n",
       "      <td>0</td>\n",
       "      <td>141.509434</td>\n",
       "      <td>Cool Down</td>\n",
       "      <td>Zone 4</td>\n",
       "    </tr>\n",
       "    <tr>\n",
       "      <th>52059</th>\n",
       "      <td>10</td>\n",
       "      <td>943.552</td>\n",
       "      <td>428.0</td>\n",
       "      <td>0.786363</td>\n",
       "      <td>0</td>\n",
       "      <td>140.186916</td>\n",
       "      <td>Cool Down</td>\n",
       "      <td>Zone 4</td>\n",
       "    </tr>\n",
       "    <tr>\n",
       "      <th>52060</th>\n",
       "      <td>10</td>\n",
       "      <td>943.976</td>\n",
       "      <td>424.0</td>\n",
       "      <td>0.786363</td>\n",
       "      <td>0</td>\n",
       "      <td>141.509434</td>\n",
       "      <td>Cool Down</td>\n",
       "      <td>Zone 4</td>\n",
       "    </tr>\n",
       "    <tr>\n",
       "      <th>52061</th>\n",
       "      <td>10</td>\n",
       "      <td>944.404</td>\n",
       "      <td>428.0</td>\n",
       "      <td>0.786363</td>\n",
       "      <td>0</td>\n",
       "      <td>140.186916</td>\n",
       "      <td>Cool Down</td>\n",
       "      <td>Zone 4</td>\n",
       "    </tr>\n",
       "  </tbody>\n",
       "</table>\n",
       "<p>52062 rows × 8 columns</p>\n",
       "</div>"
      ],
      "text/plain": [
       "       ID     time     RR       VO2  power          HR     ExType Zone Type\n",
       "0      11 -168.600  727.0  0.287147      0   82.530949    Warm Up    Zone 1\n",
       "1      11 -167.872  728.0  0.287147      0   82.417582    Warm Up    Zone 1\n",
       "2      11 -167.148  724.0  0.287147      0   82.872928    Warm Up    Zone 1\n",
       "3      11 -166.484  664.0  0.320580      0   90.361446    Warm Up    Zone 1\n",
       "4      11 -165.836  648.0  0.320580      0   92.592593    Warm Up    Zone 1\n",
       "...    ..      ...    ...       ...    ...         ...        ...       ...\n",
       "52057  10  942.700  428.0  0.786363      0  140.186916  Cool Down    Zone 4\n",
       "52058  10  943.124  424.0  0.786363      0  141.509434  Cool Down    Zone 4\n",
       "52059  10  943.552  428.0  0.786363      0  140.186916  Cool Down    Zone 4\n",
       "52060  10  943.976  424.0  0.786363      0  141.509434  Cool Down    Zone 4\n",
       "52061  10  944.404  428.0  0.786363      0  140.186916  Cool Down    Zone 4\n",
       "\n",
       "[52062 rows x 8 columns]"
      ]
     },
     "execution_count": 193,
     "metadata": {},
     "output_type": "execute_result"
    }
   ],
   "source": [
    "df_excersizetype['HR']=60/(df_excersizetype['RR']/1000)\n",
    "df_excersizetype\n",
    "df_excersizetype.loc[df_excersizetype['HR'] < 100,'Zone Type']='Zone 1'\n",
    "df_excersizetype.loc[(df_excersizetype['HR'].between(100,120)), 'Zone Type'] = 'Zone 2'\n",
    "df_excersizetype.loc[(df_excersizetype['HR'].between(121,135)), 'Zone Type'] = 'Zone 3'\n",
    "df_excersizetype.loc[(df_excersizetype['HR'].between(136,155)), 'Zone Type'] = 'Zone 4'\n",
    "df_excersizetype.loc[df_excersizetype['HR'] > 155, 'Zone Type'] = 'Zone 5'\n",
    "df_excersizetype"
   ]
  },
  {
   "cell_type": "markdown",
   "id": "2b05f4ee",
   "metadata": {},
   "source": [
    "Q17:What is the maximum ventilatory threshold for triathletes.\n"
   ]
  },
  {
   "cell_type": "code",
   "execution_count": null,
   "id": "19098c60",
   "metadata": {},
   "outputs": [],
   "source": []
  },
  {
   "cell_type": "markdown",
   "id": "a7e28246",
   "metadata": {},
   "source": [
    "Q18:Display the number of athletes in every sport against the name of the sport."
   ]
  },
  {
   "cell_type": "code",
   "execution_count": 133,
   "id": "7335a90f",
   "metadata": {},
   "outputs": [
    {
     "name": "stdout",
     "output_type": "stream",
     "text": [
      "Number of athletes in every sport:\n",
      "fencing : 10\n",
      "kayak : 6\n",
      "triathlon : 2\n"
     ]
    }
   ],
   "source": [
    "#calculate the number of Athletes in each sport\n",
    "sport_counts= Athletes['sport'].value_counts()\n",
    "print('Number of athletes in every sport:')\n",
    "for sport, count in sport_counts.items():\n",
    "    print(sport, ':', count)\n",
    "    "
   ]
  },
  {
   "cell_type": "markdown",
   "id": "5bd9abdf",
   "metadata": {},
   "source": [
    "Q19:Display a bar chart showing the average V02 Max by sport."
   ]
  },
  {
   "cell_type": "code",
   "execution_count": null,
   "id": "c2a393cd",
   "metadata": {},
   "outputs": [],
   "source": [
    "#Selected "
   ]
  },
  {
   "cell_type": "markdown",
   "id": "112a31a7",
   "metadata": {},
   "source": [
    "Q20:Analyze the trend of HR at the start of the test vs the middle and the end.What is the overall trend? "
   ]
  },
  {
   "cell_type": "code",
   "execution_count": null,
   "id": "bfaef11f",
   "metadata": {},
   "outputs": [],
   "source": []
  },
  {
   "cell_type": "markdown",
   "id": "aca22766",
   "metadata": {},
   "source": [
    "Q21:Display a pie chart of number of athletes by sport."
   ]
  },
  {
   "cell_type": "code",
   "execution_count": 38,
   "id": "90f8b525",
   "metadata": {},
   "outputs": [
    {
     "name": "stderr",
     "output_type": "stream",
     "text": [
      "C:\\ProgramData\\anaconda3\\Lib\\site-packages\\openpyxl\\worksheet\\_read_only.py:79: UserWarning: Unknown extension is not supported and will be removed\n",
      "  for idx, row in parser.parse():\n"
     ]
    },
    {
     "data": {
      "image/png": "[encoded data removed]",
      "text/plain": [
       "<Figure size 800x600 with 1 Axes>"
      ]
     },
     "metadata": {},
     "output_type": "display_data"
    }
   ],
   "source": [
    "Athletes=pd.read_excel(\"V02Max_Combined.xlsx\",sheet_name= \"Athletes\")\n",
    "#display(Athletes)\n",
    "#counting no. of persons in each sport\n",
    "Sport_cnt=Athletes['sport'].value_counts()\n",
    "fig, ax=plt.subplots(figsize=(8,6))\n",
    "explode=(0, 0, 0.1)\n",
    "colors=['skyblue', 'violet', 'lightgreen']\n",
    "ax.pie(Sport_cnt.values, labels=Sport_cnt.index, autopct='%1.1f%%', startangle=90, shadow=True, colors=colors, explode=explode)\n",
    "ax.set_title(label='No of Athletes by sport')\n",
    "ax.axis('equal')\n",
    "plt.show()\n"
   ]
  },
  {
   "cell_type": "markdown",
   "id": "0419ce32",
   "metadata": {},
   "source": [
    "Q22:Using any 10 HR values print even if the value is an even number and odd if its an odd number"
   ]
  },
  {
   "cell_type": "code",
   "execution_count": 190,
   "id": "823c4053",
   "metadata": {
    "scrolled": false
   },
   "outputs": [
    {
     "name": "stdout",
     "output_type": "stream",
     "text": [
      "First 10 HR values from Kayank, and checking value is even or odd\n",
      "1. 83.0 - HR value is odd\n",
      "2. 82.0 - HR value is even\n",
      "3. 83.0 - HR value is odd\n",
      "4. 90.0 - HR value is even\n",
      "5. 93.0 - HR value is odd\n",
      "6. 97.0 - HR value is odd\n",
      "7. 86.0 - HR value is even\n",
      "8. 75.0 - HR value is odd\n",
      "9. 76.0 - HR value is even\n",
      "10. 78.0 - HR value is even\n"
     ]
    }
   ],
   "source": [
    "# Load the Excel file Kayank\n",
    "Kayaking= pd.read_excel(\"V02Max_Combined.xlsx\",sheet_name= \"Kayaking\")\n",
    "#creating HR column,\n",
    "Kayaking['HR']= 60/(Kayaking['RR']/1000)\n",
    "#roundoff HR to integer value\n",
    "Kayaking['HR']=Kayaking['HR'].round()\n",
    "#display (Kayaking)\n",
    "value_10_HR=Kayaking['HR'].head(10)\n",
    "#display (value_10_HR)\n",
    "print('First 10 HR values from Kayank, and checking value is even or odd')\n",
    "for i, hr in enumerate(value_10_HR, 1):\n",
    "    if hr == -1:\n",
    "        print(f\"{i}. Invalid HR value\")\n",
    "    elif hr % 2.0 == 0:\n",
    "        print(f\"{i}. {hr} - HR value is even\")\n",
    "    else:\n",
    "        print(f\"{i}. {hr} - HR value is odd\")\n"
   ]
  },
  {
   "cell_type": "markdown",
   "id": "0fed9ed6",
   "metadata": {},
   "source": [
    "Q23:Which heart rate zone did most participants spend the longest duration of time in?"
   ]
  },
  {
   "cell_type": "code",
   "execution_count": null,
   "id": "c5c6e8cf",
   "metadata": {},
   "outputs": [],
   "source": []
  },
  {
   "cell_type": "markdown",
   "id": "85cfc0fe",
   "metadata": {},
   "source": [
    "Q24:Store athlete name and sport in a dictionary as a pair of values."
   ]
  },
  {
   "cell_type": "code",
   "execution_count": 124,
   "id": "cf4c5c53",
   "metadata": {},
   "outputs": [
    {
     "name": "stdout",
     "output_type": "stream",
     "text": [
      "Athlete name and sport dictionary is\n",
      "{'OliviaMartinez': 'fencing', 'EthanReynolds': 'fencing', 'JacksonHarper': 'fencing', 'LiamSanchez': 'fencing', 'AvaThompson': 'fencing', 'SophiaRodriguez': 'fencing', 'GraceSimmons': 'fencing', 'AidenBennett': 'fencing', 'ChloePrice': 'fencing', 'LilyJordan': 'fencing', 'IsabellaGriffin': 'kayak', 'CalebDixon': 'kayak', 'MiaCarpenter': 'kayak', 'HarperMitchell': 'kayak', 'MasonWallace': 'kayak', 'LoganAnderson': 'kayak', 'LucasFoster': 'triathlon', 'OwenMyers': 'triathlon'}\n"
     ]
    }
   ],
   "source": [
    "#creating an empty dictionary\n",
    "athlete_name_sport_dict={}\n",
    "#iterating through rows, and adding key-value pairs in dict\n",
    "for athlete_index, row in Athletes.iterrows():\n",
    "    athlete_fullname= f\"{row['First Name']}{row['Last Name']}\"\n",
    "    athlete_name_sport_dict[athlete_fullname]=row['sport']\n",
    "print('Athlete name and sport dictionary is')\n",
    "print(athlete_name_sport_dict)\n"
   ]
  },
  {
   "cell_type": "markdown",
   "id": "0cbc6cbd",
   "metadata": {},
   "source": [
    "Q25:Using arrays and loops, find the count of athletes based on gender."
   ]
  },
  {
   "cell_type": "code",
   "execution_count": 119,
   "id": "6838c225",
   "metadata": {},
   "outputs": [
    {
     "name": "stdout",
     "output_type": "stream",
     "text": [
      "Number of Male athletes is 8\n",
      "Number of Female athletes is 10\n"
     ]
    }
   ],
   "source": [
    "#first created an array\n",
    "athlete_gender_array=np.array(Athletes['Gender'])\n",
    "male_athlete_count=0\n",
    "female_athlete_count=0\n",
    "#using loop\n",
    "for gender in athlete_gender_array:\n",
    "    if gender == 'Male':\n",
    "        male_athlete_count = male_athlete_count+1\n",
    "    elif gender == 'Female':\n",
    "        female_athlete_count = female_athlete_count+1\n",
    "print('Number of Male athletes is', male_athlete_count)\n",
    "print('Number of Female athletes is', female_athlete_count)"
   ]
  },
  {
   "cell_type": "markdown",
   "id": "0edec6dd",
   "metadata": {},
   "source": [
    "Q26:Create a sankey diagram to show the groups of race within each sport"
   ]
  },
  {
   "cell_type": "code",
   "execution_count": null,
   "id": "bd231056",
   "metadata": {},
   "outputs": [],
   "source": []
  },
  {
   "cell_type": "markdown",
   "id": "fc2983c3",
   "metadata": {},
   "source": [
    "Q27:Calculate the average heart rate for every minute for every athlete and add it as a column in the same dataframe."
   ]
  },
  {
   "cell_type": "code",
   "execution_count": null,
   "id": "393fbd61",
   "metadata": {},
   "outputs": [],
   "source": []
  },
  {
   "cell_type": "markdown",
   "id": "9d080b83",
   "metadata": {},
   "source": [
    "Q28:Print athlete 15s Age and Pvt1 using the format() function"
   ]
  },
  {
   "cell_type": "code",
   "execution_count": 138,
   "id": "0dc10ea5",
   "metadata": {},
   "outputs": [
    {
     "name": "stdout",
     "output_type": "stream",
     "text": [
      "The Age and Pvt1 of Athlete with ID 15 is age: 13, Pvt1 : 125\n"
     ]
    }
   ],
   "source": [
    "#Selecting Athlete with ID 15,\n",
    "Athlete_15=Athletes[Athletes['ID'] == 15].iloc[0]\n",
    "age=Athlete_15['age']\n",
    "Pvt1=Athlete_15['P_vt1']\n",
    "print('The Age and Pvt1 of Athlete with ID 15 is age: {}, Pvt1 : {}'. format(age,Pvt1) )"
   ]
  },
  {
   "cell_type": "markdown",
   "id": "257be641",
   "metadata": {},
   "source": [
    "Q29:On average how long was each participants’ warm up?"
   ]
  },
  {
   "cell_type": "code",
   "execution_count": null,
   "id": "25ae7d1b",
   "metadata": {},
   "outputs": [],
   "source": []
  },
  {
   "cell_type": "markdown",
   "id": "99e42b14",
   "metadata": {},
   "source": [
    "Q30:Display the HRV of each athlete?"
   ]
  },
  {
   "cell_type": "code",
   "execution_count": null,
   "id": "aafd5b3a",
   "metadata": {},
   "outputs": [],
   "source": []
  },
  {
   "cell_type": "markdown",
   "id": "ba00c25c",
   "metadata": {},
   "source": [
    "Q31:Return the count of athletes for any sport that the user inputs."
   ]
  },
  {
   "cell_type": "code",
   "execution_count": 114,
   "id": "39472146",
   "metadata": {},
   "outputs": [
    {
     "name": "stdout",
     "output_type": "stream",
     "text": [
      "Enter the sport name:FENCING\n",
      "The count of athletes is 10\n"
     ]
    }
   ],
   "source": [
    "#Athletes=pd.read_excel(\"V02Max_Combined.xlsx\",sheet_name= \"Athletes\")\n",
    "user_input=input('Enter the sport name:')\n",
    "#converting the user input into lower case, in case if it is case sensitive\n",
    "user_input=user_input.lower()\n",
    "#checking if sport exists in dataframe, that too case-sensitive\n",
    "if user_input in Athletes['sport'].str.lower().unique():\n",
    "    count=Athletes[Athletes['sport'].str.lower() == user_input].shape[0]\n",
    "    print('The count of athletes is', count)\n",
    "else:\n",
    "    print('The given input is not a valid sport in given dataset')\n",
    "   "
   ]
  },
  {
   "cell_type": "markdown",
   "id": "8b852035",
   "metadata": {},
   "source": [
    "Q32:Insert the name of every athlete into an array and display the length of that array."
   ]
  },
  {
   "cell_type": "code",
   "execution_count": 86,
   "id": "7629dcb9",
   "metadata": {},
   "outputs": [
    {
     "name": "stdout",
     "output_type": "stream",
     "text": [
      "Array of athlete names: ['Olivia Martinez' 'Ethan Reynolds' 'Jackson Harper' 'Liam Sanchez'\n",
      " 'Ava Thompson' 'Sophia Rodriguez' 'Grace Simmons' 'Aiden Bennett'\n",
      " 'Chloe Price' 'Lily Jordan' 'Isabella Griffin' 'Caleb Dixon'\n",
      " 'Mia Carpenter' 'Harper Mitchell' 'Mason Wallace' 'Logan Anderson'\n",
      " 'Lucas Foster' 'Owen Myers']\n",
      "The length of array (total number of athletes) is: 18\n"
     ]
    }
   ],
   "source": [
    "Athletes['full name'] = Athletes['First Name'] + ' ' + Athletes['Last Name']\n",
    "# Creating a NumPy array of athlete names\n",
    "Athlete_name = np.array(Athletes['full name'])\n",
    "# Displaying array\n",
    "print(\"Array of athlete names:\", Athlete_name)\n",
    "print('The length of array (total number of athletes) is:', len(Athlete_name))"
   ]
  },
  {
   "cell_type": "code",
   "execution_count": null,
   "id": "de60bcf5",
   "metadata": {},
   "outputs": [],
   "source": [
    "EQ1:Draw a nested piechart for number of athletes by sport and nested with gender."
   ]
  },
  {
   "cell_type": "code",
   "execution_count": null,
   "id": "389ed183",
   "metadata": {},
   "outputs": [],
   "source": [
    "Q79:Plot the Donut chart athlete distrubution by Gender"
   ]
  }
 ],
 "metadata": {
  "kernelspec": {
   "display_name": "Python 3 (ipykernel)",
   "language": "python",
   "name": "python3"
  },
  "language_info": {
   "codemirror_mode": {
    "name": "ipython",
    "version": 3
   },
   "file_extension": ".py",
   "mimetype": "text/x-python",
   "name": "python",
   "nbconvert_exporter": "python",
   "pygments_lexer": "ipython3",
   "version": "3.11.7"
  }
 },
 "nbformat": 4,
 "nbformat_minor": 5
}
