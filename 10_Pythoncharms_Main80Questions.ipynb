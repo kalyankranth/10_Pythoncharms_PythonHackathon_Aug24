{
 "cells": [
  {
   "cell_type": "code",
   "execution_count": null,
   "id": "14b3722b",
   "metadata": {},
   "outputs": [],
   "source": []
  },
  {
   "cell_type": "code",
   "execution_count": null,
   "id": "d5f4b000",
   "metadata": {},
   "outputs": [],
   "source": []
  },
  {
   "cell_type": "code",
   "execution_count": null,
   "id": "261127e9",
   "metadata": {},
   "outputs": [],
   "source": []
  },
  {
   "cell_type": "code",
   "execution_count": null,
   "id": "5a7f9a52",
   "metadata": {},
   "outputs": [],
   "source": []
  },
  {
   "cell_type": "code",
   "execution_count": null,
   "id": "458cae32",
   "metadata": {},
   "outputs": [],
   "source": []
  },
  {
   "cell_type": "code",
   "execution_count": null,
   "id": "f17cbb75",
   "metadata": {},
   "outputs": [],
   "source": []
  },
  {
   "cell_type": "code",
   "execution_count": null,
   "id": "2866a363",
   "metadata": {},
   "outputs": [],
   "source": []
  },
  {
   "cell_type": "code",
   "execution_count": null,
   "id": "8777ee98",
   "metadata": {},
   "outputs": [],
   "source": []
  },
  {
   "cell_type": "code",
   "execution_count": null,
   "id": "d883c744",
   "metadata": {},
   "outputs": [],
   "source": []
  },
  {
   "cell_type": "code",
   "execution_count": null,
   "id": "cff73dbf",
   "metadata": {},
   "outputs": [],
   "source": []
  },
  {
   "cell_type": "code",
   "execution_count": null,
   "id": "7f445240",
   "metadata": {},
   "outputs": [],
   "source": []
  },
  {
   "cell_type": "code",
   "execution_count": null,
   "id": "893864a7",
   "metadata": {},
   "outputs": [],
   "source": []
  },
  {
   "cell_type": "code",
   "execution_count": null,
   "id": "4be95a41",
   "metadata": {},
   "outputs": [],
   "source": []
  },
  {
   "cell_type": "code",
   "execution_count": null,
   "id": "a344ee84",
   "metadata": {},
   "outputs": [],
   "source": []
  },
  {
   "cell_type": "code",
   "execution_count": null,
   "id": "b6947c11",
   "metadata": {},
   "outputs": [],
   "source": []
  },
  {
   "cell_type": "code",
   "execution_count": null,
   "id": "2db868c4",
   "metadata": {},
   "outputs": [],
   "source": []
  },
  {
   "cell_type": "markdown",
   "id": "9852b439",
   "metadata": {},
   "source": [
    "Q17:-Display a bar chart showing the average V02 Max by sport."
   ]
  },
  {
   "cell_type": "code",
   "execution_count": null,
   "id": "5ce368de",
   "metadata": {},
   "outputs": [],
   "source": []
  },
  {
   "cell_type": "markdown",
   "id": "ef3c301b",
   "metadata": {},
   "source": [
    "Q18:Display the number of athletes in every sport against the name of the sport."
   ]
  },
  {
   "cell_type": "code",
   "execution_count": null,
   "id": "281d26fc",
   "metadata": {},
   "outputs": [],
   "source": []
  },
  {
   "cell_type": "markdown",
   "id": "e355327d",
   "metadata": {},
   "source": [
    "Q19:Display a bar chart showing the average V02 Max by sport."
   ]
  },
  {
   "cell_type": "code",
   "execution_count": null,
   "id": "2a883650",
   "metadata": {},
   "outputs": [],
   "source": []
  },
  {
   "cell_type": "markdown",
   "id": "204b9223",
   "metadata": {},
   "source": [
    "Q20:Analyze the trend of HR at the start of the test vs the middle and the end.What is the overall trend? "
   ]
  },
  {
   "cell_type": "code",
   "execution_count": null,
   "id": "19313f2b",
   "metadata": {},
   "outputs": [],
   "source": []
  },
  {
   "cell_type": "markdown",
   "id": "7b8eaece",
   "metadata": {},
   "source": [
    "Q21:Display a pie chart of number of athletes by sport."
   ]
  },
  {
   "cell_type": "code",
   "execution_count": null,
   "id": "c4a18c33-95ca-4585-8630-b55266470af2",
   "metadata": {},
   "outputs": [],
   "source": []
  },
  {
   "cell_type": "code",
   "execution_count": null,
   "id": "022d9d07-7cc4-459f-89e3-78a3bf99cf61",
   "metadata": {},
   "outputs": [],
   "source": []
  },
  {
   "cell_type": "markdown",
   "id": "965142eb-a7dd-4731-9f82-9d03a50ef265",
   "metadata": {},
   "source": [
    "Q47:Convert ' sport' into a numeric field through Label encoding"
   ]
  },
  {
   "cell_type": "markdown",
   "id": "c08e6a88-cf6c-4e63-89e2-538371559fe1",
   "metadata": {},
   "source": [
    "Q48:What was the average age of the athletes?\n"
   ]
  },
  {
   "cell_type": "code",
   "execution_count": null,
   "id": "b5147899",
   "metadata": {},
   "outputs": [],
   "source": [
    "Q49: Retrieve the row with minimum IBI for fencing athletes using sorting technique."
   ]
  },
  {
   "cell_type": "code",
   "execution_count": null,
   "id": "fefe3009-7798-4d26-8c46-447c5b41a7cc",
   "metadata": {},
   "outputs": [],
   "source": []
  },
  {
   "cell_type": "markdown",
   "id": "dc1eb13f-0f2f-4d11-abbc-cb6a671a4474",
   "metadata": {},
   "source": [
    "Q50 Create a violin chart using any 2 columns in the dataset"
   ]
  }
 ],
 "metadata": {
  "kernelspec": {
   "display_name": "Python 3 (ipykernel)",
   "language": "python",
   "name": "python3"
  },
  "language_info": {
   "codemirror_mode": {
    "name": "ipython",
    "version": 3
   },
   "file_extension": ".py",
   "mimetype": "text/x-python",
   "name": "python",
   "nbconvert_exporter": "python",
   "pygments_lexer": "ipython3",
   "version": "3.12.4"
  }
 },
 "nbformat": 4,
 "nbformat_minor": 5
}
