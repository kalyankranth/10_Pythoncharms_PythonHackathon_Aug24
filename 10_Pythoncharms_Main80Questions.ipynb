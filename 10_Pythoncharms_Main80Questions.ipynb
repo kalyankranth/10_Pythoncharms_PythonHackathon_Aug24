{
 "cells": [
  {
   "cell_type": "code",
   "execution_count": null,
   "id": "14b3722b",
   "metadata": {},
   "outputs": [],
   "source": []
  },
  {
   "cell_type": "code",
   "execution_count": null,
   "id": "244b6426-d92a-48ff-83f1-5d0d5efdd172",
   "metadata": {},
   "outputs": [],
   "source": []
  },
  {
   "cell_type": "code",
   "execution_count": null,
   "id": "d5f4b000",
   "metadata": {},
   "outputs": [],
   "source": []
  },
  {
   "cell_type": "code",
   "execution_count": null,
   "id": "261127e9",
   "metadata": {},
   "outputs": [],
   "source": []
  },
  {
   "cell_type": "code",
   "execution_count": null,
   "id": "5a7f9a52",
   "metadata": {},
   "outputs": [],
   "source": []
  },
  {
   "cell_type": "code",
   "execution_count": null,
   "id": "458cae32",
   "metadata": {},
   "outputs": [],
   "source": []
  },
  {
   "cell_type": "code",
   "execution_count": null,
   "id": "f17cbb75",
   "metadata": {},
   "outputs": [],
   "source": []
  },
  {
   "cell_type": "code",
   "execution_count": null,
   "id": "2866a363",
   "metadata": {},
   "outputs": [],
   "source": []
  },
  {
   "cell_type": "code",
   "execution_count": null,
   "id": "8777ee98",
   "metadata": {},
   "outputs": [],
   "source": []
  },
  {
   "cell_type": "code",
   "execution_count": null,
   "id": "d883c744",
   "metadata": {},
   "outputs": [],
   "source": []
  },
  {
   "cell_type": "code",
   "execution_count": null,
   "id": "cff73dbf",
   "metadata": {},
   "outputs": [],
   "source": []
  },
  {
   "cell_type": "code",
   "execution_count": null,
   "id": "7f445240",
   "metadata": {},
   "outputs": [],
   "source": []
  },
  {
   "cell_type": "code",
   "execution_count": null,
   "id": "893864a7",
   "metadata": {},
   "outputs": [],
   "source": []
  },
  {
   "cell_type": "code",
   "execution_count": null,
   "id": "4be95a41",
   "metadata": {},
   "outputs": [],
   "source": []
  },
  {
   "cell_type": "code",
   "execution_count": null,
   "id": "a344ee84",
   "metadata": {},
   "outputs": [],
   "source": []
  },
  {
   "cell_type": "code",
   "execution_count": null,
   "id": "b6947c11",
   "metadata": {},
   "outputs": [],
   "source": []
  },
  {
   "cell_type": "code",
   "execution_count": null,
   "id": "2db868c4",
   "metadata": {},
   "outputs": [],
   "source": []
  },
  {
   "cell_type": "markdown",
   "id": "9852b439",
   "metadata": {},
   "source": [
    "Q17:-Display a bar chart showing the average V02 Max by sport."
   ]
  },
  {
   "cell_type": "code",
   "execution_count": null,
   "id": "5ce368de",
   "metadata": {},
   "outputs": [],
   "source": []
  },
  {
   "cell_type": "markdown",
   "id": "ef3c301b",
   "metadata": {},
   "source": [
    "Q18:Display the number of athletes in every sport against the name of the sport."
   ]
  },
  {
   "cell_type": "code",
   "execution_count": null,
   "id": "281d26fc",
   "metadata": {},
   "outputs": [],
   "source": []
  },
  {
   "cell_type": "markdown",
   "id": "e355327d",
   "metadata": {},
   "source": [
    "Q19:Display a bar chart showing the average V02 Max by sport."
   ]
  },
  {
   "cell_type": "code",
   "execution_count": null,
   "id": "2a883650",
   "metadata": {},
   "outputs": [],
   "source": []
  },
  {
   "cell_type": "markdown",
   "id": "204b9223",
   "metadata": {},
   "source": [
    "Q20:Analyze the trend of HR at the start of the test vs the middle and the end.What is the overall trend? "
   ]
  },
  {
   "cell_type": "code",
   "execution_count": null,
   "id": "19313f2b",
   "metadata": {},
   "outputs": [],
   "source": []
  },
  {
   "cell_type": "markdown",
   "id": "7b8eaece",
   "metadata": {},
   "source": [
    "Q21:Display a pie chart of number of athletes by sport."
   ]
  },
  {
   "cell_type": "code",
   "execution_count": null,
   "id": "c4a18c33-95ca-4585-8630-b55266470af2",
   "metadata": {},
   "outputs": [],
   "source": []
  },
  {
   "cell_type": "markdown",
   "id": "ae4272dd",
   "metadata": {},
   "source": [
    "Q22:Using any 10 HR values print even if the value is an even number and odd if its an odd number"
   ]
  },
  {
   "cell_type": "code",
   "execution_count": null,
   "id": "bc066853",
   "metadata": {},
   "outputs": [],
   "source": []
  },
  {
   "cell_type": "markdown",
   "id": "7eb66d44",
   "metadata": {},
   "source": [
    "Q23:Which heart rate zone did most participants spend the longest duration of time in?"
   ]
  },
  {
   "cell_type": "code",
   "execution_count": null,
   "id": "3042c0f8",
   "metadata": {},
   "outputs": [],
   "source": []
  },
  {
   "cell_type": "markdown",
   "id": "63817d5f",
   "metadata": {},
   "source": [
    "Q24:Store athlete name and sport in a dictionary as a pair of values."
   ]
  },
  {
   "cell_type": "code",
   "execution_count": null,
   "id": "3bdbb942",
   "metadata": {},
   "outputs": [],
   "source": []
  },
  {
   "cell_type": "markdown",
   "id": "2d75752e",
   "metadata": {},
   "source": [
    "Q25:Using arrays and loops, find the count of athletes based on gender."
   ]
  },
  {
   "cell_type": "code",
   "execution_count": null,
   "id": "169ae021",
   "metadata": {},
   "outputs": [],
   "source": []
  },
  {
   "cell_type": "markdown",
   "id": "d330e4eb",
   "metadata": {},
   "source": [
    "Q26:Create a sankey diagram to show the groups of race within each sport"
   ]
  },
  {
   "cell_type": "code",
   "execution_count": null,
   "id": "4483a2d5",
   "metadata": {},
   "outputs": [],
   "source": []
  },
  {
   "cell_type": "markdown",
   "id": "51402ed1",
   "metadata": {},
   "source": [
    "Q27:Calculate the average heart rate for every minute for every athlete and add it as a column in the same dataframe."
   ]
  },
  {
   "cell_type": "code",
   "execution_count": null,
   "id": "395ea711",
   "metadata": {},
   "outputs": [],
   "source": []
  },
  {
   "cell_type": "markdown",
   "id": "d48001e2",
   "metadata": {},
   "source": [
    "Q28:Print athlete 15s Age and Pvt1 using the format() function"
   ]
  },
  {
   "cell_type": "code",
   "execution_count": null,
   "id": "283814c8",
   "metadata": {},
   "outputs": [],
   "source": []
  },
  {
   "cell_type": "markdown",
   "id": "403fb023",
   "metadata": {},
   "source": [
    "Q29:On average how long was each participants’ warm up?"
   ]
  },
  {
   "cell_type": "code",
   "execution_count": null,
   "id": "7aac9729-3131-44a5-b6fa-4b8d54470c67",
   "metadata": {},
   "outputs": [],
   "source": []
  },
  {
   "cell_type": "markdown",
   "id": "34a2c8eb",
   "metadata": {},
   "source": [
    "Q30:Display the HRV of each athlete?"
   ]
  },
  {
   "cell_type": "code",
   "execution_count": null,
   "id": "c8322529",
   "metadata": {},
   "outputs": [],
   "source": []
  },
  {
   "cell_type": "markdown",
   "id": "b19c3206",
   "metadata": {},
   "source": [
    "Q31:Return the count of athletes for any sport that the user inputs."
   ]
  },
  {
   "cell_type": "code",
   "execution_count": null,
   "id": "dd2f90f5",
   "metadata": {},
   "outputs": [],
   "source": []
  },
  {
   "cell_type": "markdown",
   "id": "cd48b505",
   "metadata": {},
   "source": [
    "Q32:Insert the name of every athlete into an array and display the length of that array."
   ]
  },
  {
   "cell_type": "code",
   "execution_count": null,
   "id": "d9166f79-e959-419d-9e86-9dd2e88b600c",
   "metadata": {},
   "outputs": [],
   "source": []
  },
  {
   "cell_type": "markdown",
   "id": "816121b2-8c88-4079-8864-361958be5116",
   "metadata": {},
   "source": [
    "Q33: Create a list and a tuple. Print the types and lengths of  both."
   ]
  },
  {
   "cell_type": "code",
   "execution_count": null,
   "id": "d4f19c62-d9e1-440d-8da4-d0786b42f277",
   "metadata": {},
   "outputs": [],
   "source": []
  },
  {
   "cell_type": "markdown",
   "id": "ff801dbe-42c4-4363-b1cb-6bcd36f44ff8",
   "metadata": {},
   "source": [
    "Q34: Display a word cloud using any values in the dataset"
   ]
  },
  {
   "cell_type": "code",
   "execution_count": null,
   "id": "088edaba-a4ce-47a3-a051-85977b4675cc",
   "metadata": {},
   "outputs": [],
   "source": []
  },
  {
   "cell_type": "markdown",
   "id": "8ce30d49-0f16-47cf-8964-347e05d1b8d5",
   "metadata": {},
   "source": [
    "Q35: Create a Regression Plot on Max V02 and mean BMI for any sport of your choice"
   ]
  },
  {
   "cell_type": "code",
   "execution_count": null,
   "id": "8d833cd1-3890-4835-9fce-f3329171454b",
   "metadata": {},
   "outputs": [],
   "source": []
  },
  {
   "cell_type": "markdown",
   "id": "53f8f472-e413-495a-8230-a4d354cc4609",
   "metadata": {},
   "source": [
    "Q36: Plot the time series of HR( every 5 mins) of athlete 1"
   ]
  },
  {
   "cell_type": "code",
   "execution_count": null,
   "id": "bad155db-d664-4549-adec-13f7fc03f163",
   "metadata": {},
   "outputs": [],
   "source": []
  },
  {
   "cell_type": "markdown",
   "id": "9846145c-bd46-4b5f-8f73-67885e5cfd2b",
   "metadata": {},
   "source": [
    "Q37: What was the maximum power achieved in terms of watts, which participant achieved it? Display name, sport and watts."
   ]
  },
  {
   "cell_type": "code",
   "execution_count": null,
   "id": "0ba21a9f-673d-489c-937f-a53a74012a89",
   "metadata": {},
   "outputs": [],
   "source": []
  },
  {
   "cell_type": "markdown",
   "id": "b1b32479-dbc6-4a64-bb9d-27f3ff8d4cdc",
   "metadata": {},
   "source": [
    "Q38: What is the average  difference in IBI during the warm up Vs the actual test?"
   ]
  },
  {
   "cell_type": "code",
   "execution_count": null,
   "id": "cb7a1c31-9ed6-438d-8df9-20bc33c0ea27",
   "metadata": {},
   "outputs": [],
   "source": []
  },
  {
   "cell_type": "markdown",
   "id": "72754289-c65f-4c06-9af7-c4a84894336f",
   "metadata": {},
   "source": [
    "Q39: Print out what's in indexes 7, 10, and 3 for the array in Q33."
   ]
  },
  {
   "cell_type": "code",
   "execution_count": null,
   "id": "4a01a190-ec4a-44fc-a0f4-af6c56c61ff8",
   "metadata": {},
   "outputs": [],
   "source": []
  },
  {
   "cell_type": "markdown",
   "id": "e6731c03-0159-4076-b6c3-0d1edf52eb68",
   "metadata": {},
   "source": [
    "Q40:   [ 1,  2,  3,  4,  5],\n",
    "       [ 6,  7,  8,  9, 10],\n",
    "       [11, 12, 13, 14, 15],\n",
    "       [16, 17, 18, 19, 20],\n",
    "       [21, 22, 23, 24, 25],\n",
    "       [26, 27, 28, 29, 30]  Use array slicing to display elements 1,3,5. If the value is less than 4 display it as 99"
   ]
  },
  {
   "cell_type": "code",
   "execution_count": null,
   "id": "1e8297c8-387b-4a24-a18b-f6e9e00ab67d",
   "metadata": {},
   "outputs": [],
   "source": []
  },
  {
   "cell_type": "markdown",
   "id": "1d677d42-66af-4c82-ba83-da047e463876",
   "metadata": {},
   "source": [
    "Q41: What was lowest wattage achieved at the end of a test and by which participant? Display name, sport and watts."
   ]
  },
  {
   "cell_type": "code",
   "execution_count": null,
   "id": "c4c32722-551a-4a3f-9ac5-da0ded2a6144",
   "metadata": {},
   "outputs": [],
   "source": []
  },
  {
   "cell_type": "markdown",
   "id": "fbbbb8db-f698-42f8-a502-8092105ff267",
   "metadata": {},
   "source": [
    "Q42: What was the difference in heart rate between warm up and GET for athlete 1"
   ]
  },
  {
   "cell_type": "code",
   "execution_count": null,
   "id": "0a2190da-67fc-4230-a834-220eac762e0e",
   "metadata": {},
   "outputs": [],
   "source": []
  },
  {
   "cell_type": "markdown",
   "id": "9d59c426-aab1-4392-a2b2-5cc326d5f020",
   "metadata": {},
   "source": [
    "Q43: Create a pivot table that shows count of patients within each age group and sport"
   ]
  },
  {
   "cell_type": "code",
   "execution_count": null,
   "id": "2e3f2bfe-8115-42e4-aaff-e5fe6f0b56ab",
   "metadata": {},
   "outputs": [],
   "source": []
  },
  {
   "cell_type": "markdown",
   "id": "0536a834-89ef-4c80-b566-09faa1440efb",
   "metadata": {},
   "source": [
    "Q44: Display a  distrubution chart of MAX V02 for all athletes"
   ]
  },
  {
   "cell_type": "code",
   "execution_count": null,
   "id": "186a3c4a-4010-4a3e-a4ed-af997e7cd4b4",
   "metadata": {},
   "outputs": [],
   "source": []
  },
  {
   "cell_type": "markdown",
   "id": "11aed218-0a3e-4675-a3f0-875d042836ed",
   "metadata": {},
   "source": [
    "Q45: Create a dummy array with no data with a size of 15."
   ]
  },
  {
   "cell_type": "code",
   "execution_count": null,
   "id": "293e1d93-f028-4400-ba29-b4b51d4dbf7e",
   "metadata": {},
   "outputs": [],
   "source": []
  },
  {
   "cell_type": "markdown",
   "id": "50ef97fa-96bd-4acf-a275-f00eed1220c2",
   "metadata": {},
   "source": [
    "Q46: How many minutes did participant 15s exercise last and what was the total V02 max consumed during the test?"
   ]
  },
  {
   "cell_type": "code",
   "execution_count": null,
   "id": "ad7f945a-fb0e-4cf9-a130-9264c57e9ddd",
   "metadata": {},
   "outputs": [],
   "source": []
  },
  {
   "cell_type": "markdown",
   "id": "965142eb-a7dd-4731-9f82-9d03a50ef265",
   "metadata": {},
   "source": [
    "Q47: Convert ' sport' into a numeric field through Label encoding"
   ]
  },
  {
   "cell_type": "code",
   "execution_count": null,
   "id": "9e2c921f-f875-4a6a-abaf-f50790df4c0f",
   "metadata": {},
   "outputs": [],
   "source": []
  },
  {
   "cell_type": "markdown",
   "id": "c08e6a88-cf6c-4e63-89e2-538371559fe1",
   "metadata": {},
   "source": [
    "Q48: What was the average age of the athletes?\n"
   ]
  },
  {
   "cell_type": "code",
   "execution_count": null,
   "id": "d395ac99-56f9-4a61-88b5-bbda2231a026",
   "metadata": {},
   "outputs": [],
   "source": []
  },
  {
   "cell_type": "markdown",
   "id": "4eda37f9-4596-438f-9c86-e7fe747fe3a0",
   "metadata": {},
   "source": [
    "Q49: Retrieve the row with minimum IBI for fencing athletes using sorting technique."
   ]
  },
  {
   "cell_type": "code",
   "execution_count": null,
   "id": "9c1c2cc7-2c83-431d-ab9c-ad3deaa60cc8",
   "metadata": {},
   "outputs": [],
   "source": []
  },
  {
   "cell_type": "markdown",
   "id": "dc1eb13f-0f2f-4d11-abbc-cb6a671a4474",
   "metadata": {},
   "source": [
    "Q50 Create a violin chart using any 2 columns in the dataset"
   ]
  },
  {
   "cell_type": "code",
   "execution_count": null,
   "id": "e249cd42-d983-429e-84d8-81acb85c11e8",
   "metadata": {},
   "outputs": [],
   "source": []
  },
  {
   "attachments": {},
   "cell_type": "markdown",
   "id": "115c1dd7-8515-4bbb-97aa-45445aa09da5",
   "metadata": {},
   "source": [
    "Q65:   [ 1,  2,  3,  4,  5],C\r\n",
    "       [ 6,  7,  8,  9, 10],\r\n",
    "       [11, 12, 13, 14, 15],\r\n",
    "       [16, 17, 18, 19, 20],\r\n",
    "       [21, 22, 23, 24, 25],\r\n",
    "       [26, 27, 28, 29, 30]  Use array slicing to display elements 4,7,10,17.\n"
   ]
  },
  {
   "cell_type": "code",
   "execution_count": null,
   "id": "df9069ba-0e73-41fb-b707-07390a4a9017",
   "metadata": {},
   "outputs": [],
   "source": []
  },
  {
   "cell_type": "markdown",
   "id": "eb7a9735-7c99-4b2d-8ee8-fcc38b6b6093",
   "metadata": {},
   "source": [
    "Q66: On average, how long did each participant spend at 200 watts?"
   ]
  },
  {
   "cell_type": "code",
   "execution_count": null,
   "id": "15e9ea47-af01-4915-bf8e-af4246821210",
   "metadata": {},
   "outputs": [],
   "source": []
  },
  {
   "cell_type": "markdown",
   "id": "c72ee2fa-cad6-4f28-9997-f809114bed7f",
   "metadata": {},
   "source": [
    "Q67: Athletes from which sport had the highest average cardiorespiratory fitness in terms of v02 max?"
   ]
  },
  {
   "cell_type": "code",
   "execution_count": null,
   "id": "430f82fd-5c38-4e63-885a-20a9cdfce32b",
   "metadata": {},
   "outputs": [],
   "source": []
  },
  {
   "cell_type": "markdown",
   "id": "a9c79662-6f95-490e-a8ff-874a4c0c4069",
   "metadata": {},
   "source": [
    "Q68: What % of athletes exceeded 90% of max HR? (Max HR is calculated as 220-Age)"
   ]
  },
  {
   "cell_type": "code",
   "execution_count": null,
   "id": "535828d4-e4a2-4b77-83f7-62c4900e1253",
   "metadata": {},
   "outputs": [],
   "source": []
  },
  {
   "cell_type": "markdown",
   "id": "47fc134d-dd60-428a-9839-bcf672c7405b",
   "metadata": {},
   "source": [
    "Q69: What was the lowest heart rate recorded at a power wattage of 200"
   ]
  },
  {
   "cell_type": "code",
   "execution_count": null,
   "id": "b22da567-df99-4327-b082-52e24030833b",
   "metadata": {},
   "outputs": [],
   "source": []
  },
  {
   "cell_type": "markdown",
   "id": "59dbbc1f-001b-4462-84b6-2eb9b6e1faba",
   "metadata": {},
   "source": [
    "Q70: On Average how long did most athletes spend at 75% of MaxHR (Max HR is calculated as 220-Age)"
   ]
  },
  {
   "cell_type": "code",
   "execution_count": null,
   "id": "5d8049c5-deb8-4742-9441-11915b5c71e1",
   "metadata": {},
   "outputs": [],
   "source": []
  },
  {
   "cell_type": "markdown",
   "id": "8ac181c2-a191-4536-98ed-bf5e75e3d187",
   "metadata": {},
   "source": [
    "Q71: Create a crosstab to show each sport as a column and each heart rate zone as rows with counts of rows that satisfy each condition as values"
   ]
  },
  {
   "cell_type": "code",
   "execution_count": null,
   "id": "5d9168be-0c0f-4339-97e0-a09b8987be2e",
   "metadata": {},
   "outputs": [],
   "source": []
  },
  {
   "cell_type": "markdown",
   "id": "a4ab7ad7-30cf-4ab9-93ad-91dbfd92e5a7",
   "metadata": {},
   "source": [
    "Q72: Provide an example of a lambda function that multiplies any 2 input values."
   ]
  },
  {
   "cell_type": "code",
   "execution_count": null,
   "id": "1b2d1518-5c7a-4356-818b-b9e601bc9ef8",
   "metadata": {},
   "outputs": [],
   "source": []
  },
  {
   "cell_type": "markdown",
   "id": "b9f0d50a-3eec-4c5f-b060-5f7cfe0bb270",
   "metadata": {},
   "source": [
    "Q73: How long was athlete 17s warm up"
   ]
  },
  {
   "cell_type": "code",
   "execution_count": null,
   "id": "ef3de644-6c57-4264-8014-0e5a8da124ec",
   "metadata": {},
   "outputs": [],
   "source": []
  },
  {
   "cell_type": "markdown",
   "id": "0d72b171-c014-4ae6-a194-198314aed7b7",
   "metadata": {},
   "source": [
    "Q74: Take a students full name and reverse it using a for loop"
   ]
  },
  {
   "cell_type": "code",
   "execution_count": null,
   "id": "ca4e10e6-770a-4295-84eb-58c515f66235",
   "metadata": {},
   "outputs": [],
   "source": []
  },
  {
   "cell_type": "markdown",
   "id": "bc6ab38f-5689-496c-a4f3-38807681df00",
   "metadata": {},
   "source": [
    "Q75: What was the maximum heart rate recorded during the test. Which athlete did it belong to? Display name, sport and HR"
   ]
  },
  {
   "cell_type": "code",
   "execution_count": null,
   "id": "7589dbf5-40c5-4676-b610-fe69799e2f71",
   "metadata": {},
   "outputs": [],
   "source": []
  },
  {
   "cell_type": "markdown",
   "id": "a331dd68-f6ca-4bcb-b831-acb720ff1307",
   "metadata": {},
   "source": [
    "Q76: np.arange(1,31).reshape(6,5),find array slicing to get the elements 2,5,13,25,30."
   ]
  },
  {
   "cell_type": "code",
   "execution_count": null,
   "id": "e1eb7bb7-3e06-4996-a3e4-ebf05a1d84a7",
   "metadata": {},
   "outputs": [],
   "source": []
  },
  {
   "cell_type": "markdown",
   "id": "dd7c3ea8-95f7-4f0b-950e-62b7da56622b",
   "metadata": {},
   "source": [
    "Q77: Display a violin chart to show distribution of VO2Max against age."
   ]
  },
  {
   "cell_type": "code",
   "execution_count": null,
   "id": "f51ec4da-b458-45c3-a227-ce47e210f175",
   "metadata": {},
   "outputs": [],
   "source": []
  },
  {
   "cell_type": "markdown",
   "id": "179f5903-980a-4c5e-87f2-647d37d7729f",
   "metadata": {},
   "source": [
    "Q78: Create a heatmap that show heart rate zones by minutes and the number of athletes in each HR and each minute."
   ]
  },
  {
   "cell_type": "code",
   "execution_count": null,
   "id": "a8c9302e-9d32-420d-a32a-fc03bdc4471d",
   "metadata": {},
   "outputs": [],
   "source": []
  },
  {
   "cell_type": "markdown",
   "id": "eb190061-f12d-4639-827a-632ebb5fea30",
   "metadata": {},
   "source": [
    "Q79: Plot the Donut chart athlete distrubution by Gender"
   ]
  },
  {
   "cell_type": "code",
   "execution_count": null,
   "id": "e56ed83e-6932-4566-b038-556dcf5bd834",
   "metadata": {},
   "outputs": [],
   "source": []
  },
  {
   "attachments": {},
   "cell_type": "markdown",
   "id": "f9a203ec-0b19-4528-bf47-ef69c99ab7f8",
   "metadata": {},
   "source": [
    "Q80: Find the size of Tuple for any given input \r\n"
   ]
  }
 ],
 "metadata": {
  "kernelspec": {
   "display_name": "Python 3 (ipykernel)",
   "language": "python",
   "name": "python3"
  },
  "language_info": {
   "codemirror_mode": {
    "name": "ipython",
    "version": 3
   },
   "file_extension": ".py",
   "mimetype": "text/x-python",
   "name": "python",
   "nbconvert_exporter": "python",
   "pygments_lexer": "ipython3",
   "version": "3.12.4"
  }
 },
 "nbformat": 4,
 "nbformat_minor": 5
}
