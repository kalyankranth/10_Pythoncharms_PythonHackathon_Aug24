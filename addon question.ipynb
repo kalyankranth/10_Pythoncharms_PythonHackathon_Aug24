{
 "cells": [
  {
   "cell_type": "code",
<<<<<<< HEAD
   "execution_count": 1,
=======
   "execution_count": 9,
>>>>>>> e17bf7ebc0398d360a7d61ae8cb7b24acbbec5cc
   "id": "d71fbb75-7e7a-4302-9c01-c08b82987a9f",
   "metadata": {},
   "outputs": [],
   "source": [
    "import numpy as np\n",
    "import pandas as pd\n",
    "import seaborn as sns\n",
    "import matplotlib.pyplot as plt\n",
    "import warnings\n",
    "warnings.simplefilter(action='ignore', category=FutureWarning)"
   ]
  },
  {
   "cell_type": "markdown",
   "id": "a0882fbd",
   "metadata": {},
   "source": [
    "ADDITIONAL QUESTIONS"
   ]
  },
  {
   "cell_type": "code",
<<<<<<< HEAD
   "execution_count": 2,
=======
   "execution_count": 4,
>>>>>>> e17bf7ebc0398d360a7d61ae8cb7b24acbbec5cc
   "id": "f708c80a-95eb-45c6-920b-82c5ee98a619",
   "metadata": {},
   "outputs": [
    {
     "name": "stderr",
     "output_type": "stream",
     "text": [
<<<<<<< HEAD
      "C:\\ProgramData\\anaconda3\\Lib\\site-packages\\openpyxl\\worksheet\\_read_only.py:79: UserWarning: Unknown extension is not supported and will be removed\n",
      "  for idx, row in parser.parse():\n",
      "C:\\ProgramData\\anaconda3\\Lib\\site-packages\\openpyxl\\worksheet\\_read_only.py:79: UserWarning: Unknown extension is not supported and will be removed\n",
      "  for idx, row in parser.parse():\n",
      "C:\\ProgramData\\anaconda3\\Lib\\site-packages\\openpyxl\\worksheet\\_read_only.py:79: UserWarning: Unknown extension is not supported and will be removed\n",
=======
      "C:\\Users\\varap\\anaconda3\\Lib\\site-packages\\openpyxl\\worksheet\\_read_only.py:81: UserWarning: Unknown extension is not supported and will be removed\n",
      "  for idx, row in parser.parse():\n",
      "C:\\Users\\varap\\anaconda3\\Lib\\site-packages\\openpyxl\\worksheet\\_read_only.py:81: UserWarning: Unknown extension is not supported and will be removed\n",
      "  for idx, row in parser.parse():\n",
      "C:\\Users\\varap\\anaconda3\\Lib\\site-packages\\openpyxl\\worksheet\\_read_only.py:81: UserWarning: Unknown extension is not supported and will be removed\n",
>>>>>>> e17bf7ebc0398d360a7d61ae8cb7b24acbbec5cc
      "  for idx, row in parser.parse():\n"
     ]
    },
    {
<<<<<<< HEAD
     "data": {
      "text/html": [
       "<div>\n",
       "<style scoped>\n",
       "    .dataframe tbody tr th:only-of-type {\n",
       "        vertical-align: middle;\n",
       "    }\n",
       "\n",
       "    .dataframe tbody tr th {\n",
       "        vertical-align: top;\n",
       "    }\n",
       "\n",
       "    .dataframe thead th {\n",
       "        text-align: right;\n",
       "    }\n",
       "</style>\n",
       "<table border=\"1\" class=\"dataframe\">\n",
       "  <thead>\n",
       "    <tr style=\"text-align: right;\">\n",
       "      <th></th>\n",
       "      <th>ID</th>\n",
       "      <th>time</th>\n",
       "      <th>RR</th>\n",
       "      <th>VO2</th>\n",
       "      <th>power</th>\n",
       "    </tr>\n",
       "  </thead>\n",
       "  <tbody>\n",
       "    <tr>\n",
       "      <th>0</th>\n",
       "      <td>11</td>\n",
       "      <td>-168.600</td>\n",
       "      <td>727.0</td>\n",
       "      <td>0.287147</td>\n",
       "      <td>0</td>\n",
       "    </tr>\n",
       "    <tr>\n",
       "      <th>1</th>\n",
       "      <td>11</td>\n",
       "      <td>-167.872</td>\n",
       "      <td>728.0</td>\n",
       "      <td>0.287147</td>\n",
       "      <td>0</td>\n",
       "    </tr>\n",
       "    <tr>\n",
       "      <th>2</th>\n",
       "      <td>11</td>\n",
       "      <td>-167.148</td>\n",
       "      <td>724.0</td>\n",
       "      <td>0.287147</td>\n",
       "      <td>0</td>\n",
       "    </tr>\n",
       "    <tr>\n",
       "      <th>3</th>\n",
       "      <td>11</td>\n",
       "      <td>-166.484</td>\n",
       "      <td>664.0</td>\n",
       "      <td>0.320580</td>\n",
       "      <td>0</td>\n",
       "    </tr>\n",
       "    <tr>\n",
       "      <th>4</th>\n",
       "      <td>11</td>\n",
       "      <td>-165.836</td>\n",
       "      <td>648.0</td>\n",
       "      <td>0.320580</td>\n",
       "      <td>0</td>\n",
       "    </tr>\n",
       "  </tbody>\n",
       "</table>\n",
       "</div>"
      ],
      "text/plain": [
       "   ID     time     RR       VO2  power\n",
       "0  11 -168.600  727.0  0.287147      0\n",
       "1  11 -167.872  728.0  0.287147      0\n",
       "2  11 -167.148  724.0  0.287147      0\n",
       "3  11 -166.484  664.0  0.320580      0\n",
       "4  11 -165.836  648.0  0.320580      0"
      ]
     },
     "execution_count": 2,
     "metadata": {},
     "output_type": "execute_result"
=======
     "ename": "PermissionError",
     "evalue": "[Errno 13] Permission denied: 'AllAthletesData.xlsx'",
     "output_type": "error",
     "traceback": [
      "\u001b[1;31m---------------------------------------------------------------------------\u001b[0m",
      "\u001b[1;31mPermissionError\u001b[0m                           Traceback (most recent call last)",
      "Cell \u001b[1;32mIn[4], line 6\u001b[0m\n\u001b[0;32m      4\u001b[0m Fencing\u001b[38;5;241m=\u001b[39m pd\u001b[38;5;241m.\u001b[39mread_excel(\u001b[38;5;124m\"\u001b[39m\u001b[38;5;124mV02Max_Combined.xlsx\u001b[39m\u001b[38;5;124m\"\u001b[39m,sheet_name\u001b[38;5;241m=\u001b[39m \u001b[38;5;124m\"\u001b[39m\u001b[38;5;124mFencing\u001b[39m\u001b[38;5;124m\"\u001b[39m)\n\u001b[0;32m      5\u001b[0m Athletes\u001b[38;5;241m=\u001b[39mpd\u001b[38;5;241m.\u001b[39mread_excel(\u001b[38;5;124m\"\u001b[39m\u001b[38;5;124mV02Max_Combined.xlsx\u001b[39m\u001b[38;5;124m\"\u001b[39m,sheet_name\u001b[38;5;241m=\u001b[39m \u001b[38;5;124m\"\u001b[39m\u001b[38;5;124mAthletes\u001b[39m\u001b[38;5;124m\"\u001b[39m)\n\u001b[1;32m----> 6\u001b[0m AllAthletes\u001b[38;5;241m=\u001b[39mpd\u001b[38;5;241m.\u001b[39mread_excel(\u001b[38;5;124m\"\u001b[39m\u001b[38;5;124mAllAthletesData.xlsx\u001b[39m\u001b[38;5;124m\"\u001b[39m)\n\u001b[0;32m      7\u001b[0m AllAthletes\u001b[38;5;241m.\u001b[39mhead()\n",
      "File \u001b[1;32m~\\anaconda3\\Lib\\site-packages\\pandas\\io\\excel\\_base.py:495\u001b[0m, in \u001b[0;36mread_excel\u001b[1;34m(io, sheet_name, header, names, index_col, usecols, dtype, engine, converters, true_values, false_values, skiprows, nrows, na_values, keep_default_na, na_filter, verbose, parse_dates, date_parser, date_format, thousands, decimal, comment, skipfooter, storage_options, dtype_backend, engine_kwargs)\u001b[0m\n\u001b[0;32m    493\u001b[0m \u001b[38;5;28;01mif\u001b[39;00m \u001b[38;5;129;01mnot\u001b[39;00m \u001b[38;5;28misinstance\u001b[39m(io, ExcelFile):\n\u001b[0;32m    494\u001b[0m     should_close \u001b[38;5;241m=\u001b[39m \u001b[38;5;28;01mTrue\u001b[39;00m\n\u001b[1;32m--> 495\u001b[0m     io \u001b[38;5;241m=\u001b[39m ExcelFile(\n\u001b[0;32m    496\u001b[0m         io,\n\u001b[0;32m    497\u001b[0m         storage_options\u001b[38;5;241m=\u001b[39mstorage_options,\n\u001b[0;32m    498\u001b[0m         engine\u001b[38;5;241m=\u001b[39mengine,\n\u001b[0;32m    499\u001b[0m         engine_kwargs\u001b[38;5;241m=\u001b[39mengine_kwargs,\n\u001b[0;32m    500\u001b[0m     )\n\u001b[0;32m    501\u001b[0m \u001b[38;5;28;01melif\u001b[39;00m engine \u001b[38;5;129;01mand\u001b[39;00m engine \u001b[38;5;241m!=\u001b[39m io\u001b[38;5;241m.\u001b[39mengine:\n\u001b[0;32m    502\u001b[0m     \u001b[38;5;28;01mraise\u001b[39;00m \u001b[38;5;167;01mValueError\u001b[39;00m(\n\u001b[0;32m    503\u001b[0m         \u001b[38;5;124m\"\u001b[39m\u001b[38;5;124mEngine should not be specified when passing \u001b[39m\u001b[38;5;124m\"\u001b[39m\n\u001b[0;32m    504\u001b[0m         \u001b[38;5;124m\"\u001b[39m\u001b[38;5;124man ExcelFile - ExcelFile already has the engine set\u001b[39m\u001b[38;5;124m\"\u001b[39m\n\u001b[0;32m    505\u001b[0m     )\n",
      "File \u001b[1;32m~\\anaconda3\\Lib\\site-packages\\pandas\\io\\excel\\_base.py:1550\u001b[0m, in \u001b[0;36mExcelFile.__init__\u001b[1;34m(self, path_or_buffer, engine, storage_options, engine_kwargs)\u001b[0m\n\u001b[0;32m   1548\u001b[0m     ext \u001b[38;5;241m=\u001b[39m \u001b[38;5;124m\"\u001b[39m\u001b[38;5;124mxls\u001b[39m\u001b[38;5;124m\"\u001b[39m\n\u001b[0;32m   1549\u001b[0m \u001b[38;5;28;01melse\u001b[39;00m:\n\u001b[1;32m-> 1550\u001b[0m     ext \u001b[38;5;241m=\u001b[39m inspect_excel_format(\n\u001b[0;32m   1551\u001b[0m         content_or_path\u001b[38;5;241m=\u001b[39mpath_or_buffer, storage_options\u001b[38;5;241m=\u001b[39mstorage_options\n\u001b[0;32m   1552\u001b[0m     )\n\u001b[0;32m   1553\u001b[0m     \u001b[38;5;28;01mif\u001b[39;00m ext \u001b[38;5;129;01mis\u001b[39;00m \u001b[38;5;28;01mNone\u001b[39;00m:\n\u001b[0;32m   1554\u001b[0m         \u001b[38;5;28;01mraise\u001b[39;00m \u001b[38;5;167;01mValueError\u001b[39;00m(\n\u001b[0;32m   1555\u001b[0m             \u001b[38;5;124m\"\u001b[39m\u001b[38;5;124mExcel file format cannot be determined, you must specify \u001b[39m\u001b[38;5;124m\"\u001b[39m\n\u001b[0;32m   1556\u001b[0m             \u001b[38;5;124m\"\u001b[39m\u001b[38;5;124man engine manually.\u001b[39m\u001b[38;5;124m\"\u001b[39m\n\u001b[0;32m   1557\u001b[0m         )\n",
      "File \u001b[1;32m~\\anaconda3\\Lib\\site-packages\\pandas\\io\\excel\\_base.py:1402\u001b[0m, in \u001b[0;36minspect_excel_format\u001b[1;34m(content_or_path, storage_options)\u001b[0m\n\u001b[0;32m   1399\u001b[0m \u001b[38;5;28;01mif\u001b[39;00m \u001b[38;5;28misinstance\u001b[39m(content_or_path, \u001b[38;5;28mbytes\u001b[39m):\n\u001b[0;32m   1400\u001b[0m     content_or_path \u001b[38;5;241m=\u001b[39m BytesIO(content_or_path)\n\u001b[1;32m-> 1402\u001b[0m \u001b[38;5;28;01mwith\u001b[39;00m get_handle(\n\u001b[0;32m   1403\u001b[0m     content_or_path, \u001b[38;5;124m\"\u001b[39m\u001b[38;5;124mrb\u001b[39m\u001b[38;5;124m\"\u001b[39m, storage_options\u001b[38;5;241m=\u001b[39mstorage_options, is_text\u001b[38;5;241m=\u001b[39m\u001b[38;5;28;01mFalse\u001b[39;00m\n\u001b[0;32m   1404\u001b[0m ) \u001b[38;5;28;01mas\u001b[39;00m handle:\n\u001b[0;32m   1405\u001b[0m     stream \u001b[38;5;241m=\u001b[39m handle\u001b[38;5;241m.\u001b[39mhandle\n\u001b[0;32m   1406\u001b[0m     stream\u001b[38;5;241m.\u001b[39mseek(\u001b[38;5;241m0\u001b[39m)\n",
      "File \u001b[1;32m~\\anaconda3\\Lib\\site-packages\\pandas\\io\\common.py:882\u001b[0m, in \u001b[0;36mget_handle\u001b[1;34m(path_or_buf, mode, encoding, compression, memory_map, is_text, errors, storage_options)\u001b[0m\n\u001b[0;32m    873\u001b[0m         handle \u001b[38;5;241m=\u001b[39m \u001b[38;5;28mopen\u001b[39m(\n\u001b[0;32m    874\u001b[0m             handle,\n\u001b[0;32m    875\u001b[0m             ioargs\u001b[38;5;241m.\u001b[39mmode,\n\u001b[1;32m   (...)\u001b[0m\n\u001b[0;32m    878\u001b[0m             newline\u001b[38;5;241m=\u001b[39m\u001b[38;5;124m\"\u001b[39m\u001b[38;5;124m\"\u001b[39m,\n\u001b[0;32m    879\u001b[0m         )\n\u001b[0;32m    880\u001b[0m     \u001b[38;5;28;01melse\u001b[39;00m:\n\u001b[0;32m    881\u001b[0m         \u001b[38;5;66;03m# Binary mode\u001b[39;00m\n\u001b[1;32m--> 882\u001b[0m         handle \u001b[38;5;241m=\u001b[39m \u001b[38;5;28mopen\u001b[39m(handle, ioargs\u001b[38;5;241m.\u001b[39mmode)\n\u001b[0;32m    883\u001b[0m     handles\u001b[38;5;241m.\u001b[39mappend(handle)\n\u001b[0;32m    885\u001b[0m \u001b[38;5;66;03m# Convert BytesIO or file objects passed with an encoding\u001b[39;00m\n",
      "\u001b[1;31mPermissionError\u001b[0m: [Errno 13] Permission denied: 'AllAthletesData.xlsx'"
     ]
>>>>>>> e17bf7ebc0398d360a7d61ae8cb7b24acbbec5cc
    }
   ],
   "source": [
    "import pandas as pd\n",
    "Kayaking= pd.read_excel(\"V02Max_Combined.xlsx\",sheet_name= \"Kayaking\")\n",
    "Triathlon= pd.read_excel(\"V02Max_Combined.xlsx\",sheet_name= \"Triathlon\")\n",
    "Fencing= pd.read_excel(\"V02Max_Combined.xlsx\",sheet_name= \"Fencing\")\n",
    "Athletes=pd.read_excel(\"V02Max_Combined.xlsx\",sheet_name= \"Athletes\")\n",
    "AllAthletes=pd.read_excel(\"AllAthletesData.xlsx\")\n",
    "AllAthletes.head()"
   ]
  },
  {
   "cell_type": "code",
   "execution_count": 4,
   "id": "5910f355-5c0a-4926-b2ee-f0469d33e053",
   "metadata": {},
   "outputs": [
    {
     "ename": "SyntaxError",
     "evalue": "invalid syntax (1190254197.py, line 4)",
     "output_type": "error",
     "traceback": [
      "\u001b[1;36m  Cell \u001b[1;32mIn[4], line 4\u001b[1;36m\u001b[0m\n\u001b[1;33m    Zone 1= len(df_excersizetype[df_excersizetype['HR'] < 100]\u001b[0m\n\u001b[1;37m         ^\u001b[0m\n\u001b[1;31mSyntaxError\u001b[0m\u001b[1;31m:\u001b[0m invalid syntax\n"
     ]
    }
   ],
   "source": [
    "df_excersizetype=pd.read_excel('AllAthletesData.xlsx',sheet_name='AllAthletesData')\n",
    "df_excersizetype['HR']=60/(df_excersizetype['RR']/1000)\n",
    "df_excersizetype\n",
    "Zone 1= len(df_excersizetype[df_excersizetype['HR'] < 100]\n",
    "Zone 2= len(df_excersizetype[df_excersizetype['HR'].between(121,135)]\n",
    "Zone 4= len(df_excersizetype[df_excersizetype['HR'].between(136,155)]\n",
    "zone 5= len(df_excersizetype[df_excersizetype['HR'] > 155] \n",
    "df_excersizetype"
   ]
  },
  {
   "cell_type": "code",
   "execution_count": 5,
   "id": "474ed12c-8050-4a41-98bf-2b0af23e3356",
   "metadata": {},
   "outputs": [
    {
     "data": {
      "text/html": [
       "<div>\n",
       "<style scoped>\n",
       "    .dataframe tbody tr th:only-of-type {\n",
       "        vertical-align: middle;\n",
       "    }\n",
       "\n",
       "    .dataframe tbody tr th {\n",
       "        vertical-align: top;\n",
       "    }\n",
       "\n",
       "    .dataframe thead th {\n",
       "        text-align: right;\n",
       "    }\n",
       "</style>\n",
       "<table border=\"1\" class=\"dataframe\">\n",
       "  <thead>\n",
       "    <tr style=\"text-align: right;\">\n",
       "      <th></th>\n",
       "      <th>ID</th>\n",
       "      <th>time</th>\n",
       "      <th>RR</th>\n",
       "      <th>VO2</th>\n",
       "      <th>power</th>\n",
       "      <th>ExType</th>\n",
       "    </tr>\n",
       "  </thead>\n",
       "  <tbody>\n",
       "    <tr>\n",
       "      <th>0</th>\n",
       "      <td>11</td>\n",
       "      <td>-168.600</td>\n",
       "      <td>727.0</td>\n",
       "      <td>0.287147</td>\n",
       "      <td>0</td>\n",
       "      <td>Warm Up</td>\n",
       "    </tr>\n",
       "    <tr>\n",
       "      <th>1</th>\n",
       "      <td>11</td>\n",
       "      <td>-167.872</td>\n",
       "      <td>728.0</td>\n",
       "      <td>0.287147</td>\n",
       "      <td>0</td>\n",
       "      <td>Warm Up</td>\n",
       "    </tr>\n",
       "    <tr>\n",
       "      <th>2</th>\n",
       "      <td>11</td>\n",
       "      <td>-167.148</td>\n",
       "      <td>724.0</td>\n",
       "      <td>0.287147</td>\n",
       "      <td>0</td>\n",
       "      <td>Warm Up</td>\n",
       "    </tr>\n",
       "    <tr>\n",
       "      <th>3</th>\n",
       "      <td>11</td>\n",
       "      <td>-166.484</td>\n",
       "      <td>664.0</td>\n",
       "      <td>0.320580</td>\n",
       "      <td>0</td>\n",
       "      <td>Warm Up</td>\n",
       "    </tr>\n",
       "    <tr>\n",
       "      <th>4</th>\n",
       "      <td>11</td>\n",
       "      <td>-165.836</td>\n",
       "      <td>648.0</td>\n",
       "      <td>0.320580</td>\n",
       "      <td>0</td>\n",
       "      <td>Warm Up</td>\n",
       "    </tr>\n",
       "    <tr>\n",
       "      <th>...</th>\n",
       "      <td>...</td>\n",
       "      <td>...</td>\n",
       "      <td>...</td>\n",
       "      <td>...</td>\n",
       "      <td>...</td>\n",
       "      <td>...</td>\n",
       "    </tr>\n",
       "    <tr>\n",
       "      <th>52057</th>\n",
       "      <td>10</td>\n",
       "      <td>942.700</td>\n",
       "      <td>428.0</td>\n",
       "      <td>0.786363</td>\n",
       "      <td>0</td>\n",
       "      <td>Cool Down</td>\n",
       "    </tr>\n",
       "    <tr>\n",
       "      <th>52058</th>\n",
       "      <td>10</td>\n",
       "      <td>943.124</td>\n",
       "      <td>424.0</td>\n",
       "      <td>0.786363</td>\n",
       "      <td>0</td>\n",
       "      <td>Cool Down</td>\n",
       "    </tr>\n",
       "    <tr>\n",
       "      <th>52059</th>\n",
       "      <td>10</td>\n",
       "      <td>943.552</td>\n",
       "      <td>428.0</td>\n",
       "      <td>0.786363</td>\n",
       "      <td>0</td>\n",
       "      <td>Cool Down</td>\n",
       "    </tr>\n",
       "    <tr>\n",
       "      <th>52060</th>\n",
       "      <td>10</td>\n",
       "      <td>943.976</td>\n",
       "      <td>424.0</td>\n",
       "      <td>0.786363</td>\n",
       "      <td>0</td>\n",
       "      <td>Cool Down</td>\n",
       "    </tr>\n",
       "    <tr>\n",
       "      <th>52061</th>\n",
       "      <td>10</td>\n",
       "      <td>944.404</td>\n",
       "      <td>428.0</td>\n",
       "      <td>0.786363</td>\n",
       "      <td>0</td>\n",
       "      <td>Cool Down</td>\n",
       "    </tr>\n",
       "  </tbody>\n",
       "</table>\n",
       "<p>52062 rows × 6 columns</p>\n",
       "</div>"
      ],
      "text/plain": [
       "       ID     time     RR       VO2  power     ExType\n",
       "0      11 -168.600  727.0  0.287147      0    Warm Up\n",
       "1      11 -167.872  728.0  0.287147      0    Warm Up\n",
       "2      11 -167.148  724.0  0.287147      0    Warm Up\n",
       "3      11 -166.484  664.0  0.320580      0    Warm Up\n",
       "4      11 -165.836  648.0  0.320580      0    Warm Up\n",
       "...    ..      ...    ...       ...    ...        ...\n",
       "52057  10  942.700  428.0  0.786363      0  Cool Down\n",
       "52058  10  943.124  424.0  0.786363      0  Cool Down\n",
       "52059  10  943.552  428.0  0.786363      0  Cool Down\n",
       "52060  10  943.976  424.0  0.786363      0  Cool Down\n",
       "52061  10  944.404  428.0  0.786363      0  Cool Down\n",
       "\n",
       "[52062 rows x 6 columns]"
      ]
     },
     "execution_count": 5,
     "metadata": {},
     "output_type": "execute_result"
    }
   ],
   "source": [
    "df_excersizetype=pd.read_excel('AllAthletesData.xlsx',sheet_name='AllAthletesData')\n",
    "df_excersizetype.loc[df_excersizetype['time'] < 0,'ExType']='Warm Up' \n",
    "df_excersizetype.loc[(df_excersizetype['time'] >= 0) & (df_excersizetype['power'] > 0), 'ExType'] = 'GET'\n",
    "df_excersizetype.loc[(df_excersizetype['time'] >= 0) & (df_excersizetype['power'] == 0), 'ExType'] = 'Cool Down'\n",
    "df_excersizetype"
   ]
  },
  {
   "cell_type": "markdown",
   "id": "eaab59f7",
   "metadata": {},
   "source": [
    "AQ refers to Additional questions"
   ]
  },
  {
   "cell_type": "markdown",
   "id": "bf56ecac",
   "metadata": {},
   "source": [
    "AQ1: Create a funnel chart of zone wise"
   ]
  },
  {
   "cell_type": "code",
   "execution_count": 8,
   "id": "357e1d18-ece5-411c-8e71-5ceab982df67",
   "metadata": {},
   "outputs": [
    {
     "data": {
      "application/vnd.plotly.v1+json": {
       "config": {
        "plotlyServerURL": "https://plot.ly"
       },
       "data": [
        {
         "hovertemplate": "AthletesCount=%{x}<br>category=%{y}<extra></extra>",
         "legendgroup": "",
         "marker": {
          "color": "#636efa"
         },
         "name": "",
         "orientation": "v",
         "showlegend": false,
         "type": "funnel",
         "x": [
          "Zone 1",
          "Zone 2",
          "Zone 3",
          "Zone 4",
          "Zone 5"
         ],
         "xaxis": "x",
         "y": [
          "Zone 1 ",
          "Zone 2 ",
          "Zone 3 ",
          "Zone 4",
          "Zone 5"
         ],
         "yaxis": "y"
        }
       ],
       "layout": {
        "legend": {
         "tracegroupgap": 0
        },
        "margin": {
         "t": 60
        },
        "template": {
         "data": {
          "bar": [
           {
            "error_x": {
             "color": "#2a3f5f"
            },
            "error_y": {
             "color": "#2a3f5f"
            },
            "marker": {
             "line": {
              "color": "#E5ECF6",
              "width": 0.5
             },
             "pattern": {
              "fillmode": "overlay",
              "size": 10,
              "solidity": 0.2
             }
            },
            "type": "bar"
           }
          ],
          "barpolar": [
           {
            "marker": {
             "line": {
              "color": "#E5ECF6",
              "width": 0.5
             },
             "pattern": {
              "fillmode": "overlay",
              "size": 10,
              "solidity": 0.2
             }
            },
            "type": "barpolar"
           }
          ],
          "carpet": [
           {
            "aaxis": {
             "endlinecolor": "#2a3f5f",
             "gridcolor": "white",
             "linecolor": "white",
             "minorgridcolor": "white",
             "startlinecolor": "#2a3f5f"
            },
            "baxis": {
             "endlinecolor": "#2a3f5f",
             "gridcolor": "white",
             "linecolor": "white",
             "minorgridcolor": "white",
             "startlinecolor": "#2a3f5f"
            },
            "type": "carpet"
           }
          ],
          "choropleth": [
           {
            "colorbar": {
             "outlinewidth": 0,
             "ticks": ""
            },
            "type": "choropleth"
           }
          ],
          "contour": [
           {
            "colorbar": {
             "outlinewidth": 0,
             "ticks": ""
            },
            "colorscale": [
             [
              0,
              "#0d0887"
             ],
             [
              0.1111111111111111,
              "#46039f"
             ],
             [
              0.2222222222222222,
              "#7201a8"
             ],
             [
              0.3333333333333333,
              "#9c179e"
             ],
             [
              0.4444444444444444,
              "#bd3786"
             ],
             [
              0.5555555555555556,
              "#d8576b"
             ],
             [
              0.6666666666666666,
              "#ed7953"
             ],
             [
              0.7777777777777778,
              "#fb9f3a"
             ],
             [
              0.8888888888888888,
              "#fdca26"
             ],
             [
              1,
              "#f0f921"
             ]
            ],
            "type": "contour"
           }
          ],
          "contourcarpet": [
           {
            "colorbar": {
             "outlinewidth": 0,
             "ticks": ""
            },
            "type": "contourcarpet"
           }
          ],
          "heatmap": [
           {
            "colorbar": {
             "outlinewidth": 0,
             "ticks": ""
            },
            "colorscale": [
             [
              0,
              "#0d0887"
             ],
             [
              0.1111111111111111,
              "#46039f"
             ],
             [
              0.2222222222222222,
              "#7201a8"
             ],
             [
              0.3333333333333333,
              "#9c179e"
             ],
             [
              0.4444444444444444,
              "#bd3786"
             ],
             [
              0.5555555555555556,
              "#d8576b"
             ],
             [
              0.6666666666666666,
              "#ed7953"
             ],
             [
              0.7777777777777778,
              "#fb9f3a"
             ],
             [
              0.8888888888888888,
              "#fdca26"
             ],
             [
              1,
              "#f0f921"
             ]
            ],
            "type": "heatmap"
           }
          ],
          "heatmapgl": [
           {
            "colorbar": {
             "outlinewidth": 0,
             "ticks": ""
            },
            "colorscale": [
             [
              0,
              "#0d0887"
             ],
             [
              0.1111111111111111,
              "#46039f"
             ],
             [
              0.2222222222222222,
              "#7201a8"
             ],
             [
              0.3333333333333333,
              "#9c179e"
             ],
             [
              0.4444444444444444,
              "#bd3786"
             ],
             [
              0.5555555555555556,
              "#d8576b"
             ],
             [
              0.6666666666666666,
              "#ed7953"
             ],
             [
              0.7777777777777778,
              "#fb9f3a"
             ],
             [
              0.8888888888888888,
              "#fdca26"
             ],
             [
              1,
              "#f0f921"
             ]
            ],
            "type": "heatmapgl"
           }
          ],
          "histogram": [
           {
            "marker": {
             "pattern": {
              "fillmode": "overlay",
              "size": 10,
              "solidity": 0.2
             }
            },
            "type": "histogram"
           }
          ],
          "histogram2d": [
           {
            "colorbar": {
             "outlinewidth": 0,
             "ticks": ""
            },
            "colorscale": [
             [
              0,
              "#0d0887"
             ],
             [
              0.1111111111111111,
              "#46039f"
             ],
             [
              0.2222222222222222,
              "#7201a8"
             ],
             [
              0.3333333333333333,
              "#9c179e"
             ],
             [
              0.4444444444444444,
              "#bd3786"
             ],
             [
              0.5555555555555556,
              "#d8576b"
             ],
             [
              0.6666666666666666,
              "#ed7953"
             ],
             [
              0.7777777777777778,
              "#fb9f3a"
             ],
             [
              0.8888888888888888,
              "#fdca26"
             ],
             [
              1,
              "#f0f921"
             ]
            ],
            "type": "histogram2d"
           }
          ],
          "histogram2dcontour": [
           {
            "colorbar": {
             "outlinewidth": 0,
             "ticks": ""
            },
            "colorscale": [
             [
              0,
              "#0d0887"
             ],
             [
              0.1111111111111111,
              "#46039f"
             ],
             [
              0.2222222222222222,
              "#7201a8"
             ],
             [
              0.3333333333333333,
              "#9c179e"
             ],
             [
              0.4444444444444444,
              "#bd3786"
             ],
             [
              0.5555555555555556,
              "#d8576b"
             ],
             [
              0.6666666666666666,
              "#ed7953"
             ],
             [
              0.7777777777777778,
              "#fb9f3a"
             ],
             [
              0.8888888888888888,
              "#fdca26"
             ],
             [
              1,
              "#f0f921"
             ]
            ],
            "type": "histogram2dcontour"
           }
          ],
          "mesh3d": [
           {
            "colorbar": {
             "outlinewidth": 0,
             "ticks": ""
            },
            "type": "mesh3d"
           }
          ],
          "parcoords": [
           {
            "line": {
             "colorbar": {
              "outlinewidth": 0,
              "ticks": ""
             }
            },
            "type": "parcoords"
           }
          ],
          "pie": [
           {
            "automargin": true,
            "type": "pie"
           }
          ],
          "scatter": [
           {
            "fillpattern": {
             "fillmode": "overlay",
             "size": 10,
             "solidity": 0.2
            },
            "type": "scatter"
           }
          ],
          "scatter3d": [
           {
            "line": {
             "colorbar": {
              "outlinewidth": 0,
              "ticks": ""
             }
            },
            "marker": {
             "colorbar": {
              "outlinewidth": 0,
              "ticks": ""
             }
            },
            "type": "scatter3d"
           }
          ],
          "scattercarpet": [
           {
            "marker": {
             "colorbar": {
              "outlinewidth": 0,
              "ticks": ""
             }
            },
            "type": "scattercarpet"
           }
          ],
          "scattergeo": [
           {
            "marker": {
             "colorbar": {
              "outlinewidth": 0,
              "ticks": ""
             }
            },
            "type": "scattergeo"
           }
          ],
          "scattergl": [
           {
            "marker": {
             "colorbar": {
              "outlinewidth": 0,
              "ticks": ""
             }
            },
            "type": "scattergl"
           }
          ],
          "scattermapbox": [
           {
            "marker": {
             "colorbar": {
              "outlinewidth": 0,
              "ticks": ""
             }
            },
            "type": "scattermapbox"
           }
          ],
          "scatterpolar": [
           {
            "marker": {
             "colorbar": {
              "outlinewidth": 0,
              "ticks": ""
             }
            },
            "type": "scatterpolar"
           }
          ],
          "scatterpolargl": [
           {
            "marker": {
             "colorbar": {
              "outlinewidth": 0,
              "ticks": ""
             }
            },
            "type": "scatterpolargl"
           }
          ],
          "scatterternary": [
           {
            "marker": {
             "colorbar": {
              "outlinewidth": 0,
              "ticks": ""
             }
            },
            "type": "scatterternary"
           }
          ],
          "surface": [
           {
            "colorbar": {
             "outlinewidth": 0,
             "ticks": ""
            },
            "colorscale": [
             [
              0,
              "#0d0887"
             ],
             [
              0.1111111111111111,
              "#46039f"
             ],
             [
              0.2222222222222222,
              "#7201a8"
             ],
             [
              0.3333333333333333,
              "#9c179e"
             ],
             [
              0.4444444444444444,
              "#bd3786"
             ],
             [
              0.5555555555555556,
              "#d8576b"
             ],
             [
              0.6666666666666666,
              "#ed7953"
             ],
             [
              0.7777777777777778,
              "#fb9f3a"
             ],
             [
              0.8888888888888888,
              "#fdca26"
             ],
             [
              1,
              "#f0f921"
             ]
            ],
            "type": "surface"
           }
          ],
          "table": [
           {
            "cells": {
             "fill": {
              "color": "#EBF0F8"
             },
             "line": {
              "color": "white"
             }
            },
            "header": {
             "fill": {
              "color": "#C8D4E3"
             },
             "line": {
              "color": "white"
             }
            },
            "type": "table"
           }
          ]
         },
         "layout": {
          "annotationdefaults": {
           "arrowcolor": "#2a3f5f",
           "arrowhead": 0,
           "arrowwidth": 1
          },
          "autotypenumbers": "strict",
          "coloraxis": {
           "colorbar": {
            "outlinewidth": 0,
            "ticks": ""
           }
          },
          "colorscale": {
           "diverging": [
            [
             0,
             "#8e0152"
            ],
            [
             0.1,
             "#c51b7d"
            ],
            [
             0.2,
             "#de77ae"
            ],
            [
             0.3,
             "#f1b6da"
            ],
            [
             0.4,
             "#fde0ef"
            ],
            [
             0.5,
             "#f7f7f7"
            ],
            [
             0.6,
             "#e6f5d0"
            ],
            [
             0.7,
             "#b8e186"
            ],
            [
             0.8,
             "#7fbc41"
            ],
            [
             0.9,
             "#4d9221"
            ],
            [
             1,
             "#276419"
            ]
           ],
           "sequential": [
            [
             0,
             "#0d0887"
            ],
            [
             0.1111111111111111,
             "#46039f"
            ],
            [
             0.2222222222222222,
             "#7201a8"
            ],
            [
             0.3333333333333333,
             "#9c179e"
            ],
            [
             0.4444444444444444,
             "#bd3786"
            ],
            [
             0.5555555555555556,
             "#d8576b"
            ],
            [
             0.6666666666666666,
             "#ed7953"
            ],
            [
             0.7777777777777778,
             "#fb9f3a"
            ],
            [
             0.8888888888888888,
             "#fdca26"
            ],
            [
             1,
             "#f0f921"
            ]
           ],
           "sequentialminus": [
            [
             0,
             "#0d0887"
            ],
            [
             0.1111111111111111,
             "#46039f"
            ],
            [
             0.2222222222222222,
             "#7201a8"
            ],
            [
             0.3333333333333333,
             "#9c179e"
            ],
            [
             0.4444444444444444,
             "#bd3786"
            ],
            [
             0.5555555555555556,
             "#d8576b"
            ],
            [
             0.6666666666666666,
             "#ed7953"
            ],
            [
             0.7777777777777778,
             "#fb9f3a"
            ],
            [
             0.8888888888888888,
             "#fdca26"
            ],
            [
             1,
             "#f0f921"
            ]
           ]
          },
          "colorway": [
           "#636efa",
           "#EF553B",
           "#00cc96",
           "#ab63fa",
           "#FFA15A",
           "#19d3f3",
           "#FF6692",
           "#B6E880",
           "#FF97FF",
           "#FECB52"
          ],
          "font": {
           "color": "#2a3f5f"
          },
          "geo": {
           "bgcolor": "white",
           "lakecolor": "white",
           "landcolor": "#E5ECF6",
           "showlakes": true,
           "showland": true,
           "subunitcolor": "white"
          },
          "hoverlabel": {
           "align": "left"
          },
          "hovermode": "closest",
          "mapbox": {
           "style": "light"
          },
          "paper_bgcolor": "white",
          "plot_bgcolor": "#E5ECF6",
          "polar": {
           "angularaxis": {
            "gridcolor": "white",
            "linecolor": "white",
            "ticks": ""
           },
           "bgcolor": "#E5ECF6",
           "radialaxis": {
            "gridcolor": "white",
            "linecolor": "white",
            "ticks": ""
           }
          },
          "scene": {
           "xaxis": {
            "backgroundcolor": "#E5ECF6",
            "gridcolor": "white",
            "gridwidth": 2,
            "linecolor": "white",
            "showbackground": true,
            "ticks": "",
            "zerolinecolor": "white"
           },
           "yaxis": {
            "backgroundcolor": "#E5ECF6",
            "gridcolor": "white",
            "gridwidth": 2,
            "linecolor": "white",
            "showbackground": true,
            "ticks": "",
            "zerolinecolor": "white"
           },
           "zaxis": {
            "backgroundcolor": "#E5ECF6",
            "gridcolor": "white",
            "gridwidth": 2,
            "linecolor": "white",
            "showbackground": true,
            "ticks": "",
            "zerolinecolor": "white"
           }
          },
          "shapedefaults": {
           "line": {
            "color": "#2a3f5f"
           }
          },
          "ternary": {
           "aaxis": {
            "gridcolor": "white",
            "linecolor": "white",
            "ticks": ""
           },
           "baxis": {
            "gridcolor": "white",
            "linecolor": "white",
            "ticks": ""
           },
           "bgcolor": "#E5ECF6",
           "caxis": {
            "gridcolor": "white",
            "linecolor": "white",
            "ticks": ""
           }
          },
          "title": {
           "x": 0.05
          },
          "xaxis": {
           "automargin": true,
           "gridcolor": "white",
           "linecolor": "white",
           "ticks": "",
           "title": {
            "standoff": 15
           },
           "zerolinecolor": "white",
           "zerolinewidth": 2
          },
          "yaxis": {
           "automargin": true,
           "gridcolor": "white",
           "linecolor": "white",
           "ticks": "",
           "title": {
            "standoff": 15
           },
           "zerolinecolor": "white",
           "zerolinewidth": 2
          }
         }
        },
        "xaxis": {
         "anchor": "y",
         "domain": [
          0,
          1
         ],
         "title": {
          "text": "AthletesCount"
         }
        },
        "yaxis": {
         "anchor": "x",
         "domain": [
          0,
          1
         ],
         "title": {
          "text": "category"
         }
        }
       }
      },
<<<<<<< HEAD
=======
      "image/png": "iVBORw0KGgoAAAANSUhEUgAABE0AAAFoCAYAAACixgUDAAAAAXNSR0IArs4c6QAAIABJREFUeF7t3X+QZWlZH/D39q4CKVEBgYXEX6gR8EdMLAQ0GhStlIskxpSolaS0sMgWpFJRKShWy1jG0qUgaKqsaFGUaCpFRExMDMWalEFXMAFmZ2Znd3Znd9ZhmV2GndmdgZHWYXumerpTp4c7e+bO7b7n9nPPOe857+f+o+yc97zv+3neuXP72+9572R7e3s7eREgQIAAAQIECBAgQIAAAQIECFwjMBGaWBEECBAgQIAAAQIECBAgQIAAgesFhCZWBQECBAgQIECAAAECBAgQIEBgjoDQxLIgQIAAAQIECBAgQIAAAQIECAhNrAECBAgQIECAAAECBAgQIECAQDMBO02aObmKAAECBAgQIECAAAECBAgQKExAaFJYwU2XAAECBAgQIECAAAECBAgQaCYgNGnm5CoCBAgQIECAAAECBAgQIECgMAGhSWEFN10CBAgQIECAAAECBAgQIECgmYDQpJmTqwgQIECAAAECBAgQIECAAIHCBIQmhRXcdAkQIECAAAECBAgQIECAAIFmAkKTZk6uIkCAAAECBAgQIECAAAECBAoTEJoUVnDTJUCAAAECBAgQIECAAAECBJoJCE2aObmKAAECBAgQIECAAAECBAgQKExAaFJYwU2XAAECBAgQIECAAAECBAgQaCYgNGnm5CoCBAgQIECAAAECBAgQIECgMAGhSWEFN10CBAgQIECAAAECBAgQIECgmYDQpJmTqwgQIECAAAECBAgQIECAAIHCBIQmhRXcdAkQIECAAAECBAgQIECAAIFmAkKTZk6uIkCAAAECBAgQIECAAAECBAoTEJoUVnDTJUCAAAECBAgQIECAAAECBJoJCE2aObmKAAECBAgQIECAAAECBAgQKExAaFJYwU2XAAECBAgQIECAAAECBAgQaCYgNGnm5CoCBAgQIECAAAECBAgQIECgMAGhSWEFN10CBAgQIECAAAECBAgQIECgmYDQpJmTqwgQIECAAAECBAgQIECAAIHCBIQmhRXcdAkQIECAAAECBAgQIECAAIFmAkKTZk6uIkCAAAECBAgQIECAAAECBAoTEJoUVnDTJUCAAAECBAgQIECAAAECBJoJCE2aObmKAAECBAgQIECAAAECBAgQKExAaFJYwU2XAAECBAgQIECAAAECBAgQaCYgNGnm5CoCBAgQIECAAAECBAgQIECgMAGhSWEFN10CBAgQIECAAAECBAgQIECgmYDQpJmTqwgQIECAAAECBAgQIECAAIHCBIQmhRXcdAkQIECAAAECBAgQIECAAIFmAkKTZk6uIkCAAAECBAgQIECAAAECBAoTEJoUVnDTJUCAAAECBAgQIECAAAECBJoJCE2aObmKAAECBAgQIECAAAECBAgQKExAaFJYwU2XAAECBAgQIECAAAECBAgQaCYgNGnm5CoCBAgQIECAAAECBAgQIECgMAGhSWEFN10CBAgQIECAAAECBAgQIECgmYDQpJmTqwgQIECAAAECBAgQIECAAIHCBIQmhRXcdAkQIECAAAECBAgQIECAAIFmAkKTZk6uIkCAAAECBAgQIECAAAECBAoTEJoUVnDTJUCAAAECBAgQIECAAAECBJoJCE2aObmKAAECBAgQIECAAAECBAgQKExAaFJYwU2XAAECBAgQIECAAAECBAgQaCYgNGnm5CoCBAgQIECAAAECBAgQIECgMAGhSWEFN10CBAgQIECAAAECBAgQIECgmYDQpJmTqwgQIECAAAECBAgQIECAAIHCBIQmhRXcdAkQIECAAAECBAgQIECAAIFmAkKTZk6uIkCAAAECBAgQIECAAAECBAoTEJoUVnDTJUCAAAECBAgQIECAAAECBJoJCE2aObmKAAECBAgQIECAAAECBAgQKExAaFJYwU2XAAECBAgQIECAAAECBAgQaCYgNGnm5CoCBAgQIECAAAECBAgQIECgMAGhSWEFN10CBAgQIECAAAECBAgQIECgmYDQpJmTqwgQIECAAAECBAgQIECAAIHCBIQmhRXcdAkQIECAAAECBAgQIECAAIFmAkKTZk6uIkCAAAECBAgQIECAAAECBAoTEJoEC/7op58I3kFzAgQIECBAgAABAgQIECDQjsDzn/W0dm5cyF2FJsFCC02CgJoTIECAAAECBAgQIECAQGsCQpMYrdAk5peEJkFAzQkQIECAAAECBAgQIECgNQGhSYxWaBLzE5oE/TQnQIAAAQIECBAgQIAAgfYEhCYxW6FJzE9oEvTTnAABAgQIECBAgAABAgTaExCaxGyFJjE/oUnQT3MCBAgQIECAAAECBAgQaE9AaBKzFZrE/IQmQT/NCRAgQIAAAQIECBAgQKA9AaFJzFZoEvMTmgT9NCdAgAABAgQIECBAgACB9gSEJjFboUnMT2gS9NOcAAECBAgQIECAAAECBNoTEJrEbIUmMT+hSdBPcwIECBAgQIAAAQIECBBoT0BoErMVmsT8hCZBP80JECBAgAABAgQIECBAoD0BoUnMVmgS8xOaBP00J0CAAAECBAgQIDBEge3tlP70zybpjg/dMMThG3PmAm+4ZTPd9NzVDFJoEnMUmsT8hCZBP80JECBAgAABAgQIDFHgoZMpHTu2lg4cXBvi8I05cwGhST4FEpoEa/Hop58I3kFzAgQIECBAgAABAgSGJHD2XEr33jdJFy5MhCZDKtyAxio0yadYQpNgLYQmQUDNCRAgQIAAAQIECAxIYGMjpQMHJ2lzM6XPfU5oMqDSDWqoQpN8yiU0CdZCaBIE1JwAAQIECBAgQIDAQAS2tlI6fGQtra9v74xYaDKQwg1wmEKTfIomNAnWQmgSBNScAAECBAgQIECAwEAEHjyR0qlTk6ujFZoMpHADHKbQJJ+iCU2CtRCaBAE1J0CAAAECBAgQIDAAgeock6P3raVUfW3O519CkwEUbqBDFJrkUzihSbAWQpMgoOYECBAgQIAAAQIEMheon2NSH6rQJPPCDXh4QpN8iic0CdZCaBIE1JwAAQIECBAgQIBAxgKXL6d0191PnmMiNMm4WCMamtAkn2IKTYK1EJoEATUnQIAAAQIECBAgkLHAsQcm6cyZ+QO00yTjwg18aEKTfAooNAnWQmgSBNScAAECBAgQIECAQKYCp0+ndP/xJw9+nR2m0CTTwo1gWEKTfIooNAnWQmgSBNScAAECBAgQIECAQIYCFy6kdPDwJFWP5+z2EppkWLiRDElokk8hhSbBWghNgoCaEyBAgAABAgQIEMhMoApKqsCkCk72eglNMivciIYjNMmnmEKTYC2EJkFAzQkQIECAAAECBAhkJrDXOSb1oQpNMivciIYjNMmnmEKTYC2EJkFAzQkQIECAAAECBAhkJPCpRyfp+IPNBiQ0aebkquUFhCbLm7XVQmgSlBWaBAE1J0CAAAECBAgQIJCJwPp6SoePrKWtre1GIxKaNGJy0T4EhCb7QGupidAkCCs0CQJqToAAAQIECBAgQCADgc3NlA4cnKSNjeaDEZo0t3LlcgJCk+W82rxaaBLUFZoEATUnQIAAAQIECBAgkIHA0Xsn6ey55QYiNFnOy9XNBYQmza3avlJoEhQWmgQBNSdAgAABAgQIECDQs8AjpybpxInlByE0Wd5Mi2YCQpNmTl1cJTQJKgtNgoCaEyBAgAABAgQIEOhRYNlzTOpDFZr0WLiRdy00yafAQpNgLYQmQUDNCRAgQIAAAQIECPQkcPFSSocOL3eOidCkp2IV1q3QJJ+CC02CtRCaBAE1J0CAAAECBAgQINCDwPZ2SkfumaTz5/ffuZ0m+7fTcm8BoUk+K0RoEqyF0CQIqDkBAgQIECBAgACBHgQeOpnSyZOTUM9CkxCfxnsICE3yWR5Ck2AthCZBQM0JECBAgAABAgQIdCxQ7S6pdplUu00iL6FJRE/bvQSEJvmsD6FJsBZCkyCg5gQIECBAgAABAgQ6FKjOMbnz0Fq6dDGYmKSUhCYdFq6wroQm+RRcaBKshdAkCKg5AQIECBAgQIAAgY4EVnGOSX2oQpOOCldgN0KTfIouNAnWQmgSBNScAAECBAgQIECAQEcCH38opYcfiZ1jIjTpqFiFdyM0yWcBCE2CtRCaBAE1J0CAAAECBAgQINCBwNlzKR29by2FDzKpjdVOkw4KV2gXQpN8Ci80CdZCaBIE1JwAAQIECBAgQIBAywIbGykdODhJm5ur7UhoslpPd3tSQGiSz2oQmgRrITQJAmpOgAABAgQIECBAoEWBra2UDh9ZS+vr8YNfZ4cpNGmxcIXfWmiSzwIQmgRrITQJAmpOgAABAgQIECBAoEWBB0+kdOrU6s4xqQ9VaNJi4Qq/tdAknwUgNAnWQmgSBNScAAECBAgQIECAQEsCbZxjIjRpqVhue42A0CSfBSE0CdZCaBIE1JwAAQIECBAgQIBACwIXLqR06K7Vn2MiNGmhWG55nYDQJJ9FITQJ1kJoEgTUnAABAgQIECBAgMCKBS5fTung4UmqgpM2Xx7PaVO37HsLTfKpv9AkWAuhSRBQcwIECBAgQIAAAQIrFjj2wCSdObPim865ndCkfeNSexCa5FN5oUmwFkKTIKDmBAgQIECAAAECBFYocPp0Svcfb+fg19lhCk1WWDi3ukZAaJLPghCaBGshNAkCak6AAAECBAgQIEBgRQLV4zjVYznV4zldvIQmXSiX2YfQJJ+6C02CtRCaBAE1J0CAAAECBAgQILACga7OMakPVWiygsK5xVwBoUk+C0NoEqyF0CQIqDkBAgQIECBAgACBFQh0dY6J0GQFxXKLhQJCk4VEnV0gNAlSC02CgJoTIECAAAECBAgQCAo8cmqSTpwI3mQfze002QeaJo0EhCaNmDq5SGgSZBaaBAE1J0CAAAECBAgQIBAQWF9P6fCRtbS1tR24y/6aCk3256bVYgGhyWKjrq4QmgSlhSZBQM0JECBAgAABAgQI7FNgczOlAwcnaWNjnzcINhOaBAE131VAaJLP4hCaBGshNAkCak6AAAECBAgQIEBgnwJH752ks+f22XgFzYQmK0B0i7kCQpN8FobQJFgLoUkQUHMCBAgQIECAAAEC+xDo6xyT+lCFJvsonCaNBIQmjZg6uUhoEmQWmgQBNSdAgAABAgQIECCwpMD58yndfbSfc0yEJksWy+X7EhCa7IutlUZCkyCr0CQIqDkBAgQIECBAgACBJQQuXkrpzkNr6dLF7g9+nR2mnSZLFM6lSwkITZbiavVioUmQV2gSBNScAAECBAgQIECAQEOB7e2UjtwzSdVOkxxeQpMcqjDOMQhN8qmr0CRYC6FJEFBzAgQIECBAgAABAg0FHjqZ0smTk4ZXt3+Z0KR941J7EJrkU3mhSbAWQpMgoOYECBAgQIAAAQIEGghUu0uqXSbVbpNcXkKTXCoxvnEITfKpqdAkWAuhSRBQcwIECBAgQGBUAsceWEtnzmT0U+2odMudzHZaS095ynYW55jUqyA0KXdNtj1zoUnbws3vLzRpbjX3SqFJEFBzAgQIECBAYDQCZx6bpDs+tJaO3Z/P4xOjwS18IjfckNJ3fsfl7BSe+NwkfezgWnbjMqDhCwhN8qmh0CRYC6FJEFBzAgQIECBAYBQCFy6kdPDwJD16Zi3dLzQZRU1zmoTQJKdqGEsXAkKTLpSb9SE0aea061VCkyCg5gQIECBAgMDgBS5fvhKYVMHJY2eFJoMvaIYTEJpkWBRDalVAaNIq71I3F5osxXX9xUKTIKDmBAgQIECAwOAFjj0wSWfOXJmG0GTw5cxyAkKTLMtiUC0KCE1axF3y1kKTJcFmLxeaBAE1J0CAAAECBAYtcPp0Svcff/IME6HJoMuZ7eCFJtmWxsBaEhCatAS7j9sKTfaBVm8iNAkCak6AAAECBAgMVmB6jkn1eM70JTQZbDmzHrjQJOvyGFwLAkKTFlD3eUuhyT7hps2EJkFAzQkQIECAAIFBCmxupnTorivnmNRfQpNBljP7QQtNsi+RAa5YQGiyYtDA7YQmAbyqqdAkCKg5AQIECBAgMEiBo/dO0tlz1w9daDLIcmY/aKFJ9iUywBULCE1WDBq4ndAkgCc0CeJpToAAAQIECAxS4JFTk3TixPyhC00GWdLsBy00yb5EBrhiAaHJikEDtxOaBPCEJkE8zQkQIECAAIHBCayvp3T4yFra2tqeO3ahyeBKOogBC00GUSaDXKGA0GSFmMFbCU2CgB7PCQJqToAAAQIECAxGoDrH5MDBSdrY2H3IQpPBlHNQAxWaDKpcBrsCAaHJChBXdAuhSRBSaBIE1JwAAQIECBAYjMBu55jUJyA0GUw5BzVQocmgymWwKxAQmqwAcUW3EJoEIYUmQUDNCRAgQIAAgUEIPPzwJH38E4uHKjRZbOSK5QWEJsubaTFsAaFJPvUTmgRrITQJAmpOgAABAgQIZC9w/nxKR+6ZpO35x5hcM36hSfblHOQAhSaDLJtBBwSEJgG8FTcVmgRBhSZBQM0JECBAgACBrAUuXkrpzkNr6dLFBolJSkloknU5Bzs4oclgS2fg+xQQmuwTroVmQpMgqtAkCKg5AQIECBAgkK1AtbOk2mFS7TRp+hKaNJVy3TICQpNltFw7BgGhST5VFJoEayE0CQJqToAAAQIECGQr8NDJlE6enCw1PqHJUlwubiggNGkI5bLRCAhN8iml0CRYC6FJEFBzAgQIECBAIEuBZc4xqU9AaJJlOQc/KKHJ4EtoAksKCE2WBGvxcqFJEFdoEgTUnAABAgQIEMhOYGMjpYN3NT/HRGiSXQlHNyChyehKakILBIQm+SwRoUmwFkKTIKDmBAgQIECAQFYCW1spHT6yltbXmx38Ojt4O02yKudoBiM0GU0pTaShgNCkIVQHlwlNgshCkyCg5gQIECBAgEBWAg+eSOnUqeXOMalPQGiSVTlHMxihyWhKaSINBYQmDaE6uExoEkQWmgQBNSdAgAABAgSyETh7LqWj962lVH1tzj5fQpN9wmm2p4DQxAIpTUBokk/FhSbBWghNgoCaEyBAgAABAlkIVOeYHDg4SZubseEITWJ+Ws8XEJpYGaUJCE3yqbjQJFgLoUkQUHMCBAgQIECgd4HoOSb1CQhNei/nKAcgNBllWU1qDwGhST7LQ2gSrIXQJAioOQECBAgQINC7wPHjKX3q9P7PMRGa9F7C0Q9AaDL6EpvgjIDQJJ8lITQJ1kJoEgTUnAABAgQIEOhV4PTplO4/vprApJqInSa9lnO0nQtNRltaE9tFQGiSz9IQmgRrITQJAmpOgAABAgQI9CZw4UJKBw9P0uXLqxuC0GR1lu70pIDQxGooTUBokk/FhSbBWghNgoCaEyBAgAABAr0IVEFJFZhUwckqX0KTVWq611RAaGItlCYgNMmn4kKTYC2EJkFAzQkQIECAAIFeBI49MElnzqy+a6HJ6k3dMSWhiVVQmoDQJJ+KC02CtRCaBAE1J0CAAAECBDoXWPU5JvUJCE06L2cRHQpNiiizSdYEhCb5LAehSbAWQpMgoOYECBAgQIBApwLr6ynddfdqzzERmnRawiI7E5oUWfaiJy00yaf8QpNgLYQmQUDNCRAgQIAAgc4ENjdTOnBwkjY22uvSTpP2bEu+s9Ck5OqXOXehST51F5oEayE0CQJqToAAAQIECHQmcPTeSTp7rt3uhCbt+pZ6d6FJqZUvd95Ck3xqLzQJ1kJoEgTUnAABAgQIEOhE4JFTk3TiRPtdCU3aNy6xB6FJiVUve85Ck3zqLzQJ1kJoEgTUnAABAgQIEGhdoDrH5PCRtbS1td16X0KT1omL7EBoUmTZi5600CSf8gtNgrUQmgQBNSdAgAABAgRaFejiHJP6BIQmrZaz2JsLTYotfbETF5rkU3qhSbAWQpMgoOYECBAgQIBAawLb2ynde1/755gITVoroRt/XkBoYimUJiA0yafiQpNgLYQmQUDNCRAgQIAAgdYEHjqZ0smTk9buP+/Gdpp0yl1MZ0KTYkptop8XEJrksxSEJsFaCE2CgJoTIECAAAECrQicP5/SkXsmqdpt0uVLaNKldjl9CU3KqbWZXhEQmuSzEoQmwVoITYKAmhMgQIAAAQIrF7h4KaU7D62lSxc7TkxSSkKTlZfTDVNKQhPLoDQBoUk+FReaBGshNAkCak6AAAECBAisVKDaWVLtMKl2mvTxEpr0oT7+PoUm46+xGV4rIDTJZ0UITYK1EJoEATUnQIAAAQIEVirQxzkm9QkITVZaTjf7vIDQxFIoTUBokk/FhSbBWghNgoCaEyBAgAABAisTOHvuyrfldH2OidBkZSV0o10EhCaWRmkCQpN8Ki40CdZCaBIE1JwAAQIECBBYicDGRkoHDk7S5uZKbrfvm9hpsm86DfcQEJpYHqUJCE3yqbjQJFgLoUkQUHMCBAgQIEAgLLC1ldLhI2tpfb37g19nBy80CZfTDeYICE0si9IEhCb5VFxoEqyF0CQIqDkBAgQIECAQFnjwREqnTk3C91nFDYQmq1B0j1kBoYk1UZqA0CSfigtNgrUQmgQBNSdAgAABAgRCAtU5JkfvW0u9HmRSm4HQJFROjXcREJpYGqUJCE3yqbjQJFgLoUkQUHMCBAgQIEBg3wK5nGNSn4DQZN/l1HAPAaGJ5VGagNAkn4oLTYK1EJoEATUnQIAAAQIE9iVw+XJKd92dxzkmQpN9lVCjJQSEJktguXQUAkKTfMooNAnWQmgSBNScAAECIxdYX0/pPe+9IZ0+k8d5EyPnLmp6z3vedvr6r9vKbs6Pn5ukY8fWshuXAQ1bQGgy7PoZ/fICQpPlzdpqITQJygpNgoCaEyBAYMQC1Ve/Vl8Be/fda+n0Y0KTEZe6l6kJTXph12lPAkKTnuB125uA0KQ3+us6FpoEayE0CQJqToAAgRELHL13kqpDOo8fF5qMuMy9TU1o0hu9jnsQEJr0gK7LXgWEJr3yX9O50CRYC6FJEFBzAgQIjFTgkVOTdOLElckJTUZa5J6nJTTpuQC671RAaNIpt84yEBCaZFCEzw9BaBKshdAkCKg5AQIERihQnWNy+Mha2traFpqMsL65TElokksljKMLAaFJF8r6yElAaJJPNYQmwVoITYKAmhMgQGBkAtNzTKqvgp2+7DQZWZEzmY7QJJNCGEYnAkKTTph1kpGA0CSfYghNgrUQmgQBNSdAgMCIBLa3U7r3vivnmNRfQpMRFTmjqQhNMiqGobQuIDRpnVgHmQkITfIpiNAkWAuhSRBQcwIECIxI4KGTKZ08ef235AhNRlTkjKYiNMmoGIbSuoDQpHViHWQmIDTJpyBCk2AthCZBQM0JECAwEoHz51M6cs8kVbtNZl9Ck5EUObNpCE0yK4jhtCogNGmV180zFBCa5FMUoUmwFkKTIKDmBAgQGIHAxUsp3XloLV26OCcx8e05I6hwnlMQmuRZF6NqR0Bo0o6ru+YrIDTJpzZCk2AthCZBQM0JECAwcIFqZ0m1w6TaabLby06TgRc50+ELTTItjGG1IiA0aYXVTTMWEJrkUxyhSbAWQpMgoOYECBAYuMBu55jUpyU0GXiRMx2+0CTTwhhWKwJCk1ZY3TRjAaFJPsURmgRrITQJAmpOgACBAQtU35JTfVvOvHNMhCYDLuxAhi40GUihDHMlAkKTlTC6yYAEhCb5FEtoEqyF0CQIqDkBAgQGKrCxkdKBg5O0ubl4AnaaLDZyxfICQpPlzbQYroDQZLi1M/L9CQhN9ufWRiuhSVBVaBIE1JwAAQIDFNjaSunwkbW0vj7/4NfZKQlNBljkAQxZaDKAIhniygSEJiujdKOBCAhN8imU0CRYC6FJEFBzAgQIDFDgwRMpnTo1aTxyoUljKhcuISA0WQLLpYMXEJoMvoQmsKSA0GRJsBYvF5oEcYUmQUDNCRAgMDCB6hyTo/etpYUHmdTmJTQZWJEHMlyhyUAKZZgrERCarITRTQYkIDTJp1hCk2AthCZBQM0JECAwIIFlzjGpT0toMqAiD2ioQpMBFctQwwJCkzChGwxMQGiST8GEJsFaCE2CgJoTIEBgIAKXL6d0193NzzERmgyksAMeptBkwMUz9KUFhCZLk2kwcAGhST4FFJoEayE0CQJqToAAgYEIHHtgks6c2d9g7TTZn5tWewsITayQkgSEJiVV21wrAaFJPutAaBKshdAkCKg5AQIEBiBw+nRK9x9vfvDr7JSEJgMo8gCHKDQZYNEMed8CQpN902k4UAGhST6FE5oEayE0CQJqToAAgcwFLlxI6eDhSaoez9nvS2iyXznt9hIQmlgfJQkITUqqtrlWAkKTfNaB0CRYC6FJEFBzAgQIZCxQBSVVYFIFJ5GX0CSip+1uAkITa6MkAaFJSdU2V6FJXmtAaBKsh9AkCKg5AQIEMhaInGNSn5bQJOMiD3hoQpMBF8/QlxYQmixNpsHABew0yaeAQpNgLYQmQUDNCRAgkKnApx6dpOMPrmZwQpPVOLrLtQJCEyuiJAGhSUnVNtdKQGiSzzoQmgRrITQJAmpOgACBDAXW11M6fGQtbW1tr2R0QpOVMLrJjIDQxJIoSUBoUlK1zVVoktcaEJoE6yE0CQJqToAAgcwENjdTOnBwkjY2VjcwocnqLN3pSQGhidVQkoDQpKRqm6vQJK81IDQJ1kNoEgTUnAABApkJHL13ks6eW+2ghCar9XS3KwJCEyuhJAGhSUnVNlehSV5rQGgSrIfQJAioOQECBDISeOTUJJ04sfoBCU1Wb+qOQhNroCwBoUlZ9TZbZ5rktAaEJsFqCE2CgJoTIEAgE4FVn2NSn5bQJJMij2wYdpqMrKCms6eA0MQCKU3AQbD5VFxoEqyF0CQIqDkBAgQyELh4KaVDh1d7jonQJIPCjnwIQpORF9j0rhEQmlgQpQkITfKpuNAkWAuhSRBQcwIECPQssL2d0pF7Jun8+fYGYqdJe7Yl31loUnJXEWafAAAgAElEQVT1y5u70KS8mpc+Y6FJPitAaBKshdAkCKg5AQIEehZ46GRKJ09OWh2F0KRV3mJvLjQptvRFTlxoUmTZi5600CSf8gtNgrUQmgQBNSdAgECPAtXukmqXSbXbpM2X0KRN3XLvLTQpt/YlzlxoUmLVy56z0CSf+gtNgrUQmgQBNSdAgEBPAtU5JnceWkuXLracmKSUhCY9FXnk3QpNRl5g07tGQGhiQZQmIDTJp+JCk2AthCZBQM0JECDQg0AX55jUpyU06aHIBXQpNCmgyKZ4VUBoYjGUJiA0yafiQpNgLYQmQUDNCRAg0IPAxx9K6eFH2j3HRGjSQ2EL61JoUljBC5+u0KTwBVDg9IUm+RRdaBKshdAkCKg5AQIEOhY4ey6lo/etpdYPMqnNy06TjotcSHdCk0IKbZo7AkITC6E0AaFJPhUXmgRrITQJAmpOgACBDgU2NlI6cHCSNjc77NSZJt1iF9Sb0KSgYpuq0MQaKE5AaJJPyYUmwVoITYKAmhMgQKAjga2tlA4fWUvr6+0f/Do7JTtNOipyYd0ITQoreOHTtdOk8AVQ4PSFJvkUXWgSrIXQJAioOQECBDoSePBESqdOdXeOSX1aQpOOilxYN0KTwgpe+HSFJoUvgAKnLzTJp+hCk2AthCZBQM0JECDQgUAf55gITToobOFdCE0KXwCFTV9oUljBTTcJTfJZBEKTYC2EJkFAzQkQINCywIULKR26q/tzTIQmLRfW7ZPQxCIoSUBoUlK1zbUSEJrksw6EJsFaCE2CgJoTIECgRYHLl1M6eHiSquCkz5fHc/rUH2/fQpPx1tbMrhcQmlgVpQkITfKpuNAkWAuhSRBQcwIECLQocOyBSTpzpsUOGt5aaNIQymVLCQhNluJy8cAFhCYDL6DhLy0gNFmarLUGQpMgrdAkCKg5AQIEWhI4fTql+4/3c/Dr7JSEJi0VufDbCk0KXwCFTV9oUljBTdfjORmtAaFJsBhCkyCg5gQIEGhBoHocp3osp3o8J4eX0CSHKoxvDEKT8dXUjHYXEJpYHaUJ2GmST8WFJsFaCE2CgJoTIEBgxQK5nGNSn5bQZMVFdrsdAaGJhVCSgNCkpGqbayUgNMlnHQhNgrUQmgQBNSdAgMCKBXI5x0RosuLCut11AkITi6IkAaFJSdU2V6FJXmtAaBKsh9AkCKh5kQIXL6X0kY/dkLYubxU5f5NuT+ApT11LFzfyW1d2mrRX85LvLDQpufrlzV1oUl7NS5+xnSb5rAChSbAWQpMgoObFCWxvp3Tknkn6n++/IclMiit/6xP+hhdtp2c/O8PQ5MG1dPpMHofStl4EHXQmIDTpjFpHGQgITTIogiF0KiA06ZR7z86EJsFaCE2CgJoXJ/DQyZROnpykD/+50KS44ncwYaFJB8i6yEZAaJJNKQykAwGhSQfIushKQGiSTzmEJsFaCE2CgJoXJXD+/JVdJtVuE6FJUaXvbLJCk86odZSBgNAkgyIYQmcCQpPOqHWUiYDQJJNCpJSEJsFaCE2CgJoXI1CdY3LnobV06eL2zpyFJsWUvtOJCk065dZZzwJCk54LoPtOBYQmnXLrLAMBoUkGRfj8EIQmwVoITYKAmhchsLWV0t1HJ6naaTJ9CU2KKH3nkxSadE6uwx4FhCY94uu6cwGhSefkOuxZQGjScwFq3QtNgrUQmgQBNS9C4METKZ06de0hmEKTIkrf+SSFJp2T67BHAaFJj/i67lxAaNI5uQ57FhCa9FwAocnqCiA0WZ2lO41T4Oy5lI7et5Z2DjKpvYQm46x337MSmvRdAf13KSA06VJbX30LCE36roD+uxYQmnQtvnt/dpoEayE0CQJqPmqBjY2UDhycpM3N66cpNBl16XubnNCkN3od9yAgNOkBXZe9CQhNeqPXcU8CQpOe4Od0KzQJ1kJoEgTUfLQC1Tkmh4+spfX1a3eYTCcsNBlt6XudmNCkV36ddywgNOkYXHe9CghNeuXXeQ8CQpMe0HfpUmgSrIXQJAio+WgF5p1jUp+s0GS0pe91YkKTXvl13rGA0KRjcN31KiA06ZVf5z0ICE16QBeatIMuNGnH1V2HLXDmsUk69sDkunNMhCbDrusQRi80GUKVjHFVAkKTVUm6zxAEhCZDqJIxrlJAaLJKzdi97DSJ+SWhSRBQ89EJXLiQ0sHDk3T58t5Ts9NkdKXPYkJCkyzKYBAdCQhNOoLWTRYCQpMsymAQHQoITTrEXtCV0CRYC6FJEFDzUQlUQUkVmFTByaKX0GSRkD/fj4DQZD9q2gxVQGgy1MoZ934EhCb7UdNmyAJCk3yqJzQJ1kJoEgTUfFQC1SM5Z840m5LQpJmTq5YTEJos5+XqYQsITYZdP6NfTkBospyXq4cvIDTJp4ZCk2AthCZBQM1HI3D6dEr3H580no/QpDGVC5cQEJosgeXSwQsITQZfQhNYQkBosgSWS0chIDTJp4xCk2AthCZBQM1HIdD0HJP6ZIUmoyh9dpMQmmRXEgNqUUBo0iKuW2cnIDTJriQG1LKA0KRl4CVuLzRZAmvepUKTIKDmgxfY3Ezp0F3NzjERmgy+3NlPQGiSfYkMcIUCQpMVYrpV9gJCk+xLZIArFhCarBg0cDuhSQCvaio0CQJqPniBo/dO0tlzy0/DTpPlzbRYLCA0WWzkivEICE3GU0szWSwgNFls5IpxCQhN8qmn0CRYC6FJEFDzQQs8cmqSTpzY3xSEJvtz02pvAaGJFVKSgNCkpGqbq9DEGihNQGiST8WFJsFaCE2CgJoPVmB9PaXDR9bS1tb2vuYgNNkXm0YLBIQmlkhJAkKTkqptrkITa6A0AaFJPhUXmgRrITQJAmo+SIHqHJMDBydpY2P/wxea7N9Oy90FhCZWR0kCQpOSqm2uQhNroDQBoUk+FReaBGshNAkCaj5Igf2eY1KfrNBkkKXPftBCk+xLZIArFBCarBDTrbIXEJpkXyIDXLGA0GTFoIHbCU0CeFVToUkQUPPBCTz88CR9/BPxYQtN4obucL2A0MSqKElAaFJStc1VaGINlCYgNMmn4kKTYC2EJkFAzQclcP58SkfumaTt/R1jcs1chSaDKv1gBis0GUypDHQFAkKTFSC6xWAEhCaDKZWBrkhAaLIiyBXcRmgSRBSaBAE1H4zAxUsp3XloLV26uILEJKUkNBlM6Qc1UKHJoMplsEEBoUkQUPNBCQhNBlUug12BgNBkBYgruoXQJAgpNAkCaj4IgWpnSbXDpNppsqqX0GRVku5TFxCaWA8lCQhNSqq2uQpNrIHSBIQm+VRcaBKshdAkCKj5IAQeOpnSyZOTlY5VaLJSTjf7vIDQxFIoSUBoUlK1zVVoYg2UJiA0yafiQpNgLYQmQUDNsxdY5Tkm9ckKTbIv/SAHKDQZZNkMep8CQpN9wmk2SAGhySDLZtABAaFJAG/FTYUmQVChSRBQ86wFNjZSOnjX6s4xEZpkXe5RDE5oMooymkRDAaFJQyiXjUJAaDKKMprEEgJCkyWwWr5UaBIEFpoEATXPVmBrK6XDR9bS+vpqDn6dnaidJtmWftADE5oMunwGv6SA0GRJMJcPWkBoMujyGfw+BIQm+0BrqYnQJAgrNAkCap6twIMnUjp1arXnmNQnKzTJtvSDHpjQZNDlM/glBYQmS4K5fNACQpNBl8/g9yEgNNkHWktNhCZBWKFJEFDzLAXOnkvp6H1rKVVfm9PSS2jSEmzhtxWaFL4ACpu+0KSwghc+XaFJ4QugwOkLTfIputAkWAuhSRBQ8+wEqnNMDhycpM3NdocmNGnXt9S7C01KrXyZ8xaalFn3UmctNCm18uXOW2iST+2FJsFaCE2CgJpnJdD2OSb1yQpNsir9aAYjNBlNKU2kgYDQpAGSS0YjIDQZTSlNpKGA0KQhVAeXCU2CyEKTIKDmWQkcP57Sp063d46J0CSrco9yMEKTUZbVpHYREJpYGiUJCE1Kqra5VgJCk3zWgdAkWAuhSRBQ82wETp9O6f7j3QQm1aTtNMmm9KMaiNBkVOU0mQUCQhNLpCQBoUlJ1TZXoUlea0BoEqyH0CQIqHkWAhcupHTw8CRdvtzdcIQm3VmX1JPQpKRqm6vQxBooSUBoUlK1zVVoktcaEJoE6yE0CQJq3rtAFZRUgUkVnHT5Epp0qV1OX0KTcmptpikJTayCkgSEJiVV21yFJnmtAaFJsB5CkyCg5r0LHHtgks6c6X4YQpPuzUvoUWhSQpXNcSogNLEWShIQmpRUbXMVmuS1BoQmwXoITYKAmvcq0PU5JvXJCk16Lf1oOxeajLa0JjZHQGhiWZQkIDQpqdrmKjTJaw0ITYL1EJoEATXvTWB9PaW77u72HBOhSW/lLqZjoUkxpTbR5PEci6AsAaFJWfU2W9+ek9MaEJoEqyE0CQJq3ovA5mZKBw5O0sZGL93vdGqnSX/2Y+5ZaDLm6prbrICdJtZESQJCk5Kqba52muS1BoQmwXoITYKAmvcicPTeSTp7rpeur3YqNOnXf6y9C03GWlnzmicgNLEuShIQmpRUbXMVmuS1BoQmwXoITYKAmncu8MipSTpxovNur+tQaNJ/DcY4AqHJGKtqTrsJCE2sjZIEhCYlVdtchSZ5rQGhSbAeQpMgoOadClTnmBw+spa2trY77XdeZ0KT3kswygEITUZZVpPaRUBoYmmUJCA0Kana5io0yWsNCE2C9RCaBAE170wgh3NM6pMdY2jy7269MT3/psl1NT3/2ZR+6z9vpgf+opuw6h/ffEP6/u9dSzfecGUoGxdTes/vX04fuXOrs/XWV0dCk+7k3/ivbkwv+tvXr/c+1tvs370Pf2Qr/af3Xu4Oo6eehCbdw8++v17z71pP6+6FXzdJP/kvbtwZSpf/1nStLzTpWjyll79kLf2zH74hPfUp1/d9/4Pb6R3/cbOzQc37u9fHvzedTTg5CLZL60V9CU0WCS34c6FJEFDzTgS2t1O6977+zzEZe2gyW8zpB9l7j3X7A9yP/+gN6cueNbn6Yab6gfJpT5uM+sP01F5o0slbyq6dVGvts+up0w/S1Yf6KiT8L//18k4wWX2w/r5XrKU/vmMr/eHt4w5OhCb9rvdp79V77je+eK2X99jpvzPP+JKUug7ou9YXmnQtPr+/6j32u//+Wvq9/97tL2NKem+fyr/hls1003NXU/fnP+tpq7lRoXcRmgQLLzQJAmreicBDJ1M6efL63wh30vkunYxxp8nsVKsfIKvXv73tyd/E1H8j/uiZ7at/Vv3W/qbnTlK1I+jZz7pyp/pvy+sfjKs/W+Y3PNUH+pf8vbUidpsITfr7Wz1dw/XfdNd3o9R/oJt++D316Hb62q++8t5U//tQ/e/d2i6a4fQ3o3ce7jasXDSuNv5caNKG6nL3nPeDXGTdV+/X3/nytZ1BNPkt+jSorK6v/g2x02S5+q3i6ic+N0kfO3ilZmN/zXt/nd2NUv/sUq3PL/iCSbrxxpSqYG/zckp/9H+eDLT3ajtrKTSJrS6hScxPaBLzS0KTIKDmrQucP5/SkXsmqdptktNr7KHJbj9ATj/UVrWotlM/8cSV4GT6IXv6YaMedJz/y+1rrq0+ZPzIP7kh/emfN/tN+ryx5LQWVjkWockqNZvfa14wN/vf6juevv7rruwOefzslfU/+0G8WrNf/ZWTq0HfMjtYqn5f/m1r13wwbz6TYV0pNOm3XvN+gIys+9m1W/09+JIvvjZ4r8+4HsyX8D5vp0m/6336y5szjz35WM7sf5s+QvORA1dC62qNPufZk6vvx/V1+owvnew8+vOJh6/cb9EOlhIfPbbTpN81X+9daBKshdAkCKh56wJCk9aJr+tg3j/88z5s1D9cf/u3rV3zW8L6PaoPHLOPGzT9IbK038wITbpf77uFeLM7reprsRplfU3XH2X72KGtnZCw/sG8yeMP9Q/UzjTpfh3Ue3z83CQdOzb+37zPex/e77qf/oBZOU53J+71Q+RsoCI06W/Nl7LTZF6IN+8zRv3vwOzfh/p7+Uu/de2aXbDLPtJcwqPHQpP+/l7P9iw0CdZCaBIE1LwTAY/ndMK808lujwbM+zBQ/0C8KDSpH+w6nc2iR3Rmf+PTnUJ/PQlNurWfFwZORzD7A2U9XGkSmlRbueuvpuc1eDyn2zUwr7cSQpPdQor9rvtpaDJ7mPhuj+jkcvB4l6vNTpMuta/ta7fHfOcFe/VwZVFoMn0Urd5b09B70c6U/rRW17PQZHWW0TsJTYKCQpMgoOadCDgIthPmtNcPkNGdJsseulZiYFJVWWjSzVqvByPV/18/t2e3P1t2p0nkAOWmO7G61Vp9bx7PWb1pkzvudU5UdKfJfg9SttOkSeXauWbsO0322rEa3WkSOUBZaLLcenamyXJes1cLTWJ+zjQJ+mnenYCvHG7fetHz5/VzGmbPKZn9wFv/MDB7bTWT6s+/4m9O0q+/6/qv+yvtkZx6ZYUm7a/zaQ+LHpmZPZ9h9kyT3R7PqX7jPnumSRU6/uCrbkj/4wNXviGn/qrW+ze/eJJ+6d9f+btQUmAoNOluvU97WnSmVGTdzzuP5y3/5sb0Z/9va+FXxgtNul8L0x7HHJosemRm+ufT89nmnWlSD9br/27MnmlSXVf9efWa95Xx//p1N6ZHPrV99VvR5h22398qaKdnO03acd3PXYUm+1GrtbHTJAioeacC6+spHT6ylra2+j8VdmwHwc6eAF8vbP2xgkXfnjP95oPZ36DMfnvO7An09f7q39xQ/+9Nt7x2uihX3JnQZMWgu9xudj3WL6s/TrDoW0SmXws874P57Dre7XG0eWMpYa1X5kKTbtZ7k/fX6prpuous+/q351T3nP1Wqd1mLDTpfi2UEJrMrse68vQ9edG35+wWmlQB+Gzbvb4xanYsTR/Z7G9lxHsWmsQNV3UHoUlQUmgSBNS8c4FHTk3SiROdd3tdh2MLTfoXNYJKQGhiHZQkIDQpqdrm6kwTa6A0AaFJPhUXmgRrITQJAmrei8DReyfp7Lleur7aqdCkX/+x9i40GWtlzWuegNDEuihJQGhSUrXNtRIQmuSzDoQmwVoITYKAmvcikMP5JkKTXko/+k6FJqMvsQnWBIQmlkNJAkKTkqptrkKTvNaA0CRYD6FJEFDz3gT6Pt9EaNJb6UfdsdBk1OU1uRkBoYklUZKA0KSkapur0CSvNSA0CdZDaBIE1LxXgU89OknHH+xnCEKTftzH3qvQZOwVNr+6gNDEeihJQGhSUrXNVWiS1xoQmgTrITQJAmreu8CxBybpzJnuhyE06d68hB6FJiVU2RynAkITa6EkAaFJSdU2V6FJXmtAaJJXPYyGAAECBAgQIECAAAECBAgQyERAaJJJIQyDAAECBAgQIECAAAECBAgQyEtAaJJXPYyGAAECBAgQIECAAAECBAgQyERAaJJJIQyDAAECBAgQIECAAAECBAgQyEtAaJJXPUY7ml995/vSb/3u7dfN71WvfFn6xTe9Nj3tqV/Y6dw//vCj6e2/8d5028++Lj3jS57ead86G7/AH9z+ofTzb3v3dRP9phe9IP3mW3+6szVXrfNb3vyOdPqxT++Mpev+x19pM6wEZtdZXeV3/sNb0ku+5YWdQc3+W9N1/51NVEe9CeS03usI1do/cOSBTv+N6a0IOu5M4Pxn/yq9/i2/lo7e/9B1ff7Sm1+bfujm7+psLPP+7vlc0xl/8R0JTYpfAv0APLFxKf3C29+dfvjVr+j0A3X9zd8bbT+1L7XX6gPtV335TZ1+wLjzyAPpk48+frXPagxnHv9ML0FlqXUvdd7V2vv999/R6Vqr3t9/+71/lF7/4z+4E8RXH7B/7rZ3pV++9XXpa77y+aWWwrw7EOhjvc8GJtUvpnyu6aDYuth5b+3jF4/e0y2+PgWEJn3qF9x39cNb9fqZW16z839nk+z6bwer39p/9NCx9EVf9DfS7/3hn+xcX//zaQDzgQ9+dOfPmiTffb3hF1zyoqc+XcP1XVX134j/5I/dfPXvwqL1XkHWd7Iss1ur+mD/jne+z28ii16N7U9+3gfb3dbs9Nof+L5vT7f9+nt2Blf/+xBZ79N/V954y2s6DefbF9ZDTgLz1nv9N+LPe+6z0jvf9sad4G66Jn/ge1+efud9/2tnF+Dse3j1Pv0TP/XWnSk2CUGqv1snP3kmfedLv9n7e04LY6Rjmfe+utdn+Oqzzl9/biP99V9/LlWf0+t/HxZ9/p8lFJqMdFENZFpCk4EUakzDnP0Bchp6vOxbX7zzG/Hph43bbn3dzgfd6YftaVBS/8HvqU95ys6OlZue88ydHzqrN+5bf+Vd6U1v+NE9f7MoNBnTisp7LvOCivrfgWr09TW813qvHiWr/vx977/javCxzA6WeeFN3npGNzSBeR+oZ/8O1Hc8PfrYuZ1HyG7+npdefQ+vtoJPg47Ieq/6vfW2d139gXVolsabv8BeP0BO13B9HT7zS5++86jDVzz/OTu7sKbv/9PPP7NrdhqITH/BNCtSf0+/94GHhCb5L5lBj3D283o1mUWf4av3+9v/5GNX34fra3bj4sWdvw+vefUrrn7+32sHi0eOB718Bj94ocngSzisCcwLK+Ylx/WdKLM/6NXv8Zm//Kvrtl83+SFSaDKsdTPU0c4L8eZ96Kj/UPmn//eunZ1V010p9bU6DQmnH7Arl6bbwv2GZqiraFjjnvf+O7uzsL4Wq9nVH6GpP7r5jS98wU6guOx6r3+wdqbJsNbP0EY7b73PhoT19/zv/o6/u/NDYn33U/0e8/6u7PZD5Ox7v52EQ1s9wxvvvBBv0Wf42TVdX7ezQd+yj+575Hh4a2jIIxaaDLl6Axv7blul5wUY9TfmRaFJ/aDLKcmiR3SEJgNbPAMc7rxwpP5bmfp5PvX12CQ0mT6KNmVZ9IjO7O6tAXIa8gAEdtvJNPuDZT1MbBKaLLvep1QezxnAohnwEHdb7/OC7OnfgSahyeyh+bs9opPLgeMDLqGhLyGwWyi36DP8otBk+ihafShNw26f5ZcooEvDAkKTMKEbNBHY7QfIqu2ilHpRaLKfw6i80TapmmsiArMfFKb3WsVOk2UOUBaYRKqobVOBvX7LHd1pssx6nx1vk52HTefoOgJTgb3We3SnyX4PDLfTxPpsS2CvnaqLPsMvCk0iB4b7LN9Wxd13noDQxLroRGCv53KnP0ROzyWZd6bJoscVpm2nIcyJT5xK//AV37br3LzRdlL2YjtZ9MhM/ZyG2XN59goJ551pUv39+W8f+LP0T1/1D6776m6P5BS7BDud+KKzpGbPaZg902S3x3OmZ1rVz/BZtN4/+OFD6V/+81fvzF9g2OkyKKazRet9usNpek7DvDNNdns8Z945PO/5gz9ON7/yZQu/ql5oUswS7HSiix6ZWfQZfq/QZPZMk2pi1TquXvO+qv5/33Egfe1X/62rZxbu9supToF0VoyA0KSYUvc30b2+4336WMH0jXP6PfDzvj1n3hkP1Q+Rs9+eM3syd33m88Yy+00N/UnpeQwCs+uxPqf6NutF356z23qv7je7LXu3x9F2277ddOvrGOphDu0L7LbOqp6na23Rt+dMvxZ43gf0put93t89a739+pfWQ5P1vujbc3YLTaY/NNYfWWj6GUVoUtpK7Ga+9W9zmu1x+tlj0bfnVO2mhxnP/lJptu1e3xg1O5ZFjyZ3I6SXUgSEJqVU2jwJECBAgAABAgQIECBAgACBpQSEJktxuZgAAQIECBAgQIAAAQIECBAoRUBoUkqlzZMAAQIECBAgQIAAAQIECBBYSkBoshSXiwkQIECAAAECBAgQIECAAIFSBIQmpVTaPAkQIECAAAECBAgQIECAAIGlBIQmS3G5mAABAgQIECBAgAABAgQIEChFQGhSSqXNkwABAgQIECBAgAABAgQIEFhKQGiyFJeLCRAgQIAAAQIECBAgQIAAgVIEhCalVNo8CRAgQIAAAQIECBAgQIAAgaUEhCZLcbmYAAECBAgQIECAAAECBAgQKEVAaFJKpc2TAAECBAgQIECAAAECBAgQWEpAaLIUl4sJECBAgAABAgQIECBAgACBUgSEJqVU2jwJECBAgAABAgQIECBAgACBpQSEJktxuZgAAQIECBAgQIAAAQIECBAoRUBoUkqlzZMAAQIECBAgQIAAAQIECBBYSkBoshSXiwkQIECAAAECBAgQIECAAIFSBIQmpVTaPAkQIECAwB4CT2xcSr/w9nenl33ri9MP3fxdc69scg1kAgQIECBAgMCYBIQmY6qmuRAgQIAAgc8LnP/sX6XXv+XX0rnPfDa9821vTF/zlc+/anPnkQfSO975vvSbb/3p9IwvefrOf28SiDS5ZrYAf3D7h9JHDx1Lv/im16anPfULV1qfah4/8VNvveae3/SiF1wzr5V2uMvN2pxjF+PXBwECBAgQILC7gNDE6iBAgAABAiMUqAKFW297V/qyZ3xxes0/+u5rdo+MITT51Xe+L93+Jx+7LhCqAoyTnzyTfuaW13RWVaFJZ9Q6IkCAAAECnQsITTon1yEBAgQIEGhfoAoVqtdXfflN6X3vv+Pq7ouPP/xouuXN70inH/v01UH85I/dnF7/4z949fGcKnT4rd+9fefPX/XKl13dJbLbTpOqr+n1z3vus64GGfN2gvzSm197NcDZrV3V7+w4Z+9bBUKzO2jmqe7Vx7zwqOr35257V/rlW1+3sztnes0bb3nNTgg1dfud//CW9JJveeHOn8/udqnPsf1K64EAAQIECBBoU0Bo0qauexMgQIAAgR4Eqkdzbv2Vd6U3veFHd3qvQpLbbn3dzg/51WuvnSYf+OBH0zQQmD7i85pXv2In6JgXmkzDmenOjukOl2mgsdsujL3aPfNLn77zaFEVVNTH/MlHH98ZR9X2zOOfWfjIz+x1s2NrGppUoQTJ5SkAAAY3SURBVEg9PKrmVA+i7DTpYZHrkgABAgQIdCQgNOkIWjcECBAgQKArgdkf4ucFFE3PNKm3nQ1Nql0Zb/+N96bbfvZ1u56NMi9QWNTu73zD116z26PuNh3DTc955p6P4EwDn3rwMjv+pqHJrNXsbhShSVcrWz8ECBAgQKB7AaFJ9+Z6JECAAAECrQnM2w0yGw4sc6bJXqHJvEdTphObPqIyL1BY1O77v+dlO48KVbteqlf9cZemocm8YKa6V/3ME6FJa8vQjQkQIECAwGgEhCajKaWJECBAgACB688CqZtMw4dVhiazuzBma7BbaLKoXXWfaUAyG540eTxHaOJvAwECBAgQILAKAaHJKhTdgwABAgQIZCKw1xki03NAHn3s3MLHaqbTWfR4Tv3Q1HkEVUDz+++/45rzR2Yfb2lCVx/H7Nkk9fbVYzm3f/Cj6eZXvuy6c1Haejxn3hybzMk1BAgQIECAQP4CQpP8a2SEBAgQIECgkcDswa31RvWgofrvs4fD7vXNONX11UGvs9dM//cjjz5+9dt5qmur4ObLn/+cq98uM/tNN4vaVff48MfuuXpmyW4H0M5+5fD0G3du/p6X7rRddBDs9PrpIbnTfg7f+xfXfAPQojNN9gpxGhXORQQIECBAgEC2AkKTbEtjYAQIECBAYDmBRTswqm+kmX4TThVs/Pzb3r3TwexXDlffUDN97bXTpH7N9CuHq//2TS96wTUhSv1rf3f7yuF6u+r/r8Z69P6Hro6jGuP0G3qm/7HJ1/3u9ZXD1X3q96i+1vhNr/+R9Nvv/aPrvnL4N9/601cPu523U2a3OS5XQVcTIECAAAECuQkITXKriPEQIECAAAECBAgQIECAAAECWQgITbIog0EQIECAAAECBAgQIECAAAECuQkITXKriPEQIECAAAECBAgQIECAAAECWQgITbIog0EQIECAAAECBAgQIECAAAECuQkITXKriPEQIECAAAECBAgQIECAAAECWQgITbIog0EQIECAAAECBAgQIECAAAECuQkITXKriPEQIECAAAECBAgQIECAAAECWQgITbIog0EQIECAAAECBAgQIECAAAECuQkITXKriPEQIECAAAECBAgQIECAAAECWQgITbIog0EQIECAAAECBAgQIECAAAECuQkITXKriPEQIECAAAECBAgQIECAAAECWQgITbIog0EQIECAAAECBAgQIECAAAECuQkITXKriPEQIECAAAECBAgQIECAAAECWQgITbIog0EQIECAAAECBAgQIECAAAECuQkITXKriPEQIECAAAECBAgQIECAAAECWQgITbIog0EQIECAAAECBAgQIECAAAECuQkITXKriPEQIECAAAECBAgQIECAAAECWQgITbIog0EQIECAAAECBAgQIECAAAECuQkITXKriPEQIECAAAECBAgQIECAAAECWQgITbIog0EQIECAAAECBAgQIECAAAECuQkITXKriPEQIECAAAECBAgQIECAAAECWQgITbIog0EQIECAAAECBAgQIECAAAECuQkITXKriPEQIECAAAECBAgQIECAAAECWQgITbIog0EQIECAAAECBAgQIECAAAECuQkITXKriPEQIECAAAECBAgQIECAAAECWQgITbIog0EQIECAAAECBAgQIECAAAECuQkITXKriPEQIECAAAECBAgQIECAAAECWQgITbIog0EQIECAAAECBAgQIECAAAECuQkITXKriPEQIECAAAECBAgQIECAAAECWQgITbIog0EQIECAAAECBAgQIECAAAECuQkITXKriPEQIECAAAECBAgQIECAAAECWQgITbIog0EQIECAAAECBAgQIECAAAECuQkITXKriPEQIECAAAECBAgQIECAAAECWQgITbIog0EQIECAAAECBAgQIECAAAECuQkITXKriPEQIECAAAECBAgQIECAAAECWQgITbIog0EQIECAAAECBAgQIECAAAECuQkITXKriPEQIECAAAECBAgQIECAAAECWQgITbIog0EQIECAAAECBAgQIECAAAECuQkITXKriPEQIECAAAECBAgQIECAAAECWQgITbIog0EQIECAAAECBAgQIECAAAECuQn8f2+2ZgO7NQ/WAAAAAElFTkSuQmCC",
>>>>>>> e17bf7ebc0398d360a7d61ae8cb7b24acbbec5cc
      "text/html": [
       "<div>                            <div id=\"5599976e-85f9-4008-a815-3974f54782b1\" class=\"plotly-graph-div\" style=\"height:525px; width:100%;\"></div>            <script type=\"text/javascript\">                require([\"plotly\"], function(Plotly) {                    window.PLOTLYENV=window.PLOTLYENV || {};                                    if (document.getElementById(\"5599976e-85f9-4008-a815-3974f54782b1\")) {                    Plotly.newPlot(                        \"5599976e-85f9-4008-a815-3974f54782b1\",                        [{\"hovertemplate\":\"AthletesCount=%{x}<br>category=%{y}<extra></extra>\",\"legendgroup\":\"\",\"marker\":{\"color\":\"#636efa\"},\"name\":\"\",\"orientation\":\"v\",\"showlegend\":false,\"x\":[\"Zone 1\",\"Zone 2\",\"Zone 3\",\"Zone 4\",\"Zone 5\"],\"xaxis\":\"x\",\"y\":[\"Zone 1 \",\"Zone 2 \",\"Zone 3 \",\"Zone 4\",\"Zone 5\"],\"yaxis\":\"y\",\"type\":\"funnel\"}],                        {\"template\":{\"data\":{\"histogram2dcontour\":[{\"type\":\"histogram2dcontour\",\"colorbar\":{\"outlinewidth\":0,\"ticks\":\"\"},\"colorscale\":[[0.0,\"#0d0887\"],[0.1111111111111111,\"#46039f\"],[0.2222222222222222,\"#7201a8\"],[0.3333333333333333,\"#9c179e\"],[0.4444444444444444,\"#bd3786\"],[0.5555555555555556,\"#d8576b\"],[0.6666666666666666,\"#ed7953\"],[0.7777777777777778,\"#fb9f3a\"],[0.8888888888888888,\"#fdca26\"],[1.0,\"#f0f921\"]]}],\"choropleth\":[{\"type\":\"choropleth\",\"colorbar\":{\"outlinewidth\":0,\"ticks\":\"\"}}],\"histogram2d\":[{\"type\":\"histogram2d\",\"colorbar\":{\"outlinewidth\":0,\"ticks\":\"\"},\"colorscale\":[[0.0,\"#0d0887\"],[0.1111111111111111,\"#46039f\"],[0.2222222222222222,\"#7201a8\"],[0.3333333333333333,\"#9c179e\"],[0.4444444444444444,\"#bd3786\"],[0.5555555555555556,\"#d8576b\"],[0.6666666666666666,\"#ed7953\"],[0.7777777777777778,\"#fb9f3a\"],[0.8888888888888888,\"#fdca26\"],[1.0,\"#f0f921\"]]}],\"heatmap\":[{\"type\":\"heatmap\",\"colorbar\":{\"outlinewidth\":0,\"ticks\":\"\"},\"colorscale\":[[0.0,\"#0d0887\"],[0.1111111111111111,\"#46039f\"],[0.2222222222222222,\"#7201a8\"],[0.3333333333333333,\"#9c179e\"],[0.4444444444444444,\"#bd3786\"],[0.5555555555555556,\"#d8576b\"],[0.6666666666666666,\"#ed7953\"],[0.7777777777777778,\"#fb9f3a\"],[0.8888888888888888,\"#fdca26\"],[1.0,\"#f0f921\"]]}],\"heatmapgl\":[{\"type\":\"heatmapgl\",\"colorbar\":{\"outlinewidth\":0,\"ticks\":\"\"},\"colorscale\":[[0.0,\"#0d0887\"],[0.1111111111111111,\"#46039f\"],[0.2222222222222222,\"#7201a8\"],[0.3333333333333333,\"#9c179e\"],[0.4444444444444444,\"#bd3786\"],[0.5555555555555556,\"#d8576b\"],[0.6666666666666666,\"#ed7953\"],[0.7777777777777778,\"#fb9f3a\"],[0.8888888888888888,\"#fdca26\"],[1.0,\"#f0f921\"]]}],\"contourcarpet\":[{\"type\":\"contourcarpet\",\"colorbar\":{\"outlinewidth\":0,\"ticks\":\"\"}}],\"contour\":[{\"type\":\"contour\",\"colorbar\":{\"outlinewidth\":0,\"ticks\":\"\"},\"colorscale\":[[0.0,\"#0d0887\"],[0.1111111111111111,\"#46039f\"],[0.2222222222222222,\"#7201a8\"],[0.3333333333333333,\"#9c179e\"],[0.4444444444444444,\"#bd3786\"],[0.5555555555555556,\"#d8576b\"],[0.6666666666666666,\"#ed7953\"],[0.7777777777777778,\"#fb9f3a\"],[0.8888888888888888,\"#fdca26\"],[1.0,\"#f0f921\"]]}],\"surface\":[{\"type\":\"surface\",\"colorbar\":{\"outlinewidth\":0,\"ticks\":\"\"},\"colorscale\":[[0.0,\"#0d0887\"],[0.1111111111111111,\"#46039f\"],[0.2222222222222222,\"#7201a8\"],[0.3333333333333333,\"#9c179e\"],[0.4444444444444444,\"#bd3786\"],[0.5555555555555556,\"#d8576b\"],[0.6666666666666666,\"#ed7953\"],[0.7777777777777778,\"#fb9f3a\"],[0.8888888888888888,\"#fdca26\"],[1.0,\"#f0f921\"]]}],\"mesh3d\":[{\"type\":\"mesh3d\",\"colorbar\":{\"outlinewidth\":0,\"ticks\":\"\"}}],\"scatter\":[{\"fillpattern\":{\"fillmode\":\"overlay\",\"size\":10,\"solidity\":0.2},\"type\":\"scatter\"}],\"parcoords\":[{\"type\":\"parcoords\",\"line\":{\"colorbar\":{\"outlinewidth\":0,\"ticks\":\"\"}}}],\"scatterpolargl\":[{\"type\":\"scatterpolargl\",\"marker\":{\"colorbar\":{\"outlinewidth\":0,\"ticks\":\"\"}}}],\"bar\":[{\"error_x\":{\"color\":\"#2a3f5f\"},\"error_y\":{\"color\":\"#2a3f5f\"},\"marker\":{\"line\":{\"color\":\"#E5ECF6\",\"width\":0.5},\"pattern\":{\"fillmode\":\"overlay\",\"size\":10,\"solidity\":0.2}},\"type\":\"bar\"}],\"scattergeo\":[{\"type\":\"scattergeo\",\"marker\":{\"colorbar\":{\"outlinewidth\":0,\"ticks\":\"\"}}}],\"scatterpolar\":[{\"type\":\"scatterpolar\",\"marker\":{\"colorbar\":{\"outlinewidth\":0,\"ticks\":\"\"}}}],\"histogram\":[{\"marker\":{\"pattern\":{\"fillmode\":\"overlay\",\"size\":10,\"solidity\":0.2}},\"type\":\"histogram\"}],\"scattergl\":[{\"type\":\"scattergl\",\"marker\":{\"colorbar\":{\"outlinewidth\":0,\"ticks\":\"\"}}}],\"scatter3d\":[{\"type\":\"scatter3d\",\"line\":{\"colorbar\":{\"outlinewidth\":0,\"ticks\":\"\"}},\"marker\":{\"colorbar\":{\"outlinewidth\":0,\"ticks\":\"\"}}}],\"scattermapbox\":[{\"type\":\"scattermapbox\",\"marker\":{\"colorbar\":{\"outlinewidth\":0,\"ticks\":\"\"}}}],\"scatterternary\":[{\"type\":\"scatterternary\",\"marker\":{\"colorbar\":{\"outlinewidth\":0,\"ticks\":\"\"}}}],\"scattercarpet\":[{\"type\":\"scattercarpet\",\"marker\":{\"colorbar\":{\"outlinewidth\":0,\"ticks\":\"\"}}}],\"carpet\":[{\"aaxis\":{\"endlinecolor\":\"#2a3f5f\",\"gridcolor\":\"white\",\"linecolor\":\"white\",\"minorgridcolor\":\"white\",\"startlinecolor\":\"#2a3f5f\"},\"baxis\":{\"endlinecolor\":\"#2a3f5f\",\"gridcolor\":\"white\",\"linecolor\":\"white\",\"minorgridcolor\":\"white\",\"startlinecolor\":\"#2a3f5f\"},\"type\":\"carpet\"}],\"table\":[{\"cells\":{\"fill\":{\"color\":\"#EBF0F8\"},\"line\":{\"color\":\"white\"}},\"header\":{\"fill\":{\"color\":\"#C8D4E3\"},\"line\":{\"color\":\"white\"}},\"type\":\"table\"}],\"barpolar\":[{\"marker\":{\"line\":{\"color\":\"#E5ECF6\",\"width\":0.5},\"pattern\":{\"fillmode\":\"overlay\",\"size\":10,\"solidity\":0.2}},\"type\":\"barpolar\"}],\"pie\":[{\"automargin\":true,\"type\":\"pie\"}]},\"layout\":{\"autotypenumbers\":\"strict\",\"colorway\":[\"#636efa\",\"#EF553B\",\"#00cc96\",\"#ab63fa\",\"#FFA15A\",\"#19d3f3\",\"#FF6692\",\"#B6E880\",\"#FF97FF\",\"#FECB52\"],\"font\":{\"color\":\"#2a3f5f\"},\"hovermode\":\"closest\",\"hoverlabel\":{\"align\":\"left\"},\"paper_bgcolor\":\"white\",\"plot_bgcolor\":\"#E5ECF6\",\"polar\":{\"bgcolor\":\"#E5ECF6\",\"angularaxis\":{\"gridcolor\":\"white\",\"linecolor\":\"white\",\"ticks\":\"\"},\"radialaxis\":{\"gridcolor\":\"white\",\"linecolor\":\"white\",\"ticks\":\"\"}},\"ternary\":{\"bgcolor\":\"#E5ECF6\",\"aaxis\":{\"gridcolor\":\"white\",\"linecolor\":\"white\",\"ticks\":\"\"},\"baxis\":{\"gridcolor\":\"white\",\"linecolor\":\"white\",\"ticks\":\"\"},\"caxis\":{\"gridcolor\":\"white\",\"linecolor\":\"white\",\"ticks\":\"\"}},\"coloraxis\":{\"colorbar\":{\"outlinewidth\":0,\"ticks\":\"\"}},\"colorscale\":{\"sequential\":[[0.0,\"#0d0887\"],[0.1111111111111111,\"#46039f\"],[0.2222222222222222,\"#7201a8\"],[0.3333333333333333,\"#9c179e\"],[0.4444444444444444,\"#bd3786\"],[0.5555555555555556,\"#d8576b\"],[0.6666666666666666,\"#ed7953\"],[0.7777777777777778,\"#fb9f3a\"],[0.8888888888888888,\"#fdca26\"],[1.0,\"#f0f921\"]],\"sequentialminus\":[[0.0,\"#0d0887\"],[0.1111111111111111,\"#46039f\"],[0.2222222222222222,\"#7201a8\"],[0.3333333333333333,\"#9c179e\"],[0.4444444444444444,\"#bd3786\"],[0.5555555555555556,\"#d8576b\"],[0.6666666666666666,\"#ed7953\"],[0.7777777777777778,\"#fb9f3a\"],[0.8888888888888888,\"#fdca26\"],[1.0,\"#f0f921\"]],\"diverging\":[[0,\"#8e0152\"],[0.1,\"#c51b7d\"],[0.2,\"#de77ae\"],[0.3,\"#f1b6da\"],[0.4,\"#fde0ef\"],[0.5,\"#f7f7f7\"],[0.6,\"#e6f5d0\"],[0.7,\"#b8e186\"],[0.8,\"#7fbc41\"],[0.9,\"#4d9221\"],[1,\"#276419\"]]},\"xaxis\":{\"gridcolor\":\"white\",\"linecolor\":\"white\",\"ticks\":\"\",\"title\":{\"standoff\":15},\"zerolinecolor\":\"white\",\"automargin\":true,\"zerolinewidth\":2},\"yaxis\":{\"gridcolor\":\"white\",\"linecolor\":\"white\",\"ticks\":\"\",\"title\":{\"standoff\":15},\"zerolinecolor\":\"white\",\"automargin\":true,\"zerolinewidth\":2},\"scene\":{\"xaxis\":{\"backgroundcolor\":\"#E5ECF6\",\"gridcolor\":\"white\",\"linecolor\":\"white\",\"showbackground\":true,\"ticks\":\"\",\"zerolinecolor\":\"white\",\"gridwidth\":2},\"yaxis\":{\"backgroundcolor\":\"#E5ECF6\",\"gridcolor\":\"white\",\"linecolor\":\"white\",\"showbackground\":true,\"ticks\":\"\",\"zerolinecolor\":\"white\",\"gridwidth\":2},\"zaxis\":{\"backgroundcolor\":\"#E5ECF6\",\"gridcolor\":\"white\",\"linecolor\":\"white\",\"showbackground\":true,\"ticks\":\"\",\"zerolinecolor\":\"white\",\"gridwidth\":2}},\"shapedefaults\":{\"line\":{\"color\":\"#2a3f5f\"}},\"annotationdefaults\":{\"arrowcolor\":\"#2a3f5f\",\"arrowhead\":0,\"arrowwidth\":1},\"geo\":{\"bgcolor\":\"white\",\"landcolor\":\"#E5ECF6\",\"subunitcolor\":\"white\",\"showland\":true,\"showlakes\":true,\"lakecolor\":\"white\"},\"title\":{\"x\":0.05},\"mapbox\":{\"style\":\"light\"}}},\"xaxis\":{\"anchor\":\"y\",\"domain\":[0.0,1.0],\"title\":{\"text\":\"AthletesCount\"}},\"yaxis\":{\"anchor\":\"x\",\"domain\":[0.0,1.0],\"title\":{\"text\":\"category\"}},\"legend\":{\"tracegroupgap\":0},\"margin\":{\"t\":60}},                        {\"responsive\": true}                    ).then(function(){\n",
       "                            \n",
       "var gd = document.getElementById('5599976e-85f9-4008-a815-3974f54782b1');\n",
       "var x = new MutationObserver(function (mutations, observer) {{\n",
       "        var display = window.getComputedStyle(gd).display;\n",
       "        if (!display || display === 'none') {{\n",
       "            console.log([gd, 'removed!']);\n",
       "            Plotly.purge(gd);\n",
       "            observer.disconnect();\n",
       "        }}\n",
       "}});\n",
       "\n",
       "// Listen for the removal of the full notebook cells\n",
       "var notebookContainer = gd.closest('#notebook-container');\n",
       "if (notebookContainer) {{\n",
       "    x.observe(notebookContainer, {childList: true});\n",
       "}}\n",
       "\n",
       "// Listen for the clearing of the current output cell\n",
       "var outputEl = gd.closest('.output');\n",
       "if (outputEl) {{\n",
       "    x.observe(outputEl, {childList: true});\n",
       "}}\n",
       "\n",
       "                        })                };                });            </script>        </div>"
      ]
     },
     "metadata": {},
     "output_type": "display_data"
    }
   ],
   "source": [
    "import plotly.express as px\n",
    "df_excersizetype=pd.read_excel('AllAthletesData.xlsx',sheet_name='AllAthletesData')\n",
    "df_excersizetype['HR']=60/(df_excersizetype['RR']/1000)\n",
    "df_excersizetype\n",
    "df_excersizetype.loc[df_excersizetype['HR'] < 100,'Zone Type']='Zone 1'\n",
    "df_excersizetype.loc[(df_excersizetype['HR'].between(100,120)), 'Zone Type'] = 'Zone 2'\n",
    "df_excersizetype.loc[(df_excersizetype['HR'].between(121,135)), 'Zone Type'] = 'Zone 3'\n",
    "df_excersizetype.loc[(df_excersizetype['HR'].between(136,155)), 'Zone Type'] = 'Zone 4'\n",
    "df_excersizetype.loc[df_excersizetype['HR'] > 155, 'Zone Type'] = 'Zone 5'\n",
    "df_excersizetype\n",
    "\n",
    "chartData = dict(\n",
    "    AthletesCount=['Zone 1','Zone 2','Zone 3','Zone 4','Zone 5'],\n",
    "    category=[\"Zone 1 \",\"Zone 2 \",\"Zone 3 \",\"Zone 4\",\"Zone 5\"]\n",
    ")\n",
    "\n",
    "fg = px.funnel(chartData, x='AthletesCount', y='category')\n",
    "fg.show()"
   ]
  },
  {
<<<<<<< HEAD
=======
   "cell_type": "code",
   "execution_count": 32,
   "id": "414fe050-b88b-456b-b7b1-b19881f31f58",
   "metadata": {},
   "outputs": [
    {
     "data": {
      "application/vnd.plotly.v1+json": {
       "config": {
        "plotlyServerURL": "https://plot.ly"
       },
       "data": [
        {
         "hovertemplate": "AthletesCount=%{x}<br>category=%{y}<extra></extra>",
         "legendgroup": "",
         "marker": {
          "color": "#636efa"
         },
         "name": "",
         "orientation": "v",
         "showlegend": false,
         "type": "funnel",
         "x": [
          "Zone_1",
          "Zone_2",
          "Zone_3",
          "Zone_4",
          "Zone_5"
         ],
         "xaxis": "x",
         "y": [
          "Zone_1 ",
          "Zone_2 ",
          "Zone_3 ",
          "Zone_4",
          "Zone_5"
         ],
         "yaxis": "y"
        }
       ],
       "layout": {
        "autosize": true,
        "legend": {
         "tracegroupgap": 0
        },
        "margin": {
         "t": 60
        },
        "template": {
         "data": {
          "bar": [
           {
            "error_x": {
             "color": "#2a3f5f"
            },
            "error_y": {
             "color": "#2a3f5f"
            },
            "marker": {
             "line": {
              "color": "#E5ECF6",
              "width": 0.5
             },
             "pattern": {
              "fillmode": "overlay",
              "size": 10,
              "solidity": 0.2
             }
            },
            "type": "bar"
           }
          ],
          "barpolar": [
           {
            "marker": {
             "line": {
              "color": "#E5ECF6",
              "width": 0.5
             },
             "pattern": {
              "fillmode": "overlay",
              "size": 10,
              "solidity": 0.2
             }
            },
            "type": "barpolar"
           }
          ],
          "carpet": [
           {
            "aaxis": {
             "endlinecolor": "#2a3f5f",
             "gridcolor": "white",
             "linecolor": "white",
             "minorgridcolor": "white",
             "startlinecolor": "#2a3f5f"
            },
            "baxis": {
             "endlinecolor": "#2a3f5f",
             "gridcolor": "white",
             "linecolor": "white",
             "minorgridcolor": "white",
             "startlinecolor": "#2a3f5f"
            },
            "type": "carpet"
           }
          ],
          "choropleth": [
           {
            "colorbar": {
             "outlinewidth": 0,
             "ticks": ""
            },
            "type": "choropleth"
           }
          ],
          "contour": [
           {
            "colorbar": {
             "outlinewidth": 0,
             "ticks": ""
            },
            "colorscale": [
             [
              0,
              "#0d0887"
             ],
             [
              0.1111111111111111,
              "#46039f"
             ],
             [
              0.2222222222222222,
              "#7201a8"
             ],
             [
              0.3333333333333333,
              "#9c179e"
             ],
             [
              0.4444444444444444,
              "#bd3786"
             ],
             [
              0.5555555555555556,
              "#d8576b"
             ],
             [
              0.6666666666666666,
              "#ed7953"
             ],
             [
              0.7777777777777778,
              "#fb9f3a"
             ],
             [
              0.8888888888888888,
              "#fdca26"
             ],
             [
              1,
              "#f0f921"
             ]
            ],
            "type": "contour"
           }
          ],
          "contourcarpet": [
           {
            "colorbar": {
             "outlinewidth": 0,
             "ticks": ""
            },
            "type": "contourcarpet"
           }
          ],
          "heatmap": [
           {
            "colorbar": {
             "outlinewidth": 0,
             "ticks": ""
            },
            "colorscale": [
             [
              0,
              "#0d0887"
             ],
             [
              0.1111111111111111,
              "#46039f"
             ],
             [
              0.2222222222222222,
              "#7201a8"
             ],
             [
              0.3333333333333333,
              "#9c179e"
             ],
             [
              0.4444444444444444,
              "#bd3786"
             ],
             [
              0.5555555555555556,
              "#d8576b"
             ],
             [
              0.6666666666666666,
              "#ed7953"
             ],
             [
              0.7777777777777778,
              "#fb9f3a"
             ],
             [
              0.8888888888888888,
              "#fdca26"
             ],
             [
              1,
              "#f0f921"
             ]
            ],
            "type": "heatmap"
           }
          ],
          "heatmapgl": [
           {
            "colorbar": {
             "outlinewidth": 0,
             "ticks": ""
            },
            "colorscale": [
             [
              0,
              "#0d0887"
             ],
             [
              0.1111111111111111,
              "#46039f"
             ],
             [
              0.2222222222222222,
              "#7201a8"
             ],
             [
              0.3333333333333333,
              "#9c179e"
             ],
             [
              0.4444444444444444,
              "#bd3786"
             ],
             [
              0.5555555555555556,
              "#d8576b"
             ],
             [
              0.6666666666666666,
              "#ed7953"
             ],
             [
              0.7777777777777778,
              "#fb9f3a"
             ],
             [
              0.8888888888888888,
              "#fdca26"
             ],
             [
              1,
              "#f0f921"
             ]
            ],
            "type": "heatmapgl"
           }
          ],
          "histogram": [
           {
            "marker": {
             "pattern": {
              "fillmode": "overlay",
              "size": 10,
              "solidity": 0.2
             }
            },
            "type": "histogram"
           }
          ],
          "histogram2d": [
           {
            "colorbar": {
             "outlinewidth": 0,
             "ticks": ""
            },
            "colorscale": [
             [
              0,
              "#0d0887"
             ],
             [
              0.1111111111111111,
              "#46039f"
             ],
             [
              0.2222222222222222,
              "#7201a8"
             ],
             [
              0.3333333333333333,
              "#9c179e"
             ],
             [
              0.4444444444444444,
              "#bd3786"
             ],
             [
              0.5555555555555556,
              "#d8576b"
             ],
             [
              0.6666666666666666,
              "#ed7953"
             ],
             [
              0.7777777777777778,
              "#fb9f3a"
             ],
             [
              0.8888888888888888,
              "#fdca26"
             ],
             [
              1,
              "#f0f921"
             ]
            ],
            "type": "histogram2d"
           }
          ],
          "histogram2dcontour": [
           {
            "colorbar": {
             "outlinewidth": 0,
             "ticks": ""
            },
            "colorscale": [
             [
              0,
              "#0d0887"
             ],
             [
              0.1111111111111111,
              "#46039f"
             ],
             [
              0.2222222222222222,
              "#7201a8"
             ],
             [
              0.3333333333333333,
              "#9c179e"
             ],
             [
              0.4444444444444444,
              "#bd3786"
             ],
             [
              0.5555555555555556,
              "#d8576b"
             ],
             [
              0.6666666666666666,
              "#ed7953"
             ],
             [
              0.7777777777777778,
              "#fb9f3a"
             ],
             [
              0.8888888888888888,
              "#fdca26"
             ],
             [
              1,
              "#f0f921"
             ]
            ],
            "type": "histogram2dcontour"
           }
          ],
          "mesh3d": [
           {
            "colorbar": {
             "outlinewidth": 0,
             "ticks": ""
            },
            "type": "mesh3d"
           }
          ],
          "parcoords": [
           {
            "line": {
             "colorbar": {
              "outlinewidth": 0,
              "ticks": ""
             }
            },
            "type": "parcoords"
           }
          ],
          "pie": [
           {
            "automargin": true,
            "type": "pie"
           }
          ],
          "scatter": [
           {
            "fillpattern": {
             "fillmode": "overlay",
             "size": 10,
             "solidity": 0.2
            },
            "type": "scatter"
           }
          ],
          "scatter3d": [
           {
            "line": {
             "colorbar": {
              "outlinewidth": 0,
              "ticks": ""
             }
            },
            "marker": {
             "colorbar": {
              "outlinewidth": 0,
              "ticks": ""
             }
            },
            "type": "scatter3d"
           }
          ],
          "scattercarpet": [
           {
            "marker": {
             "colorbar": {
              "outlinewidth": 0,
              "ticks": ""
             }
            },
            "type": "scattercarpet"
           }
          ],
          "scattergeo": [
           {
            "marker": {
             "colorbar": {
              "outlinewidth": 0,
              "ticks": ""
             }
            },
            "type": "scattergeo"
           }
          ],
          "scattergl": [
           {
            "marker": {
             "colorbar": {
              "outlinewidth": 0,
              "ticks": ""
             }
            },
            "type": "scattergl"
           }
          ],
          "scattermapbox": [
           {
            "marker": {
             "colorbar": {
              "outlinewidth": 0,
              "ticks": ""
             }
            },
            "type": "scattermapbox"
           }
          ],
          "scatterpolar": [
           {
            "marker": {
             "colorbar": {
              "outlinewidth": 0,
              "ticks": ""
             }
            },
            "type": "scatterpolar"
           }
          ],
          "scatterpolargl": [
           {
            "marker": {
             "colorbar": {
              "outlinewidth": 0,
              "ticks": ""
             }
            },
            "type": "scatterpolargl"
           }
          ],
          "scatterternary": [
           {
            "marker": {
             "colorbar": {
              "outlinewidth": 0,
              "ticks": ""
             }
            },
            "type": "scatterternary"
           }
          ],
          "surface": [
           {
            "colorbar": {
             "outlinewidth": 0,
             "ticks": ""
            },
            "colorscale": [
             [
              0,
              "#0d0887"
             ],
             [
              0.1111111111111111,
              "#46039f"
             ],
             [
              0.2222222222222222,
              "#7201a8"
             ],
             [
              0.3333333333333333,
              "#9c179e"
             ],
             [
              0.4444444444444444,
              "#bd3786"
             ],
             [
              0.5555555555555556,
              "#d8576b"
             ],
             [
              0.6666666666666666,
              "#ed7953"
             ],
             [
              0.7777777777777778,
              "#fb9f3a"
             ],
             [
              0.8888888888888888,
              "#fdca26"
             ],
             [
              1,
              "#f0f921"
             ]
            ],
            "type": "surface"
           }
          ],
          "table": [
           {
            "cells": {
             "fill": {
              "color": "#EBF0F8"
             },
             "line": {
              "color": "white"
             }
            },
            "header": {
             "fill": {
              "color": "#C8D4E3"
             },
             "line": {
              "color": "white"
             }
            },
            "type": "table"
           }
          ]
         },
         "layout": {
          "annotationdefaults": {
           "arrowcolor": "#2a3f5f",
           "arrowhead": 0,
           "arrowwidth": 1
          },
          "autotypenumbers": "strict",
          "coloraxis": {
           "colorbar": {
            "outlinewidth": 0,
            "ticks": ""
           }
          },
          "colorscale": {
           "diverging": [
            [
             0,
             "#8e0152"
            ],
            [
             0.1,
             "#c51b7d"
            ],
            [
             0.2,
             "#de77ae"
            ],
            [
             0.3,
             "#f1b6da"
            ],
            [
             0.4,
             "#fde0ef"
            ],
            [
             0.5,
             "#f7f7f7"
            ],
            [
             0.6,
             "#e6f5d0"
            ],
            [
             0.7,
             "#b8e186"
            ],
            [
             0.8,
             "#7fbc41"
            ],
            [
             0.9,
             "#4d9221"
            ],
            [
             1,
             "#276419"
            ]
           ],
           "sequential": [
            [
             0,
             "#0d0887"
            ],
            [
             0.1111111111111111,
             "#46039f"
            ],
            [
             0.2222222222222222,
             "#7201a8"
            ],
            [
             0.3333333333333333,
             "#9c179e"
            ],
            [
             0.4444444444444444,
             "#bd3786"
            ],
            [
             0.5555555555555556,
             "#d8576b"
            ],
            [
             0.6666666666666666,
             "#ed7953"
            ],
            [
             0.7777777777777778,
             "#fb9f3a"
            ],
            [
             0.8888888888888888,
             "#fdca26"
            ],
            [
             1,
             "#f0f921"
            ]
           ],
           "sequentialminus": [
            [
             0,
             "#0d0887"
            ],
            [
             0.1111111111111111,
             "#46039f"
            ],
            [
             0.2222222222222222,
             "#7201a8"
            ],
            [
             0.3333333333333333,
             "#9c179e"
            ],
            [
             0.4444444444444444,
             "#bd3786"
            ],
            [
             0.5555555555555556,
             "#d8576b"
            ],
            [
             0.6666666666666666,
             "#ed7953"
            ],
            [
             0.7777777777777778,
             "#fb9f3a"
            ],
            [
             0.8888888888888888,
             "#fdca26"
            ],
            [
             1,
             "#f0f921"
            ]
           ]
          },
          "colorway": [
           "#636efa",
           "#EF553B",
           "#00cc96",
           "#ab63fa",
           "#FFA15A",
           "#19d3f3",
           "#FF6692",
           "#B6E880",
           "#FF97FF",
           "#FECB52"
          ],
          "font": {
           "color": "#2a3f5f"
          },
          "geo": {
           "bgcolor": "white",
           "lakecolor": "white",
           "landcolor": "#E5ECF6",
           "showlakes": true,
           "showland": true,
           "subunitcolor": "white"
          },
          "hoverlabel": {
           "align": "left"
          },
          "hovermode": "closest",
          "mapbox": {
           "style": "light"
          },
          "paper_bgcolor": "white",
          "plot_bgcolor": "#E5ECF6",
          "polar": {
           "angularaxis": {
            "gridcolor": "white",
            "linecolor": "white",
            "ticks": ""
           },
           "bgcolor": "#E5ECF6",
           "radialaxis": {
            "gridcolor": "white",
            "linecolor": "white",
            "ticks": ""
           }
          },
          "scene": {
           "xaxis": {
            "backgroundcolor": "#E5ECF6",
            "gridcolor": "white",
            "gridwidth": 2,
            "linecolor": "white",
            "showbackground": true,
            "ticks": "",
            "zerolinecolor": "white"
           },
           "yaxis": {
            "backgroundcolor": "#E5ECF6",
            "gridcolor": "white",
            "gridwidth": 2,
            "linecolor": "white",
            "showbackground": true,
            "ticks": "",
            "zerolinecolor": "white"
           },
           "zaxis": {
            "backgroundcolor": "#E5ECF6",
            "gridcolor": "white",
            "gridwidth": 2,
            "linecolor": "white",
            "showbackground": true,
            "ticks": "",
            "zerolinecolor": "white"
           }
          },
          "shapedefaults": {
           "line": {
            "color": "#2a3f5f"
           }
          },
          "ternary": {
           "aaxis": {
            "gridcolor": "white",
            "linecolor": "white",
            "ticks": ""
           },
           "baxis": {
            "gridcolor": "white",
            "linecolor": "white",
            "ticks": ""
           },
           "bgcolor": "#E5ECF6",
           "caxis": {
            "gridcolor": "white",
            "linecolor": "white",
            "ticks": ""
           }
          },
          "title": {
           "x": 0.05
          },
          "xaxis": {
           "automargin": true,
           "gridcolor": "white",
           "linecolor": "white",
           "ticks": "",
           "title": {
            "standoff": 15
           },
           "zerolinecolor": "white",
           "zerolinewidth": 2
          },
          "yaxis": {
           "automargin": true,
           "gridcolor": "white",
           "linecolor": "white",
           "ticks": "",
           "title": {
            "standoff": 15
           },
           "zerolinecolor": "white",
           "zerolinewidth": 2
          }
         }
        },
        "xaxis": {
         "anchor": "y",
         "autorange": true,
         "domain": [
          0,
          1
         ],
         "range": [
          -0.5,
          4.5
         ],
         "title": {
          "text": "AthletesCount"
         },
         "type": "category"
        },
        "yaxis": {
         "anchor": "x",
         "autorange": true,
         "domain": [
          0,
          1
         ],
         "range": [
          -0.11111111111111112,
          2.111111111111111
         ],
         "title": {
          "text": "category"
         },
         "type": "category"
        }
       }
      },
      "image/png": "iVBORw0KGgoAAAANSUhEUgAABE0AAAFoCAYAAACixgUDAAAAAXNSR0IArs4c6QAAIABJREFUeF7t3X2MndldH/BzZ6MmqQgpSUlCqgCF0ia0qLQISKC0AYqqbkpLqQhUVdUKFEXQPwqkQVkQRRS1G4HSF1UtiiIoVYVIg0pfIpZKLRAChcRre73rXe96cRbvxll7YweTAWfH1nimesa53sfXd+Y+9/6el/M853P/gayf85xzPr/j8Z3vPc+5s/39/f3kRYAAAQIECBAgQIAAAQIECBAgcIfATGhiRRAgQIAAAQIECBAgQIAAAQIE7hYQmlgVBAgQIECAAAECBAgQIECAAIElAkITy4IAAQIECBAgQIAAAQIECBAgIDSxBggQIECAAAECBAgQIECAAAECzQTsNGnm5CoCBAgQIECAAAECBAgQIECgMAGhSWEFN10CBAgQIECAAAECBAgQIECgmYDQpJmTqwgQIECAAAECBAgQIECAAIHCBIQmhRXcdAkQIECAAAECBAgQIECAAIFmAkKTZk6uIkCAAAECBAgQIECAAAECBAoTEJoUVnDTJUCAAAECBAgQIECAAAECBJoJCE2aObmKAAECBAgQIECAAAECBAgQKExAaFJYwU2XAAECBAgQIECAAAECBAgQaCYgNGnm5CoCBAgQIECAAAECBAgQIECgMAGhSWEFN10CBAgQIECAAAECBAgQIECgmYDQpJmTqwgQIECAAAECBAgQIECAAIHCBIQmhRXcdAkQIECAAAECBAgQIECAAIFmAkKTZk6uIkCAAAECBAgQIECAAAECBAoTEJoUVnDTJUCAAAECBAgQIECAAAECBJoJCE2aObmKAAECBAgQIECAAAECBAgQKExAaFJYwU2XAAECBAgQIECAAAECBAgQaCYgNGnm5CoCBAgQIECAAAECBAgQIECgMAGhSWEFN10CBAgQIECAAAECBAgQIECgmYDQpJmTqwgQIECAAAECBAgQIECAAIHCBIQmhRXcdAkQIECAAAECBAgQIECAAIFmAkKTZk6uIkCAAAECBAgQIECAAAECBAoTEJoUVnDTJUCAAAECBAgQIECAAAECBJoJCE2aObmKAAECBAgQIECAAAECBAgQKExAaFJYwU2XAAECBAgQIECAAAECBAgQaCYgNGnm5CoCBAgQIECAAAECBAgQIECgMAGhSWEFN10CBAgQIECAAAECBAgQIECgmYDQpJmTqwgQIECAAAECBAgQIECAAIHCBIQmhRXcdAkQIECAAAECBAgQIECAAIFmAkKTZk6uIkCAAAECBAgQIECAAAECBAoTEJoUVnDTJUCAAAECBAgQIECAAAECBJoJCE2aObmKAAECBAgQIECAAAECBAgQKExAaFJYwU2XAAECBAgQIECAAAECBAgQaCYgNGnm5CoCBAgQIECAAAECBAgQIECgMAGhSWEFN10CBAgQIECAAAECBAgQIECgmYDQpJmTqwgQIECAAAECBAgQIECAAIHCBIQmhRXcdAkQIECAAAECBAgQIECAAIFmAkKTZk6uIkCAAAECBAgQIECAAAECBAoTEJoUVnDTJUCAAAECBAgQIECAAAECBJoJCE2aObmKAAECBAgQIECAAAECBAgQKExAaFJYwU2XAAECBAgQIECAAAECBAgQaCYgNGnm5CoCBAgQIECAAAECBAgQIECgMAGhSWEFN10CBAgQIECAAAECBAgQIECgmYDQpJmTqwgQIECAAAECBAgQIECAAIHCBIQmhRXcdAkQIECAAAECBAgQIECAAIFmAkKTZk6uIkCAAAECBAgQIECAAAECBAoTEJoUVnDTJUCAAAECBAgQIECAAAECBJoJCE2aObmKAAECBAgQIECAAAECBAgQKExAaFJYwU2XAAECBAgQIECAAAECBAgQaCYgNGnm5CoCBAgQIECAAAECBAgQIECgMAGhSWEFN10CBAgQIECAAAECBAgQIECgmYDQpJmTqwgQIECAAAECBAgQIECAAIHCBIQmhRXcdAkQIECAAAECBAgQIECAAIFmAkKTZk6uIkCAAAECBAgQIECAAAECBAoTEJoUVnDTJUCAAAECBAgQIECAAAECBJoJCE2aObmKAAECBAgQIECAAAECBAgQKExAaBIs+LOfej54B80JECBAgAABAgQIECBAgEA3Aq995Uu7uXEhdxWaBAstNAkCak6AAAECBAgQIECAAAECnQkITWK0QpOYXxKaBAE1J0CAAAECBAgQIECAAIHOBIQmMVqhScxPaBL005wAAQIECBAgQIAAAQIEuhMQmsRshSYxP6FJ0E9zAgQIECBAgAABAgQIEOhOQGgSsxWaxPyEJkE/zQkQIECAAAECBAgQIECgOwGhScxWaBLzE5oE/TQnQIAAAQIECBAgQIAAge4EhCYxW6FJzE9oEvTTnAABAgQIECBAgAABAgS6ExCaxGyFJjE/oUnQT3MCBAgQIECAAAECBAgQ6E5AaBKzFZrE/IQmQT/NCRAgQIAAAQIECBAgQKA7AaFJzFZoEvMTmgT9NCdAgAABAgQIECBAgACB7gSEJjFboUnMT2gS9NOcAAECBAgQIECAwBgF9vdT+vXfmKUPffieMQ7fmDMX+L6376bXvLqdQQpNYo5Ck5if0CTopzkBAgQIECBAgACBMQo8dT6lM2e20rHjW2McvjFnLiA0yadAQpNgLZ791PPBO2hOgAABAgQIECBAgMCYBC5fSenRx2bp2rWZ0GRMhRvRWIUm+RRLaBKshdAkCKg5AQIECBAgQIAAgREJ7OykdOz4LO3upvSZzwhNRlS6UQ1VaJJPuYQmwVoITYKAmhMgQIAAAQIECBAYicDeXkonT22l7e39gxELTUZSuBEOU2iST9GEJsFaCE2CgJoTIECAAAECBAgQGInAk+dSunBhdnu0QpORFG6EwxSa5FM0oUmwFkKTIKDmBAgQIECAAAECBEYgUJ1jcvqxrZSqr8357EtoMoLCjXSIQpN8Cic0CdZCaBIE1JwAAQIECBAgQIBA5gL1c0zqQxWaZF64EQ9PaJJP8YQmwVoITYKAmhMgQIAAAQIECBDIWODmzZQeeviFc0yEJhkXa0JDE5rkU0yhSbAWQpMgoOYECBAgQIAAAQIEMhY488QsXbq0fIB2mmRcuJEPTWiSTwGFJsFaCE2CgJoTIECAAAECBAgQyFTg4sWUHj/7wsGvi8MUmmRauAkMS2iSTxGFJsFaCE2CgJoTIECAAAECBAgQyFDg2rWUjp+cperxnMNeQpMMCzeRIQlN8imk0CRYC6FJEFBzAgQIECBAgAABApkJVEFJFZhUwclRL6FJZoWb0HCEJvkUU2gSrIXQJAioOQECBAgQIECAAIHMBI46x6Q+VKFJZoWb0HCEJvkUU2gSrIXQJAioOQECBAgQIECAAIGMBD7x7CydfbLZgIQmzZxctb6A0GR9s65aCE2CskKTIKDmBAgQIECAAAECBDIR2N5O6eSprbS3t99oREKTRkwu2kBAaLIBWkdNhCZBWKFJEFBzAgQIECBAgAABAhkI7O6mdOz4LO3sNB+M0KS5lSvXExCarOfV5dVCk6Cu0CQIqDkBAgQIECBAgACBDAROPzpLl6+sNxChyXperm4uIDRpbtX1lUKToLDQJAioOQECBAgQIECAAIGBBZ65MEvnzq0/CKHJ+mZaNBMQmjRz6uMqoUlQWWgSBNScAAECBAgQIECAwIAC655jUh+q0GTAwk28a6FJPgUWmgRrITQJAmpOgAABAgQIECBAYCCB6zdSOnFyvXNMhCYDFauwboUm+RRcaBKshdAkCKg5AQIECBAgQIAAgQEE9vdTOvXILF29unnndppsbqfl0QJCk3xWiNAkWAuhSRBQcwIECBAgQIAAAQIDCDx1PqXz52ehnoUmIT6NjxAQmuSzPIQmwVoITYKAmhMgQIAAAQIECBDoWaDaXVLtMql2m0ReQpOInrZHCQhN8lkfQpNgLYQmQUDNCRAgQIAAAQIECPQoUJ1j8uCJrXTjejAxSSkJTXosXGFdCU3yKbjQJFgLoUkQUHMCBAgQIECAAAECPQm0cY5JfahCk54KV2A3QpN8ii40CdZCaBIE1JwAAQIECBAgQIBATwIfeyqlp5+JnWMiNOmpWIV3IzTJZwEITYK1EJoEATUnQIAAAQIECBAg0IPA5SspnX5sK4UPMqmN1U6THgpXaBdCk3wKLzQJ1kJoEgTUnAABAgQIECBAgEDHAjs7KR07Pku7u+12JDRp19PdXhAQmuSzGoQmwVoITYKAmhMgQIAAAQIECBDoUGBvL6WTp7bS9nb84NfFYQpNOixc4bcWmuSzAIQmwVoITYKAmhMgQIAAAQIECBDoUODJcylduNDeOSb1oQpNOixc4bcWmuSzAIQmwVoITYKAmhMgQIAAAQIECBDoSKCLc0yEJh0Vy23vEBCa5LMghCbBWghNgoCaEyBAgAABAgQIEOhA4Nq1lE481P45JkKTDorllncJCE3yWRRCk2AthCZBQM0JECBAgAABAgQItCxw82ZKx0/OUhWcdPnyeE6XumXfW2iST/2FJsFaCE2CgJoTIECAAAECBAgQaFngzBOzdOlSyzddcjuhSffGpfYgNMmn8kKTYC2EJkFAzQkQIECAAAECBAi0KHDxYkqPn+3m4NfFYQpNWiycW90hIDTJZ0EITYK1EJoEATUnQIAAAQIECBAg0JJA9ThO9VhO9XhOHy+hSR/KZfYhNMmn7kKTYC2EJkFAzQkQIECAAAECBAi0INDXOSb1oQpNWiicWywVEJrkszCEJsFaCE2CgJoTIECAAAECBAgQaEGgr3NMhCYtFMstVgoITVYS9XaB0CRILTQJAmpOgAABAgQIECBAICjwzIVZOncueJMNmttpsgGaJo0EhCaNmHq5SGgSZBaaBAE1J0CAAAECBAgQIBAQ2N5O6eSprbS3tx+4y2ZNhSabuWm1WkBostqoryuEJkFpoUkQUHMCBAgQIECAAAECGwrs7qZ07Pgs7exseINgM6FJEFDzQwWEJvksDqFJsBZCkyCg5gQIECBAgAABAgQ2FDj96CxdvrJh4xaaCU1aQHSLpQJCk3wWhtAkWAuhSRBQcwIECBAgQIAAAQIbCAx1jkl9qEKTDQqnSSMBoUkjpl4uEpoEmYUmQUDNCRAgQIAAAQIECKwpcPVqSg+fHuYcE6HJmsVy+UYCQpON2DppJDQJsgpNgoCaEyBAgAABAgQIEFhD4PqNlB48sZVuXO//4NfFYdppskbhXLqWgNBkLa5OLxaaBHmFJkFAzQkQIECAAAECBAg0FNjfT+nUI7NU7TTJ4SU0yaEK0xyD0CSfugpNgrUQmgQBNSdAgAABAgQIECDQUOCp8ymdPz9reHX3lwlNujcutQehST6VF5oEayE0CQJqToAAAQIECBAgQKCBQLW7pNplUu02yeUlNMmlEtMbh9Akn5oKTYK1EJoEATUnQIAAAQIEJiVw5omtdOlSRr/VTkq33Mnsp6304hfvZ3GOSb0KQpNy12TXMxeadC3c/P5Ck+ZWS68UmgQBNSdAgAABAgQmI3DpuVn60Ie30pnH83l8YjK4hU/knntS+oavv5mdwvOfmaWPHt/KblwGNH4BoUk+NRSaBGshNAkCak6AAAECBAhMQuDatZSOn5ylZy9tpceFJpOoaU6TEJrkVA1j6UNAaNKHcrM+hCbNnA69SmgSBNScAAECBAgQGL3AzZu3ApMqOHnustBk9AXNcAJCkwyLYkidCghNOuVd6+ZCk7W47r5YaBIE1JwAAQIECBAYvcCZJ2bp0qVb0xCajL6cWU5AaJJlWQyqQwGhSYe4a95aaLIm2OLlQpMgoOYECBAgQIDAqAUuXkzp8bMvnGEiNBl1ObMdvNAk29IYWEcCQpOOYDe4rdBkA7R6E6FJEFBzAgQIECBAYLQC83NMqsdz5i+hyWjLmfXAhSZZl8fgOhAQmnSAuuEthSYbws2bCU2CgJoTIECAAAECoxTY3U3pxEO3zjGpv4Qmoyxn9oMWmmRfIgNsWUBo0jJo4HZCkwBe1VRoEgTUnAABAgQIEBilwOlHZ+nylbuHLjQZZTmzH7TQJPsSGWDLAkKTlkEDtxOaBPCEJkE8zQkQIECAAIFRCjxzYZbOnVs+dKHJKEua/aCFJtmXyABbFhCatAwauJ3QJIAnNAniaU6AAAECBAiMTmB7O6WTp7bS3t7+0rELTUZX0lEMWGgyijIZZIsCQpMWMYO3EpoEAT2eEwTUnAABAgQIEBiNQHWOybHjs7Szc/iQhSajKeeoBio0GVW5DLYFAaFJC4gt3UJoEoQUmgQBNSdAgAABAgRGI3DYOSb1CQhNRlPOUQ1UaDKqchlsCwJCkxYQW7qF0CQIKTQJAmpOgAABAgQIjELg6adn6WO/t3qoQpPVRq5YX0Bosr6ZFuMWEJrkUz+hSbAWQpMgoOYECBAgQIBA9gJXr6Z06pFZ2l9+jMkd4xeaZF/OUQ5QaDLKshl0QEBoEsBruanQJAgqNAkCak6AAAECBAhkLXD9RkoPnthKN643SExSSkKTrMs52sEJTUZbOgPfUEBosiFcB82EJkFUoUkQUHMCBAgQIEAgW4FqZ0m1w6TaadL0JTRpKuW6dQSEJutouXYKAkKTfKooNAnWQmgSBNScAAECBAgQyFbgqfMpnT8/W2t8QpO1uFzcUEBo0hDKZZMREJrkU0qhSbAWQpMgoOYECBAgQIBAlgLrnGNSn4DQJMtyjn5QQpPRl9AE1hQQmqwJ1uHlQpMgrtAkCKg5AQIECBAgkJ3Azk5Kxx9qfo6J0CS7Ek5uQEKTyZXUhFYICE3yWSJCk2AthCZBQM0JECBAgACBrAT29lI6eWorbW83O/h1cfB2mmRVzskMRmgymVKaSEMBoUlDqB4uE5oEkYUmQUDNCRAgQIAAgawEnjyX0oUL651jUp+A0CSrck5mMEKTyZTSRBoKCE0aQvVwmdAkiCw0CQJqToAAAQIECGQjcPlKSqcf20qp+tqcDV9Ckw3hNDtSQGhigZQmIDTJp+JCk2AthCZBQM0JECBAgACBLASqc0yOHZ+l3d3YcIQmMT+tlwsITayM0gSEJvlUXGgSrIXQJAioOQECBAgQIDC4QPQck/oEhCaDl3OSAxCaTLKsJnWEgNAkn+UhNAnWQmgSBNScAAECBAgQGFzg7NmUPnFx83NMhCaDl3DyAxCaTL7EJrggIDTJZ0kITYK1EJoEATUnQIAAAQIEBhW4eDGlx8+2E5hUE7HTZNByTrZzoclkS2tihwgITfJZGkKTYC2EJkFAzQkQIECAAIHBBK5dS+n4yVm6ebO9IQhN2rN0pxcEhCZWQ2kCQpN8Ki40CdZCaBIE1JwAAQIECBAYRKAKSqrApApO2nwJTdrUdK+5gNDEWihNQGiST8WFJsFaCE2CgJoTIECAAAECgwiceWKWLl1qv2uhSfum7piS0MQqKE1AaJJPxYUmwVoITYKAmhMgQIAAAQK9C7R9jkl9AkKT3stZRIdCkyLKbJI1AaFJPstBaBKshdAkCKg5AQIECBAg0KvA9nZKDz3c7jkmQpNeS1hkZ0KTIste9KSFJvmUX2gSrIXQJAioOQECBAgQINCbwO5uSseOz9LOTndd2mnSnW3JdxaalFz9MucuNMmn7kKTYC2EJkFAzQkQIECAAIHeBE4/OkuXr3TbndCkW99S7y40KbXy5c5baJJP7YUmwVoITYKAmhMgQIAAAQK9CDxzYZbOneu+K6FJ98Yl9iA0KbHqZc9ZaJJP/YUmwVoITYKAmhMgQIAAAQKdC1TnmJw8tZX29vY770to0jlxkR0ITYose9GTFprkU36hSbAWQpMgoOYECBAgQIBApwJ9nGNSn4DQpNNyFntzoUmxpS924kKTfEovNAnWQmgSBNScAAECBAgQ6Exgfz+lRx/r/hwToUlnJXTjzwoITSyF0gSEJvlUXGgSrIXQJAioOQECBAgQINCZwFPnUzp/ftbZ/Zfd2E6TXrmL6UxoUkypTfSzAkKTfJaC0CRYC6FJEFBzAgQIECBAoBOBq1dTOvXILFW7Tfp8CU361C6nL6FJObU201sCQpN8VoLQJFgLoUkQUHMCBAgQIECgdYHrN1J68MRWunG958QkpSQ0ab2cbphSEppYBqUJCE3yqbjQJFgLoUkQUHMCBAgQIECgVYFqZ0m1w6TaaTLES2gyhPr0+xSaTL/GZningNAknxUhNAnWQmgSBNScAAECBAgQaFVgiHNM6hMQmrRaTjf7rIDQxFIoTUBokk/FhSbBWghNgoCaEyBAgAABAq0JXL5y69ty+j7HRGjSWgnd6BABoYmlUZqA0CSfigtNgrUQmgQBNSdAgAABAgRaEdjZSenY8Vna3W3ldhvfxE6Tjek0PEJAaGJ5lCYgNMmn4kKTYC2EJkFAzQkQIECAAIGwwN5eSidPbaXt7f4Pfl0cvNAkXE43WCIgNLEsShMQmuRTcaFJsBZCkyCg5gQIECBAgEBY4MlzKV24MAvfp40bCE3aUHSPRQGhiTVRmoDQJJ+KC02CtRCaBAE1J0CAAAECBEIC1Tkmpx/bSoMeZFKbgdAkVE6NDxEQmlgapQkITfKpuNAkWAuhSRBQcwIECBAgQGBjgVzOMalPQGiycTk1PEJAaGJ5lCYgNMmn4kKTYC2EJkFAzQkQIECAAIGNBG7eTOmhh/M4x0RoslEJNVpDQGiyBpZLJyEgNMmnjEKTYC2EJkFAzQkQIDBxge3tlH7+/feki5fyOG9i4txFTe8LvmA//bkv28tuzp+8MktnzmxlNy4DGreA0GTc9TP69QWEJuubddVCaBKUFZoEATUnQIDAhAWqr36tvgL24Ye30sXnhCYTLvUgUxOaDMKu04EEhCYDwet2MAGhyWD0d3UsNAnWQmgSBNScAAECExY4/egsVYd0nj0rNJlwmQebmtBkMHodDyAgNBkAXZeDCghNBuW/o3OhSbAWQpMgoOYECBCYqMAzF2bp3LlbkxOaTLTIA09LaDJwAXTfq4DQpFdunWUgIDTJoAifHYLQJFgLoUkQUHMCBAhMUKA6x+Tkqa20t7cvNJlgfXOZktAkl0oYRx8CQpM+lPWRk4DQJJ9qCE2CtRCaBAE1J0CAwMQE5ueYVF8FO3/ZaTKxImcyHaFJJoUwjF4EhCa9MOskIwGhST7FEJoEayE0CQJqToAAgQkJ7O+n9Ohjt84xqb+EJhMqckZTEZpkVAxD6VxAaNI5sQ4yExCa5FMQoUmwFkKTIKDmBAgQmJDAU+dTOn/+7m/JEZpMqMgZTUVoklExDKVzAaFJ58Q6yExAaJJPQYQmwVoITYKAmhMgQGAiAlevpnTqkVmqdpssvoQmEylyZtMQmmRWEMPpVEBo0imvm2coIDTJpyhCk2AthCZBQM0JECAwAYHrN1J68MRWunF9SWLi23MmUOE8pyA0ybMuRtWNgNCkG1d3zVdAaJJPbYQmwVoITYKAmhMgQGDkAtXOkmqHSbXT5LCXnSYjL3KmwxeaZFoYw+pEQGjSCaubZiwgNMmnOEKTYC2EJkFAzQkQIDBygcPOMalPS2gy8iJnOnyhSaaFMaxOBIQmnbC6acYCQpN8iiM0CdZCaBIE1JwAAQIjFqi+Jaf6tpxl55gITUZc2JEMXWgykkIZZisCQpNWGN1kRAJCk3yKJTQJ1kJoEgTUnAABAiMV2NlJ6djxWdrdXT0BO01WG7lifQGhyfpmWoxXQGgy3toZ+WYCQpPN3LpoJTQJqgpNgoCaEyBAYIQCe3spnTy1lba3lx/8ujglockIizyCIQtNRlAkQ2xNQGjSGqUbjURAaJJPoYQmwVoITYKAmhMgQGCEAk+eS+nChVnjkQtNGlO5cA0BockaWC4dvYDQZPQlNIE1BYQma4J1eLnQJIgrNAkCak6AAIGRCVTnmJx+bCutPMikNi+hyciKPJLhCk1GUijDbEVAaNIKo5uMSEBokk+xhCbBWghNgoCaEyBAYEQC65xjUp+W0GRERR7RUIUmIyqWoYYFhCZhQjcYmYDQJJ+CCU2CtRCaBAE1J0CAwEgEbt5M6aGHm59jIjQZSWFHPEyhyYiLZ+hrCwhN1ibTYOQCQpN8Cig0CdZCaBIE1JwAAQIjETjzxCxdurTZYO002cxNq6MFhCZWSEkCQpOSqm2ulYDQJJ91IDQJ1kJoEgTUnAABAiMQuHgxpcfPNj/4dXFKQpMRFHmEQxSajLBohryxgNBkYzoNRyogNMmncEKTYC2EJkFAzQkQIJC5wLVrKR0/OUvV4zmbvoQmm8ppd5SA0MT6KElAaFJStc21EhCa5LMOhCbBWghNgoCaEyBAIGOBKiipApMqOIm8hCYRPW0PExCaWBslCQhNSqq2uQpN8loDQpNgPYQmQUDNCRAgkLFA5ByT+rSEJhkXecRDE5qMuHiGvraA0GRtMg1GLmCnST4FFJoEayE0CQJqToAAgUwFPvHsLJ19sp3BCU3acXSXOwWEJlZESQJCk5Kqba6VgNAkn3UgNAnWQmgSBNScAAECGQpsb6d08tRW2tvbb2V0QpNWGN1kQUBoYkmUJCA0Kana5io0yWsNCE2C9RCaBAE1J0CAQGYCu7spHTs+Szs77Q1MaNKepTu9ICA0sRpKEhCalFRtcxWa5LUGhCbBeghNgoCaEyBAIDOB04/O0uUr7Q5KaNKup7vdEhCaWAklCQhNSqq2uQpN8loDQpNgPYQmQUDNCRAgkJHAMxdm6dy59gckNGnf1B2FJtZAWQJCk7LqbbbONMlpDQhNgtUQmgQBNSdAgEAmAm2fY1KfltAkkyJPbBh2mkysoKZzpIDQxAIpTcBBsPlUXGgSrIXQJAioOQECBDIQuH4jpRMn2z3HRGiSQWEnPgShycQLbHp3CAhNLIjSBIQm+VRcaBKshdAkCKg5AQIEBhbY30/p1COzdPVqdwOx06Q725LvLDQpufrlzV1oUl7NS5+x0CTrQ4FNAAAgAElEQVSfFSA0CdZCaBIE1JwAAQIDCzx1PqXz52edjkJo0ilvsTcXmhRb+iInLjQpsuxFT1pokk/5hSbBWghNgoCaEyBAYECBandJtcuk2m3S5Uto0qVuufcWmpRb+xJnLjQpseplz1lokk/9hSbBWghNgoCaEyBAYCCB6hyTB09spRvXO05MUkpCk4GKPPFuhSYTL7Dp3SEgNLEgShMQmuRTcaFJsBZCkyCg5gQIEBhAoI9zTOrTEpoMUOQCuhSaFFBkU7wtIDSxGEoTEJrkU3GhSbAWQpMgoOYECBAYQOBjT6X09DPdnmMiNBmgsIV1KTQprOCFT1doUvgCKHD6QpN8ii40CdZCaBIE1JwAAQI9C1y+ktLpx7ZS5weZ1OZlp0nPRS6kO6FJIYU2zQMBoYmFUJqA0CSfigtNgrUQmgQBNSdAgECPAjs7KR07Pku7uz126kyTfrEL6k1oUlCxTVVoYg0UJyA0yafkQpNgLYQmQUDNCRAg0JPA3l5KJ09tpe3t7g9+XZySnSY9FbmwboQmhRW88OnaaVL4Aihw+kKTfIouNAnWQmgSBNScAAECPQk8eS6lCxf6O8ekPi2hSU9FLqwboUlhBS98ukKTwhdAgdMXmuRTdKFJsBZCkyCg5gQIEOhBYIhzTIQmPRS28C6EJoUvgMKmLzQprOCmm4Qm+SwCoUmwFkKTIKDmBAgQ6Fjg2rWUTjzU/zkmQpOOC+v2SWhiEZQkIDQpqdrmWgkITfJZB0KTYC2EJkFAzQkQINChwM2bKR0/OUtVcDLky+M5Q+pPt2+hyXRra2Z3CwhNrIrSBIQm+VRcaBKshdAkCKg5AQIEOhQ488QsXbrUYQcNby00aQjlsrUEhCZrcbl45AJCk5EX0PDXFhCarE3WWQOhSZBWaBIE1JwAAQIdCVy8mNLjZ4c5+HVxSkKTjopc+G2FJoUvgMKmLzQprOCm6/GcjNaA0CRYDKFJEFBzAgQIdCBQPY5TPZZTPZ6Tw0tokkMVpjcGocn0ampGhwsITayO0gTsNMmn4kKTYC2EJkFAzQkQINCyQC7nmNSnJTRpuchudyAgNLEQShIQmpRUbXOtBIQm+awDoUmwFkKTIKDmBAgQaFkgl3NMhCYtF9bt7hIQmlgUJQkITUqqtrkKTfJaA0KTYD2EJkFAzYsUuH4jpd/56D1p7+ZekfM36e4EXvySrXR9J791ZadJdzUv+c5Ck5KrX97chSbl1bz0Gdtpks8KEJoEayE0CQJqXpzA/n5Kpx6Zpf/1wXuSzKS48nc+4T//hv30+Z+fYWjy5Fa6eCmPQ2k7L4IOehMQmvRGraMMBIQmGRTBEHoVEJr0yn1kZ0KTYC2EJkFAzYsTeOp8SufPz9Jv/pbQpLji9zBhoUkPyLrIRkBokk0pDKQHAaFJD8i6yEpAaJJPOYQmwVoITYKAmhclcPXqrV0m1W4ToUlRpe9tskKT3qh1lIGA0CSDIhhCbwJCk96odZSJgNAkk0KklIQmwVoITYKAmhcjUJ1j8uCJrXTj+v7BnIUmxZS+14kKTXrl1tnAAkKTgQug+14FhCa9cussAwGhSQZF+OwQhCbBWghNgoCaFyGwt5fSw6dnqdppMn8JTYoofe+TFJr0Tq7DAQWEJgPi67p3AaFJ7+Q6HFhAaDJwAWrdC02CtRCaBAE1L0LgyXMpXbhw5yGYQpMiSt/7JIUmvZPrcEABocmA+LruXUBo0ju5DgcWEJoMXAChSXsFEJq0Z+lO0xS4fCWl049tpYODTGovock06z30rIQmQ1dA/30KCE361NbX0AJCk6EroP++BYQmfYsf3p+dJsFaCE2CgJpPWmBnJ6Vjx2dpd/fuaQpNJl36wSYnNBmMXscDCAhNBkDX5WACQpPB6HU8kIDQZCD4Jd0KTYK1EJoEATWfrEB1jsnJU1tpe/vOHSbzCQtNJlv6QScmNBmUX+c9CwhNegbX3aACQpNB+XU+gIDQZAD0Q7oUmgRrITQJAmo+WYFl55jUJys0mWzpB52Y0GRQfp33LCA06Rlcd4MKCE0G5df5AAJCkwHQhSbdoAtNunF113ELXHpuls48MbvrHBOhybjrOobRC03GUCVjbEtAaNKWpPuMQUBoMoYqGWObAkKTNjVj97LTJOaXhCZBQM0nJ3DtWkrHT87SzZtHT81Ok8mVPosJCU2yKINB9CQgNOkJWjdZCAhNsiiDQfQoIDTpEXtFV0KTYC2EJkFAzSclUAUlVWBSBSerXkKTVUL+fBMBockmatqMVUBoMtbKGfcmAkKTTdS0GbOA0CSf6glNgrUQmgQBNZ+UQPVIzqVLzaYkNGnm5Kr1BIQm63m5etwCQpNx18/o1xMQmqzn5erxCwhN8qmh0CRYC6FJEFDzyQhcvJjS42dnjecjNGlM5cI1BIQma2C5dPQCQpPRl9AE1hAQmqyB5dJJCAhN8imj0CRYC6FJEFDzSQg0PcekPlmhySRKn90khCbZlcSAOhQQmnSI69bZCQhNsiuJAXUsIDTpGHiN2wtN1sBadqnQJAio+egFdndTOvFQs3NMhCajL3f2ExCaZF8iA2xRQGjSIqZbZS8gNMm+RAbYsoDQpGXQwO2EJgG8qqnQJAio+egFTj86S5evrD8NO03WN9NitYDQZLWRK6YjIDSZTi3NZLWA0GS1kSumJSA0yaeeQpNgLYQmQUDNRy3wzIVZOndusykITTZz0+poAaGJFVKSgNCkpGqbq9DEGihNQGiST8WFJsFaCE2CgJqPVmB7O6WTp7bS3t7+RnMQmmzEptEKAaGJJVKSgNCkpGqbq9DEGihNQGiST8WFJsFaCE2CgJqPUqA6x+TY8Vna2dl8+EKTze20PFxAaGJ1lCQgNCmp2uYqNLEGShMQmuRTcaFJsBZCkyCg5qMU2PQck/pkhSajLH32gxaaZF8iA2xRQGjSIqZbZS8gNMm+RAbYsoDQpGXQwO2EJgG8qqnQJAio+egEnn56lj72e/FhC03ihu5wt4DQxKooSUBoUlK1zVVoYg2UJiA0yafiQpNgLYQmQUDNRyVw9WpKpx6Zpf3NjjG5Y65Ck1GVfjSDFZqMplQG2oKA0KQFRLcYjYDQZDSlMtCWBIQmLUG2cBuhSRBRaBIE1Hw0AtdvpPTgia1043oLiUlKSWgymtKPaqBCk1GVy2CDAkKTIKDmoxIQmoyqXAbbgoDQpAXElm4hNAlCCk2CgJqPQqDaWVLtMKl2mrT1Epq0Jek+dQGhifVQkoDQpKRqm6vQxBooTUBokk/FhSbBWghNgoCaj0LgqfMpnT8/a3WsQpNWOd3sswJCE0uhJAGhSUnVNlehiTVQmoDQJJ+KC02CtRCaBAE1z16gzXNM6pMVmmRf+lEOUGgyyrIZ9IYCQpMN4TQbpYDQZJRlM+iAgNAkgNdyU6FJEFRoEgTUPGuBnZ2Ujj/U3jkmQpOsyz2JwQlNJlFGk2goIDRpCOWySQgITSZRRpNYQ0BosgZWx5cKTYLAQpMgoObZCuztpXTy1Fba3m7n4NfFidppkm3pRz0wocmoy2fwawoITdYEc/moBYQmoy6fwW8gIDTZAK2jJkKTIKzQJAioebYCT55L6cKFds8xqU9WaJJt6Uc9MKHJqMtn8GsKCE3WBHP5qAWEJqMun8FvICA02QCtoyZCkyCs0CQIqHmWApevpHT6sa2Uqq/N6eglNOkItvDbCk0KXwCFTV9oUljBC5+u0KTwBVDg9IUm+RRdaBKshdAkCKh5dgLVOSbHjs/S7m63QxOadOtb6t2FJqVWvsx5C03KrHupsxaalFr5cuctNMmn9kKTYC2EJkFAzbMS6Pock/pkhSZZlX4ygxGaTKaUJtJAQGjSAMklkxEQmkymlCbSUEBo0hCqh8uEJkFkoUkQUPOsBM6eTekTF7s7x0RoklW5JzkYockky2pShwgITSyNkgSEJiVV21wrAaFJPutAaBKshdAkCKh5NgIXL6b0+Nl+ApNq0naaZFP6SQ1EaDKpcprMCgGhiSVSkoDQpKRqm6vQJK81IDQJ1kNoEgTUPAuBa9dSOn5ylm7e7G84QpP+rEvqSWhSUrXNVWhiDZQkIDQpqdrmKjTJaw0ITYL1EJoEATUfXKAKSqrApApO+nwJTfrULqcvoUk5tTbTlIQmVkFJAkKTkqptrkKTvNaA0CRYD6FJEFDzwQXOPDFLly71PwyhSf/mJfQoNCmhyuY4FxCaWAslCQhNSqq2uQpN8loDQpNgPYQmQUDNBxXo+xyT+mSFJoOWfrKdC00mW1oTWyIgNLEsShIQmpRUbXMVmuS1BoQmwXoITYKAmg8msL2d0kMP93uOidBksHIX07HQpJhSm2jyeI5FUJaA0KSseputb8/JaQ0ITYLVEJoEATUfRGB3N6Vjx2dpZ2eQ7g86tdNkOPsp9yw0mXJ1zW1RwE4Ta6IkAaFJSdU2VztN8loDQpNgPYQmQUDNBxE4/egsXb4ySNe3OxWaDOs/1d6FJlOtrHktExCaWBclCQhNSqq2uQpN8loDQpNgPYQmQUDNexd45sIsnTvXe7d3dSg0Gb4GUxyB0GSKVTWnwwSEJtZGSQJCk5Kqba5Ck7zWgNAkWA+hSRBQ814FqnNMTp7aSnt7+732u6wzocngJZjkAIQmkyyrSR0iIDSxNEoSEJqUVG1zFZrktQaEJsF6CE2CgJr3JpDDOSb1yU4pNHnHP3lResOfnd1Vy53rKf38L95Mv/PgXm91rnf0j77rnvQNb9q6/Z+ufjqln/kvu+mJ3x0+NOsKRGjSlewL9/07996T/uZf30ovuufuvn7zd/bSf37/ze4HsaSHxXGVsN6FJv0ttTd99Vb6B99xT3rJi+/u8/En99N7/sNuf4M5pKf534Hf/Vge42kbRGjStujR9/sX970ovfY1d7+3Gfpn67Jx5fJ3sO0Kfd/bd9NrXt3OXV/7ype2c6NC7yI0CRZeaBIE1LwXgf39lB59bPhzTKYamiwrYvWP+qe306BvpKsw58qn9g9+iX39l83S9/zDF6Xnn99P//z+4d/cd7XwhSZdyR593yqg+wtfvjVoKFdf79Voq7+D1WvK611oMsx6n/dahRTf+Fe20n/978OF4/WxzMPMqf4CKTQZdr3P30c8ema4cLyUn+3zSgtNhl3z9d6FJsFaCE2CgJr3IvDU+ZTOn7/704JeOj+kkyntNFmcYvXL22tePbvjF8j6bpT6pzTVm+5vefNWuvDsfvozf/pWjZ69dGewcVjbdeu3bFzr3iP364Um/Vdovob/z4f20v984NYuk/quj92bKf3K/731Z/NP66v1/sVfODvYrbL4qWV9h1Rkt1YJ611o0v96n/c4X8sPnnzhF8jIul/cybLOrq2q7Xf+3XvSR47vpa/6yq106Tk7TfpcGc9/ZpY+evyFXZ199t1nX8uC6Pquj/p7l/nP32qX8+e/8tYo62t6HsB83stv/dk6QV8JgbjQpM+V3awvoUkzp0OvEpoEATXvXODq1ZROPTJL1W6TnF5TDU2qX/i++i9v3fFYzuJ/q/7Bf+lLb4Uqf+7Ltg4edfjk5VtByeIb8eqNx5/+otnt+0V2sJTwRkNo0u/f8mW/OC7+t2r9v+lrtg6Ck2qdV484PL9z61Gx6lXtgJr/kle/tgpZqvX/8s9df7dIKTurhCb9rvd5b/P1VQ8nIut+3vb3nr4Vdqyzg6Xe70dP7N3x92kYne56tdOkO9tVdz7sw6D5B0Tzn+Xz3azzD3vmQUn9fdDVP9i/Y+frPPT79d96IXg/ajyLj+esE7ismmduf26nST4VEZoEayE0CQJq3rmA0KRz4tsdHPYP/2JYUf9kvmpc7TSZf0pf3/667A3wpo9BLAtz+pPpryehSX/WVU/LQrzFtVb/BfO3j+0dhCb1T+fr91j2d2Xdxx/mb6iHfu6+j0oITfpQvruPZWFeZN0f1nbVYxCLj0ssC3OGEeqmV6FJN66r7rosxFu21urr+Ou+ZuuOHbf1e7zq82d3vO857N+SVeOq/ny+u+t3jg37yFCTsW5yjdBkE7Vu2ghNgq5CkyCg5r0IeDyne+aj3qwu/mJZD1eahCbz7avzWaz7y+Dip/fdawzXg9CkP/vDHn9ZFuzN/w40CU0WDx7c9BEdj+f0txYWe/rklVk6c2aajyscFkBH1v3iod1zz1WP6IzhcNo2V6HQpE3NZvdatpuwarnsfJN6MLIqNFl2mPimO0YiO3CbKQx3ldBkOPvFnoUmwVoITYKAmvci4CDY7pmPevQlutNk1aeNR82upMCkchCadL/Wqx6O2rkU+cS9zTe/6zzi0I9a+73YadK+6VF3XHZ+z/z6yLrfdAfh4ljtNOl3Pcx7m+qZJketp+hOk3V3EB5V2Tb/3RhmBR3eq9Akn4oITYK1EJoEATXvTcBXDndHveoN72JwsXimyWGP51TferN4pkn1RuXb3nJP+h+/fHPlVweX8khOvbJCk+7W+fzOq54/XzyfYdmZJoc9nrMs5HvXP31R+o3f3lv51d0/+s9elB45s3/7MNr637Opfs220KT79T7vYdU3h0TW/WLbeTBZ/d91vsJbaNLfeqj3NNXQZNWZUvX3J4vnlCzu9KuH2IvXVpbVn3/hn5qlf/++o7/dr/q78te+biu9+9/duu6oIHOY1dBur0KTdj0jdxOaRPSqb7n41PPBO2hOoD+B7e2UTp7aSnt7w58KO5WDYBdPgK9Xs/5Ywapvz1l2psn8zXK9bXX/pltYFw9Lq9rWv8mkv5XXX09Ck+6tF9djvcf54wSrvkXksNBk/sviN7zphUc7Fr9N6rAZLj7isO5jbN3Ltd+D0KR906brq37d/GdyZN0vPmqzyWNpQpP+1sPUQ5OjHv2q/2xd9e051YHfVWi9uPNv8b1T0/cmy95zrXqMbZhV0U6vQpN2HNu4i9AkqCg0CQJq3rvAMxdm6dy53ru9q8OphCbDSxpBXUBoYj2UJCA0Kana5upME2ugNAGhST4VF5oEayE0CQJqPojA6Udn6fKVQbq+3anQJOZ/1Kf9TT+xiY0gz9ZCkzzrEh1V/RP8ZfdquvsqOo7c2gtNcqtIu+Ox7u/0FJq0u75yvNuyHbLzcW6y+yrHOa4zJqHJOlrdXis0CfoKTYKAmg8ikMP5JkKTQUo/+U6FJpMvsQnWBIQmlkNJAkKTkqptrpWA0CSfdSA0CdZCaBIE1HwwgaHPNxGaDFb6SXcsNJl0eU1uQUBoYkmUJCA0Kana5io0yWsNCE2C9RCaBAE1H1TgE8/O0tknhxmC0GQY96n3KjSZeoXNry4gNLEeShIQmpRUbXMVmuS1BoQmwXoITYKAmg8ucOaJWbp0qf9hCE36Ny+hR6FJCVU2x7mA0MRaKElAaFJStc1VaJLXGhCa5FUPoyFAgAABAgQIECBAgAABAgQyERCaZFIIwyBAgAABAgQIECBAgAABAgTyEhCa5FUPoyFAgAABAgQIECBAgAABAgQyERCaZFIIwyBAgAABAgQIECBAgAABAgTyEhCa5FWPyY3mlx74cPrRn/zZu+b1FW/4kvTT7/6B9Hkvf9mgc67Gd/7jl9IPvv2tg45D59MQ+NjTz6a3/9B70sXnPnXXhH7u374rffVXvn6QiT546on0j7//3bf7fss3vzH9+Du/O730JX9skPHodBoCVz/9h+l73/Vv0unHn7prQj/xQ9+dvv3evzrIRBfHlcu/N4Ng6LQ1gVzXe32Cz+/cSD/2U7fec/kZ31rpi73Rv37vB9LP/MIDd81/6PcQy8Y15L85xS6QwiYuNCms4DlMt/ph98Wve81gb6grg/ovkd/z9+8VmuSwMCY6hmqt/eIHPzToG9gqHHzda191ENrM31S/5lWvsO4nuuaGnFYVHP7Uf3x/uv+H3zZYKF79nfv4s5+8/W9Mtf4/cuLMoH8Hh6yJvrsTyGG9z2c3/9n+y7/6kTT0L7XdibvzkALzNfYd3/rmwT4EquZf/R5RvXzgOeRqKK9voUl5NR90xsvevNZ3o9T/oa/ejPzI/e9Lf+tbvi7d/+9//mDciwHHYW2bTtJOk6ZSrttEYL6G/+V9b0tf+kWvPbhFZL3Xw77Ip+d+idykmtqsEph/Ev+Ot7/19hvq+u6rL3j1K9N7f/IdB38X5tf+rb/+pvRzH/jfB7uzFn/RW/xkf9PdWtXfm/e89wNZ7G5cZejPxyOwbL0ftWarX/T+6DM76Y/+6DOpCjbqfx+qWUfX+/wDqepeQsLxrKMxjXRZWFHf9VF/jz5/n/E5n/PH03/9n792MM36z/B6yFf92To7RYQmY1o10xmr0GQ6tcx+JsveuC7+t+oH4aVP/v7BJ4LPPnfl4FGHe7/paw/S5MU3KNUP5A988EO33whvsoNFaJL9shntAJe9oY6s96rtffe/7/YvnZG16w3HaJdVtgOfvwF+41d9+e0dHot/B+pr+BV/4mUHj/Z84WtfdfDzvnpVjxXM28/bvvVb33xwv8gn+vV/VzySlu0SGtXAlq33xf82Dwzvv+9tByFitQ4f+LWP3vEzfB5u7Fy/fvD3YdP1Xv+ZLhQf1VIazWAP+9BzvobnP8Pnu1jnHxDNg5L6+5+XvPjFBz/v59dWP+/v+1fvS+/8vu+6/QHTUTCLj+esE7iMBtxAsxMQmmRXkmkO6LAfiIu/vNU/ma8kqp0m80/p69sC/8Lrv+SON9jVtZs8BhH5xXOalTKrtgSWhXibrvf5G+5qbPPtqJv+EulT97Yq7D51gWU/SxfXWv2Xym/8+r908EtifVdK/e/MYW3X2RY+f9Me2ZWlygSWCSxb78t2FtZ/5i/+/K+/Z3n0iafu2A21zmMQi2MRmlizbQsse7+xLDis/9z+9f/30B07nur3+P0/+MM73t9X493kg8+q3WI42fbc3Y/AXEBoYi10LrDsB+u808UfkvVwpUloUm1xrb/WfY5XaNJ5+Yvs4LA3rZuu93losngg27q/DC7uVimyOCbdusBhQdyyIHv+d6BJaFI/vHg+6E0e0REUtl7yom942Hpa9otl/T3GqtBk0/We62GdRS+SCU1+2a7ZanrLgr3634FVocmyQ/M33TGyaeAyoTKZSg8CQpMekEvv4qhHATb95H2+02SdTx2bflpUer3MPyZw1C9om673eWgSOUBZYBKrq9bLBZZ9uj6/MrrTpK0DlNfd+q3WBA4TOGq9R3eatLXe7TSxftsSOOpDz+hOkzYPDBeatFVx9zlKQGhifXQqsOqRmcVf5BbPNDns8Zzql8jFM02qH+D/7Zd/I/29t/y1xl+laqdJp+Uv7uarfjmLrPdlocfP/9L/Sfd+8xtXfkuJT9qLW4q9THjVIwSL55IsO9PksMdzFttWE6raV69VX91d/7ao6vrFfyt6wdHJ5ARWrffFbyZbdqZJhTJ/xLL+/mjxTJN11vsitNBkcktvsAmteo9c/9m6eE7J4jqs70JZvLaaYPXn537vQvobb/6aI+db/dvwwK9+JP2Db/+Wg+uOCjIHg9PxJAWEJpMsax6TWjwZuz6q+mMFq75NZNmZJvM3zfW21f2bbu2rfwvJfFybbPvOQ9oochFYXI/1cc3XV2S9L67bpl+XvWz79uI3N+RiaBzjEVj2c3Q++vnP4lXfnnNYaFLdZ/HbRJo+jlbvs7pP03bjkTfSIQSarPdV355zWGhSHVC86XoXmgyxGqbf5+J6rM+4/ij8qm/PqQ76rtb34uNri78jNH1Psux3C+/fp78ec5ih0CSHKhgDAQIECBAgQIAAAQIECBAgkJ2A0CS7khhQVOCoT/ubJtnRMWhPoC8B670vaf3kILC4i2RxTE13G+YwF2MgsErgqE/7q7ZNdxuu6sefE8hF4LCDjavx2TWYS5XKHIfQpMy6mzUBAgQIECBAgAABAgQIECCwQkBoYokQIECAAAECBAgQIECAAAECBJYICE0sCwIECBAgQIAAAQIECBAgQICA0MQaIECAAAECBAgQIECAAAECBAg0E7DTpJmTqwgQIECAAAECBAgQIECAAIHCBIQmhRXcdAkQIECAAAECBAgQIECAAIFmAkKTZk6uIkCAAAECBAgQIECAAAECBAoTEJoUVnDTJUCAAAECBAgQIECAAAECBJoJCE2aObmKAAECBAgQIECAAAECBAgQKExAaFJYwU2XAAECBAgQIECAAAECBAgQaCYgNGnm5CoCBAgQIECAAAECBAgQIECgMAGhSWEFN10CBAgQIECAAAECBAgQIECgmYDQpJmTqwgQIECAAAECBAgQIECAAIHCBIQmhRXcdAkQIECAAAECBAgQIECAAIFmAkKTZk6uIkCAAAECkxZ4fudG+rGf+tn0xq/68vTt9/7VpXNtcs2kkUyOAAECBAgQKE5AaFJcyU2YAAECBEoQuPrpP0zf+65/k678/qfTe3/yHelLv+i1t6f94Kkn0nve+4H00+/+gfR5L3/ZwX9vEog0uWbR9pce+HD6yIkz6cff+d3ppS/5Y63SV/P4x9//7jvu+RVv+JI75tVqh4fcrMs59jF+fRAgQIAAAQKHCwhNrA4CBAgQIDBBgSpQuO/+96U/+Xmfm976t7/xjt0jUwhN/vV7P5Ae+LWP3hUIVQHG+Y9fSj/49rf2VlWhSW/UOiJAgAABAr0LCE16J9chAQIECBDoXqAKFarXF7/uNekDH/zQ7d0XH3v62fT2H3pPuvjcp24P4nv+/r3pe//Rt91+PKcKHX7mFx44+PO3fPMbb+8SOWynSdXX/PovePUrbwcZy3aC/MQPffftAOewdlW/i+NcvG8VCC3uoFmmelQfy8Kjqt8fuf996V/e97aD3Tnza97x9rcehFBzt5/7t+9KX/2Vrz/488XdLvU5dl9pPRAgQIAAAQJdCghNutR1bwIECBAgMIBA9WjOff/qfemd3/ddB71XIcn9973t4Jf86nXUTlkdt8UAAAaFSURBVJNf/tWPpHkgMH/E563f+uaDoGNZaDIPZ+Y7O+Y7XOaBxmG7MI5q94o/8bKDR4uqoKI+5o8/+8mDcVRtL33y91c+8rN43eLYmoYmVShSD4+qOdWDKDtNBljkuiRAgAABAj0JCE16gtYNAQIECBDoS2Dxl/hlAUXTM03qbRdDk2pXxk/9x/en+3/4bYeejbIsUFjV7i/++T9zx26Putt8DK951SuOfARnHvjUg5fF8TcNTRatFnejCE36Wtn6IUCAAAEC/QsITfo31yMBAgQIEOhMYNlukMVwYJ0zTY4KTZY9mjKf2PwRlWWBwqp2f/Ob3njwqFC166V61R93aRqaLAtmqnvVzzwRmnS2DN2YAAECBAhMRkBoMplSmggBAgQIELj7LJC6yTx8aDM0WdyFsViDw0KTVe2q+8wDksXwpMnjOUITfxsIECBAgACBNgSEJm0ougcBAgQIEMhE4KgzRObngDz73JWVj9XMp7Pq8Zz6oanLCKqA5hc/+KE7zh9ZfLylCV19HItnk9TbV4/lPPCrH0n3fvMb7zoXpavHc5bNscmcXEOAAAECBAjkLyA0yb9GRkiAAAECBBoJLB7cWm9UDxqq/754OOxR34xTXV8d9Lp4zfx/P/PsJ29/O091bRXcvO61r7r97TKL33Szql11j9/86CO3zyw57ADaxa8cnn/jzr3f9LUHbVcdBDu/fn5I7ryfk4/+7h3fALTqTJOjQpxGhXMRAQIECBAgkK2A0CTb0hgYAQIECBBYT2DVDozqG2nm34RTBRs/+pM/e9DB4lcOV99QM38dtdOkfs38K4er//YVb/iSO0KU+tf+HvaVw/V21f9fjfX040/dHkc1xvk39Mz/Y5Ov+z3qK4er+9TvUX2t8Tu/9zvTf3r/r9z1lcM//e4fuH3Y7bKdMofNcb0KupoAAQIECBDITUBokltFjIcAAQIECBAgQIAAAQIECBDIQkBokkUZDIIAAQIECBAgQIAAAQIECBDITUBokltFjIcAAQIECBAgQIAAAQIECBDIQkBokkUZDIIAAQIECBAgQIAAAQIECBDITUBokltFjIcAAQIECBAgQIAAAQIECBDIQkBokkUZDIIAAQIECBAgQIAAAQIECBDITUBokltFjIcAAQIECBAgQIAAAQIECBDIQkBokkUZDIIAAQIECBAgQIAAAQIECBDITUBokltFjIcAAQIECBAgQIAAAQIECBDIQkBokkUZDIIAAQIECBAgQIAAAQIECBDITUBokltFjIcAAQIECBAgQIAAAQIECBDIQkBokkUZDIIAAQIECBAgQIAAAQIECBDITUBokltFjIcAAQIECBAgQIAAAQIECBDIQkBokkUZDIIAAQIECBAgQIAAAQIECBDITUBokltFjIcAAQIECBAgQIAAAQIECBDIQkBokkUZDIIAAQIECBAgQIAAAQIECBDITUBokltFjIcAAQIECBAgQIAAAQIECBDIQkBokkUZDIIAAQIECBAgQIAAAQIECBDITUBokltFjIcAAQIECBAgQIAAAQIECBDIQkBokkUZDIIAAQIECBAgQIAAAQIECBDITUBokltFjIcAAQIECBAgQIAAAQIECBDIQkBokkUZDIIAAQIECBAgQIAAAQIECBDITUBokltFjIcAAQIECBAgQIAAAQIECBDIQkBokkUZDIIAAQIECBAgQIAAAQIECBDITUBokltFjIcAAQIECBAgQIAAAQIECBDIQkBokkUZDIIAAQIECBAgQIAAAQIECBDITUBokltFjIcAAQIECBAgQIAAAQIECBDIQkBokkUZDIIAAQIECBAgQIAAAQIECBDITUBokltFjIcAAQIECBAgQIAAAQIECBDIQkBokkUZDIIAAQIECBAgQIAAAQIECBDITUBokltFjIcAAQIECBAgQIAAAQIECBDIQkBokkUZDIIAAQIECBAgQIAAAQIECBDITUBokltFjIcAAQIECBAgQIAAAQIECBDIQkBokkUZDIIAAQIECBAgQIAAAQIECBDITUBokltFjIcAAQIECBAgQIAAAQIECBDIQkBokkUZDIIAAQIECBAgQIAAAQIECBDITUBokltFjIcAAQIECBAgQIAAAQIECBDIQkBokkUZDIIAAQIECBAgQIAAAQIECBDITUBokltFjIcAAQIECBAgQIAAAQIECBDIQkBokkUZDIIAAQIECBAgQIAAAQIECBDITeD/A2qlvgMLnY96AAAAAElFTkSuQmCC",
      "text/html": [
       "<div>                            <div id=\"b1f72cc0-d718-42da-b61a-de8b07ad9256\" class=\"plotly-graph-div\" style=\"height:525px; width:100%;\"></div>            <script type=\"text/javascript\">                require([\"plotly\"], function(Plotly) {                    window.PLOTLYENV=window.PLOTLYENV || {};                                    if (document.getElementById(\"b1f72cc0-d718-42da-b61a-de8b07ad9256\")) {                    Plotly.newPlot(                        \"b1f72cc0-d718-42da-b61a-de8b07ad9256\",                        [{\"hovertemplate\":\"AthletesCount=%{x}\\u003cbr\\u003ecategory=%{y}\\u003cextra\\u003e\\u003c\\u002fextra\\u003e\",\"legendgroup\":\"\",\"marker\":{\"color\":\"#636efa\"},\"name\":\"\",\"orientation\":\"v\",\"showlegend\":false,\"x\":[\"Zone_1\",\"Zone_2\",\"Zone_3\",\"Zone_4\",\"Zone_5\"],\"xaxis\":\"x\",\"y\":[\"Zone_1 \",\"Zone_2 \",\"Zone_3 \",\"Zone_4\",\"Zone_5\"],\"yaxis\":\"y\",\"type\":\"funnel\"}],                        {\"template\":{\"data\":{\"histogram2dcontour\":[{\"type\":\"histogram2dcontour\",\"colorbar\":{\"outlinewidth\":0,\"ticks\":\"\"},\"colorscale\":[[0.0,\"#0d0887\"],[0.1111111111111111,\"#46039f\"],[0.2222222222222222,\"#7201a8\"],[0.3333333333333333,\"#9c179e\"],[0.4444444444444444,\"#bd3786\"],[0.5555555555555556,\"#d8576b\"],[0.6666666666666666,\"#ed7953\"],[0.7777777777777778,\"#fb9f3a\"],[0.8888888888888888,\"#fdca26\"],[1.0,\"#f0f921\"]]}],\"choropleth\":[{\"type\":\"choropleth\",\"colorbar\":{\"outlinewidth\":0,\"ticks\":\"\"}}],\"histogram2d\":[{\"type\":\"histogram2d\",\"colorbar\":{\"outlinewidth\":0,\"ticks\":\"\"},\"colorscale\":[[0.0,\"#0d0887\"],[0.1111111111111111,\"#46039f\"],[0.2222222222222222,\"#7201a8\"],[0.3333333333333333,\"#9c179e\"],[0.4444444444444444,\"#bd3786\"],[0.5555555555555556,\"#d8576b\"],[0.6666666666666666,\"#ed7953\"],[0.7777777777777778,\"#fb9f3a\"],[0.8888888888888888,\"#fdca26\"],[1.0,\"#f0f921\"]]}],\"heatmap\":[{\"type\":\"heatmap\",\"colorbar\":{\"outlinewidth\":0,\"ticks\":\"\"},\"colorscale\":[[0.0,\"#0d0887\"],[0.1111111111111111,\"#46039f\"],[0.2222222222222222,\"#7201a8\"],[0.3333333333333333,\"#9c179e\"],[0.4444444444444444,\"#bd3786\"],[0.5555555555555556,\"#d8576b\"],[0.6666666666666666,\"#ed7953\"],[0.7777777777777778,\"#fb9f3a\"],[0.8888888888888888,\"#fdca26\"],[1.0,\"#f0f921\"]]}],\"heatmapgl\":[{\"type\":\"heatmapgl\",\"colorbar\":{\"outlinewidth\":0,\"ticks\":\"\"},\"colorscale\":[[0.0,\"#0d0887\"],[0.1111111111111111,\"#46039f\"],[0.2222222222222222,\"#7201a8\"],[0.3333333333333333,\"#9c179e\"],[0.4444444444444444,\"#bd3786\"],[0.5555555555555556,\"#d8576b\"],[0.6666666666666666,\"#ed7953\"],[0.7777777777777778,\"#fb9f3a\"],[0.8888888888888888,\"#fdca26\"],[1.0,\"#f0f921\"]]}],\"contourcarpet\":[{\"type\":\"contourcarpet\",\"colorbar\":{\"outlinewidth\":0,\"ticks\":\"\"}}],\"contour\":[{\"type\":\"contour\",\"colorbar\":{\"outlinewidth\":0,\"ticks\":\"\"},\"colorscale\":[[0.0,\"#0d0887\"],[0.1111111111111111,\"#46039f\"],[0.2222222222222222,\"#7201a8\"],[0.3333333333333333,\"#9c179e\"],[0.4444444444444444,\"#bd3786\"],[0.5555555555555556,\"#d8576b\"],[0.6666666666666666,\"#ed7953\"],[0.7777777777777778,\"#fb9f3a\"],[0.8888888888888888,\"#fdca26\"],[1.0,\"#f0f921\"]]}],\"surface\":[{\"type\":\"surface\",\"colorbar\":{\"outlinewidth\":0,\"ticks\":\"\"},\"colorscale\":[[0.0,\"#0d0887\"],[0.1111111111111111,\"#46039f\"],[0.2222222222222222,\"#7201a8\"],[0.3333333333333333,\"#9c179e\"],[0.4444444444444444,\"#bd3786\"],[0.5555555555555556,\"#d8576b\"],[0.6666666666666666,\"#ed7953\"],[0.7777777777777778,\"#fb9f3a\"],[0.8888888888888888,\"#fdca26\"],[1.0,\"#f0f921\"]]}],\"mesh3d\":[{\"type\":\"mesh3d\",\"colorbar\":{\"outlinewidth\":0,\"ticks\":\"\"}}],\"scatter\":[{\"fillpattern\":{\"fillmode\":\"overlay\",\"size\":10,\"solidity\":0.2},\"type\":\"scatter\"}],\"parcoords\":[{\"type\":\"parcoords\",\"line\":{\"colorbar\":{\"outlinewidth\":0,\"ticks\":\"\"}}}],\"scatterpolargl\":[{\"type\":\"scatterpolargl\",\"marker\":{\"colorbar\":{\"outlinewidth\":0,\"ticks\":\"\"}}}],\"bar\":[{\"error_x\":{\"color\":\"#2a3f5f\"},\"error_y\":{\"color\":\"#2a3f5f\"},\"marker\":{\"line\":{\"color\":\"#E5ECF6\",\"width\":0.5},\"pattern\":{\"fillmode\":\"overlay\",\"size\":10,\"solidity\":0.2}},\"type\":\"bar\"}],\"scattergeo\":[{\"type\":\"scattergeo\",\"marker\":{\"colorbar\":{\"outlinewidth\":0,\"ticks\":\"\"}}}],\"scatterpolar\":[{\"type\":\"scatterpolar\",\"marker\":{\"colorbar\":{\"outlinewidth\":0,\"ticks\":\"\"}}}],\"histogram\":[{\"marker\":{\"pattern\":{\"fillmode\":\"overlay\",\"size\":10,\"solidity\":0.2}},\"type\":\"histogram\"}],\"scattergl\":[{\"type\":\"scattergl\",\"marker\":{\"colorbar\":{\"outlinewidth\":0,\"ticks\":\"\"}}}],\"scatter3d\":[{\"type\":\"scatter3d\",\"line\":{\"colorbar\":{\"outlinewidth\":0,\"ticks\":\"\"}},\"marker\":{\"colorbar\":{\"outlinewidth\":0,\"ticks\":\"\"}}}],\"scattermapbox\":[{\"type\":\"scattermapbox\",\"marker\":{\"colorbar\":{\"outlinewidth\":0,\"ticks\":\"\"}}}],\"scatterternary\":[{\"type\":\"scatterternary\",\"marker\":{\"colorbar\":{\"outlinewidth\":0,\"ticks\":\"\"}}}],\"scattercarpet\":[{\"type\":\"scattercarpet\",\"marker\":{\"colorbar\":{\"outlinewidth\":0,\"ticks\":\"\"}}}],\"carpet\":[{\"aaxis\":{\"endlinecolor\":\"#2a3f5f\",\"gridcolor\":\"white\",\"linecolor\":\"white\",\"minorgridcolor\":\"white\",\"startlinecolor\":\"#2a3f5f\"},\"baxis\":{\"endlinecolor\":\"#2a3f5f\",\"gridcolor\":\"white\",\"linecolor\":\"white\",\"minorgridcolor\":\"white\",\"startlinecolor\":\"#2a3f5f\"},\"type\":\"carpet\"}],\"table\":[{\"cells\":{\"fill\":{\"color\":\"#EBF0F8\"},\"line\":{\"color\":\"white\"}},\"header\":{\"fill\":{\"color\":\"#C8D4E3\"},\"line\":{\"color\":\"white\"}},\"type\":\"table\"}],\"barpolar\":[{\"marker\":{\"line\":{\"color\":\"#E5ECF6\",\"width\":0.5},\"pattern\":{\"fillmode\":\"overlay\",\"size\":10,\"solidity\":0.2}},\"type\":\"barpolar\"}],\"pie\":[{\"automargin\":true,\"type\":\"pie\"}]},\"layout\":{\"autotypenumbers\":\"strict\",\"colorway\":[\"#636efa\",\"#EF553B\",\"#00cc96\",\"#ab63fa\",\"#FFA15A\",\"#19d3f3\",\"#FF6692\",\"#B6E880\",\"#FF97FF\",\"#FECB52\"],\"font\":{\"color\":\"#2a3f5f\"},\"hovermode\":\"closest\",\"hoverlabel\":{\"align\":\"left\"},\"paper_bgcolor\":\"white\",\"plot_bgcolor\":\"#E5ECF6\",\"polar\":{\"bgcolor\":\"#E5ECF6\",\"angularaxis\":{\"gridcolor\":\"white\",\"linecolor\":\"white\",\"ticks\":\"\"},\"radialaxis\":{\"gridcolor\":\"white\",\"linecolor\":\"white\",\"ticks\":\"\"}},\"ternary\":{\"bgcolor\":\"#E5ECF6\",\"aaxis\":{\"gridcolor\":\"white\",\"linecolor\":\"white\",\"ticks\":\"\"},\"baxis\":{\"gridcolor\":\"white\",\"linecolor\":\"white\",\"ticks\":\"\"},\"caxis\":{\"gridcolor\":\"white\",\"linecolor\":\"white\",\"ticks\":\"\"}},\"coloraxis\":{\"colorbar\":{\"outlinewidth\":0,\"ticks\":\"\"}},\"colorscale\":{\"sequential\":[[0.0,\"#0d0887\"],[0.1111111111111111,\"#46039f\"],[0.2222222222222222,\"#7201a8\"],[0.3333333333333333,\"#9c179e\"],[0.4444444444444444,\"#bd3786\"],[0.5555555555555556,\"#d8576b\"],[0.6666666666666666,\"#ed7953\"],[0.7777777777777778,\"#fb9f3a\"],[0.8888888888888888,\"#fdca26\"],[1.0,\"#f0f921\"]],\"sequentialminus\":[[0.0,\"#0d0887\"],[0.1111111111111111,\"#46039f\"],[0.2222222222222222,\"#7201a8\"],[0.3333333333333333,\"#9c179e\"],[0.4444444444444444,\"#bd3786\"],[0.5555555555555556,\"#d8576b\"],[0.6666666666666666,\"#ed7953\"],[0.7777777777777778,\"#fb9f3a\"],[0.8888888888888888,\"#fdca26\"],[1.0,\"#f0f921\"]],\"diverging\":[[0,\"#8e0152\"],[0.1,\"#c51b7d\"],[0.2,\"#de77ae\"],[0.3,\"#f1b6da\"],[0.4,\"#fde0ef\"],[0.5,\"#f7f7f7\"],[0.6,\"#e6f5d0\"],[0.7,\"#b8e186\"],[0.8,\"#7fbc41\"],[0.9,\"#4d9221\"],[1,\"#276419\"]]},\"xaxis\":{\"gridcolor\":\"white\",\"linecolor\":\"white\",\"ticks\":\"\",\"title\":{\"standoff\":15},\"zerolinecolor\":\"white\",\"automargin\":true,\"zerolinewidth\":2},\"yaxis\":{\"gridcolor\":\"white\",\"linecolor\":\"white\",\"ticks\":\"\",\"title\":{\"standoff\":15},\"zerolinecolor\":\"white\",\"automargin\":true,\"zerolinewidth\":2},\"scene\":{\"xaxis\":{\"backgroundcolor\":\"#E5ECF6\",\"gridcolor\":\"white\",\"linecolor\":\"white\",\"showbackground\":true,\"ticks\":\"\",\"zerolinecolor\":\"white\",\"gridwidth\":2},\"yaxis\":{\"backgroundcolor\":\"#E5ECF6\",\"gridcolor\":\"white\",\"linecolor\":\"white\",\"showbackground\":true,\"ticks\":\"\",\"zerolinecolor\":\"white\",\"gridwidth\":2},\"zaxis\":{\"backgroundcolor\":\"#E5ECF6\",\"gridcolor\":\"white\",\"linecolor\":\"white\",\"showbackground\":true,\"ticks\":\"\",\"zerolinecolor\":\"white\",\"gridwidth\":2}},\"shapedefaults\":{\"line\":{\"color\":\"#2a3f5f\"}},\"annotationdefaults\":{\"arrowcolor\":\"#2a3f5f\",\"arrowhead\":0,\"arrowwidth\":1},\"geo\":{\"bgcolor\":\"white\",\"landcolor\":\"#E5ECF6\",\"subunitcolor\":\"white\",\"showland\":true,\"showlakes\":true,\"lakecolor\":\"white\"},\"title\":{\"x\":0.05},\"mapbox\":{\"style\":\"light\"}}},\"xaxis\":{\"anchor\":\"y\",\"domain\":[0.0,1.0],\"title\":{\"text\":\"AthletesCount\"}},\"yaxis\":{\"anchor\":\"x\",\"domain\":[0.0,1.0],\"title\":{\"text\":\"category\"}},\"legend\":{\"tracegroupgap\":0},\"margin\":{\"t\":60}},                        {\"responsive\": true}                    ).then(function(){\n",
       "                            \n",
       "var gd = document.getElementById('b1f72cc0-d718-42da-b61a-de8b07ad9256');\n",
       "var x = new MutationObserver(function (mutations, observer) {{\n",
       "        var display = window.getComputedStyle(gd).display;\n",
       "        if (!display || display === 'none') {{\n",
       "            console.log([gd, 'removed!']);\n",
       "            Plotly.purge(gd);\n",
       "            observer.disconnect();\n",
       "        }}\n",
       "}});\n",
       "\n",
       "// Listen for the removal of the full notebook cells\n",
       "var notebookContainer = gd.closest('#notebook-container');\n",
       "if (notebookContainer) {{\n",
       "    x.observe(notebookContainer, {childList: true});\n",
       "}}\n",
       "\n",
       "// Listen for the clearing of the current output cell\n",
       "var outputEl = gd.closest('.output');\n",
       "if (outputEl) {{\n",
       "    x.observe(outputEl, {childList: true});\n",
       "}}\n",
       "\n",
       "                        })                };                });            </script>        </div>"
      ]
     },
     "metadata": {},
     "output_type": "display_data"
    }
   ],
   "source": [
    "import plotly.express as px\n",
    "df_excersizetype=pd.read_excel('AllAthletesData.xlsx',sheet_name='AllAthletesData')\n",
    "df_excersizetype['HR']=60/(df_excersizetype['RR']/1000)\n",
    "df_excersizetype\n",
    "Zone_1= len(df_excersizetype[df_excersizetype['HR'] < 100])\n",
    "Zone_2= len(df_excersizetype[df_excersizetype['HR'].between(100,120)]) \n",
    "Zone_3= len(df_excersizetype[df_excersizetype['HR'].between(121,135)])\n",
    "Zone_4= len(df_excersizetype[df_excersizetype['HR'].between(136,155)])\n",
    "zone_5= len(df_excersizetype[df_excersizetype['HR'] > 155]) \n",
    "df_excersizetype\n",
    "chartData = dict(\n",
    "    AthletesCount=['Zone_1','Zone_2','Zone_3','Zone_4','Zone_5'],\n",
    "    category=[\"Zone_1 \",\"Zone_2 \",\"Zone_3 \",\"Zone_4\",\"Zone_5\"]\n",
    ")\n",
    "\n",
    "fg = px.funnel(chartData, x='AthletesCount', y='category')\n",
    "fg.show()"
   ]
  },
  {
>>>>>>> e17bf7ebc0398d360a7d61ae8cb7b24acbbec5cc
   "cell_type": "markdown",
   "id": "53187b74-d176-4c90-9fcd-a6e277f01221",
   "metadata": {},
   "source": [
    "Write a reverse string for given output"
   ]
  },
  {
   "cell_type": "markdown",
   "id": "f7377dce",
   "metadata": {},
   "source": [
    "AQ2:Write a reverse string for given output"
   ]
  },
  {
   "cell_type": "code",
   "execution_count": 34,
   "id": "9a2dc868-1478-4277-a2dd-f7f014b53cca",
   "metadata": {},
   "outputs": [
    {
     "name": "stdout",
     "output_type": "stream",
     "text": [
      "tests Athletes about is dataset This\n"
     ]
    }
   ],
   "source": [
    "def reverse_words(string):\n",
    "    # splitting the string into list of words\n",
    "    split_words = string.split()\n",
    "    \n",
    "    #create an empty string to store the reverse string\n",
    "    reversed_string = ''\n",
    "    \n",
    "    # looping through the words in reverse order and append them to reverse string\n",
    "    \n",
    "    for i in range(len(split_words) -1, -1,-1):\n",
    "        reversed_string+= split_words[i]+ ' '\n",
    "        \n",
    "    # remove the extra spce at the end of the reversed string and return it \n",
    "    return reversed_string.strip()\n",
    "\n",
    "String = 'This dataset is about Athletes tests'\n",
    "reversed_string = reverse_words(String)\n",
    "print(reversed_string)"
   ]
  },
  {
   "cell_type": "markdown",
   "id": "8e25b089",
   "metadata": {},
   "source": [
    "AQ3: Show the area chart between RR and VO2"
   ]
  },
  {
   "cell_type": "code",
   "execution_count": 66,
   "id": "32170719-5be2-4dd9-bfbf-46376677a212",
   "metadata": {},
   "outputs": [
    {
     "name": "stderr",
     "output_type": "stream",
     "text": [
      "C:\\Users\\Nidhi\\anaconda3\\Lib\\site-packages\\openpyxl\\worksheet\\_read_only.py:81: UserWarning:\n",
      "\n",
      "Unknown extension is not supported and will be removed\n",
      "\n"
     ]
    },
    {
     "data": {
      "image/png": "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",
      "text/plain": [
       "<Figure size 640x480 with 1 Axes>"
      ]
     },
     "metadata": {},
     "output_type": "display_data"
    }
   ],
   "source": [
    "Athletes=pd.read_excel(\"V02Max_Combined.xlsx\",sheet_name= \"Athletes\")\n",
    "Athletes=pd.DataFrame(np.random.rand(7,2),columns=['RR','VO2'])\n",
    "Athletes.plot.area();"
   ]
  },
  {
   "cell_type": "markdown",
   "id": "fc495a9f-1280-467c-85bf-3b0e69ef3aae",
   "metadata": {},
   "source": [
    "Comment- There is positive relationship between RR and VO2.The values are following a similar rate of change. "
   ]
  },
  {
   "cell_type": "markdown",
   "id": "832e1748",
   "metadata": {},
   "source": [
    "AQ4: Show Gender wise Avg VO2 in different Testing periods using BOX PLOT"
   ]
  },
  {
   "cell_type": "code",
   "execution_count": 5,
   "id": "90e24dae-9a50-4270-b647-2612b6a69984",
   "metadata": {},
   "outputs": [
    {
     "name": "stderr",
     "output_type": "stream",
     "text": [
      "C:\\Users\\varap\\anaconda3\\Lib\\site-packages\\openpyxl\\worksheet\\_read_only.py:81: UserWarning: Unknown extension is not supported and will be removed\n",
      "  for idx, row in parser.parse():\n",
      "C:\\Users\\varap\\anaconda3\\Lib\\site-packages\\openpyxl\\worksheet\\_read_only.py:81: UserWarning: Unknown extension is not supported and will be removed\n",
      "  for idx, row in parser.parse():\n",
      "C:\\Users\\varap\\anaconda3\\Lib\\site-packages\\openpyxl\\worksheet\\_read_only.py:81: UserWarning: Unknown extension is not supported and will be removed\n",
      "  for idx, row in parser.parse():\n",
      "C:\\Users\\varap\\anaconda3\\Lib\\site-packages\\openpyxl\\worksheet\\_read_only.py:81: UserWarning: Unknown extension is not supported and will be removed\n",
      "  for idx, row in parser.parse():\n"
     ]
    }
   ],
   "source": [
    "#prerequisite for extra question(because sonam's main dataframe name differ from the team)\n",
    "Kayaking= pd.read_excel(\"V02Max_Combined.xlsx\",sheet_name= \"Kayaking\")\n",
    "Triathlon= pd.read_excel(\"V02Max_Combined.xlsx\",sheet_name= \"Triathlon\")\n",
    "Fencing= pd.read_excel(\"V02Max_Combined.xlsx\",sheet_name= \"Fencing\")\n",
    "Athletes= pd.read_excel(\"V02Max_Combined.xlsx\",sheet_name= \"Athletes\")\n",
    "df=pd.concat([Kayaking,Triathlon,Fencing])\n",
    "Athletes= pd.read_excel(\"V02Max_Combined.xlsx\",sheet_name= \"Athletes\")\n",
    "df1=pd.DataFrame(Athletes)\n",
    "df['HR']=60/(df['RR']/1000)\n",
    "df\n",
    "df.loc[df['HR'] < 100,'ZoneType']='Zone 1'\n",
    "df.loc[(df['HR'].between(100,120)), 'ZoneType'] = 'Zone 2'\n",
    "df.loc[(df['HR'].between(121,135)), 'ZoneType'] = 'Zone 3'\n",
    "df.loc[(df['HR'].between(136,155)), 'ZoneType'] = 'Zone 4'\n",
    "df.loc[df['HR'] > 155, 'ZoneType'] = 'Zone 5'\n",
    "df.loc[df['time'] < 0,'ExType']='Warm Up' \n",
    "df.loc[(df['time'] >= 0) & (df['power'] > 0), 'ExType'] = 'GET'\n",
    "df.loc[(df['time'] >= 0) & (df['power'] == 0), 'ExType'] = 'Cool Down'\n",
    "df.head()\n",
    "df2 = pd.merge(df, df1, on='ID')  #making new data frame by merging all sports data frame and athlete data frame"
   ]
  },
  {
   "cell_type": "code",
   "execution_count": 57,
   "id": "e11f8589-6843-4c17-bba4-8923fb42901d",
   "metadata": {
    "scrolled": true
   },
   "outputs": [],
   "source": [
    "df2.head()"
   ]
  },
  {
   "cell_type": "markdown",
   "id": "89204bc4-78c4-48ad-9ae5-978275002de1",
   "metadata": {},
   "source": [
    "What is the relationship between age and VO2 values, and does it differ by sport?"
   ]
  },
  {
   "cell_type": "code",
   "execution_count": 11,
   "id": "e6b8ab64-fc3f-4293-bdae-1a341501a94f",
   "metadata": {},
   "outputs": [
    {
     "name": "stdout",
     "output_type": "stream",
     "text": [
      "Correlation between Age and VO2: 0.389299951587964\n"
     ]
    },
    {
     "data": {
      "image/png": "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",
      "text/plain": [
       "<Figure size 1200x600 with 1 Axes>"
      ]
     },
     "metadata": {},
     "output_type": "display_data"
    }
   ],
   "source": [
    "# Calculate Pearson correlation coefficient\n",
    "\n",
    "# Create a custom function for age categorization\n",
    "def age_cat(age):\n",
    "    if age < 15:\n",
    "        return '12-14'\n",
    "    elif 15 <= age < 17:\n",
    "        return '15-17'\n",
    "    else:\n",
    "        return '17-18'\n",
    "\n",
    "# Apply the categorization to the 'age' column\n",
    "dfsport=pd.merge(df,Athletes, on='ID',how='inner')\n",
    "dfsport['age_group'] = dfsport['age'].apply(age_cat)\n",
    "\n",
    "# Define labels for age groups\n",
    "labels = ['12-14', '15-17', '17-18']\n",
    "correlation_age_vo2 = dfsport['age'].corr(dfsport['VO2'])\n",
    "\n",
    "print(f'Correlation between Age and VO2: {correlation_age_vo2}')\n",
    "# Calculate average VO2 for each age group and sport\n",
    "age_gender_vo2 = dfsport.groupby(['age_group', 'sport'])['VO2'].mean().reset_index()\n",
    "\n",
    "# Bar chart for average VO2 by Age Group and sport\n",
    "plt.figure(figsize=(12, 6))\n",
    "sns.barplot(x='age_group', y='VO2', hue='sport', data=age_gender_vo2, palette='deep')\n",
    "plt.title('Average VO2 by Age Group and sport')\n",
    "plt.xlabel('Age Group')\n",
    "plt.ylabel('Average VO2')\n",
    "plt.show()"
   ]
  },
  {
   "cell_type": "code",
   "execution_count": 51,
   "id": "b183770f-e3f1-4fd4-a5cb-982b45e612b7",
   "metadata": {},
   "outputs": [
    {
     "data": {
      "image/png": "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",
      "text/plain": [
       "<Figure size 640x480 with 1 Axes>"
      ]
     },
     "metadata": {},
     "output_type": "display_data"
    }
   ],
   "source": [
    "sns.set(style=\"whitegrid\")\n",
    "sns.boxplot(x =\"ExType\", y=\"VO2\",hue=\"Gender\", data = df2)\n",
    "plt.show()"
   ]
  },
  {
   "cell_type": "code",
   "execution_count": null,
   "id": "9b788f45-10a9-425c-9636-2faf22014d60",
   "metadata": {},
   "outputs": [],
   "source": []
  },
  {
   "cell_type": "markdown",
   "id": "6318eee8-b9ab-45a9-b93c-d9ec24780c2d",
   "metadata": {},
   "source": [
    "Analysis of Box Plot\n",
    "Oxygen consumption, in mL/min(VO2), is max in the \"GET\" testing period, which also makes sense in this testing period, where time is >0 and power>=0. If we deep dive to  see gender-wise analysis, Male VO2 is slightly greater than that of women.\n"
   ]
  },
  {
   "cell_type": "markdown",
   "id": "009232f8",
   "metadata": {},
   "source": [
    "AQ5:Draw a stacked barchart for number of athletes by sport and further divided by gender."
   ]
  },
  {
   "cell_type": "code",
   "execution_count": 10,
   "id": "2913334d",
   "metadata": {},
   "outputs": [
    {
     "data": {
      "image/png": "iVBORw0KGgoAAAANSUhEUgAAAxQAAAJOCAYAAAAu4UG0AAAAOXRFWHRTb2Z0d2FyZQBNYXRwbG90bGliIHZlcnNpb24zLjguMCwgaHR0cHM6Ly9tYXRwbG90bGliLm9yZy81sbWrAAAACXBIWXMAAA9hAAAPYQGoP6dpAABhUUlEQVR4nO3deXhM5///8ddkIvui1lAhiC12go/SoqVaWpRWtWpvqx+UVlfd0Nq6U21ptSVVpYvlo6ilitZWuxZBpdZaYk1ISCS5f3/4Zb5GEjIniUl4Pq4rF3Of7T1n5syc15xzn2MzxhgBAAAAgAUe7i4AAAAAQMFFoAAAAABgGYECAAAAgGUECgAAAACWESgAAAAAWEagAAAAAGAZgQIAAACAZQQKAAAAAJYRKAAAAABYRqBAgRYWFiabzaZ9+/a5u5Q8t3z5crVo0UJBQUGy2Wz54nkPGzZMNptNw4YNc2m6KVOmyGazqWfPnnlSV35kdV3h5nEzbheZWb58uWw2m5o3b+7uUgBkE4HiJpO+A26z2TRnzpwsx2vZsqVsNpumTJly3WpD1rZv367WrVtr+fLlKlasmJo0aaImTZrIx8fHpfkkJyerWLFistlsCg0NVVpaWpbjnjlzRsOGDdPYsWNzWH3eW758uYYNG6bly5e7u5QCY8eOHerbt68qV64sX19f+fv7q3z58mrevLlef/11rV692t0lZsvYsWM1bNgwnTlzxt2luJ0xRjNnztSjjz6qChUqKCAgQD4+PipdurRat26td955RwcOHHB3mQBuQASKm9iwYcNkjHF3GciGL7/8UsnJyXr66af1zz//aOXKlVq5cqVCQkJcms+CBQt08uRJSdKhQ4euugN+5swZDR8+vMAEiuHDhxMosmnatGmqW7euPv/8c+3bt0+33nqrqlevLmOMVqxYoREjRmjgwIHuLjNbxo4dq+HDh9/0gWLv3r2qX7++HnzwQU2fPl0nTpxQhQoVVLNmTdntdi1evFgvvfSSwsPDNXLkSHeXC+AGQ6C4Sdntdm3dulUzZ850dynIhp07d0qS7r333hzNZ+rUqZKkwoULOz3GzWPfvn3q06ePkpOT1bt3bx06dEh79uzRunXrtG/fPh05ckQff/yxIiIi3F0qsmn//v1q1KiRNm/erMjISC1ZskSnT5/Wn3/+qfXr1+vgwYPat2+fRowYoeDgYP3+++/uLhnADYZAcZN65JFHJEnDhw/nKEUBcP78eUmSr6+v5XmcPn1a8+fPlyR9+umnkqSZM2cqMTEx5wWiwJgxY4aSkpJUpUoVTZo0SSVKlHAaHhISov79++vrr792U4Vw1aOPPqrjx4+rZcuWWrlypVq2bCm73e40Trly5fTqq69q586duu+++9xUKYAbFYHiJtW7d2+FhYVp27Zt+v7777M9Xc+ePa/atyKrjqeXt588eVL9+vVTmTJl5Ovrq9q1a2vGjBmOcffv369evXqpdOnS8vX1Vf369R07wlezaNEiNW/eXMHBwQoKClKrVq2u+UvcokWL1K5dO5UsWVLe3t4qU6aMevXqpZiYmAzj7tu3TzabTWFhYZKkSZMmqUGDBgoMDJTNZrtmfekuXryo8ePHq2HDhgoKCpK/v79q166tkSNHZti5T1/f6afytGjRwtEHxtWOm99//72SkpLUoEEDPfLII6pcubLOnj2r//3vfxnG7dmzp8qXLy/p0uuRvsz0v8zExcXpmWeeUdmyZeXt7a3w8HC99dZbSklJcalOSTp16pReffVV1ahRQ/7+/goMDNR//vMfTZo0KUO/D5vNpuHDh0u6FJAvr/PKdWSM0YwZM9SqVSsVLVpU3t7eqlChggYOHKijR49mWsvKlSv1wAMPKCQkRIUKFVKRIkVUrVo1Pf7441q7dq3Lz02Sjh49qj59+qh06dLy8fFRtWrV9N5772VYVy+//LJsNpuefvrpLOe1YcMG2Ww2lSpVSqmpqddc9j///CNJqlmzpjw8XPsKuPz1//bbb9WwYUMFBASoSJEi6tChg7Zt25bltAkJCRoxYoRq1aolf39/BQUFqVGjRvrkk08yfY9c3jE3JSVF77zzjmrWrCk/Pz+FhYU5OjDv379fklS+fHmn1z67p7+tXbtWL774oiIjI1WiRAl5e3srNDRU3bp10/bt2zOd5vLPM1ff98YYffHFF6pTp458fX1VokQJdenSRXv27MlWvVf65ZdftHr1anl7eysqKkre3t5XHb9o0aIaMGBApsNSUlI0ceJENW3aVIULF5aPj4+qVq2q1157TfHx8RnGv7wTeVJSkoYNG6bw8HD5+PgoNDRUgwcPVkJCQpa1zJ49W7fddpv8/f1VtGhR3XfffdqwYcM1n7Mrnw+S8/fW3r171bNnT916663y9PTkIglAbjG4qZQrV85IMr///ruZNGmSkWSqVatmUlNTnca76667jCQzefJkp/YePXpk2p5u6NChRpIZOnRopu0DBw404eHhxsvLy9SrV8/ceuutRpKRZKKioszOnTtNiRIljJ+fn6lfv74pVqyYkWTsdrtZsmRJls9n9OjRxmazmSJFipjIyEhTtGhRI8l4eHiY77//PtNaBw0a5Fh2iRIlTN26dU1QUJCRZIKCgsyqVaucxt+7d6+RZMqVK2eeeuopI8mEhoaayMhIU7hw4auv+P8vMTHR3HnnnY7lVqtWzdSqVct4eHgYSaZOnTrmxIkTjvFHjhxpmjRp4qirRo0apkmTJqZJkyZm5MiR2Vpmuttuu81IMh9++KExxphhw4YZSebee+/NMO7IkSNNZGSkkWS8vb0dy0z/S5f+uj7zzDOmWrVqxtPT09SpU8eEhYU5nuPjjz+eYf6TJ082kkyPHj0yDNu2bZvjfeHl5WUiIiJMxYoVjc1mM5LMgw8+aNLS0hzjN2nSxISGhjpej8vrvHwdJScnm4ceeshRV+nSpU3t2rWNn5+fkWRKlSpldu3a5VTLnDlzHK9N0aJFTb169UzVqlWNv7+/kWQGDRqU7fWfvq4GDBhgQkNDjd1uN3Xq1DGVK1d21NShQwenbXHXrl2OZSclJWU63wEDBhhJ5vnnn89WHc8995yRZMLDw01ycnK26zfGOOp8++23jSQTEhJiIiMjTWBgoJFkfH19ze+//55hutjYWFOzZk3HNlmrVi1TrVo1x/xatWplzp8/7zTNsmXLjCRzxx13mLZt2xpJpmLFiqZ+/fqmevXqZsGCBaZJkybG29vbSDKRkZFOr/2mTZuy9ZwqVqzoWMc1atQwtWvXNsHBwY7ns2zZsgzTWH3fG2PMf//7X8c4YWFhpl69esbb29sULlzYvPLKK1luF1l54oknjCTz0EMPZXuazMTFxZk77rjD8RqVK1fO1KhRw3h5eTk+q44dO+Y0Tfp2/Oijj5o77rjD2Gw2U716dVOlShXHdtOqVatMl5f+Hkrf9urXr28CAgKMt7e3eeutt4wk06xZswzTufr5YMz/fW+9/PLLpnDhwsbb29uxLQ8bNixH6w3AJQSKm8zlgeLixYumQoUKRpKZNm2a03h5FSgKFSpkWrRo4fTFNGbMGMeXSsOGDU2XLl1MfHy8McaY1NRU07dvXyPJNGzYMMvn4+npaQYPHuzYQbp48aJ58cUXHeHg8OHDTtNNnDjRSDLly5d32mFISUkxI0aMMJJMmTJlnHZy0gOF3W43/v7+5n//+59jWGJiYqbr40rpO3OlS5c2GzdudLT//fffpmrVqkaS6dy5c4bpmjVrZiRlunOTHTExMY7ajxw54lhmetvRo0czTHN5gMrK5a/rHXfcYf7991/HsLlz5xq73W4kmejoaKfpsgoU586dc+zgDRw40MTFxTmGbd++3VSvXt1IMh9//HGmdVz5vrvcyy+/bCSZunXrms2bNzvaExMTTb9+/Rw7pZerUaOGkWQ+/fRTk5KS4mhPS0szy5YtM3Pnzs1yeVdKr9HT09PUrFnT7N271zFsxYoVjp3YK59bkyZNjCQza9asDPNMTk52hOdt27Zlq44lS5Y4duTuuusus2DBApOQkJCtadOnK1SokHn//fcd4SchIcF07drV8X65cnvo1KmTkWSqV69u9uzZ42hfv369KVmypJFkXnzxRadp0gOF3W43JUqUMKtXr3YMu3y7TP8MuHx9uiIqKsrExMQ4tV28eNF88cUXxtPT01SoUCHDDy5W3/f/+9//HCF95syZjvbY2FjTvHlzU6hQIZcDRfo2MW7cOBeedUZdunRxvCcuXx+nTp0yHTt2dOysXy59Oy5UqJCJiIhwCuRr1qxx/BDy888/O023adMmY7fbjc1mMx9//LEjAJw9e9Y8/PDDjvVwZaCw+vmQ/r1lt9tNu3btzMmTJx3DrgyyAKwhUNxkLg8UxvzfF0KVKlWcdpjyKlD4+vo6ffkac2knvkyZMo5QceXOzenTp42Pj4+R5PRFcPnzqV27dqb11KtXz0gyb7zxhqMtKSnJhISEGLvdnuWvmOk7QF9//bWjLX0HW5J5//33M53uauLi4hy/hs+ePTvD8HXr1hlJxmazOe10GZPzQJF+NKJly5ZO7Q0aNHA6anE5VwKFr6+vOXjwYIbh6TsiH3zwgVN7VoHio48+MpLMAw88kOnytm7damw2m6lQoUKmdWQVKGJjY423t7cJCgrKtM7U1FTHuvjtt98c7d7e3uaWW27JdJ6uSq9RklOYTJf+3MPCwpx+Yf3yyy+NJNO+ffsM08yaNSvTIHQtTz75pKOW9JBTq1Yt07dvX/PTTz85fRZcLn38du3aZRiWvl1JMl999ZWjfffu3Y5fjzPb3r7//nsjyfj7+zt+SDDm/wKFJKed7yvlNFBczWOPPWYkZThaafV937RpUyPJvPDCCxmmOXLkiONogCuBonDhwkaS0w8crtq6datjW7/8NUiXkJBgQkNDjc1mM/v27XO0p2/HNpvNrF+/PsN0gwcPduz8Xy59vWZ2VOX8+fOmRIkSmQYKq58P6d9bISEh5ty5c1muBwDW0YfiJtetWzdVqlRJu3bt0rRp0/J8effee69Kly7t1Ga321WzZk1JlzqL+/n5OQ0vXLiw43z+vXv3Zjrffv36XbV90aJFjrY1a9bo6NGjqlevnurWrZvpdO3atZMkrVixItPh3bt3z7T9alauXKnExESVLVtW7du3zzC8QYMGaty4sYwxWrJkicvzv5pvvvlG0qXOm5fr2rWrpJxf7emee+5RmTJlMrQ3aNBA0v+dt38ts2bNkiQ9/vjjmQ6vVauWwsLC9M8//+jQoUPZrm/BggVKSkpS69atM63Tw8PD0VH18tc8NDRUZ86cydXXo3HjxqpXr16G9t69e8vHx0f79u3Trl27HO2dO3dWQECAFixYoOPHjztNExUVJUku96f57LPPNHPmTDVr1kx2u10pKSn6888/9dlnn+n+++9X7dq19ddff2U5ff/+/TO0eXl5OV63y7e3JUuWyBijpk2bZrq9derUSWXKlFFCQoJWrVqVYXhwcHCm20tu2rlzp4YOHaqOHTuqefPmatq0qZo2bep4L2zdujXT6Vx53587d85xb4///ve/GaYJCQlRx44dXa797NmzkiR/f/9Mhz/11FMZ+kBdeVPM2bNnS7r0XgsMDMwwDz8/P7Vs2VLGmEz7pdWpU0eRkZEZ2rPa/hcvXiwp8/Xg4+Oj3r17Z/pccvr50KlTpyzXE4Cc8XR3AXAvu92u119/Xd27d9dbb72lRx99VJ6eefe2qFixYqbtxYsXv+bw6OhonTt3LtPh1apVu2r77t27HW3pO0r79u1T06ZNM50u/Zr2//77b4ZhxYoVU7FixTKd7mrSa6hatWqWHZurV6+uNWvWONWbU2vWrNGePXvk7e2dYYelS5cueu6557Rp0ybt2LHD8qVCs3rd0q8glNXrdqX01+aNN97QqFGjMh3nxIkTki69NpntzF1tvmvXrs3yNT927JhjvumeffZZ9e/fX3fffbfq16+vli1bqmnTpmrWrFmmO17ZkdV71d/fX6Ghofr777+1e/duVa1aVZIUEBCghx56SJMnT9b06dMd94c4ceKEFixYIC8vL8dV21zRsWNHdezYUfHx8Vq3bp3Wrl2rn376SevWrdP27dvVsmVLbdu2zbFtZuc5ZLa9pf8/q/eWh4eHqlatqkOHDmn37t265557nIZXqlQpwxWLctPo0aP12muvXfUmj6dOncq03ZX3/Z49e5SWliYfHx/HDyRXymq9Xk1gYKDOnDmTZefn8PBwNWnSxPE4s9CWvn3Mnj07yxsapnd+z+wz0ZX1cObMGcXGxkq69vsoqzqtfj5YWb8AsodAAT366KMaOXKkdu3apalTp6pXr155tqwrjz6kS9/BvtZwk8Ulbq+89GW6kiVLSvq/X/GkS1cjkqTjx49n+MX3SumXa72c1V+40r9Us6pVyrzenEo/+tC2bVsFBwdnWN5dd92lxYsXa+rUqRo9erSlZWS1TtKvIpTV63al9Ndm48aN1xw3s9fmWvM9ePCgDh48mO359uvXT4GBgXr//fe1ceNGbdy4UW+//bZ8fHzUrVs3vfvuuxnW6bVc6/X/+++/M7z+vXv31uTJkxUVFeUIFN9++60uXryoBx98UEWKFHGphssFBQWpZcuWatmypV577TX9+OOPevjhhxUbG6vPP/9cr776arafQ2bv35y+7/PyF+XffvtNr7zyiux2u0aPHq127dqpXLly8vPzk81m02uvvaaRI0fq4sWLmU7vyvs+fT1c7ceI9PXgiltvvVVnzpxxOuJwueeff17PP/+847Gnp2eGq4Glbx979uy55tWmXPlMvNp6kJRpWJWyXg85/Xzg6ASQdzjlCbLb7XrjjTck6ZqX+bzWjv3VLhGYl7IKBum/hF3+a3JAQICkS6f7mEv9iLL8y807L6cvN72mzKT/Sm711+8rJScn67vvvpN06XSBzE59SD/9YNq0aW6/J0n6Ovr777+v+do0b97c5fm++uqr15zvlZdE7tatm7Zs2aIjR45oxowZ6tOnjzw9PTVp0iQ99thjLj/Hq4XYzN6vktS0aVNVrlxZmzZtclya1erpTtfy4IMPqlOnTpKkdevWZTqOle3ter7vsyv9NM8XXnhBL7/8siIiIuTv7+/4nLtW+HRF+npI/wU9M1dbR1lp3LixJOXoZnXptU2aNOma20dOL7Oavizp2u+jrKbN7c8HADlHoICkS6e+REREaO/evVneY0L6v194svoisHot9ZyKjo6+anvlypUdbemnXlztmvl5Ib2G6OjoLHfc0697f3m9OTF//nydOnVKnp6eKlmyZJZ/drtdBw8edApQrtxbI7dYfW2uVWtuvOYhISF6+OGH9cUXX+iPP/6Qh4eH5s2bpyNHjrg0n6zeq4mJiTpw4ICkzF//9COHU6ZM0bZt27Rp0yaFhIRkOEUoN1SoUEHSpUCaGVe2t/T/79ixI9Np0tLSHHeCt/K+z8n7NP1X/dtuuy3T4Vn1nbAiPDxcHh4eunDhQpZHE7Jar1fTuXNnSdLcuXN1+PBhS7Vdz8/EwoULO45Wpb/uV8pqPbjrsxvAtREoIOnSoemhQ4dKkkaMGJHlIf70HY3169dnGHbo0CGnzpjXU/qdn7Nqv/vuux1tt99+u4oVK6atW7fm6hGIa2natKn8/Px08ODBTG8mt2HDBq1Zs0Y2m02tWrXKlWWmn+7UtWtXHT16NMu/9J2Syztnp9+V25VTi3IqvY/HRx995NLRkmvV2rZtW3l5eWnBggX6+++/c1xnRESE41QnV3fiVq9erS1btmRo/+qrr3ThwgWVK1dOVapUyTC8R48estvtmjZtmr744gtJ0mOPPeZy/4Ls/Aqefh59pUqVMh2e2faWnJysL7/8UpLz9nb33XfLZrNp5cqV2rx5c4bpZs2apUOHDsnf39/pXP/sysn7NH3a9CMkl1u8eHGuBoqAgADH0YSJEydmGH7s2DFHp2NXtGrVSo0bN1ZycrJ69OihCxcuuDyPBx54QNKlizecPHnS5eldlf75ltl6SEpK0ldffZXpdFY/HwDkPQIFHB566CHVrFlT+/fvz7TjnnTpKk2SNGfOHC1YsMDRfuTIEXXt2tXSXZFzw7Zt2/Tiiy86glBKSopeeeUVbdy4UYGBgXrqqacc4/r4+OjNN9+UdOk5z549O8OX07Zt2/TSSy9luR6sCAoKclzVZMCAAU47VzExMerRo4ekS784ZtXJ0RWnT5923GG8W7duVx03/dSdH3/80bFjVrx4cQUGBio2NtbSL6dW9O3bVxUqVNCyZcvUtWvXDL/+nzt3Tt9//70GDx7s1J4edFevXp3pe7B06dJ65plndPHiRbVu3TpDkDTGaN26dfrvf//ruCJNfHy8unTpouXLlzt12E1NTdVHH32k06dPy9/fP9Od/6vx9PRUz549HZ1cpUtXAEs/7fD555/P9Ff3UqVK6Z577tHRo0f1ySefSLJ2utOoUaN0++23a/r06Rn6LBw5ckRPPfWUfv/9d9lsNsd78krz58/XuHHjHNvN+fPn9cQTT+jw4cMKDQ1Vly5dHOOGh4c7dgS7d+/udMWfTZs2OfqEDBgwwNIpT+mvfVZXZLua9A76Y8aMcbqC3Pr16x1X3cpN6X0Zxo0bpzlz5jjaT5w4oa5du161Y/jVfPvttypWrJh++eUX3X777VqyZEmG7eDMmTP66KOPMl1GZGSkOnfurJMnT6pVq1YZgl9qaqqWL1+url27KikpyVKNl3v22Wfl4eGh77//XhMnTnS8jxISEtS7d+8sO8Fb/XwAcB3k3hVoURBceR+KK/34449O16fP7H4Tffr0cQwvX768qVOnjvH09DRVq1Z13H06q/tQZHWfgGvd3yKr+zBceafsokWLmgYNGjjusO3h4WGmT5+e6TzTb3QmyRQpUsQ0aNDA1KtXzxQpUsTRfvkNmbJzX4ZrSUxMNC1atHDMPyIiwtSuXdtxI6zatWs73Sn7Ws//aiZMmGAkmVtvvTXDjbmudPHiRce13y9fX7179zaSjI+Pj4mMjDTNmjVzujb8tV7XrO43cbU7ZUdHR5vy5cs7Xr9q1aqZRo0amcqVKzvWU6NGjZymiYuLM7fccovjXiZNmjQxzZo1M6NHj3Z6junXv9f/vyZ9w4YNTe3atR13etZlNyM7ffq0o83f39/Url3bREZGOt5bNpvNTJo06arr9XLp66p///4mNDTUcXflKlWqOJZz//33X/W1mjlzpmNcV+89ke6ZZ55xzMPDw8NUqlTJNGzY0JQvX954eno6bgCW2Y3S0qe7/E7ZDRo0cNzAzMfHx6xYsSLDdJffKdtut5vatWubiIgIx/xatmyZ5Z2yM7tb8uW+/vprx3xq1KjheI9efvPCrMTFxTlu7unl5WVq1qzpeD0iIiIc91Fw9fPsau/vy+8BUr58eVO/fn3j4+Nj+U7Z6f7++29Tu3Ztx7wDAwNNzZo1TWRkpOP9lr7++/Xrl2F9nz171rRq1coxfdmyZU2jRo1MzZo1ja+vr6P98umu9jyNufprOGrUKMc8S5cu7bjj+rXulG3l8+Fa3y8Aco4jFHDSsWNH1alT56rjTJw4UW+++aYqVqyof//9V8ePH1ffvn21Zs0aFS5c+LrUeaUuXbro559/VvXq1bVz505duHBBd955p5YtW+b0a+nlRo8erVWrVunRRx+Vv7+/tm7dqn379qlMmTLq3bu35s+fr7vuuitX6/T19dWiRYs0btw4RUZGav/+/dq9e7ciIiI0YsQIrV69WkWLFs2VZaWfvvToo486rraSFU9PTz388MNO00mXfkkdNGiQQkJCtHXrVq1YscLSL8GuqFq1qrZu3aoxY8aoQYMG+vfff7VlyxYlJyerWbNmeu+99zRjxgynaYKCgrR48WLde++9SkpK0po1a7RixQqnc7Q9PT01depUzZ8/Xx06dJAkbd68WUeOHFHlypU1YMAALV++3HEef2BgoKZOnapu3bopNDRU+/bt0/bt21WkSBE99thj2rx5c5bXw7+aYsWKad26derevbuOHTumvXv3qkqVKnr77bc1a9asq75W999/v+MqQVY7Y48aNUrz58/XgAEDVL9+fSUkJGjz5s06fvy4KleurKeeesrpyEFmXnzxRU2bNk2hoaHavn27bDab2rVrpz/++EN33HFHhvGLFy+uNWvW6M0331S1atW0e/du7d+/Xw0aNND48eO1YMECy0cDunXrpnHjxqlWrVqKiYlxvEfTL/18NUFBQVq5cqW6d++uoKAg7dq1S8nJyRo8eLDWrFmTJ53EJ06cqM8++0y1atXS4cOHdeDAAbVr107r16/P8hSz7AgPD9emTZv0/fff6+GHH1bRokUVExOjP//8UykpKWrRooVGjRqlffv26ZNPPsmwvgMCArRw4UJNmzZNrVu3VmJiojZt2qQTJ06oVq1aeumll7Ru3bpcO2ozZMgQ/fjjj2rUqJFOnz6tmJgY3X777Vq5cmWWl3aWrH0+AMh7NmM4EREACoIzZ84oJCRExhgdOXIkR5eLteJaV3kDANycOEIBAAXEtGnTlJSUpPbt21/3MAEAQFY4QgEABcCpU6dUt25dHThwQMuWLXPLdfY5QgEAyAxHKAAgHxszZoxuv/12VaxYUQcOHNDdd9/NTbsAAPkKgQIA8rGdO3dq5cqVstvt6tatm7799lt3lwQAgBNOeQIAAABgGUcoAAAAAFjm6e4C8lpaWpoOHz6swMDATO8+CwAAcDMyxujs2bMqXbr0Ne9XBFzNDR8oDh8+rNDQUHeXAQAAkC8dPHhQZcqUcXcZKMBu+ECRfqfTgwcPKigoyM3VAAAA5A/x8fEKDQ3Nk7vC4+ZywweK9NOcgoKCCBQAAABX4JRw5BQnzAEAAACwjEABAAAAwDICBQAAAADLbvg+FAAAAChYUlNTdfHiRXeXcdMqVKiQ7HZ7tscnUAAAACBfMMbo6NGjOnPmjLtLuekVLlxYISEh2eq0T6AAAABAvpAeJkqUKCE/Pz+uQOUGxhglJiYqNjZWklSqVKlrTkOgAAAAgNulpqY6wkTRokXdXc5NzdfXV5IUGxurEiVKXPP0JzplAwAAwO3S+0z4+fm5uRJI//c6ZKcvC4ECAAAA+QanOeUPrrwOBAoAAAAAlhEoAAAAgOuoefPmeuaZZ9xdRq4hUAAAAOCmc/ToUQ0aNEjh4eHy8fFRyZIl1bRpU02cOFGJiYnuLq9A4SpPAAAAuKn8888/atKkiQoXLqxRo0apZs2aSklJ0e7du/XVV1+pdOnSateunbvLzFJqaqpsNps8PPLHsYH8UQUAAABwnfTr10+enp7asGGDOnfurGrVqqlmzZrq1KmT5s+fr/vvv1+SFBcXpyeffFIlSpRQUFCQ7rzzTm3dutUxn2HDhqlOnTqaOnWqwsLCFBwcrC5duujs2bOOcRISEtS9e3cFBASoVKlSev/99zPUk5ycrBdffFG33nqr/P391ahRIy1fvtwxfMqUKSpcuLDmzZuniIgIeXt7a//+/Xm3glxEoAAAAMBN4+TJk1q8eLH69+8vf3//TMex2Wwyxqht27Y6evSoFixYoI0bN6pevXq66667dOrUKce4MTExmjNnjubNm6d58+ZpxYoVGjNmjGP4Cy+8oGXLlmn27NlavHixli9fro0bNzotr1evXlq1apVmzJihP//8Uw899JDuuece/f33345xEhMTNXr0aH3xxRfavn27SpQokctrxjpOeQIAAMBNY8+ePTLGqEqVKk7txYoV04ULFyRJ/fv3V+vWrfXXX38pNjZW3t7ekqT33ntPc+bM0Y8//qgnn3xSkpSWlqYpU6YoMDBQktStWzctXbpUI0eO1Llz5/Tll1/q66+/VqtWrSRJUVFRKlOmjGO5MTExmj59ug4dOqTSpUtLkp5//nktXLhQkydP1qhRoyRduh/Ep59+qtq1a+fh2rGGQAEAAICbzpX3WVi3bp3S0tLUtWtXJSUlaePGjTp37lyGu3afP39eMTExjsdhYWGOMCFJpUqVUmxsrKRLYSE5OVmNGzd2DC9SpIhTmNm0aZOMMapcubLTcpKSkpyW7eXlpVq1auXgGecdtwaK3377Te+++642btyoI0eOaPbs2erQoYNjuDFGw4cP1+eff67Tp0+rUaNG+uSTT1S9enX3FQ0AAIACKzw8XDabTTt37nRqr1ChgiTJ19dX0qUjD6VKlXLqy5CucOHCjv8XKlTIaZjNZlNaWpqkS/uy15KWlia73a6NGzfKbrc7DQsICHD839fXN9/e9M+tfSgSEhJUu3Ztffzxx5kOf+edd/TBBx/o448/1vr16xUSEqJWrVo5dXQBAAAAsqto0aJq1aqVPv74YyUkJGQ5Xr169XT06FF5enoqPDzc6a9YsWLZWlZ4eLgKFSqktWvXOtpOnz6t3bt3Ox7XrVtXqampio2NzbCckJAQ60/0OnJroLj33ns1YsQIdezYMcMwY4zGjh2rV199VR07dlSNGjUUFRWlxMREffvtt26oFgAAADeCTz/9VCkpKYqMjNR3332n6Oho7dq1S99884127twpu92uli1bqnHjxurQoYMWLVqkffv2afXq1Xrttde0YcOGbC0nICBAffr00QsvvKClS5dq27Zt6tmzp9PlXitXrqyuXbuqe/fumjVrlvbu3av169fr7bff1oIFC/JqFeSqfNuHYu/evTp69KjuvvtuR5u3t7eaNWum1atXq2/fvplOl5SUpKSkJMfj+Pj4PK8VAAAABUfFihW1efNmjRo1SkOGDNGhQ4fk7e2tiIgIPf/88+rXr59sNpsWLFigV199Vb1799bx48cVEhKiO+64QyVLlsz2st59912dO3dO7dq1U2BgoJ577jnFxcU5jTN58mSNGDFCzz33nP79918VLVpUjRs3Vps2bXL7qecJm8nOyV3Xgc1mc+pDsXr1ajVp0kT//vuvo8e7JD355JPav3+/Fi1alOl8hg0bpuHDh2doj4uLU1BQUJ7Ufl0MC3Z3BRgWd+1xAAAoIOLj4xUcHJxv9pEuXLigvXv3qnz58vLx8XF3OTc9V16PfH8fiis7nxhjrtohZciQIYqLi3P8HTx4MK9LBAAAAG5a+faUp/ROKEePHlWpUqUc7bGxsVc9zOTt7e24VjAAAACAvJVvj1CUL19eISEhWrJkiaMtOTlZK1as0G233ebGygAAAACkc+sRinPnzmnPnj2Ox3v37tWWLVtUpEgRlS1bVs8884xGjRqlSpUqqVKlSho1apT8/Pz06KOPurFqAAAAAOncGig2bNigFi1aOB4PHjxYktSjRw9NmTJFL774os6fP69+/fo5bmy3ePFip7sRAgAAAHAftwaK5s2bX/UOgjabTcOGDdOwYcOuX1EAAAAAsi3f9qEAAAAAkP8RKAAAAABYRqAAAAAAYBmBAgAAALjBhIWFaezYsddlWfn2xnYAAACAJIW9PP+6LWvfmLYuT9OzZ09FRUVlaP/7778VHh6eG2XlawQKAAAAIIfuueceTZ482amtePHibqrm+uKUJwAAACCHvL29FRIS4vRnt9v1008/qX79+vLx8VGFChU0fPhwpaSkOKaz2Wz67LPPdN9998nPz0/VqlXTmjVrtGfPHjVv3lz+/v5q3LixYmJiHNPExMSoffv2KlmypAICAtSgQQP98ssvV60vLi5OTz75pEqUKKGgoCDdeeed2rp1a648dwIFAAAAkAcWLVqkxx57TAMHDtSOHTv02WefacqUKRo5cqTTeG+99Za6d++uLVu2qGrVqnr00UfVt29fDRkyRBs2bJAkDRgwwDH+uXPn1KZNG/3yyy/avHmzWrdurfvvv18HDhzItA5jjNq2baujR49qwYIF2rhxo+rVq6e77rpLp06dyvHz5JQnAAAAIIfmzZungIAAx+N7771Xx44d08svv6wePXpIkipUqKC33npLL774ooYOHeoYt1evXurcubMk6aWXXlLjxo31+uuvq3Xr1pKkQYMGqVevXo7xa9eurdq1azsejxgxQrNnz9bcuXOdgke6ZcuW6a+//lJsbKy8vb0lSe+9957mzJmjH3/8UU8++WSOnjuBAgAAAMihFi1aaMKECY7H/v7+Cg8P1/r1652OSKSmpurChQtKTEyUn5+fJKlWrVqO4SVLlpQk1axZ06ntwoULio+PV1BQkBISEjR8+HDNmzdPhw8fVkpKis6fP5/lEYqNGzfq3LlzKlq0qFP7+fPnnU6lsopAAQAAAORQeoC4XFpamoYPH66OHTtmGN/Hx8fx/0KFCjn+b7PZsmxLS0uTJL3wwgtatGiR3nvvPYWHh8vX11cPPvigkpOTM60tLS1NpUqV0vLlyzMMK1y4cPae4FUQKAAAAIA8UK9ePe3atSvXLx37+++/q2fPnnrggQckXepTsW/fvqvWcfToUXl6eiosLCxXa5EIFAAAAECeeOONN3TfffcpNDRUDz30kDw8PPTnn3/qr7/+0ogRIyzPNzw8XLNmzdL9998vm82m119/3XH0IjMtW7ZU48aN1aFDB7399tuqUqWKDh8+rAULFqhDhw6KjIy0XIvEVZ4AAACAPNG6dWvNmzdPS5YsUYMGDfSf//xHH3zwgcqVK5ej+X744Ye65ZZbdNttt+n+++9X69atVa9evSzHt9lsWrBgge644w717t1blStXVpcuXbRv3z5Hn42csBljTI7nko/Fx8crODhYcXFxCgoKcnc51g0LdncFGBbn7goAAMg1+W0f6cKFC9q7d6/Kly/v1L8A7uHK68ERCgAAAACWESgAAAAAWEagAAAAAGAZgQIAAACAZQQKAAAAAJYRKAAAAABYRqAAAAAAYBmBAgAAAIBlBAoAAAAAlhEoAAAAgHxi3759stls2rJli7tLyTZPdxcAAAAAXNWw4Ou4rDiXJ+nZs6eioqLUt29fTZw40WlYv379NGHCBPXo0UNTpkzJpSLzF45QAAAAADkUGhqqGTNm6Pz58462CxcuaPr06SpbtqwbK8t7BAoAAAAgh+rVq6eyZctq1qxZjrZZs2YpNDRUdevWdbQtXLhQTZs2VeHChVW0aFHdd999iomJueq8d+zYoTZt2iggIEAlS5ZUt27ddOLEiTx7Lq4iUAAAAAC5oFevXpo8ebLj8VdffaXevXs7jZOQkKDBgwdr/fr1Wrp0qTw8PPTAAw8oLS0t03keOXJEzZo1U506dbRhwwYtXLhQx44dU+fOnfP0ubiCPhQAAABALujWrZuGDBni6Fi9atUqzZgxQ8uXL3eM06lTJ6dpvvzyS5UoUUI7duxQjRo1MsxzwoQJqlevnkaNGuVo++qrrxQaGqrdu3ercuXKefZ8sotAAQAAAOSCYsWKqW3btoqKipIxRm3btlWxYsWcxomJidHrr7+utWvX6sSJE44jEwcOHMg0UGzcuFHLli1TQEBAhmExMTEECgAAAOBG0rt3bw0YMECS9Mknn2QYfv/99ys0NFSTJk1S6dKllZaWpho1aig5OTnT+aWlpen+++/X22+/nWFYqVKlcrd4iwgUAAAAQC655557HOGgdevWTsNOnjyp6OhoffbZZ7r99tslSStXrrzq/OrVq6eZM2cqLCxMnp75c9edTtkAAABALrHb7YqOjlZ0dLTsdrvTsFtuuUVFixbV559/rj179ujXX3/V4MGDrzq//v3769SpU3rkkUe0bt06/fPPP1q8eLF69+6t1NTUvHwq2UagAAAAAHJRUFCQgoKCMrR7eHhoxowZ2rhxo2rUqKFnn31W77777lXnVbp0aa1atUqpqalq3bq1atSooUGDBik4OFgeHvljV95mjDHuLiIvxcfHKzg4WHFxcZm+sAXG9bxDJDJn4c6ZAADkV/ltH+nChQvau3evypcvLx8fH3eXc9Nz5fXIH7EGAAAAQIFEoAAAAABgGYECAAAAgGUECgAAAACWESgAAAAAWEagAAAAQL6Rlpbm7hIg116H/Hm7PQAAANxUvLy85OHhocOHD6t48eLy8vKSzWZzd1k3HWOMkpOTdfz4cXl4eMjLy+ua0xAoAAAA4HYeHh4qX768jhw5osOHD7u7nJuen5+fypYtm62b5xEoAAAAkC94eXmpbNmySklJUWpqqrvLuWnZ7XZ5enpm+wgRgQIAAAD5hs1mU6FChVSoUCF3l4JsolM2AAAAAMsIFAAAAAAsI1AAAAAAsIxAAQAAAMAyAgUAAAAAywgUAAAAACwjUAAAAACwjEABAAAAwDICBQAAAADLCBQAAAAALCNQAAAAALCMQAEAAADAMgIFAAAAAMs83V0AblwT1idrwoZk7TuTJkmqXsKuN+7w0r2VCrm5MgAAAOQWAgXyTJkgm8a09FZ4kUsHwqK2XFT7Gee1ua+Hqpewu7k6AAAA5AYCBfLM/VWcj0SMvMuuCRuStfZQKoECAADgBkGgwHWRmmb0w44UJVyUGocSJgAAAG4UBArkqb+Oparxlwm6kCIFeEmzH/ZVRHECBQAAwI2CQIE8VaWYh7Y8FaAzF4xm7rioHnMuaEVPD0IFAADADYLLxiJPedltCi/iocjSdo1u6aPaJT00bm2yu8sCAABALiFQ4LoykpJS3V0FAAAAcgunPCHPvLL0gu4N91RosIfOJhnN2HZRy/elamFXb3eXBgAAgFxCoECeOXbOqNvs8zpyzijY26ZaJT20sKufWlXkbQcAAHCjYM8OeebL9r7uLgEAAAB5jD4UAAAAACwjUAAAAACwjEABAAAAwDICBQAAAADLCBQAAAAALCNQAAAAALCMQAEAAADAMgIFAAAAAMsIFAAAAAAsI1AAAAAAsIxAAQAAAMAyAgUAAAAAywgUAAAAACwjUAAAAACwLF8HipSUFL322msqX768fH19VaFCBb355ptKS0tzd2kAAAAAJHm6u4CrefvttzVx4kRFRUWpevXq2rBhg3r16qXg4GANGjTI3eUBAAAAN718HSjWrFmj9u3bq23btpKksLAwTZ8+XRs2bHBzZQAAAACkfH7KU9OmTbV06VLt3r1bkrR161atXLlSbdq0yXKapKQkxcfHO/0BAAAAyBv5+gjFSy+9pLi4OFWtWlV2u12pqakaOXKkHnnkkSynGT16tIYPH34dqwQAAABuXvn6CMV3332nb775Rt9++602bdqkqKgovffee4qKispymiFDhiguLs7xd/DgwetYMQAAAHBzyddHKF544QW9/PLL6tKliySpZs2a2r9/v0aPHq0ePXpkOo23t7e8vb2vZ5kAAADATStfH6FITEyUh4dziXa7ncvGAgAAAPlEvj5Ccf/992vkyJEqW7asqlevrs2bN+uDDz5Q79693V0aAAAAAOXzQDF+/Hi9/vrr6tevn2JjY1W6dGn17dtXb7zxhrtLAwAAACDJZowx7i4iL8XHxys4OFhxcXEKCgpydznWDQt2dwUYFufuCgAAyDU3zD4S3C5f96EAAAAAkL8RKAAAAABYRqAAAAAAYBmBAgAAAIBlBAoAAAAAlhEoAAAAAFhGoAAAAABgGYECAAAAgGUECgAAAACWESgAAAAAWEagAAAAAGAZgQIAAACAZQQKAAAAAJYRKAAAAABYRqAAAAAAYBmBAgAAAIBlBAoAAAAAlhEoAAAAAFhGoAAAAABgGYECAAAAgGUECgAAAACWESgAAAAAWEagAAAAAGAZgQIAAACAZQQKAAAAAJYRKAAAAABYRqAAAAAAYBmBAgAAAIBlBAoAAAAAlhEoAAAAAFhGoAAAAABgGYECAAAAgGUECgAAAACWESgAAAAAWEagAAAAAGAZgQIAAACAZQQKAAAAAJYRKAAAAABYRqAAAAAAYBmBAgAAAIBlBAoAAAAAlnm6uwBkT9iFb91dwk1vn7sLAAAAyIc4QgEAAADAMgIFAAAAAMsIFAAAAAAsI1AAAAAAsIxAAQAAAMAyAgUAAAAAywgUAAAAACwjUAAAAACwjEABAAAAwDICBQAAAADLCBQAAAAALCNQAAAAALCMQAEAAADAMgIFAAAAAMsIFAAAAAAsI1AAAAAAsCzHgSI+Pl5z5sxRdHR0btQDAAAAoABxOVB07txZH3/8sSTp/PnzioyMVOfOnVWrVi3NnDkz1wsEAAAAkH+5HCh+++033X777ZKk2bNnyxijM2fO6KOPPtKIESNyvUAAAAAA+ZfLgSIuLk5FihSRJC1cuFCdOnWSn5+f2rZtq7///jvXCwQAAACQf7kcKEJDQ7VmzRolJCRo4cKFuvvuuyVJp0+flo+PT64XCAAAACD/8nR1gmeeeUZdu3ZVQECAypYtq+bNm0u6dCpUzZo1c7s+AAAAAPmYy4GiX79+atiwoQ4ePKhWrVrJw+PSQY4KFSrQhwIAAAC4ybgcKCQpMjJStWrV0t69e1WxYkV5enqqbdu2uV0bAAAAgHzO5T4UiYmJ6tOnj/z8/FS9enUdOHBAkjRw4ECNGTMm1wsEAAAAkH+5HCiGDBmirVu3avny5U6dsFu2bKnvvvsuV4sDAAAAkL+5fMrTnDlz9N133+k///mPbDaboz0iIkIxMTG5WhwAAACA/M3lIxTHjx9XiRIlMrQnJCQ4BQwAAAAANz6XA0WDBg00f/58x+P0EDFp0iQ1btw49yoDAAAAkO+5fMrT6NGjdc8992jHjh1KSUnRuHHjtH37dq1Zs0YrVqzIixoBAAAA5FMuH6G47bbbtGrVKiUmJqpixYpavHixSpYsqTVr1qh+/fp5USMAAACAfMrSfShq1qypqKio3K4FAAAAQAHj8hEKu92u2NjYDO0nT56U3W7PlaIAAAAAFAwuBwpjTKbtSUlJ8vLyynFBAAAAAAqObJ/y9NFHH0m6dFWnL774QgEBAY5hqamp+u2331S1atXcrxAAAABAvpXtQPHhhx9KunSEYuLEiU6nN3l5eSksLEwTJ07M/QoBAAAA5FvZDhR79+6VJLVo0UKzZs3SLbfckmdFAQAAACgYXO5DsWzZMt1yyy1KTk7Wrl27lJKSkhd1AQAAACgAXA4U58+fV58+feTn56fq1avrwIEDkqSBAwdqzJgxuV4gAAAAgPzL5UDx8ssva+vWrVq+fLl8fHwc7S1bttR3332Xq8UBAAAAyN9cvrHdnDlz9N133+k///mPbDaboz0iIkIxMTG5WhwAAACA/M3lIxTHjx9XiRIlMrQnJCQ4BQwAAAAANz6XA0WDBg00f/58x+P0EDFp0iQ1btw49yr7//7991899thjKlq0qPz8/FSnTh1t3Lgx15cDAAAAwHUun/I0evRo3XPPPdqxY4dSUlI0btw4bd++XWvWrNGKFStytbjTp0+rSZMmatGihX7++WeVKFFCMTExKly4cK4uBwAAAIA1LgeK2267TatWrdJ7772nihUravHixapXr57WrFmjmjVr5mpxb7/9tkJDQzV58mRHW1hYWK4uAwAAAIB1LgcKSapZs6aioqJyu5YM5s6dq9atW+uhhx7SihUrdOutt6pfv3564okn8nzZAAAAAK4tW4EiPj4+2zMMCgqyXMyV/vnnH02YMEGDBw/WK6+8onXr1mngwIHy9vZW9+7dM50mKSlJSUlJjseu1A4AAADANdkKFIULF77mFZyMMbLZbEpNTc2VwiQpLS1NkZGRGjVqlCSpbt262r59uyZMmJBloBg9erSGDx+eazUAyGeGBbu7AgyLc3cFAIB8JFuBYtmyZXldR6ZKlSqliIgIp7Zq1app5syZWU4zZMgQDR482PE4Pj5eoaGheVYjAAAAcDPLVqBo1qxZXteRqSZNmmjXrl1Obbt371a5cuWynMbb21ve3t55XRoAAAAAWeyUfebMGa1bt06xsbFKS0tzGpbVqUhWPPvss7rttts0atQode7cWevWrdPnn3+uzz//PNeWAQAAAMA6lwPFTz/9pK5duyohIUGBgYFOfStsNluuBooGDRpo9uzZGjJkiN58802VL19eY8eOVdeuXXNtGQAAAACsczlQPPfcc+rdu7dGjRolPz+/vKjJyX333af77rsvz5cDAAAAwHUerk7w77//auDAgdclTAAAAADI31wOFK1bt9aGDRvyohYAAAAABUy2TnmaO3eu4/9t27bVCy+8oB07dqhmzZoqVKiQ07jt2rXL3QoBAAAA5FvZChQdOnTI0Pbmm29maMvtG9sBAAAAyN+yFSiuvDQsAAAAAEgW+lB8/fXXSkpKytCenJysr7/+OleKAgAAAFAwuBwoevXqpbi4uAztZ8+eVa9evXKlKAAAAAAFg8uBwhjjdDO7dIcOHVJwcHCuFAUAAACgYMj2je3q1q0rm80mm82mu+66S56e/zdpamqq9u7dq3vuuSdPigQAAACQP2U7UKRf6WnLli1q3bq1AgICHMO8vLwUFhamTp065XqBAAAAAPKvbAeKoUOHSpLCwsL08MMPy8fHJ8M4W7ZsUZ06dXKtOAAAAAD5m8t9KHr06OEUJuLi4vTpp5+qXr16ql+/fq4WBwAAACB/czlQpPv111/12GOPqVSpUho/frzatGmjDRs25GZtAAAAAPK5bJ/yJF26ktOUKVP01VdfKSEhQZ07d9bFixc1c+ZMRURE5FWNAAAAAPKpbB+haNOmjSIiIrRjxw6NHz9ehw8f1vjx4/OyNgAAAAD5XLaPUCxevFgDBw7Uf//7X1WqVCkvawIAAABQQGT7CMXvv/+us2fPKjIyUo0aNdLHH3+s48eP52VtAAAAAPK5bAeKxo0ba9KkSTpy5Ij69u2rGTNm6NZbb1VaWpqWLFmis2fP5mWdAAAAAPIhl6/y5Ofnp969e2vlypX666+/9Nxzz2nMmDEqUaKE2rVrlxc1AgAAAMinLF82VpKqVKmid955R4cOHdL06dNzqyYAAAAABUSOAkU6u92uDh06aO7cubkxOwAAAAAFRK4ECgAAAAA3JwIFAAAAAMsIFAAAAAAsy1agqFevnk6fPi1JevPNN5WYmJinRQEAAAAoGLIVKKKjo5WQkCBJGj58uM6dO5enRQEAAAAoGDyzM1KdOnXUq1cvNW3aVMYYvffeewoICMh03DfeeCNXCwQAAACQf2UrUEyZMkVDhw7VvHnzZLPZ9PPPP8vTM+OkNpuNQAEAAADcRLIVKKpUqaIZM2ZIkjw8PLR06VKVKFEiTwsDAAAAkP9lK1BcLi0tLS/qAAAAAFAAuRwoJCkmJkZjx45VdHS0bDabqlWrpkGDBqlixYq5XR8AAACAfMzl+1AsWrRIERERWrdunWrVqqUaNWrojz/+UPXq1bVkyZK8qBEAAABAPuXyEYqXX35Zzz77rMaMGZOh/aWXXlKrVq1yrTgAAAAA+ZvLRyiio6PVp0+fDO29e/fWjh07cqUoAAAAAAWDy4GiePHi2rJlS4b2LVu2cOUnAAAA4Cbj8ilPTzzxhJ588kn9888/uu2222Sz2bRy5Uq9/fbbeu655/KiRgAAAAD5lMuB4vXXX1dgYKDef/99DRkyRJJUunRpDRs2TAMHDsz1AgEAAADkXy4HCpvNpmeffVbPPvuszp49K0kKDAzM9cIAAAAA5H+W7kORjiABAAAA3Nxc7pQNAAAAAOkIFAAAAAAsI1AAAAAAsMylQHHx4kW1aNFCu3fvzqt6AAAAABQgLgWKQoUKadu2bbLZbHlVDwAAAIACxOVTnrp3764vv/wyL2oBAAAAUMC4fNnY5ORkffHFF1qyZIkiIyPl7+/vNPyDDz7IteIAAAAA5G8uB4pt27apXr16kpShLwWnQgEAAAA3F5cDxbJly/KiDgAAAAAFkOXLxu7Zs0eLFi3S+fPnJUnGmFwrCgAAAEDB4HKgOHnypO666y5VrlxZbdq00ZEjRyRJjz/+uJ577rlcLxAAAABA/uVyoHj22WdVqFAhHThwQH5+fo72hx9+WAsXLszV4gAAAADkby73oVi8eLEWLVqkMmXKOLVXqlRJ+/fvz7XCAAAAAOR/Lh+hSEhIcDoyke7EiRPy9vbOlaIAAAAAFAwuB4o77rhDX3/9teOxzWZTWlqa3n33XbVo0SJXiwMAAACQv7l8ytO7776r5s2ba8OGDUpOTtaLL76o7du369SpU1q1alVe1AgAAAAgn3L5CEVERIT+/PNPNWzYUK1atVJCQoI6duyozZs3q2LFinlRIwAAAIB8yuUjFJIUEhKi4cOH53YtAAAAAAoYS4Hi9OnT+vLLLxUdHS2bzaZq1aqpV69eKlKkSG7XBwAAACAfc/mUpxUrVqh8+fL66KOPdPr0aZ06dUofffSRypcvrxUrVuRFjQAAAADyKZePUPTv31+dO3fWhAkTZLfbJUmpqanq16+f+vfvr23btuV6kQBQkE1Yn6wJG5K170yaJKl6CbveuMNL91Yq5ObKAADIOZePUMTExOi5555zhAlJstvtGjx4sGJiYnK1OAC4EZQJsmlMS29teNJfG570151hdrWfcV7bY1PdXRoAADnmcqCoV6+eoqOjM7RHR0erTp06uVETANxQ7q9SSG0qFVLlonZVLmrXyLt8FOAlrT1EoAAAFHzZOuXpzz//dPx/4MCBGjRokPbs2aP//Oc/kqS1a9fqk08+0ZgxY/KmSgC4QaSmGf2wI0UJF6XGofZrTwAAQD6XrUBRp04d2Ww2GWMcbS+++GKG8R599FE9/PDDuVcdANwg/jqWqsZfJuhCihTgJc1+2FcRxQkUAICCL1uBYu/evXldBwDc0KoU89CWpwJ05oLRzB0X1WPOBa3o6UGoAAAUeNkKFOXKlcvrOgDghuZltym8iE2SFFnarvWHUzVubbI+u9/XzZUBAJAzlm5s9++//2rVqlWKjY1VWlqa07CBAwfmSmEAcCMzkpLokw0AuAG4HCgmT56sp556Sl5eXipatKhsNptjmM1mI1AAwBVeWXpB94Z7KjTYQ2eTjGZsu6jl+1K1sKu3u0sDACDHXA4Ub7zxht544w0NGTJEHh4uX3UWAG46x84ZdZt9XkfOGQV721SrpIcWdvVTq4qWDhIDAJCvuPxtlpiYqC5duhAmACCbvmxPPwkAwI3L5VTQp08f/fDDD3lRCwAAAIACxuUjFKNHj9Z9992nhQsXqmbNmipUqJDT8A8++CDXigMAAACQv7kcKEaNGqVFixapSpUqkpShUzYAAACAm4fLgeKDDz7QV199pZ49e+ZBOQAAAAAKEpf7UHh7e6tJkyZ5UQsAAACAAsblQDFo0CCNHz8+L2oBAAAAUMC4fMrTunXr9Ouvv2revHmqXr16hk7Zs2bNyrXiAAAAAORvLgeKwoULq2PHjnlRCwAAAIACxuVAMXny5LyoAwAAAEABxO2uAQAAAFjm8hGK8uXLX/V+E//880+OCgIAAABQcLgcKJ555hmnxxcvXtTmzZu1cOFCvfDCC7lVFwAAAIACwOVAMWjQoEzbP/nkE23YsCHHBQEAAAAoOHKtD8W9996rmTNn5tbsAAAAABQAuRYofvzxRxUpUiS3ZgcAAACgAHD5lKe6des6dco2xujo0aM6fvy4Pv3001wt7kqjR4/WK6+8okGDBmns2LF5uiwAAAAA1+ZyoOjQoYPTYw8PDxUvXlzNmzdX1apVc6uuDNavX6/PP/9ctWrVyrNlAAAAAHCNy4Fi6NCheVHHVZ07d05du3bVpEmTNGLEiOu+fAAAAACZKxA3tuvfv7/atm2rli1bXnPcpKQkxcfHO/0BAAAAyBvZPkLh4eFx1RvaSZLNZlNKSkqOi7rcjBkztGnTJq1fvz5b448ePVrDhw/P1RoAAAAAZC7bgWL27NlZDlu9erXGjx8vY0yuFJXu4MGDGjRokBYvXiwfH59sTTNkyBANHjzY8Tg+Pl6hoaG5WhcAAACAS7IdKNq3b5+hbefOnRoyZIh++uknde3aVW+99VauFrdx40bFxsaqfv36jrbU1FT99ttv+vjjj5WUlCS73e40jbe3t7y9vXO1DgAAAACZc7lTtiQdPnxYQ4cOVVRUlFq3bq0tW7aoRo0auV2b7rrrLv31119Obb169VLVqlX10ksvZQgTAAAAAK4vlwJFXFycRo0apfHjx6tOnTpaunSpbr/99ryqTYGBgRmCir+/v4oWLZonAQYAAACAa7IdKN555x29/fbbCgkJ0fTp0zM9BQoAAADAzSXbgeLll1+Wr6+vwsPDFRUVpaioqEzHmzVrVq4Vl5nly5fn6fwBAAAAZF+2A0X37t2vedlYAAAAADeXbAeKKVOm5GEZAAAAAAqiAnGnbAAAAAD5E4ECAAAAgGUECgAAAACWESgAAAAAWEagAAAAAGAZgQIAAACAZQQKAAAAAJYRKAAAAABYRqAAAAAAYFm275QNuOrQhN5KjY/N0B5Qt62K3v1fN1QEAACA3EagQJ4p1eNDKS3N8Tj5xH7Ffvea/Ks2cWNVAAAAyE0ECuQZu1+w0+Pza3+QZ+FS8g6t6aaKAAAAkNvoQ4HrwqReVMKO5Qqo1Uo2m83d5QAAACCXEChwXSTuXqu0C+fkX+Mud5cCAACAXESgwHVx7s/F8q1QX56BRd1dCgAAAHIRgQJ5LiUuVhf2b1VA7dbuLgUAAAC5jECBPHfuryWy+wXLt2IDd5cCAACAXEagQJ4yJk3n/vpF/jXuks3D7u5yAAAAkMsIFMhTF/ZtUWr8cQXUauXuUgAAAJAHuA8F8pRv+Xoq99I8d5cBAACAPMIRCgAAAACWESgAAAAAWEagAAAAAGAZgQIAAACAZQQKAAAAAJYRKAAAAABYRqAAAAAAYBmBAgAAAIBlBAoAAAAAlhEoAAAAAFhGoAAAAABgGYECAAAAgGUECgAAAACWESgAAAAAWEagAAAAAGAZgQIAAACAZQQKAAAAAJYRKAAAAABYRqAAAAAAYJmnuwsAAFeEXfjW3SXc9Pa5uwAAQL7CEQoAAAAAlhEoAAAAAFhGoAAAAABgGYECAAAAgGUECgAAAACWESgAAAAAWEagAAAAAGAZgQIAAACAZQQKAAAAAJYRKAAAAABYRqAAAAAAYBmBAgAAAIBlBAoAAAAAlhEoAAAAAFhGoAAAAABgGYECAAAAgGUECgAAAACWESgAAAAAWEagAAAAAGAZgQIAAACAZQQKAAAAAJYRKAAAAABYRqAAAAAAYBmBAgAAAIBlBAoAAAAAlhEoAAAAAFhGoAAAAABgGYECAAAAgGUECgAAAACWESgAAAAAWEagAAAAAGAZgQIAAACAZQQKAAAAAJYRKAAAAABYRqAAAAAAYBmBAgAAAIBlBAoAAAAAlhEoAAAAAFhGoAAAAABgGYECAAAAgGUECgAAAACWESgAAAAAWJavA8Xo0aPVoEEDBQYGqkSJEurQoYN27drl7rIAAAAA/H/5OlCsWLFC/fv319q1a7VkyRKlpKTo7rvvVkJCgrtLAwAAACDJ090FXM3ChQudHk+ePFklSpTQxo0bdccdd7ipKgAAAADp8nWguFJcXJwkqUiRIlmOk5SUpKSkJMfj+Pj4PK8LAAAAuFkVmEBhjNHgwYPVtGlT1ahRI8vxRo8ereHDh1/HygAAcINhwe6uAMPi3F0BkC/k6z4UlxswYID+/PNPTZ8+/arjDRkyRHFxcY6/gwcPXqcKAQAAgJtPgThC8fTTT2vu3Ln67bffVKZMmauO6+3tLW9v7+tUGQAAAHBzy9eBwhijp59+WrNnz9by5ctVvnx5d5cEAAAA4DL5OlD0799f3377rf73v/8pMDBQR48elSQFBwfL19fXzdUBAAAAyNd9KCZMmKC4uDg1b95cpUqVcvx999137i4NAAAAgPL5EQpjjLtLAAAAAHAV+foIBQAAAID8jUABAAAAwDICBQAAAADLCBQAAAAALCNQAAAAALCMQAEAAADAMgIFAAAAAMsIFAAAAAAsI1AAAAAAsIxAAQAAAMAyAgUAAAAAyzzdXQAA3OjObl6gs5sXKCXumCSpULGyKnzbI/KtGOnmygAAyDkCBQDkMXtgUd3SrIc8byktSTq3baliZ41QqZ7j5FW8nJurAwAgZwgUAJDH/MIbOT2+5Y7uOrd5gZIO7yJQAAAKPAIFAFxHJi1ViTtXKu3iBXnfWtXd5QAAkGMECgC4DpKP79PRqc/LpCTL5uWrEg+8Kq9iZd1dFgAAOUagAIDroFCRW1Wq10dKu5CgxN2rdGL+hyr56BhCBQCgwOOysQBwHdjshVToltLyLlVJtzTrKa8S5XV2w1x3lwUAQI4RKADALYxM6kV3FwEAQI4RKAAgj51eEaULB7cpJe6Yko/v0+nfvtaFA9vkH9Hc3aUBAJBj9KEAgDyWmnBGJ+Z9oNSEU/Lw9pdX8TCVeGi4fMvXdXdpAADkGIECAPJYsTaD3F0CAAB5hlOeAAAAAFhGoAAAAABgGYECAAAAgGUECgAAAACWESgAAAAAWEagAAAAAGAZgQIAAACAZQQKAAAAAJYRKAAAAABYRqAAAAAAYBmBAgAAAIBlBAoAAAAAlhEoAAAAAFjm6e4CAADAzWH070matfOidp5Ik6+nTbeF2vV2S29VKWZ3d2kAcoAjFAAA4LpYsT9F/Rt4aW0ffy3p5qeUNOnubxKVkGzcXRqAHOAIBQAAuC4WPubv9Hhyex+VeO+cNh5J1R3l2CUBCiqOUAAAALeIS7r0bxFfm3sLAZAjBAoAAHDdGWM0eNEFNS1rV40S9KEACjKOLwIAgOtuwIIL+vNYqlb29r/2yADyNQIFAAC4rp5ecF5zd6fot57+KhPEyRJAQUegAAAA14UxRk//fEGzd6ZoeQ8/lb+FMAHcCAgUAADguui/4IK+/eui/tfFT4HeNh09lyZJCva2ybcQHbOBgopAAQAArosJGy5KkppHJTq1T27vo551vNxREoBcQKAAAADXhRka5O4SAOQBTl4EAAAAYBmBAgAAAIBlBAoAAAAAlhEoAAAAAFhGoAAAAABgGYECAAAAgGUECgAAAACWESgAAAAAWEagAAAAAGAZgQIAAACAZQQKAAAAAJYRKAAAAABYRqAAAAAAYBmBAgAAAIBlBAoAAAAAlhEoAAAAAFhGoAAAAABgGYECAAAAgGUECgAAAACWESgAAAAAWEagAAAAAGAZgQIAAACAZQQKAAAAAJYRKAAAAABYRqAAAAAAYBmBAgAAAIBlBAoAAAAAlhEoAAAAAFhGoAAAAABgGYECAAAAgGUECgAAAACWESgAAAAAWEagAAAAAGAZgQIAAACAZQQKAAAAAJYRKAAAAABYRqAAAAAAYBmBAgAAXFefrk9W+XFn5TMiXvU/P6ff96e4uyQAOVAgAsWnn36q8uXLy8fHR/Xr19fvv//u7pIAAIAF3227qGcWXtCrt3trc19/3V7WU/dOS9SBuDR3lwbAonwfKL777js988wzevXVV7V582bdfvvtuvfee3XgwAF3lwYAAFz0wdok9albSI/X81K14naNvcdHocEemrA+2d2lAbAo3weKDz74QH369NHjjz+uatWqaezYsQoNDdWECRPcXRoAAHBBcqrRxsNpuruip1P73RU8tfpQqpuqApBT+TpQJCcna+PGjbr77rud2u+++26tXr3aTVUBAAArTiQapRqpZIDNqb1kgE1Hzxk3VQUgpzyvPYr7nDhxQqmpqSpZsqRTe8mSJXX06NFMp0lKSlJSUpLjcVxcnCQpPj4+7wq9DtKSEt1dwk2voL+HbhRsC+7HtpBPJBW8HfCz/7/mxItS/GX1n08xMsa5rUAo4NtC+rZsTAFb78h38nWgSGezOf+SYYzJ0JZu9OjRGj58eIb20NDQPKkNN4/gse6uAMgf2BaQU62mZv7DQPCYs9e5khwaE+zuCnLF2bNnFRx8YzwXuEe+DhTFihWT3W7PcDQiNjY2w1GLdEOGDNHgwYMdj9PS0nTq1CkVLVo0yxCCvBUfH6/Q0FAdPHhQQUFB7i4HcBu2BUC68847FRERoalTpzq2hYYNG6pNmzYaNmyYu8u7qRhjdPbsWZUuXdrdpaCAy9eBwsvLS/Xr19eSJUv0wAMPONqXLFmi9u3bZzqNt7e3vL29ndoKFy6cl2Uim4KCgtiJAsS2gJvbCy+8oG7dukmSjhw5ovfff1+HDh3SoEGD2C7cgCMTyA35OlBI0uDBg9WtWzdFRkaqcePG+vzzz3XgwAE99dRT7i4NAAC46OGHH9ahQ4f0/PPPq2nTpqpRo4YWLFigcuXKubs0ABbZTAHoifPpp5/qnXfe0ZEjR1SjRg19+OGHuuOOO9xdFrIpPj5ewcHBiouL49cn3NTYFoBL2BaAG0u+P0IhSf369VO/fv3cXQYs8vb21tChQzOcigbcbNgWgEvYFoAbS4E4QgEAAAAgf8rXN7YDAAAAkL8RKAAAAABYRqCApEvXon7yySdVpEgR2Ww2bdmyJc+XGRYWprFjx+b5coCcat68uZ555hm3LX/KlClc/hr5xrBhw1SnTp3rMh93b3sAsodAAUnSwoULNWXKFM2bN89xNa28tn79ej355JN5vhwAwLVld+f9+eef19KlS12at81m05w5c6wVBiDfKxBXeULei4mJUalSpXTbbbddt2UWL178ui0LAJAzxhilpqYqICBAAQEB7i4HQD7CEQqoZ8+eevrpp3XgwAHZbDaFhYXJGKN33nlHFSpUkK+vr2rXrq0ff/zRMc3y5ctls9m0dOlSRUZGys/PT7fddpt27drlNO+5c+cqMjJSPj4+KlasmDp27OgYduUpTzabTV988YUeeOAB+fn5qVKlSpo7d26G+VWqVEm+vr5q0aKFoqKiZLPZdObMmTxZN0BmFi5cqODgYH399df65ptvFBkZqcDAQIWEhOjRRx9VbGyspEs7YOHh4Xrvvfecpt+2bZs8PDwUExMjSfrggw9Us2ZN+fv7KzQ0VP369dO5c+eyXP7JkyfVsGFDtWvXThcuXMi7J4qbRs+ePbVixQqNGzdONptNNptNU6ZMkc1m06JFixQZGSlvb2/9/vvvGU5VWr9+vVq1aqVixYopODhYzZo106ZNmxzDw8LCJEkPPPCA4zvmclOnTlVYWJiCg4PVpUsXnT17Nss6T58+re7du+uWW26Rn5+f7r33Xv3999+O4emnBy5atEjVqlVTQECA7rnnHh05ciRX1hOAzBEooHHjxunNN99UmTJldOTIEa1fv16vvfaaJk+erAkTJmj79u169tln9dhjj2nFihVO07766qt6//33tWHDBnl6eqp3796OYfPnz1fHjh3Vtm1bbd682RE+rmb48OHq3Lmz/vzzT7Vp00Zdu3bVqVOnJEn79u3Tgw8+qA4dOmjLli3q27evXn311dxfIcBVzJgxQ507d9bXX3+t7t27Kzk5WW+99Za2bt2qOXPmaO/everZs6ekSyG5d+/emjx5stM8vvrqK91+++2qWLGiJMnDw0MfffSRtm3bpqioKP3666968cUXM13+oUOHdPvtt6tq1aqaNWuWfHx88vT54uYwbtw4NW7cWE888YSOHDmiI0eOKDQ0VJL04osvavTo0YqOjlatWrUyTHv27Fn16NFDv//+u9auXatKlSqpTZs2jmCwfv16SdLkyZMd3zHpYmJiNGfOHM2bN0/z5s3TihUrNGbMmCzr7NmzpzZs2KC5c+dqzZo1MsaoTZs2unjxomOcxMREvffee5o6dap+++03HThwQM8//3yurCcAWTCAMebDDz805cqVM8YYc+7cOePj42NWr17tNE6fPn3MI488YowxZtmyZUaS+eWXXxzD58+fbySZ8+fPG2OMady4senatWuWyyxXrpz58MMPHY8lmddee83x+Ny5c8Zms5mff/7ZGGPMSy+9ZGrUqOE0j1dffdVIMqdPn3b5OQPZ1axZMzNo0CDzySefmODgYPPrr79mOe66deuMJHP27FljjDGHDx82drvd/PHHH8YYY5KTk03x4sXNlClTspzH999/b4oWLep4PHnyZBMcHGx27dplypYta55++mmTlpaWS88OuCT9fZ4u/XN+zpw5TuMNHTrU1K5dO8v5pKSkmMDAQPPTTz852iSZ2bNnZ5iPn5+fiY+Pd7S98MILplGjRpnWtHv3biPJrFq1yjH8xIkTxtfX13z//ffGmEvbiiSzZ88exziffPKJKVmy5DWfPwDr6EOBDHbs2KELFy6oVatWTu3JycmqW7euU9vlv1aVKlVKkhQbG6uyZctqy5YteuKJJ1xa9uXz8/f3V2BgoOP0kV27dqlBgwZO4zds2NCl+QNWzZw5U8eOHdPKlSud3nebN2/WsGHDtGXLFp06dUppaWmSpAMHDigiIkKlSpVS27Zt9dVXX6lhw4aaN2+eLly4oIceesgxj2XLlmnUqFHasWOH4uPjlZKSogsXLighIUH+/v6SpPPnz6tp06Z65JFHNG7cuOv75HFTu9aR5djYWL3xxhv69ddfdezYMaWmpioxMVEHDhy45rzDwsIUGBjoeFyqVCnHZ/6VoqOj5enpqUaNGjnaihYtqipVqig6OtrR5ufn5zj6d615AsgdnPKEDNJ3iObPn68tW7Y4/nbs2OHUj0KSChUq5Pi/zWZzmt7X19flZV8+v/R5ps/PGONYRjrDjd5xndSpU0fFixfX5MmTHe+7hIQE3X333QoICNA333yj9evXa/bs2ZIuBfB0jz/+uGbMmKHz589r8uTJevjhh+Xn5ydJ2r9/v9q0aaMaNWpo5syZ2rhxoz755BNJcjqNw9vbWy1bttT8+fN16NCh6/W0AUeozUrPnj21ceNGjR07VqtXr9aWLVtUtGhRp20gK1f7zL9SVp/3V343ZDZPviuAvEWgQAYRERHy9vbWgQMHFB4e7vSXfk5tdtSqVcvlSwteTdWqVZ3OvZWkDRs25Nr8gaupWLGili1bpv/97396+umnJUk7d+7UiRMnNGbMGEe/hsx+CW3Tpo38/f01YcIE/fzzz059jTZs2KCUlBS9//77+s9//qPKlSvr8OHDGebh4eGhqVOnqn79+rrzzjszHQfICS8vL6Wmpro83e+//66BAweqTZs2ql69ury9vXXixAmncQoVKmRp3peLiIhQSkqK/vjjD0fbyZMntXv3blWrVi1H8waQMwQKZBAYGKjnn39ezz77rKKiohQTE6PNmzfrk08+UVRUVLbnM3ToUE2fPl1Dhw5VdHS0/vrrL73zzjuW6+rbt6927typl156Sbt379b333+vKVOmSFKGIxdAXqhcubKWLVummTNn6plnnlHZsmXl5eWl8ePH659//tHcuXP11ltvZZjObrerZ8+eGjJkiMLDw9W4cWPHsIoVKyolJcUxj6lTp2rixImZLt9ut2vatGmqXbu27rzzTh09ejTPnituPmFhYfrjjz+0b98+nThxIssjBVcKDw/X1KlTFR0drT/++ENdu3bNcIQ6LCxMS5cu1dGjR3X69GlL9VWqVEnt27fXE088oZUrV2rr1q167LHHdOutt6p9+/aW5gkgdxAokKm33npLb7zxhkaPHq1q1aqpdevW+umnn1S+fPlsz6N58+b64YcfNHfuXNWpU0d33nmn0y9Lripfvrx+/PFHzZo1S7Vq1dKECRMcV3ny9va2PF/AFVWqVNGvv/6q6dOna8yYMZoyZYp++OEHRUREaMyYMRkuEZuuT58+Sk5Odjo6IV06leqDDz7Q22+/rRo1amjatGkaPXp0lsv39PTU9OnTVb16dd15552cG45c8/zzz8tutysiIkLFixfPVh8I6dJVy06fPq26deuqW7duGjhwoEqUKOE0zvvvv68lS5YoNDQ0Q188V0yePFn169fXfffdp8aNG8sYowULFmQ4zQnA9WUznFiIAmzkyJGaOHGiDh486O5SgKtatWqVmjdvrkOHDqlkyZLuLgcAgFzDVZ5QoHz66adq0KCBihYtqlWrVundd9/VgAED3F0WkKWkpCQdPHhQr7/+ujp37kyYAADccAgUKFD+/vtvjRgxQqdOnVLZsmX13HPPaciQIe4uC8jS9OnT1adPH9WpU0dTp051dzkAAOQ6TnkCAAAAYBmdsgEAAABYRqAAAAAAYBmBAgAAAIBlBAoAAAAAlhEoAAAAAFhGoAAAAABgGYECAFwQGxurvn37qmzZsvL29lZISIhat26tNWvW5Pmyw8LCNHbs2DxfDgAAruDGdgDggk6dOunixYuKiopShQoVdOzYMS1dulSnTp3Ks2UmJyfLy8srz+YPAEBOcGM7AMimM2fO6JZbbtHy5cvVrFmzTMex2Wz69NNPNXfuXC1fvlwhISF655139NBDDznG+euvvzRo0CCtWbNGfn5+6tSpkz744AMFBARIknr27KkzZ86oUaNGGj9+vLy8vBQWFqYVK1Y4LYuPbwBAfsApTwCQTQEBAQoICNCcOXOUlJSU5Xivv/66OnXqpK1bt+qxxx7TI488oujoaElSYmKi7rnnHt1yyy1av369fvjhB/3yyy8aMGCA0zyWLl2q6OhoLVmyRPPmzdOsWbNUpkwZvfnmmzpy5IiOHDmSp88VAIDsIlAAQDZ5enpqypQpioqKUuHChdWkSRO98sor+vPPP53Ge+ihh/T444+rcuXKeuuttxQZGanx48dLkqZNm6bz58/r66+/Vo0aNXTnnXfq448/1tSpU3Xs2DHHPPz9/fXFF1+oevXqqlGjhooUKSK73a7AwECFhIQoJCTkuj53AACyQqAAABd06tRJhw8f1ty5c9W6dWstX75c9erV05QpUxzjNG7c2Gmaxo0bO45QREdHq3bt2vL393cMb9KkidLS0rRr1y5HW82aNek3AQAoEAgUAOAiHx8ftWrVSm+88YZWr16tnj17aujQoVedxmazSbrU7yH9/1mNI8kpcAAAkJ8RKAAghyIiIpSQkOB4vHbtWqfha9euVdWqVR3jbtmyxWn8VatWycPDQ5UrV77qcry8vJSampqLlQMAkHMECgDIppMnT+rOO+/UN998oz///FN79+7VDz/8oHfeeUft27d3jPfDDz/oq6++0u7duzV06FCtW7fO0em6a9eu8vHxUY8ePbRt2zYtW7ZMTz/9tLp166aSJUtedflhYWH67bff9O+//+rEiRN5+lwBAMgu7kMBANkUEBCgRo0a6cMPP1RMTIwuXryo0NBQPfHEE3rllVcc4w0fPlwzZsxQv379FBISomnTpikiIkKS5Ofnp0WLFmnQoEFq0KCB02Vjr+XNN99U3759VbFiRSUlJXHZWABAvsB9KAAgF9lsNs2ePVsdOnRwdykAAFwXnPIEAAAAwDICBQAAAADL6EMBALmIs0gBADcbjlAAAAAAsIxAAQAAAMAyAgUAAAAAywgUAAAAACwjUAAAAACwjEABAAAAwDICBQAAAADLCBQAAAAALCNQAAAAALDs/wFvJuL/p38rdwAAAABJRU5ErkJggg==",
      "text/plain": [
       "<Figure size 800x600 with 1 Axes>"
      ]
     },
     "metadata": {},
     "output_type": "display_data"
    }
   ],
   "source": [
    "#from athletes df,\n",
    "sport_gender_counts = Athletes.groupby(['sport', 'Gender']).size().unstack(fill_value=0)\n",
    "\n",
    "# Creating the stacked bar chart\n",
    "ax = sport_gender_counts.plot(kind='bar', stacked=True, figsize=(8, 6))\n",
    "\n",
    "# Customizing the chart\n",
    "plt.title('Number of Athletes by Sport and Gender', fontsize=16)\n",
    "plt.xlabel('Sport', fontsize=10)\n",
    "plt.ylabel('Number of Athletes', fontsize=10)\n",
    "plt.legend(title='Gender', bbox_to_anchor=(1.05, 1), loc='upper left')\n",
    "plt.xticks(rotation=0)\n",
    "\n",
    "# Add value labels on the bars\n",
    "for c in ax.containers:\n",
    "    ax.bar_label(c, label_type='center')\n",
    "\n",
    "plt.tight_layout()\n",
    "plt.show()"
   ]
  },
  {
   "cell_type": "markdown",
   "id": "939ad215",
   "metadata": {},
   "source": [
    "AQ6: ADD QUESTION FROM ANITHA"
   ]
  },
  {
   "cell_type": "code",
   "execution_count": null,
   "id": "dfe466bf",
   "metadata": {},
   "outputs": [],
   "source": []
  },
  {
   "cell_type": "code",
   "execution_count": null,
   "id": "b0c4e92a",
   "metadata": {},
   "outputs": [],
   "source": []
  }
 ],
 "metadata": {
  "kernelspec": {
   "display_name": "Python 3 (ipykernel)",
   "language": "python",
   "name": "python3"
  },
  "language_info": {
   "codemirror_mode": {
    "name": "ipython",
    "version": 3
   },
   "file_extension": ".py",
   "mimetype": "text/x-python",
   "name": "python",
   "nbconvert_exporter": "python",
   "pygments_lexer": "ipython3",
   "version": "3.11.7"
  }
 },
 "nbformat": 4,
 "nbformat_minor": 5
}
