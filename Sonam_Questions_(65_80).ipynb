{
 "cells": [
  {
   "cell_type": "markdown",
   "id": "a0796b59-bb4b-4cb0-979b-bf6e42d16ff4",
   "metadata": {},
   "source": [
    "Q65:   [ 1,  2,  3,  4,  5],\r\n",
    "       [ 6,  7,  8,  9, 10],\r\n",
    "       [11, 12, 13, 14, 15],\r\n",
    "       [16, 17, 18, 19, 20],\r\n",
    "       [21, 22, 23, 24, 25],\r\n",
    "       [26, 27, 28, 29, 30]  Use array slicing to display elements 4,7,10,17."
   ]
  },
  {
   "cell_type": "code",
   "execution_count": null,
   "id": "ee69635f-151c-4316-8c8b-01ff5051cb5e",
   "metadata": {},
   "outputs": [],
   "source": []
  },
  {
   "attachments": {},
   "cell_type": "markdown",
   "id": "b23d4b4f-e9b2-4702-9118-88d5c3386238",
   "metadata": {},
   "source": [
    "Q66: "
   ]
  },
  {
   "cell_type": "code",
   "execution_count": null,
   "id": "cb37dd47-5aa6-4899-a274-957c8b70716d",
   "metadata": {},
   "outputs": [],
   "source": []
  },
  {
   "cell_type": "markdown",
   "id": "ea44d97f-fa94-45a6-ae4c-8edd8576f293",
   "metadata": {},
   "source": [
    "Q67: Athletes from which sport had the highest average cardiorespiratory fitness in terms of v02 max?"
   ]
  },
  {
   "cell_type": "code",
   "execution_count": null,
   "id": "5f40f9ec-dba0-47d2-b3de-e25bee9974c4",
   "metadata": {},
   "outputs": [],
   "source": []
  },
  {
   "cell_type": "markdown",
   "id": "800e13ce-be8a-4504-9526-bc1fe8040c4b",
   "metadata": {},
   "source": [
    "Q68: What % of athletes exceeded 90% of max HR? (Max HR is calculated as 220-Age)"
   ]
  },
  {
   "cell_type": "code",
   "execution_count": null,
   "id": "02cc06b6-596d-46ac-a85d-89f4e14a28b3",
   "metadata": {},
   "outputs": [],
   "source": []
  },
  {
   "cell_type": "markdown",
   "id": "7298b88e-46e7-441e-b450-a0434a649bfe",
   "metadata": {},
   "source": [
    "Q69: What was the lowest heart rate recorded at a power wattage of 200"
   ]
  },
  {
   "cell_type": "code",
   "execution_count": null,
   "id": "dc1cc83f-75c4-4007-97e1-67c3be112368",
   "metadata": {},
   "outputs": [],
   "source": []
  },
  {
   "cell_type": "markdown",
   "id": "86fc855a-befc-4476-93bd-ef6c4447627f",
   "metadata": {},
   "source": [
    "Q70: On Average how long did most athletes spend at 75% of MaxHR (Max HR is calculated as 220-Age)"
   ]
  },
  {
   "cell_type": "code",
   "execution_count": null,
   "id": "c3868398-d9c6-4321-93b5-3fad9cc6cfa3",
   "metadata": {},
   "outputs": [],
   "source": []
  },
  {
   "cell_type": "markdown",
   "id": "f2f253e3-02ed-4532-bbd6-c47d7625bb92",
   "metadata": {},
   "source": [
    "Q71: Create a crosstab to show each sport as a column and each heart rate zone as rows with counts of rows that satisfy each condition as values"
   ]
  },
  {
   "cell_type": "code",
   "execution_count": null,
   "id": "b6f780df-d7a1-4541-9d7e-3ef7167fd5bb",
   "metadata": {},
   "outputs": [],
   "source": []
  },
  {
   "cell_type": "markdown",
   "id": "6ab6b2b8-19fc-4dd2-863a-1b25f02138df",
   "metadata": {},
   "source": [
    "Q72: Provide an example of a lambda function that multiplies any 2 input values."
   ]
  },
  {
   "cell_type": "code",
   "execution_count": null,
   "id": "28bc161d-84f2-45bc-b018-fd990734f3ef",
   "metadata": {},
   "outputs": [],
   "source": []
  },
  {
   "cell_type": "markdown",
   "id": "e186ae26-0a76-4cb6-9be5-87b77ccd67d8",
   "metadata": {},
   "source": [
    "Q73: How long was athlete 17s warm up"
   ]
  },
  {
   "cell_type": "code",
   "execution_count": null,
   "id": "b29a17f2-3741-4e7e-8046-4bdfc33ddd7a",
   "metadata": {},
   "outputs": [],
   "source": []
  },
  {
   "cell_type": "markdown",
   "id": "f2e12eda-dcd3-44a5-9d48-170dab9ed909",
   "metadata": {},
   "source": [
    "Q74: Take a students full name and reverse it using a for loop"
   ]
  },
  {
   "cell_type": "code",
   "execution_count": null,
   "id": "e01350be-4471-4a06-8b97-acd632cb15fd",
   "metadata": {},
   "outputs": [],
   "source": []
  },
  {
   "cell_type": "markdown",
   "id": "39d8b46a-9931-4e6e-abfb-13f868aa6ef2",
   "metadata": {},
   "source": [
    "Q75: What was the maximum heart rate recorded during the test. Which athlete did it belong to? Display name, sport and HR"
   ]
  },
  {
   "cell_type": "code",
   "execution_count": null,
   "id": "3931c908-77a2-4bf6-b0c8-9bdc60229dcf",
   "metadata": {},
   "outputs": [],
   "source": []
  },
  {
   "cell_type": "markdown",
   "id": "b39b1fd5-ba2d-49ad-92a8-dc7fb953a2f5",
   "metadata": {},
   "source": [
    "Q76: np.arange(1,31).reshape(6,5),find array slicing to get the elements 2,5,13,25,30."
   ]
  },
  {
   "cell_type": "code",
   "execution_count": null,
   "id": "e7a22ee1-f213-4fae-8be8-c1ee5aa69ecd",
   "metadata": {},
   "outputs": [],
   "source": []
  },
  {
   "cell_type": "markdown",
   "id": "19c3f187-f787-4dbc-a05a-b19deabdc06f",
   "metadata": {},
   "source": [
    "Q77: Display a violin chart to show distribution of VO2Max against age."
   ]
  },
  {
   "cell_type": "code",
   "execution_count": null,
   "id": "03da1470-8f02-4d4c-8a25-ea721d68176b",
   "metadata": {},
   "outputs": [],
   "source": []
  },
  {
   "cell_type": "markdown",
   "id": "99b37c7a-5612-4af4-b9d6-8ea0b5390a45",
   "metadata": {},
   "source": [
    "Q78: Create a heatmap that show heart rate zones by minutes and the number of athletes in each HR and each minute."
   ]
  },
  {
   "cell_type": "code",
   "execution_count": null,
   "id": "8451315e-3d39-49d0-975d-1d19f8f5ccb8",
   "metadata": {},
   "outputs": [],
   "source": []
  },
  {
   "cell_type": "markdown",
   "id": "27a2017c-bad7-4de6-8188-35e931eb623f",
   "metadata": {},
   "source": [
    "Q79: Plot the Donut chart athlete distrubution by Gender"
   ]
  },
  {
   "cell_type": "code",
   "execution_count": null,
   "id": "96e8c24c-4e82-4663-9872-f2ae12f0876e",
   "metadata": {},
   "outputs": [],
   "source": []
  },
  {
   "cell_type": "markdown",
   "id": "acc60013-d190-41ea-9918-ee63dba56089",
   "metadata": {},
   "source": [
    "Q80: Find the size of Tuple for any given input"
   ]
  },
  {
   "cell_type": "code",
   "execution_count": null,
   "id": "96c53575-e91d-4176-94da-691b501e15f8",
   "metadata": {},
   "outputs": [],
   "source": []
  }
 ],
 "metadata": {
  "kernelspec": {
   "display_name": "Python 3 (ipykernel)",
   "language": "python",
   "name": "python3"
  },
  "language_info": {
   "codemirror_mode": {
    "name": "ipython",
    "version": 3
   },
   "file_extension": ".py",
   "mimetype": "text/x-python",
   "name": "python",
   "nbconvert_exporter": "python",
   "pygments_lexer": "ipython3",
   "version": "3.12.4"
  }
 },
 "nbformat": 4,
 "nbformat_minor": 5
}
